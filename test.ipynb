{
 "cells": [
  {
   "cell_type": "code",
   "execution_count": 1,
   "metadata": {},
   "outputs": [],
   "source": [
    "import pandas as pd\n",
    "from sqlalchemy import create_engine\n",
    "from src.config.private_info import test_new_db\n",
    "from src.app.db_operations import query_specs, query_metrics\n",
    "from src.app.data_transform import get_bins, goal_posts, make_plot, generate_histogram\n"
   ]
  },
  {
   "cell_type": "code",
   "execution_count": 2,
   "metadata": {},
   "outputs": [],
   "source": [
    "engine = create_engine(test_new_db)"
   ]
  },
  {
   "cell_type": "code",
   "execution_count": 3,
   "metadata": {},
   "outputs": [],
   "source": [
    "df1 = query_specs(engine)"
   ]
  },
  {
   "cell_type": "code",
   "execution_count": 4,
   "metadata": {},
   "outputs": [],
   "source": [
    "product_sample = df1.product_name.values[0]"
   ]
  },
  {
   "cell_type": "code",
   "execution_count": 6,
   "metadata": {},
   "outputs": [
    {
     "data": {
      "text/html": [
       "<div>\n",
       "<style scoped>\n",
       "    .dataframe tbody tr th:only-of-type {\n",
       "        vertical-align: middle;\n",
       "    }\n",
       "\n",
       "    .dataframe tbody tr th {\n",
       "        vertical-align: top;\n",
       "    }\n",
       "\n",
       "    .dataframe thead th {\n",
       "        text-align: right;\n",
       "    }\n",
       "</style>\n",
       "<table border=\"1\" class=\"dataframe\">\n",
       "  <thead>\n",
       "    <tr style=\"text-align: right;\">\n",
       "      <th></th>\n",
       "      <th>product_id</th>\n",
       "      <th>product_name</th>\n",
       "      <th>weight_min</th>\n",
       "      <th>weight_max</th>\n",
       "      <th>height_min</th>\n",
       "      <th>height_max</th>\n",
       "    </tr>\n",
       "  </thead>\n",
       "  <tbody>\n",
       "    <tr>\n",
       "      <th>0</th>\n",
       "      <td>1</td>\n",
       "      <td>10 oz  Sirloin A</td>\n",
       "      <td>9.12</td>\n",
       "      <td>10.12</td>\n",
       "      <td>1.1</td>\n",
       "      <td>1.75</td>\n",
       "    </tr>\n",
       "  </tbody>\n",
       "</table>\n",
       "</div>"
      ],
      "text/plain": [
       "   product_id      product_name  weight_min  weight_max  height_min  \\\n",
       "0           1  10 oz  Sirloin A        9.12       10.12         1.1   \n",
       "\n",
       "   height_max  \n",
       "0        1.75  "
      ]
     },
     "execution_count": 6,
     "metadata": {},
     "output_type": "execute_result"
    }
   ],
   "source": [
    "df2 = query_specs(engine, product_sample)\n",
    "df2"
   ]
  },
  {
   "cell_type": "code",
   "execution_count": 8,
   "metadata": {},
   "outputs": [],
   "source": [
    "df3 = query_metrics(engine)"
   ]
  },
  {
   "cell_type": "code",
   "execution_count": 14,
   "metadata": {},
   "outputs": [],
   "source": [
    "df4 = query_metrics(engine, product_sample)"
   ]
  },
  {
   "cell_type": "code",
   "execution_count": 20,
   "metadata": {},
   "outputs": [
    {
     "data": {
      "text/plain": [
       "array(['10 oz  Sirloin A'], dtype=object)"
      ]
     },
     "execution_count": 20,
     "metadata": {},
     "output_type": "execute_result"
    }
   ],
   "source": [
    "df4.product_name.unique()"
   ]
  },
  {
   "cell_type": "code",
   "execution_count": 23,
   "metadata": {},
   "outputs": [
    {
     "data": {
      "text/plain": [
       "(8.0, 12.0)"
      ]
     },
     "execution_count": 23,
     "metadata": {},
     "output_type": "execute_result"
    }
   ],
   "source": [
    "bin_edges = get_bins(df4)\n",
    "bin_edges"
   ]
  },
  {
   "cell_type": "code",
   "execution_count": 25,
   "metadata": {},
   "outputs": [],
   "source": [
    "posts = goal_posts(df2, df4)"
   ]
  },
  {
   "cell_type": "code",
   "execution_count": 26,
   "metadata": {},
   "outputs": [
    {
     "data": {
      "text/plain": [
       "(9.12, 10.12, 9.765)"
      ]
     },
     "execution_count": 26,
     "metadata": {},
     "output_type": "execute_result"
    }
   ],
   "source": [
    "posts"
   ]
  },
  {
   "cell_type": "code",
   "execution_count": 28,
   "metadata": {},
   "outputs": [
    {
     "data": {
      "application/vnd.plotly.v1+json": {
       "config": {
        "plotlyServerURL": "https://plot.ly"
       },
       "data": [
        {
         "alignmentgroup": "True",
         "bingroup": "x",
         "hovertemplate": "measured_weight=%{x}<br>count=%{y}<extra></extra>",
         "legendgroup": "",
         "marker": {
          "color": "#43A7E5",
          "line": {
           "color": "DarkSlateGrey",
           "width": 1
          },
          "pattern": {
           "shape": ""
          }
         },
         "name": "",
         "offsetgroup": "",
         "orientation": "v",
         "showlegend": false,
         "type": "histogram",
         "x": [
          9.74,
          9.82,
          9.48,
          9.7,
          9.72,
          9.76,
          9.62,
          9.6,
          9.58,
          9.54,
          9.66,
          9.64,
          9.3,
          9.54,
          9.84,
          9.64,
          10,
          9.96,
          9.78,
          9.8,
          9.78,
          9.46,
          9.54,
          9.54,
          9.98,
          9.8,
          9.32,
          10.08,
          10.06,
          9.92,
          10.06,
          9.92,
          9.82,
          9.84,
          9.66,
          9.78,
          9.98,
          10.04,
          9.92,
          10.1,
          9.62,
          10.04,
          9.74,
          9.78,
          9.76,
          10.1,
          10.08,
          9.74,
          9.48,
          9.8,
          9.56,
          9.98,
          9.9,
          10.04,
          9.74,
          9.96,
          9.62,
          9.88,
          9.66,
          9.82,
          9.7,
          9.54,
          9.74,
          9.9,
          9.54,
          9.6,
          9.5,
          9.64,
          9.84,
          9.42,
          9.96,
          9.64,
          10.1,
          10.08,
          9.98,
          9.8,
          10.06,
          9.68,
          10,
          9.94,
          9.68,
          9.96,
          9.54,
          9.9,
          9.56,
          10.06,
          9.84,
          9.42,
          9.64,
          9.54,
          9.8,
          9.94,
          10.06,
          9.6,
          9.46,
          9.46,
          9.96,
          9.46,
          9.68,
          9.82,
          9.68,
          9.18,
          10.02,
          10.04,
          10.18,
          10,
          10.02,
          9.64,
          9.46,
          9.85,
          10.08,
          9.64,
          9.36,
          9.42,
          9.48,
          9.78,
          9.6,
          9.62,
          9.42,
          9.18,
          9.64,
          9.66,
          9.82,
          9.84,
          9.52,
          9.54,
          9.6,
          9.82,
          9.62,
          9.42,
          9.32,
          9.9,
          9.96,
          9.42,
          9.2,
          9.6,
          9.84,
          9.36,
          9.68,
          9.9,
          9.92,
          10.02,
          10,
          9.64,
          9.62,
          9.36,
          9.6,
          9.54,
          9.96,
          9.92,
          9.46,
          9.36,
          9.44,
          9.6,
          9.52,
          9.9,
          10.08,
          10.04,
          9.62,
          9.94,
          9.84,
          9.62,
          9.54,
          9.36,
          9.42,
          9.46,
          9.86,
          9.94,
          9.86,
          10.1,
          10,
          10.04,
          9.96,
          10.02,
          10,
          9.86,
          10.09,
          10.08,
          9.64,
          10.04,
          10.1,
          9.62,
          10.06,
          9.84,
          10.04,
          9.54,
          9.98,
          10.06,
          9.84,
          9.96,
          9.8,
          9.86,
          9.9,
          9.54,
          9.58,
          9.36,
          9.84,
          9.7,
          9.62,
          9.64,
          9.87,
          10.04,
          10.1,
          9.64,
          9.32,
          9.22,
          9.6,
          9.54,
          9.54,
          9.6,
          9.84,
          9.9,
          9.96,
          9.9,
          9.96,
          9.92,
          9.56,
          10,
          9.56,
          10.1,
          9.84,
          10.1,
          9.76,
          9.78,
          10.11,
          9.94,
          10.02,
          9.58,
          9.84,
          10.04,
          9.8,
          9.64,
          9.78,
          9.74,
          9.78,
          10.1,
          9.64,
          9.92,
          9.52,
          10.1,
          9.48,
          9.94,
          9.72,
          10.08,
          9.86,
          10.1,
          9.64,
          10.06,
          9.68,
          9.62,
          10.1,
          9.76,
          10.1,
          9.76,
          10.08,
          9.96,
          9.98,
          9.84,
          10.08,
          9.78,
          9.72,
          9.54,
          10.08,
          9.72,
          9.98,
          10.06,
          9.82,
          9.66,
          10.08,
          10.11,
          9.7,
          9.86,
          10.08,
          9.98,
          9.24,
          9.56,
          9.88,
          10.02,
          9.9,
          9.42,
          9.4,
          10.02,
          9.7,
          10,
          9.76,
          10.08,
          10,
          9.96,
          9.82,
          9.42,
          10,
          10.02,
          9.66,
          9.72,
          9.8,
          10,
          9.62,
          10,
          9.84,
          10.06,
          9.94,
          10.04,
          9.98,
          9.82,
          9.36,
          9.42,
          9.54,
          9.56,
          9.7,
          9.92,
          10.08,
          10.1,
          10.1,
          10.06,
          9.98,
          10.02,
          9.78,
          10.1,
          10.02,
          9.94,
          10.06,
          10,
          10.02,
          10.06,
          9.98,
          9.98,
          9.84,
          9.64,
          9.92,
          9.9,
          9.98,
          10,
          9.94,
          9.88,
          10.1,
          9.84,
          10,
          9.9,
          9.92,
          9.82,
          9.74,
          9.98,
          10,
          10.04,
          10,
          9.92,
          10.08,
          9.84,
          9.64,
          9.86,
          10.02,
          9.82,
          9.48,
          9.24,
          9.8,
          9.64,
          9.52,
          9.64,
          9.86,
          9.84,
          9.54,
          9.72,
          9.56,
          9.64,
          9.88,
          10.11,
          9.8,
          9.86,
          9.72,
          9.48,
          9.24,
          9.2,
          9.56,
          9.62,
          9.48,
          9.26,
          9.3,
          9.56,
          9.28,
          9.64,
          9.8,
          9.54,
          9.62,
          9.26,
          9.52,
          9.56,
          9.62,
          9.56,
          9.98,
          9.92,
          9.58,
          10,
          10.02,
          10.56,
          10.82,
          10,
          10,
          9.98,
          9.92,
          10.34,
          9.84,
          9.7,
          9.34,
          9.42,
          9.84,
          9.94,
          10,
          10.06,
          9.86,
          10.02,
          9.62,
          10,
          9.82,
          9.56,
          9.64,
          9.54,
          9.84,
          9.68,
          9.84,
          9.92,
          9.76,
          9.62,
          10,
          9.64,
          9.8,
          10.02,
          9.84,
          9.54,
          9.6,
          9.54,
          9.34,
          9.42,
          9.56,
          10.04,
          10.06,
          10,
          9.84,
          9.56,
          9.68,
          9.9,
          9.92,
          9.62,
          9.98,
          9.9,
          9.8,
          9.82,
          9.6,
          10,
          9.88,
          10,
          10.06,
          9.6,
          9.72,
          9.82,
          9.52,
          10.06,
          9.92,
          9.54,
          9.8,
          9.7,
          9.76,
          9.66,
          9.92,
          10,
          9.82,
          9.56,
          9.74,
          9.62,
          9.66,
          9.8,
          9.74,
          9.88,
          10,
          9.42,
          9.82,
          9.76,
          10.06,
          9.64,
          9.62,
          10,
          10.02,
          9.98,
          9.76,
          9.44,
          9.86,
          9.68,
          9.52,
          9.94,
          9.96,
          9.86,
          9.34,
          9.66,
          9.56,
          10.1,
          9.88,
          10.1,
          9.98,
          9.86,
          10.12,
          9.2,
          10.1,
          9.86,
          9.62,
          9.68,
          9.88,
          9.5,
          9.74,
          9.92,
          9.56,
          10,
          9.68,
          9.86,
          10,
          10.08,
          9.88,
          10.1,
          10,
          9.88,
          9.9,
          10.08,
          9.14,
          10.06,
          10.02,
          9.22,
          9.78,
          10.04,
          9.58,
          9.3,
          9.36,
          9.4,
          9.42,
          9.32,
          9.34,
          9.8,
          9.98,
          9.6,
          9.94,
          9.36,
          9.84,
          9.66,
          9.54,
          9.2,
          9.68,
          9.56,
          9.62,
          9.28,
          10,
          9.64,
          9.9,
          10,
          10.02,
          10.08,
          9.94,
          9.88,
          9.76,
          9.36,
          9.42,
          9.6,
          11,
          9.88,
          9.76,
          9.82,
          9.9,
          9.88,
          9.44,
          9.78,
          9.52,
          9.82,
          9.58,
          9.42,
          9.52,
          9.32,
          9.56,
          9.58,
          9.7,
          9.34,
          9.38,
          9.4,
          9.16,
          9.56,
          9.8,
          9.76,
          9.78,
          9.64,
          9.9,
          9.88,
          9.54,
          9.9,
          9.2,
          9.76,
          9.84,
          9.8,
          9.5,
          10,
          10,
          9.46,
          9.74,
          10.02,
          10.04,
          9.66,
          10,
          9.86,
          9.58,
          10.04,
          9.66,
          9.74,
          9.76,
          10.08,
          9.54,
          10.02,
          10.1,
          9.68,
          9.96,
          9.62,
          9.74,
          9.78,
          9.96,
          9.74,
          9.82,
          9.44,
          9.72,
          9.76,
          10.06,
          9.7,
          9.68,
          10.1,
          9.64,
          10,
          10.06,
          9.84,
          9.82,
          9.78,
          9.74,
          9.72,
          9.2,
          9.76,
          9.48,
          9.94,
          9.74,
          9.64,
          10.06,
          10.1,
          9.94,
          9.54,
          9.7,
          9.96,
          9.74,
          9.76,
          9.88,
          9.54,
          9.96,
          9.7,
          9.64,
          10,
          9.64,
          9.52,
          9.98,
          9.52,
          10,
          9.22,
          9.44,
          10.06,
          9.58,
          9.66,
          9.64,
          9.46,
          9.82,
          9.56,
          9.68,
          9.72,
          9.7,
          9.88,
          9.34,
          9.78,
          9.14,
          9.2,
          9.46,
          9.52,
          9.8,
          9.78,
          10,
          10.02,
          9.58,
          9.7,
          9.92,
          9.56,
          9.44,
          9.96,
          9.74,
          9.72,
          9.2,
          9.24,
          9.26,
          9.18,
          9.16
         ],
         "xaxis": "x",
         "xbins": {
          "end": 12,
          "size": 0.25,
          "start": 8
         },
         "yaxis": "y"
        }
       ],
       "layout": {
        "annotations": [
         {
          "showarrow": false,
          "text": "9.12",
          "x": 9.12,
          "xanchor": "right",
          "xref": "x",
          "y": 1,
          "yanchor": "top",
          "yref": "y domain"
         },
         {
          "showarrow": false,
          "text": "10.12",
          "x": 10.12,
          "xanchor": "right",
          "xref": "x",
          "y": 1,
          "yanchor": "top",
          "yref": "y domain"
         },
         {
          "showarrow": false,
          "text": "9.77",
          "x": 9.765,
          "xanchor": "right",
          "xref": "x",
          "y": 1,
          "yanchor": "top",
          "yref": "y domain"
         }
        ],
        "barmode": "relative",
        "height": 600,
        "legend": {
         "tracegroupgap": 0
        },
        "margin": {
         "t": 60
        },
        "shapes": [
         {
          "line": {
           "color": "red",
           "dash": "solid"
          },
          "type": "line",
          "x0": 9.12,
          "x1": 9.12,
          "xref": "x",
          "y0": 0,
          "y1": 1,
          "yref": "y domain"
         },
         {
          "line": {
           "color": "red",
           "dash": "solid"
          },
          "type": "line",
          "x0": 10.12,
          "x1": 10.12,
          "xref": "x",
          "y0": 0,
          "y1": 1,
          "yref": "y domain"
         },
         {
          "line": {
           "color": "blue",
           "dash": "longdash"
          },
          "type": "line",
          "x0": 9.765,
          "x1": 9.765,
          "xref": "x",
          "y0": 0,
          "y1": 1,
          "yref": "y domain"
         }
        ],
        "template": {
         "data": {
          "bar": [
           {
            "error_x": {
             "color": "#2a3f5f"
            },
            "error_y": {
             "color": "#2a3f5f"
            },
            "marker": {
             "line": {
              "color": "#E5ECF6",
              "width": 0.5
             },
             "pattern": {
              "fillmode": "overlay",
              "size": 10,
              "solidity": 0.2
             }
            },
            "type": "bar"
           }
          ],
          "barpolar": [
           {
            "marker": {
             "line": {
              "color": "#E5ECF6",
              "width": 0.5
             },
             "pattern": {
              "fillmode": "overlay",
              "size": 10,
              "solidity": 0.2
             }
            },
            "type": "barpolar"
           }
          ],
          "carpet": [
           {
            "aaxis": {
             "endlinecolor": "#2a3f5f",
             "gridcolor": "white",
             "linecolor": "white",
             "minorgridcolor": "white",
             "startlinecolor": "#2a3f5f"
            },
            "baxis": {
             "endlinecolor": "#2a3f5f",
             "gridcolor": "white",
             "linecolor": "white",
             "minorgridcolor": "white",
             "startlinecolor": "#2a3f5f"
            },
            "type": "carpet"
           }
          ],
          "choropleth": [
           {
            "colorbar": {
             "outlinewidth": 0,
             "ticks": ""
            },
            "type": "choropleth"
           }
          ],
          "contour": [
           {
            "colorbar": {
             "outlinewidth": 0,
             "ticks": ""
            },
            "colorscale": [
             [
              0,
              "#0d0887"
             ],
             [
              0.1111111111111111,
              "#46039f"
             ],
             [
              0.2222222222222222,
              "#7201a8"
             ],
             [
              0.3333333333333333,
              "#9c179e"
             ],
             [
              0.4444444444444444,
              "#bd3786"
             ],
             [
              0.5555555555555556,
              "#d8576b"
             ],
             [
              0.6666666666666666,
              "#ed7953"
             ],
             [
              0.7777777777777778,
              "#fb9f3a"
             ],
             [
              0.8888888888888888,
              "#fdca26"
             ],
             [
              1,
              "#f0f921"
             ]
            ],
            "type": "contour"
           }
          ],
          "contourcarpet": [
           {
            "colorbar": {
             "outlinewidth": 0,
             "ticks": ""
            },
            "type": "contourcarpet"
           }
          ],
          "heatmap": [
           {
            "colorbar": {
             "outlinewidth": 0,
             "ticks": ""
            },
            "colorscale": [
             [
              0,
              "#0d0887"
             ],
             [
              0.1111111111111111,
              "#46039f"
             ],
             [
              0.2222222222222222,
              "#7201a8"
             ],
             [
              0.3333333333333333,
              "#9c179e"
             ],
             [
              0.4444444444444444,
              "#bd3786"
             ],
             [
              0.5555555555555556,
              "#d8576b"
             ],
             [
              0.6666666666666666,
              "#ed7953"
             ],
             [
              0.7777777777777778,
              "#fb9f3a"
             ],
             [
              0.8888888888888888,
              "#fdca26"
             ],
             [
              1,
              "#f0f921"
             ]
            ],
            "type": "heatmap"
           }
          ],
          "heatmapgl": [
           {
            "colorbar": {
             "outlinewidth": 0,
             "ticks": ""
            },
            "colorscale": [
             [
              0,
              "#0d0887"
             ],
             [
              0.1111111111111111,
              "#46039f"
             ],
             [
              0.2222222222222222,
              "#7201a8"
             ],
             [
              0.3333333333333333,
              "#9c179e"
             ],
             [
              0.4444444444444444,
              "#bd3786"
             ],
             [
              0.5555555555555556,
              "#d8576b"
             ],
             [
              0.6666666666666666,
              "#ed7953"
             ],
             [
              0.7777777777777778,
              "#fb9f3a"
             ],
             [
              0.8888888888888888,
              "#fdca26"
             ],
             [
              1,
              "#f0f921"
             ]
            ],
            "type": "heatmapgl"
           }
          ],
          "histogram": [
           {
            "marker": {
             "pattern": {
              "fillmode": "overlay",
              "size": 10,
              "solidity": 0.2
             }
            },
            "type": "histogram"
           }
          ],
          "histogram2d": [
           {
            "colorbar": {
             "outlinewidth": 0,
             "ticks": ""
            },
            "colorscale": [
             [
              0,
              "#0d0887"
             ],
             [
              0.1111111111111111,
              "#46039f"
             ],
             [
              0.2222222222222222,
              "#7201a8"
             ],
             [
              0.3333333333333333,
              "#9c179e"
             ],
             [
              0.4444444444444444,
              "#bd3786"
             ],
             [
              0.5555555555555556,
              "#d8576b"
             ],
             [
              0.6666666666666666,
              "#ed7953"
             ],
             [
              0.7777777777777778,
              "#fb9f3a"
             ],
             [
              0.8888888888888888,
              "#fdca26"
             ],
             [
              1,
              "#f0f921"
             ]
            ],
            "type": "histogram2d"
           }
          ],
          "histogram2dcontour": [
           {
            "colorbar": {
             "outlinewidth": 0,
             "ticks": ""
            },
            "colorscale": [
             [
              0,
              "#0d0887"
             ],
             [
              0.1111111111111111,
              "#46039f"
             ],
             [
              0.2222222222222222,
              "#7201a8"
             ],
             [
              0.3333333333333333,
              "#9c179e"
             ],
             [
              0.4444444444444444,
              "#bd3786"
             ],
             [
              0.5555555555555556,
              "#d8576b"
             ],
             [
              0.6666666666666666,
              "#ed7953"
             ],
             [
              0.7777777777777778,
              "#fb9f3a"
             ],
             [
              0.8888888888888888,
              "#fdca26"
             ],
             [
              1,
              "#f0f921"
             ]
            ],
            "type": "histogram2dcontour"
           }
          ],
          "mesh3d": [
           {
            "colorbar": {
             "outlinewidth": 0,
             "ticks": ""
            },
            "type": "mesh3d"
           }
          ],
          "parcoords": [
           {
            "line": {
             "colorbar": {
              "outlinewidth": 0,
              "ticks": ""
             }
            },
            "type": "parcoords"
           }
          ],
          "pie": [
           {
            "automargin": true,
            "type": "pie"
           }
          ],
          "scatter": [
           {
            "fillpattern": {
             "fillmode": "overlay",
             "size": 10,
             "solidity": 0.2
            },
            "type": "scatter"
           }
          ],
          "scatter3d": [
           {
            "line": {
             "colorbar": {
              "outlinewidth": 0,
              "ticks": ""
             }
            },
            "marker": {
             "colorbar": {
              "outlinewidth": 0,
              "ticks": ""
             }
            },
            "type": "scatter3d"
           }
          ],
          "scattercarpet": [
           {
            "marker": {
             "colorbar": {
              "outlinewidth": 0,
              "ticks": ""
             }
            },
            "type": "scattercarpet"
           }
          ],
          "scattergeo": [
           {
            "marker": {
             "colorbar": {
              "outlinewidth": 0,
              "ticks": ""
             }
            },
            "type": "scattergeo"
           }
          ],
          "scattergl": [
           {
            "marker": {
             "colorbar": {
              "outlinewidth": 0,
              "ticks": ""
             }
            },
            "type": "scattergl"
           }
          ],
          "scattermapbox": [
           {
            "marker": {
             "colorbar": {
              "outlinewidth": 0,
              "ticks": ""
             }
            },
            "type": "scattermapbox"
           }
          ],
          "scatterpolar": [
           {
            "marker": {
             "colorbar": {
              "outlinewidth": 0,
              "ticks": ""
             }
            },
            "type": "scatterpolar"
           }
          ],
          "scatterpolargl": [
           {
            "marker": {
             "colorbar": {
              "outlinewidth": 0,
              "ticks": ""
             }
            },
            "type": "scatterpolargl"
           }
          ],
          "scatterternary": [
           {
            "marker": {
             "colorbar": {
              "outlinewidth": 0,
              "ticks": ""
             }
            },
            "type": "scatterternary"
           }
          ],
          "surface": [
           {
            "colorbar": {
             "outlinewidth": 0,
             "ticks": ""
            },
            "colorscale": [
             [
              0,
              "#0d0887"
             ],
             [
              0.1111111111111111,
              "#46039f"
             ],
             [
              0.2222222222222222,
              "#7201a8"
             ],
             [
              0.3333333333333333,
              "#9c179e"
             ],
             [
              0.4444444444444444,
              "#bd3786"
             ],
             [
              0.5555555555555556,
              "#d8576b"
             ],
             [
              0.6666666666666666,
              "#ed7953"
             ],
             [
              0.7777777777777778,
              "#fb9f3a"
             ],
             [
              0.8888888888888888,
              "#fdca26"
             ],
             [
              1,
              "#f0f921"
             ]
            ],
            "type": "surface"
           }
          ],
          "table": [
           {
            "cells": {
             "fill": {
              "color": "#EBF0F8"
             },
             "line": {
              "color": "white"
             }
            },
            "header": {
             "fill": {
              "color": "#C8D4E3"
             },
             "line": {
              "color": "white"
             }
            },
            "type": "table"
           }
          ]
         },
         "layout": {
          "annotationdefaults": {
           "arrowcolor": "#2a3f5f",
           "arrowhead": 0,
           "arrowwidth": 1
          },
          "autotypenumbers": "strict",
          "coloraxis": {
           "colorbar": {
            "outlinewidth": 0,
            "ticks": ""
           }
          },
          "colorscale": {
           "diverging": [
            [
             0,
             "#8e0152"
            ],
            [
             0.1,
             "#c51b7d"
            ],
            [
             0.2,
             "#de77ae"
            ],
            [
             0.3,
             "#f1b6da"
            ],
            [
             0.4,
             "#fde0ef"
            ],
            [
             0.5,
             "#f7f7f7"
            ],
            [
             0.6,
             "#e6f5d0"
            ],
            [
             0.7,
             "#b8e186"
            ],
            [
             0.8,
             "#7fbc41"
            ],
            [
             0.9,
             "#4d9221"
            ],
            [
             1,
             "#276419"
            ]
           ],
           "sequential": [
            [
             0,
             "#0d0887"
            ],
            [
             0.1111111111111111,
             "#46039f"
            ],
            [
             0.2222222222222222,
             "#7201a8"
            ],
            [
             0.3333333333333333,
             "#9c179e"
            ],
            [
             0.4444444444444444,
             "#bd3786"
            ],
            [
             0.5555555555555556,
             "#d8576b"
            ],
            [
             0.6666666666666666,
             "#ed7953"
            ],
            [
             0.7777777777777778,
             "#fb9f3a"
            ],
            [
             0.8888888888888888,
             "#fdca26"
            ],
            [
             1,
             "#f0f921"
            ]
           ],
           "sequentialminus": [
            [
             0,
             "#0d0887"
            ],
            [
             0.1111111111111111,
             "#46039f"
            ],
            [
             0.2222222222222222,
             "#7201a8"
            ],
            [
             0.3333333333333333,
             "#9c179e"
            ],
            [
             0.4444444444444444,
             "#bd3786"
            ],
            [
             0.5555555555555556,
             "#d8576b"
            ],
            [
             0.6666666666666666,
             "#ed7953"
            ],
            [
             0.7777777777777778,
             "#fb9f3a"
            ],
            [
             0.8888888888888888,
             "#fdca26"
            ],
            [
             1,
             "#f0f921"
            ]
           ]
          },
          "colorway": [
           "#636efa",
           "#EF553B",
           "#00cc96",
           "#ab63fa",
           "#FFA15A",
           "#19d3f3",
           "#FF6692",
           "#B6E880",
           "#FF97FF",
           "#FECB52"
          ],
          "font": {
           "color": "#2a3f5f"
          },
          "geo": {
           "bgcolor": "white",
           "lakecolor": "white",
           "landcolor": "#E5ECF6",
           "showlakes": true,
           "showland": true,
           "subunitcolor": "white"
          },
          "hoverlabel": {
           "align": "left"
          },
          "hovermode": "closest",
          "mapbox": {
           "style": "light"
          },
          "paper_bgcolor": "white",
          "plot_bgcolor": "#E5ECF6",
          "polar": {
           "angularaxis": {
            "gridcolor": "white",
            "linecolor": "white",
            "ticks": ""
           },
           "bgcolor": "#E5ECF6",
           "radialaxis": {
            "gridcolor": "white",
            "linecolor": "white",
            "ticks": ""
           }
          },
          "scene": {
           "xaxis": {
            "backgroundcolor": "#E5ECF6",
            "gridcolor": "white",
            "gridwidth": 2,
            "linecolor": "white",
            "showbackground": true,
            "ticks": "",
            "zerolinecolor": "white"
           },
           "yaxis": {
            "backgroundcolor": "#E5ECF6",
            "gridcolor": "white",
            "gridwidth": 2,
            "linecolor": "white",
            "showbackground": true,
            "ticks": "",
            "zerolinecolor": "white"
           },
           "zaxis": {
            "backgroundcolor": "#E5ECF6",
            "gridcolor": "white",
            "gridwidth": 2,
            "linecolor": "white",
            "showbackground": true,
            "ticks": "",
            "zerolinecolor": "white"
           }
          },
          "shapedefaults": {
           "line": {
            "color": "#2a3f5f"
           }
          },
          "ternary": {
           "aaxis": {
            "gridcolor": "white",
            "linecolor": "white",
            "ticks": ""
           },
           "baxis": {
            "gridcolor": "white",
            "linecolor": "white",
            "ticks": ""
           },
           "bgcolor": "#E5ECF6",
           "caxis": {
            "gridcolor": "white",
            "linecolor": "white",
            "ticks": ""
           }
          },
          "title": {
           "x": 0.05
          },
          "xaxis": {
           "automargin": true,
           "gridcolor": "white",
           "linecolor": "white",
           "ticks": "",
           "title": {
            "standoff": 15
           },
           "zerolinecolor": "white",
           "zerolinewidth": 2
          },
          "yaxis": {
           "automargin": true,
           "gridcolor": "white",
           "linecolor": "white",
           "ticks": "",
           "title": {
            "standoff": 15
           },
           "zerolinecolor": "white",
           "zerolinewidth": 2
          }
         }
        },
        "title": {
         "text": "Histogram of Measured Weight with Goals"
        },
        "width": 800,
        "xaxis": {
         "anchor": "y",
         "domain": [
          0,
          1
         ],
         "title": {
          "text": "Measured Weight"
         }
        },
        "yaxis": {
         "anchor": "x",
         "domain": [
          0,
          1
         ],
         "title": {
          "text": "Count"
         }
        }
       }
      }
     },
     "metadata": {},
     "output_type": "display_data"
    }
   ],
   "source": [
    "make_plot(df4, bin_edges, posts, 'measured_weight', .25 )"
   ]
  },
  {
   "cell_type": "code",
   "execution_count": 5,
   "metadata": {},
   "outputs": [
    {
     "data": {
      "application/vnd.plotly.v1+json": {
       "config": {
        "plotlyServerURL": "https://plot.ly"
       },
       "data": [
        {
         "alignmentgroup": "True",
         "bingroup": "x",
         "hovertemplate": "measured_weight=%{x}<br>count=%{y}<extra></extra>",
         "legendgroup": "",
         "marker": {
          "color": "#43A7E5",
          "line": {
           "color": "DarkSlateGrey",
           "width": 1
          },
          "pattern": {
           "shape": ""
          }
         },
         "name": "",
         "offsetgroup": "",
         "orientation": "v",
         "showlegend": false,
         "type": "histogram",
         "x": [
          9.74,
          9.82,
          9.48,
          9.7,
          9.72,
          9.76,
          9.62,
          9.6,
          9.58,
          9.54,
          9.66,
          9.64,
          9.3,
          9.54,
          9.84,
          9.64,
          10,
          9.96,
          9.78,
          9.8,
          9.78,
          9.46,
          9.54,
          9.54,
          9.98,
          9.8,
          9.32,
          10.08,
          10.06,
          9.92,
          10.06,
          9.92,
          9.82,
          9.84,
          9.66,
          9.78,
          9.98,
          10.04,
          9.92,
          10.1,
          9.62,
          10.04,
          9.74,
          9.78,
          9.76,
          10.1,
          10.08,
          9.74,
          9.48,
          9.8,
          9.56,
          9.98,
          9.9,
          10.04,
          9.74,
          9.96,
          9.62,
          9.88,
          9.66,
          9.82,
          9.7,
          9.54,
          9.74,
          9.9,
          9.54,
          9.6,
          9.5,
          9.64,
          9.84,
          9.42,
          9.96,
          9.64,
          10.1,
          10.08,
          9.98,
          9.8,
          10.06,
          9.68,
          10,
          9.94,
          9.68,
          9.96,
          9.54,
          9.9,
          9.56,
          10.06,
          9.84,
          9.42,
          9.64,
          9.54,
          9.8,
          9.94,
          10.06,
          9.6,
          9.46,
          9.46,
          9.96,
          9.46,
          9.68,
          9.82,
          9.68,
          9.18,
          10.02,
          10.04,
          10.18,
          10,
          10.02,
          9.64,
          9.46,
          9.85,
          10.08,
          9.64,
          9.36,
          9.42,
          9.48,
          9.78,
          9.6,
          9.62,
          9.42,
          9.18,
          9.64,
          9.66,
          9.82,
          9.84,
          9.52,
          9.54,
          9.6,
          9.82,
          9.62,
          9.42,
          9.32,
          9.9,
          9.96,
          9.42,
          9.2,
          9.6,
          9.84,
          9.36,
          9.68,
          9.9,
          9.92,
          10.02,
          10,
          9.64,
          9.62,
          9.36,
          9.6,
          9.54,
          9.96,
          9.92,
          9.46,
          9.36,
          9.44,
          9.6,
          9.52,
          9.9,
          10.08,
          10.04,
          9.62,
          9.94,
          9.84,
          9.62,
          9.54,
          9.36,
          9.42,
          9.46,
          9.86,
          9.94,
          9.86,
          10.1,
          10,
          10.04,
          9.96,
          10.02,
          10,
          9.86,
          10.09,
          10.08,
          9.64,
          10.04,
          10.1,
          9.62,
          10.06,
          9.84,
          10.04,
          9.54,
          9.98,
          10.06,
          9.84,
          9.96,
          9.8,
          9.86,
          9.9,
          9.54,
          9.58,
          9.36,
          9.84,
          9.7,
          9.62,
          9.64,
          9.87,
          10.04,
          10.1,
          9.64,
          9.32,
          9.22,
          9.6,
          9.54,
          9.54,
          9.6,
          9.84,
          9.9,
          9.96,
          9.9,
          9.96,
          9.92,
          9.56,
          10,
          9.56,
          10.1,
          9.84,
          10.1,
          9.76,
          9.78,
          10.11,
          9.94,
          10.02,
          9.58,
          9.84,
          10.04,
          9.8,
          9.64,
          9.78,
          9.74,
          9.78,
          10.1,
          9.64,
          9.92,
          9.52,
          10.1,
          9.48,
          9.94,
          9.72,
          10.08,
          9.86,
          10.1,
          9.64,
          10.06,
          9.68,
          9.62,
          10.1,
          9.76,
          10.1,
          9.76,
          10.08,
          9.96,
          9.98,
          9.84,
          10.08,
          9.78,
          9.72,
          9.54,
          10.08,
          9.72,
          9.98,
          10.06,
          9.82,
          9.66,
          10.08,
          10.11,
          9.7,
          9.86,
          10.08,
          9.98,
          9.24,
          9.56,
          9.88,
          10.02,
          9.9,
          9.42,
          9.4,
          10.02,
          9.7,
          10,
          9.76,
          10.08,
          10,
          9.96,
          9.82,
          9.42,
          10,
          10.02,
          9.66,
          9.72,
          9.8,
          10,
          9.62,
          10,
          9.84,
          10.06,
          9.94,
          10.04,
          9.98,
          9.82,
          9.36,
          9.42,
          9.54,
          9.56,
          9.7,
          9.92,
          10.08,
          10.1,
          10.1,
          10.06,
          9.98,
          10.02,
          9.78,
          10.1,
          10.02,
          9.94,
          10.06,
          10,
          10.02,
          10.06,
          9.98,
          9.98,
          9.84,
          9.64,
          9.92,
          9.9,
          9.98,
          10,
          9.94,
          9.88,
          10.1,
          9.84,
          10,
          9.9,
          9.92,
          9.82,
          9.74,
          9.98,
          10,
          10.04,
          10,
          9.92,
          10.08,
          9.84,
          9.64,
          9.86,
          10.02,
          9.82,
          9.48,
          9.24,
          9.8,
          9.64,
          9.52,
          9.64,
          9.86,
          9.84,
          9.54,
          9.72,
          9.56,
          9.64,
          9.88,
          10.11,
          9.8,
          9.86,
          9.72,
          9.48,
          9.24,
          9.2,
          9.56,
          9.62,
          9.48,
          9.26,
          9.3,
          9.56,
          9.28,
          9.64,
          9.8,
          9.54,
          9.62,
          9.26,
          9.52,
          9.56,
          9.62,
          9.56,
          9.98,
          9.92,
          9.58,
          10,
          10.02,
          10.56,
          10.82,
          10,
          10,
          9.98,
          9.92,
          10.34,
          9.84,
          9.7,
          9.34,
          9.42,
          9.84,
          9.94,
          10,
          10.06,
          9.86,
          10.02,
          9.62,
          10,
          9.82,
          9.56,
          9.64,
          9.54,
          9.84,
          9.68,
          9.84,
          9.92,
          9.76,
          9.62,
          10,
          9.64,
          9.8,
          10.02,
          9.84,
          9.54,
          9.6,
          9.54,
          9.34,
          9.42,
          9.56,
          10.04,
          10.06,
          10,
          9.84,
          9.56,
          9.68,
          9.9,
          9.92,
          9.62,
          9.98,
          9.9,
          9.8,
          9.82,
          9.6,
          10,
          9.88,
          10,
          10.06,
          9.6,
          9.72,
          9.82,
          9.52,
          10.06,
          9.92,
          9.54,
          9.8,
          9.7,
          9.76,
          9.66,
          9.92,
          10,
          9.82,
          9.56,
          9.74,
          9.62,
          9.66,
          9.8,
          9.74,
          9.88,
          10,
          9.42,
          9.82,
          9.76,
          10.06,
          9.64,
          9.62,
          10,
          10.02,
          9.98,
          9.76,
          9.44,
          9.86,
          9.68,
          9.52,
          9.94,
          9.96,
          9.86,
          9.34,
          9.66,
          9.56,
          10.1,
          9.88,
          10.1,
          9.98,
          9.86,
          10.12,
          9.2,
          10.1,
          9.86,
          9.62,
          9.68,
          9.88,
          9.5,
          9.74,
          9.92,
          9.56,
          10,
          9.68,
          9.86,
          10,
          10.08,
          9.88,
          10.1,
          10,
          9.88,
          9.9,
          10.08,
          9.14,
          10.06,
          10.02,
          9.22,
          9.78,
          10.04,
          9.58,
          9.3,
          9.36,
          9.4,
          9.42,
          9.32,
          9.34,
          9.8,
          9.98,
          9.6,
          9.94,
          9.36,
          9.84,
          9.66,
          9.54,
          9.2,
          9.68,
          9.56,
          9.62,
          9.28,
          10,
          9.64,
          9.9,
          10,
          10.02,
          10.08,
          9.94,
          9.88,
          9.76,
          9.36,
          9.42,
          9.6,
          11,
          9.88,
          9.76,
          9.82,
          9.9,
          9.88,
          9.44,
          9.78,
          9.52,
          9.82,
          9.58,
          9.42,
          9.52,
          9.32,
          9.56,
          9.58,
          9.7,
          9.34,
          9.38,
          9.4,
          9.16,
          9.56,
          9.8,
          9.76,
          9.78,
          9.64,
          9.9,
          9.88,
          9.54,
          9.9,
          9.2,
          9.76,
          9.84,
          9.8,
          9.5,
          10,
          10,
          9.46,
          9.74,
          10.02,
          10.04,
          9.66,
          10,
          9.86,
          9.58,
          10.04,
          9.66,
          9.74,
          9.76,
          10.08,
          9.54,
          10.02,
          10.1,
          9.68,
          9.96,
          9.62,
          9.74,
          9.78,
          9.96,
          9.74,
          9.82,
          9.44,
          9.72,
          9.76,
          10.06,
          9.7,
          9.68,
          10.1,
          9.64,
          10,
          10.06,
          9.84,
          9.82,
          9.78,
          9.74,
          9.72,
          9.2,
          9.76,
          9.48,
          9.94,
          9.74,
          9.64,
          10.06,
          10.1,
          9.94,
          9.54,
          9.7,
          9.96,
          9.74,
          9.76,
          9.88,
          9.54,
          9.96,
          9.7,
          9.64,
          10,
          9.64,
          9.52,
          9.98,
          9.52,
          10,
          9.22,
          9.44,
          10.06,
          9.58,
          9.66,
          9.64,
          9.46,
          9.82,
          9.56,
          9.68,
          9.72,
          9.7,
          9.88,
          9.34,
          9.78,
          9.14,
          9.2,
          9.46,
          9.52,
          9.8,
          9.78,
          10,
          10.02,
          9.58,
          9.7,
          9.92,
          9.56,
          9.44,
          9.96,
          9.74,
          9.72,
          9.2,
          9.24,
          9.26,
          9.18,
          9.16
         ],
         "xaxis": "x",
         "xbins": {
          "end": 12,
          "size": 0.25,
          "start": 8
         },
         "yaxis": "y"
        }
       ],
       "layout": {
        "annotations": [
         {
          "showarrow": false,
          "text": "9.12",
          "x": 9.12,
          "xanchor": "right",
          "xref": "x",
          "y": 1,
          "yanchor": "top",
          "yref": "y domain"
         },
         {
          "showarrow": false,
          "text": "10.12",
          "x": 10.12,
          "xanchor": "right",
          "xref": "x",
          "y": 1,
          "yanchor": "top",
          "yref": "y domain"
         },
         {
          "showarrow": false,
          "text": "9.77",
          "x": 9.765,
          "xanchor": "right",
          "xref": "x",
          "y": 1,
          "yanchor": "top",
          "yref": "y domain"
         }
        ],
        "barmode": "relative",
        "height": 600,
        "legend": {
         "tracegroupgap": 0
        },
        "margin": {
         "t": 60
        },
        "shapes": [
         {
          "line": {
           "color": "red",
           "dash": "solid"
          },
          "type": "line",
          "x0": 9.12,
          "x1": 9.12,
          "xref": "x",
          "y0": 0,
          "y1": 1,
          "yref": "y domain"
         },
         {
          "line": {
           "color": "red",
           "dash": "solid"
          },
          "type": "line",
          "x0": 10.12,
          "x1": 10.12,
          "xref": "x",
          "y0": 0,
          "y1": 1,
          "yref": "y domain"
         },
         {
          "line": {
           "color": "blue",
           "dash": "longdash"
          },
          "type": "line",
          "x0": 9.765,
          "x1": 9.765,
          "xref": "x",
          "y0": 0,
          "y1": 1,
          "yref": "y domain"
         }
        ],
        "template": {
         "data": {
          "bar": [
           {
            "error_x": {
             "color": "#2a3f5f"
            },
            "error_y": {
             "color": "#2a3f5f"
            },
            "marker": {
             "line": {
              "color": "#E5ECF6",
              "width": 0.5
             },
             "pattern": {
              "fillmode": "overlay",
              "size": 10,
              "solidity": 0.2
             }
            },
            "type": "bar"
           }
          ],
          "barpolar": [
           {
            "marker": {
             "line": {
              "color": "#E5ECF6",
              "width": 0.5
             },
             "pattern": {
              "fillmode": "overlay",
              "size": 10,
              "solidity": 0.2
             }
            },
            "type": "barpolar"
           }
          ],
          "carpet": [
           {
            "aaxis": {
             "endlinecolor": "#2a3f5f",
             "gridcolor": "white",
             "linecolor": "white",
             "minorgridcolor": "white",
             "startlinecolor": "#2a3f5f"
            },
            "baxis": {
             "endlinecolor": "#2a3f5f",
             "gridcolor": "white",
             "linecolor": "white",
             "minorgridcolor": "white",
             "startlinecolor": "#2a3f5f"
            },
            "type": "carpet"
           }
          ],
          "choropleth": [
           {
            "colorbar": {
             "outlinewidth": 0,
             "ticks": ""
            },
            "type": "choropleth"
           }
          ],
          "contour": [
           {
            "colorbar": {
             "outlinewidth": 0,
             "ticks": ""
            },
            "colorscale": [
             [
              0,
              "#0d0887"
             ],
             [
              0.1111111111111111,
              "#46039f"
             ],
             [
              0.2222222222222222,
              "#7201a8"
             ],
             [
              0.3333333333333333,
              "#9c179e"
             ],
             [
              0.4444444444444444,
              "#bd3786"
             ],
             [
              0.5555555555555556,
              "#d8576b"
             ],
             [
              0.6666666666666666,
              "#ed7953"
             ],
             [
              0.7777777777777778,
              "#fb9f3a"
             ],
             [
              0.8888888888888888,
              "#fdca26"
             ],
             [
              1,
              "#f0f921"
             ]
            ],
            "type": "contour"
           }
          ],
          "contourcarpet": [
           {
            "colorbar": {
             "outlinewidth": 0,
             "ticks": ""
            },
            "type": "contourcarpet"
           }
          ],
          "heatmap": [
           {
            "colorbar": {
             "outlinewidth": 0,
             "ticks": ""
            },
            "colorscale": [
             [
              0,
              "#0d0887"
             ],
             [
              0.1111111111111111,
              "#46039f"
             ],
             [
              0.2222222222222222,
              "#7201a8"
             ],
             [
              0.3333333333333333,
              "#9c179e"
             ],
             [
              0.4444444444444444,
              "#bd3786"
             ],
             [
              0.5555555555555556,
              "#d8576b"
             ],
             [
              0.6666666666666666,
              "#ed7953"
             ],
             [
              0.7777777777777778,
              "#fb9f3a"
             ],
             [
              0.8888888888888888,
              "#fdca26"
             ],
             [
              1,
              "#f0f921"
             ]
            ],
            "type": "heatmap"
           }
          ],
          "heatmapgl": [
           {
            "colorbar": {
             "outlinewidth": 0,
             "ticks": ""
            },
            "colorscale": [
             [
              0,
              "#0d0887"
             ],
             [
              0.1111111111111111,
              "#46039f"
             ],
             [
              0.2222222222222222,
              "#7201a8"
             ],
             [
              0.3333333333333333,
              "#9c179e"
             ],
             [
              0.4444444444444444,
              "#bd3786"
             ],
             [
              0.5555555555555556,
              "#d8576b"
             ],
             [
              0.6666666666666666,
              "#ed7953"
             ],
             [
              0.7777777777777778,
              "#fb9f3a"
             ],
             [
              0.8888888888888888,
              "#fdca26"
             ],
             [
              1,
              "#f0f921"
             ]
            ],
            "type": "heatmapgl"
           }
          ],
          "histogram": [
           {
            "marker": {
             "pattern": {
              "fillmode": "overlay",
              "size": 10,
              "solidity": 0.2
             }
            },
            "type": "histogram"
           }
          ],
          "histogram2d": [
           {
            "colorbar": {
             "outlinewidth": 0,
             "ticks": ""
            },
            "colorscale": [
             [
              0,
              "#0d0887"
             ],
             [
              0.1111111111111111,
              "#46039f"
             ],
             [
              0.2222222222222222,
              "#7201a8"
             ],
             [
              0.3333333333333333,
              "#9c179e"
             ],
             [
              0.4444444444444444,
              "#bd3786"
             ],
             [
              0.5555555555555556,
              "#d8576b"
             ],
             [
              0.6666666666666666,
              "#ed7953"
             ],
             [
              0.7777777777777778,
              "#fb9f3a"
             ],
             [
              0.8888888888888888,
              "#fdca26"
             ],
             [
              1,
              "#f0f921"
             ]
            ],
            "type": "histogram2d"
           }
          ],
          "histogram2dcontour": [
           {
            "colorbar": {
             "outlinewidth": 0,
             "ticks": ""
            },
            "colorscale": [
             [
              0,
              "#0d0887"
             ],
             [
              0.1111111111111111,
              "#46039f"
             ],
             [
              0.2222222222222222,
              "#7201a8"
             ],
             [
              0.3333333333333333,
              "#9c179e"
             ],
             [
              0.4444444444444444,
              "#bd3786"
             ],
             [
              0.5555555555555556,
              "#d8576b"
             ],
             [
              0.6666666666666666,
              "#ed7953"
             ],
             [
              0.7777777777777778,
              "#fb9f3a"
             ],
             [
              0.8888888888888888,
              "#fdca26"
             ],
             [
              1,
              "#f0f921"
             ]
            ],
            "type": "histogram2dcontour"
           }
          ],
          "mesh3d": [
           {
            "colorbar": {
             "outlinewidth": 0,
             "ticks": ""
            },
            "type": "mesh3d"
           }
          ],
          "parcoords": [
           {
            "line": {
             "colorbar": {
              "outlinewidth": 0,
              "ticks": ""
             }
            },
            "type": "parcoords"
           }
          ],
          "pie": [
           {
            "automargin": true,
            "type": "pie"
           }
          ],
          "scatter": [
           {
            "fillpattern": {
             "fillmode": "overlay",
             "size": 10,
             "solidity": 0.2
            },
            "type": "scatter"
           }
          ],
          "scatter3d": [
           {
            "line": {
             "colorbar": {
              "outlinewidth": 0,
              "ticks": ""
             }
            },
            "marker": {
             "colorbar": {
              "outlinewidth": 0,
              "ticks": ""
             }
            },
            "type": "scatter3d"
           }
          ],
          "scattercarpet": [
           {
            "marker": {
             "colorbar": {
              "outlinewidth": 0,
              "ticks": ""
             }
            },
            "type": "scattercarpet"
           }
          ],
          "scattergeo": [
           {
            "marker": {
             "colorbar": {
              "outlinewidth": 0,
              "ticks": ""
             }
            },
            "type": "scattergeo"
           }
          ],
          "scattergl": [
           {
            "marker": {
             "colorbar": {
              "outlinewidth": 0,
              "ticks": ""
             }
            },
            "type": "scattergl"
           }
          ],
          "scattermapbox": [
           {
            "marker": {
             "colorbar": {
              "outlinewidth": 0,
              "ticks": ""
             }
            },
            "type": "scattermapbox"
           }
          ],
          "scatterpolar": [
           {
            "marker": {
             "colorbar": {
              "outlinewidth": 0,
              "ticks": ""
             }
            },
            "type": "scatterpolar"
           }
          ],
          "scatterpolargl": [
           {
            "marker": {
             "colorbar": {
              "outlinewidth": 0,
              "ticks": ""
             }
            },
            "type": "scatterpolargl"
           }
          ],
          "scatterternary": [
           {
            "marker": {
             "colorbar": {
              "outlinewidth": 0,
              "ticks": ""
             }
            },
            "type": "scatterternary"
           }
          ],
          "surface": [
           {
            "colorbar": {
             "outlinewidth": 0,
             "ticks": ""
            },
            "colorscale": [
             [
              0,
              "#0d0887"
             ],
             [
              0.1111111111111111,
              "#46039f"
             ],
             [
              0.2222222222222222,
              "#7201a8"
             ],
             [
              0.3333333333333333,
              "#9c179e"
             ],
             [
              0.4444444444444444,
              "#bd3786"
             ],
             [
              0.5555555555555556,
              "#d8576b"
             ],
             [
              0.6666666666666666,
              "#ed7953"
             ],
             [
              0.7777777777777778,
              "#fb9f3a"
             ],
             [
              0.8888888888888888,
              "#fdca26"
             ],
             [
              1,
              "#f0f921"
             ]
            ],
            "type": "surface"
           }
          ],
          "table": [
           {
            "cells": {
             "fill": {
              "color": "#EBF0F8"
             },
             "line": {
              "color": "white"
             }
            },
            "header": {
             "fill": {
              "color": "#C8D4E3"
             },
             "line": {
              "color": "white"
             }
            },
            "type": "table"
           }
          ]
         },
         "layout": {
          "annotationdefaults": {
           "arrowcolor": "#2a3f5f",
           "arrowhead": 0,
           "arrowwidth": 1
          },
          "autotypenumbers": "strict",
          "coloraxis": {
           "colorbar": {
            "outlinewidth": 0,
            "ticks": ""
           }
          },
          "colorscale": {
           "diverging": [
            [
             0,
             "#8e0152"
            ],
            [
             0.1,
             "#c51b7d"
            ],
            [
             0.2,
             "#de77ae"
            ],
            [
             0.3,
             "#f1b6da"
            ],
            [
             0.4,
             "#fde0ef"
            ],
            [
             0.5,
             "#f7f7f7"
            ],
            [
             0.6,
             "#e6f5d0"
            ],
            [
             0.7,
             "#b8e186"
            ],
            [
             0.8,
             "#7fbc41"
            ],
            [
             0.9,
             "#4d9221"
            ],
            [
             1,
             "#276419"
            ]
           ],
           "sequential": [
            [
             0,
             "#0d0887"
            ],
            [
             0.1111111111111111,
             "#46039f"
            ],
            [
             0.2222222222222222,
             "#7201a8"
            ],
            [
             0.3333333333333333,
             "#9c179e"
            ],
            [
             0.4444444444444444,
             "#bd3786"
            ],
            [
             0.5555555555555556,
             "#d8576b"
            ],
            [
             0.6666666666666666,
             "#ed7953"
            ],
            [
             0.7777777777777778,
             "#fb9f3a"
            ],
            [
             0.8888888888888888,
             "#fdca26"
            ],
            [
             1,
             "#f0f921"
            ]
           ],
           "sequentialminus": [
            [
             0,
             "#0d0887"
            ],
            [
             0.1111111111111111,
             "#46039f"
            ],
            [
             0.2222222222222222,
             "#7201a8"
            ],
            [
             0.3333333333333333,
             "#9c179e"
            ],
            [
             0.4444444444444444,
             "#bd3786"
            ],
            [
             0.5555555555555556,
             "#d8576b"
            ],
            [
             0.6666666666666666,
             "#ed7953"
            ],
            [
             0.7777777777777778,
             "#fb9f3a"
            ],
            [
             0.8888888888888888,
             "#fdca26"
            ],
            [
             1,
             "#f0f921"
            ]
           ]
          },
          "colorway": [
           "#636efa",
           "#EF553B",
           "#00cc96",
           "#ab63fa",
           "#FFA15A",
           "#19d3f3",
           "#FF6692",
           "#B6E880",
           "#FF97FF",
           "#FECB52"
          ],
          "font": {
           "color": "#2a3f5f"
          },
          "geo": {
           "bgcolor": "white",
           "lakecolor": "white",
           "landcolor": "#E5ECF6",
           "showlakes": true,
           "showland": true,
           "subunitcolor": "white"
          },
          "hoverlabel": {
           "align": "left"
          },
          "hovermode": "closest",
          "mapbox": {
           "style": "light"
          },
          "paper_bgcolor": "white",
          "plot_bgcolor": "#E5ECF6",
          "polar": {
           "angularaxis": {
            "gridcolor": "white",
            "linecolor": "white",
            "ticks": ""
           },
           "bgcolor": "#E5ECF6",
           "radialaxis": {
            "gridcolor": "white",
            "linecolor": "white",
            "ticks": ""
           }
          },
          "scene": {
           "xaxis": {
            "backgroundcolor": "#E5ECF6",
            "gridcolor": "white",
            "gridwidth": 2,
            "linecolor": "white",
            "showbackground": true,
            "ticks": "",
            "zerolinecolor": "white"
           },
           "yaxis": {
            "backgroundcolor": "#E5ECF6",
            "gridcolor": "white",
            "gridwidth": 2,
            "linecolor": "white",
            "showbackground": true,
            "ticks": "",
            "zerolinecolor": "white"
           },
           "zaxis": {
            "backgroundcolor": "#E5ECF6",
            "gridcolor": "white",
            "gridwidth": 2,
            "linecolor": "white",
            "showbackground": true,
            "ticks": "",
            "zerolinecolor": "white"
           }
          },
          "shapedefaults": {
           "line": {
            "color": "#2a3f5f"
           }
          },
          "ternary": {
           "aaxis": {
            "gridcolor": "white",
            "linecolor": "white",
            "ticks": ""
           },
           "baxis": {
            "gridcolor": "white",
            "linecolor": "white",
            "ticks": ""
           },
           "bgcolor": "#E5ECF6",
           "caxis": {
            "gridcolor": "white",
            "linecolor": "white",
            "ticks": ""
           }
          },
          "title": {
           "x": 0.05
          },
          "xaxis": {
           "automargin": true,
           "gridcolor": "white",
           "linecolor": "white",
           "ticks": "",
           "title": {
            "standoff": 15
           },
           "zerolinecolor": "white",
           "zerolinewidth": 2
          },
          "yaxis": {
           "automargin": true,
           "gridcolor": "white",
           "linecolor": "white",
           "ticks": "",
           "title": {
            "standoff": 15
           },
           "zerolinecolor": "white",
           "zerolinewidth": 2
          }
         }
        },
        "title": {
         "text": "Histogram of measured_weight with Goals"
        },
        "width": 800,
        "xaxis": {
         "anchor": "y",
         "domain": [
          0,
          1
         ],
         "title": {
          "text": "measured_weight"
         }
        },
        "yaxis": {
         "anchor": "x",
         "domain": [
          0,
          1
         ],
         "title": {
          "text": "Count"
         }
        }
       }
      }
     },
     "metadata": {},
     "output_type": "display_data"
    }
   ],
   "source": [
    "generate_histogram(product_sample, engine, 'weight')"
   ]
  },
  {
   "cell_type": "code",
   "execution_count": 6,
   "metadata": {},
   "outputs": [
    {
     "data": {
      "application/vnd.plotly.v1+json": {
       "config": {
        "plotlyServerURL": "https://plot.ly"
       },
       "data": [
        {
         "alignmentgroup": "True",
         "bingroup": "x",
         "hovertemplate": "measured_height=%{x}<br>count=%{y}<extra></extra>",
         "legendgroup": "",
         "marker": {
          "color": "#43A7E5",
          "line": {
           "color": "DarkSlateGrey",
           "width": 1
          },
          "pattern": {
           "shape": ""
          }
         },
         "name": "",
         "offsetgroup": "",
         "orientation": "v",
         "showlegend": false,
         "type": "histogram",
         "x": [
          1.47718,
          1.33462,
          1.70458,
          1.30403,
          1.52521,
          1.22751,
          1.44789,
          1.3305,
          1.41061,
          1.36578,
          1.41697,
          1.29761,
          1.25489,
          1.51439,
          1.37504,
          1.40375,
          1.34337,
          1.40623,
          1.68366,
          1.25772,
          1.32073,
          1.34563,
          1.48491,
          1.68743,
          1.32567,
          1.27737,
          1.36828,
          1.46594,
          1.5171,
          1.43625,
          1.60668,
          1.55813,
          1.50285,
          1.28032,
          1.257,
          1.24897,
          1.29187,
          1.3327,
          1.39912,
          1.37568,
          1.35975,
          1.31565,
          1.2742,
          1.28556,
          1.38094,
          1.40681,
          1.18074,
          1.30676,
          1.32328,
          1.58868,
          1.34296,
          1.15871,
          1.35659,
          1.44698,
          1.29907,
          1.38743,
          1.4188,
          1.05676,
          1.18791,
          1.22779,
          1.43169,
          1.3257,
          1.39406,
          1.41351,
          1.40871,
          1.38804,
          1.37042,
          1.46699,
          1.21667,
          1.45682,
          1.37421,
          1.47799,
          1.3823,
          1.35202,
          1.33788,
          1.33367,
          1.37414,
          1.36971,
          1.62462,
          1.34331,
          1.40056,
          1.40587,
          1.33866,
          1.3869,
          1.49401,
          1.22809,
          1.41332,
          1.25457,
          1.57743,
          1.53672,
          1.32602,
          1.35092,
          1.1673,
          1.36444,
          1.58963,
          1.42244,
          1.68398,
          1.21413,
          1.25207,
          1.36027,
          1.26767,
          1.23982,
          1.35902,
          1.58273,
          1.60532,
          1.43249,
          1.48501,
          1.26549,
          1.38628,
          1.3777,
          1.5415,
          1.48148,
          1.34219,
          1.39009,
          1.37775,
          1.38744,
          1.4866,
          1.63332,
          1.21642,
          1.27799,
          1.39557,
          1.19369,
          1.24167,
          1.59972,
          1.33538,
          1.30533,
          1.41218,
          1.4034,
          1.33997,
          1.33724,
          1.22953,
          1.51242,
          1.30258,
          1.3552,
          1.38168,
          1.47379,
          1.27256,
          1.36427,
          1.20419,
          1.6583,
          1.34874,
          1.3375,
          1.374,
          1.14072,
          1.34104,
          1.15131,
          1.41447,
          1.26144,
          1.32437,
          1.5102,
          1.36602,
          1.58388,
          1.37248,
          1.39319,
          1.31726,
          1.34054,
          1.36627,
          1.43729,
          1.38183,
          1.29853,
          1.29042,
          1.23124,
          1.20355,
          1.61931,
          1.28329,
          1.40562,
          1.33676,
          1.36076,
          1.19857,
          1.40523,
          1.3882,
          1.37622,
          1.58027,
          1.2732,
          1.18525,
          1.34932,
          1.25512,
          1.33682,
          1.54327,
          1.7734,
          1.4575,
          1.53461,
          1.3714,
          1.35439,
          1.53985,
          1.53607,
          1.33842,
          1.30747,
          1.74485,
          1.27675,
          1.3224,
          1.59098,
          1.46085,
          1.42474,
          1.33913,
          1.32926,
          1.3382,
          1.56609,
          1.35577,
          1.46997,
          1.45732,
          1.23631,
          1.47636,
          1.24184,
          1.36861,
          1.30206,
          1.57913,
          1.47071,
          1.49158,
          1.25148,
          1.28663,
          1.3252,
          1.43222,
          1.44114,
          1.40124,
          1.31316,
          1.49238,
          1.45048,
          1.24751,
          1.53034,
          1.63097,
          1.3,
          1.49198,
          1.33532,
          1.31605,
          1.56864,
          1.44021,
          1.38462,
          1.26769,
          1.31425,
          1.30416,
          1.30875,
          1.37746,
          1.47529,
          1.32326,
          1.44997,
          1.27036,
          1.2763,
          1.60574,
          1.56516,
          1.28878,
          1.34352,
          1.18602,
          1.34654,
          1.60334,
          1.30443,
          1.3596,
          1.35809,
          1.24062,
          1.35903,
          1.40922,
          1.39443,
          1.23481,
          1.41461,
          1.31125,
          1.31628,
          1.23282,
          1.39096,
          1.43363,
          1.60496,
          1.34281,
          1.5261,
          1.37525,
          1.49837,
          1.41497,
          1.24192,
          1.39853,
          1.37825,
          1.29213,
          1.40403,
          1.4321,
          1.2339,
          1.47832,
          1.38262,
          1.21909,
          1.40226,
          1.27209,
          1.24239,
          1.56947,
          1.32471,
          1.23494,
          1.24928,
          1.22379,
          1.37102,
          1.51113,
          1.27714,
          1.39111,
          1.60407,
          1.369,
          1.26748,
          1.35331,
          1.53248,
          1.30223,
          1.34318,
          1.21871,
          1.22227,
          1.25434,
          1.21136,
          1.30869,
          1.23619,
          1.35198,
          1.22051,
          1.40533,
          1.51836,
          1.2889,
          1.31594,
          1.18547,
          1.35742,
          1.28578,
          1.35614,
          1.36821,
          1.58124,
          1.25056,
          1.33885,
          1.29556,
          1.10374,
          1.19205,
          1.65777,
          1.53274,
          1.36366,
          1.64875,
          1.30767,
          1.3178,
          1.32226,
          1.61222,
          1.35842,
          1.45466,
          1.32008,
          1.36056,
          1.29795,
          1.45535,
          1.4344,
          1.43596,
          1.61351,
          1.28175,
          1.30671,
          1.47032,
          1.39812,
          1.31836,
          1.72623,
          1.37165,
          1.24122,
          1.25947,
          1.34797,
          1.38752,
          1.25647,
          1.66489,
          1.23381,
          1.12438,
          1.28384,
          1.46407,
          1.39243,
          1.43976,
          1.32603,
          1.83688,
          1.12152,
          1.1955,
          1.39296,
          1.22488,
          1.192,
          1.36751,
          1.31284,
          1.29644,
          1.6214,
          1.20124,
          1.32153,
          1.29726,
          1.44712,
          1.29491,
          1.17692,
          1.34641,
          1.45828,
          1.42891,
          1.62272,
          1.66158,
          1.74818,
          1.18495,
          1.31616,
          1.33471,
          1.1062,
          1.34162,
          1.3772,
          1.22178,
          1.36563,
          1.31272,
          1.41667,
          1.39143,
          1.34393,
          1.41476,
          1.21842,
          1.44801,
          1.25323,
          1.39065,
          1.36358,
          1.5665,
          1.31221,
          1.33801,
          1.51928,
          1.35547,
          1.20135,
          1.2954,
          1.39086,
          1.70069,
          1.29026,
          1.43729,
          1.2465,
          1.31016,
          1.50501,
          1.34847,
          1.52843,
          1.3058,
          1.32764,
          1.26516,
          1.2773,
          1.34585,
          1.26397,
          1.23207,
          1.45146,
          1.46769,
          1.34242,
          1.47851,
          1.1255,
          1.64982,
          1.21594,
          1.68515,
          1.37372,
          1.18557,
          1.32556,
          1.46443,
          1.41873,
          1.38486,
          1.23547,
          1.30042,
          1.27087,
          1.34796,
          1.1925,
          1.32512,
          1.32388,
          1.3811,
          1.50469,
          1.32177,
          1.16845,
          1.31975,
          1.22417,
          1.45806,
          1.29565,
          1.42461,
          1.34725,
          1.29008,
          1.37896,
          1.57392,
          1.50546,
          1.25094,
          1.46995,
          1.32007,
          1.34597,
          1.42533,
          1.4642,
          1.51116,
          1.49595,
          1.32612,
          1.17868,
          1.55955,
          1.41027,
          1.23999,
          1.36103,
          1.48636,
          1.49675,
          1.52274,
          1.41189,
          1.32726,
          1.29324,
          1.59813,
          1.36728,
          1.42988,
          1.2865,
          1.38044,
          1.43153,
          1.56411,
          1.2652,
          1.27214,
          1.41214,
          1.564,
          1.56026,
          1.33374,
          1.35221,
          1.5286,
          1.52956,
          1.63091,
          1.3511,
          1.47771,
          1.21248,
          1.61879,
          1.27876,
          1.73925,
          1.28269,
          1.47663,
          1.41649,
          1.31536,
          1.48058,
          1.39579,
          1.47136,
          1.28606,
          1.32101,
          1.61915,
          1.35142,
          1.55901,
          1.38095,
          1.5954,
          1.29993,
          1.24396,
          1.39757,
          1.2567,
          1.25293,
          1.67018,
          1.36947,
          1.39113,
          1.30748,
          1.44405,
          1.40846,
          1.27769,
          1.62736,
          1.61164,
          1.32334,
          1.23385,
          1.49415,
          1.51824,
          1.37462,
          1.36229,
          1.4644,
          1.25654,
          1.55476,
          1.44313,
          1.44116,
          1.33289,
          1.4492,
          1.5989,
          1.2412,
          1.52038,
          1.34432,
          1.35345,
          1.09673,
          1.34131,
          1.32616,
          1.47033,
          1.21717,
          1.26773,
          1.31893,
          1.45136,
          1.26182,
          1.79428,
          1.50758,
          1.31764,
          1.30704,
          1.51285,
          1.53257,
          1.27589,
          1.40643,
          1.36224,
          1.31754,
          1.33159,
          1.29799,
          1.33278,
          1.31036,
          1.27884,
          1.39679,
          1.23446,
          1.28775,
          1.39845,
          1.22999,
          1.19841,
          1.24754,
          1.40965,
          1.31635,
          1.41347,
          1.52488,
          1.49053,
          1.26297,
          1.27599,
          1.22119,
          1.30863,
          1.52634,
          1.28894,
          1.33171,
          1.24342,
          1.47024,
          1.4059,
          1.39669,
          1.42695,
          1.26858,
          1.36323,
          1.61165,
          1.39265,
          1.32868,
          1.42191,
          1.3897,
          1.51356,
          1.22017,
          1.27933,
          1.4422,
          1.33811,
          1.29419,
          1.30583,
          1.39494,
          1.27271,
          1.43866,
          1.20153,
          1.45563,
          1.1166,
          1.5369,
          1.50395,
          1.28634,
          1.29071,
          1.28443,
          1.49885,
          1.38189,
          1.33762,
          1.34993,
          1.42929,
          1.2663,
          1.47185,
          1.53498,
          1.25781,
          1.38199,
          1.49124,
          1.27802,
          1.2669,
          1.59103,
          1.49463,
          1.59459,
          1.25693,
          1.36582,
          1.21357,
          1.4376,
          1.37848,
          1.39004,
          1.30269,
          1.35818,
          1.22291,
          1.34009,
          1.26454,
          1.30169,
          1.36046,
          1.39413,
          1.37746,
          1.64666,
          1.25777,
          1.38107,
          1.26943,
          1.49746,
          1.47576,
          1.4471,
          1.32449,
          1.1724,
          1.32577,
          1.43656,
          1.50902,
          1.27118,
          1.19515,
          1.25924,
          1.36906,
          1.43686,
          1.41366,
          1.26559,
          1.27053,
          1.55954,
          1.32965,
          1.33268,
          1.32848,
          1.27852,
          1.51841,
          1.2745,
          1.33198,
          1.63621,
          1.4521,
          1.65537,
          1.40485,
          1.37761,
          1.41635,
          1.45057,
          1.2057,
          1.41568,
          1.37851,
          1.28112,
          1.4613,
          1.39463,
          1.27966,
          1.40132,
          1.52983,
          1.41504,
          1.30005,
          1.53207,
          1.3458,
          1.4422,
          1.30402
         ],
         "xaxis": "x",
         "xbins": {
          "end": 3,
          "size": 0.25,
          "start": 0
         },
         "yaxis": "y"
        }
       ],
       "layout": {
        "annotations": [
         {
          "showarrow": false,
          "text": "1.10",
          "x": 1.1,
          "xanchor": "right",
          "xref": "x",
          "y": 1,
          "yanchor": "top",
          "yref": "y domain"
         },
         {
          "showarrow": false,
          "text": "1.75",
          "x": 1.75,
          "xanchor": "right",
          "xref": "x",
          "y": 1,
          "yanchor": "top",
          "yref": "y domain"
         },
         {
          "showarrow": false,
          "text": "1.38",
          "x": 1.378,
          "xanchor": "right",
          "xref": "x",
          "y": 1,
          "yanchor": "top",
          "yref": "y domain"
         }
        ],
        "barmode": "relative",
        "height": 600,
        "legend": {
         "tracegroupgap": 0
        },
        "margin": {
         "t": 60
        },
        "shapes": [
         {
          "line": {
           "color": "red",
           "dash": "solid"
          },
          "type": "line",
          "x0": 1.1,
          "x1": 1.1,
          "xref": "x",
          "y0": 0,
          "y1": 1,
          "yref": "y domain"
         },
         {
          "line": {
           "color": "red",
           "dash": "solid"
          },
          "type": "line",
          "x0": 1.75,
          "x1": 1.75,
          "xref": "x",
          "y0": 0,
          "y1": 1,
          "yref": "y domain"
         },
         {
          "line": {
           "color": "blue",
           "dash": "longdash"
          },
          "type": "line",
          "x0": 1.378,
          "x1": 1.378,
          "xref": "x",
          "y0": 0,
          "y1": 1,
          "yref": "y domain"
         }
        ],
        "template": {
         "data": {
          "bar": [
           {
            "error_x": {
             "color": "#2a3f5f"
            },
            "error_y": {
             "color": "#2a3f5f"
            },
            "marker": {
             "line": {
              "color": "#E5ECF6",
              "width": 0.5
             },
             "pattern": {
              "fillmode": "overlay",
              "size": 10,
              "solidity": 0.2
             }
            },
            "type": "bar"
           }
          ],
          "barpolar": [
           {
            "marker": {
             "line": {
              "color": "#E5ECF6",
              "width": 0.5
             },
             "pattern": {
              "fillmode": "overlay",
              "size": 10,
              "solidity": 0.2
             }
            },
            "type": "barpolar"
           }
          ],
          "carpet": [
           {
            "aaxis": {
             "endlinecolor": "#2a3f5f",
             "gridcolor": "white",
             "linecolor": "white",
             "minorgridcolor": "white",
             "startlinecolor": "#2a3f5f"
            },
            "baxis": {
             "endlinecolor": "#2a3f5f",
             "gridcolor": "white",
             "linecolor": "white",
             "minorgridcolor": "white",
             "startlinecolor": "#2a3f5f"
            },
            "type": "carpet"
           }
          ],
          "choropleth": [
           {
            "colorbar": {
             "outlinewidth": 0,
             "ticks": ""
            },
            "type": "choropleth"
           }
          ],
          "contour": [
           {
            "colorbar": {
             "outlinewidth": 0,
             "ticks": ""
            },
            "colorscale": [
             [
              0,
              "#0d0887"
             ],
             [
              0.1111111111111111,
              "#46039f"
             ],
             [
              0.2222222222222222,
              "#7201a8"
             ],
             [
              0.3333333333333333,
              "#9c179e"
             ],
             [
              0.4444444444444444,
              "#bd3786"
             ],
             [
              0.5555555555555556,
              "#d8576b"
             ],
             [
              0.6666666666666666,
              "#ed7953"
             ],
             [
              0.7777777777777778,
              "#fb9f3a"
             ],
             [
              0.8888888888888888,
              "#fdca26"
             ],
             [
              1,
              "#f0f921"
             ]
            ],
            "type": "contour"
           }
          ],
          "contourcarpet": [
           {
            "colorbar": {
             "outlinewidth": 0,
             "ticks": ""
            },
            "type": "contourcarpet"
           }
          ],
          "heatmap": [
           {
            "colorbar": {
             "outlinewidth": 0,
             "ticks": ""
            },
            "colorscale": [
             [
              0,
              "#0d0887"
             ],
             [
              0.1111111111111111,
              "#46039f"
             ],
             [
              0.2222222222222222,
              "#7201a8"
             ],
             [
              0.3333333333333333,
              "#9c179e"
             ],
             [
              0.4444444444444444,
              "#bd3786"
             ],
             [
              0.5555555555555556,
              "#d8576b"
             ],
             [
              0.6666666666666666,
              "#ed7953"
             ],
             [
              0.7777777777777778,
              "#fb9f3a"
             ],
             [
              0.8888888888888888,
              "#fdca26"
             ],
             [
              1,
              "#f0f921"
             ]
            ],
            "type": "heatmap"
           }
          ],
          "heatmapgl": [
           {
            "colorbar": {
             "outlinewidth": 0,
             "ticks": ""
            },
            "colorscale": [
             [
              0,
              "#0d0887"
             ],
             [
              0.1111111111111111,
              "#46039f"
             ],
             [
              0.2222222222222222,
              "#7201a8"
             ],
             [
              0.3333333333333333,
              "#9c179e"
             ],
             [
              0.4444444444444444,
              "#bd3786"
             ],
             [
              0.5555555555555556,
              "#d8576b"
             ],
             [
              0.6666666666666666,
              "#ed7953"
             ],
             [
              0.7777777777777778,
              "#fb9f3a"
             ],
             [
              0.8888888888888888,
              "#fdca26"
             ],
             [
              1,
              "#f0f921"
             ]
            ],
            "type": "heatmapgl"
           }
          ],
          "histogram": [
           {
            "marker": {
             "pattern": {
              "fillmode": "overlay",
              "size": 10,
              "solidity": 0.2
             }
            },
            "type": "histogram"
           }
          ],
          "histogram2d": [
           {
            "colorbar": {
             "outlinewidth": 0,
             "ticks": ""
            },
            "colorscale": [
             [
              0,
              "#0d0887"
             ],
             [
              0.1111111111111111,
              "#46039f"
             ],
             [
              0.2222222222222222,
              "#7201a8"
             ],
             [
              0.3333333333333333,
              "#9c179e"
             ],
             [
              0.4444444444444444,
              "#bd3786"
             ],
             [
              0.5555555555555556,
              "#d8576b"
             ],
             [
              0.6666666666666666,
              "#ed7953"
             ],
             [
              0.7777777777777778,
              "#fb9f3a"
             ],
             [
              0.8888888888888888,
              "#fdca26"
             ],
             [
              1,
              "#f0f921"
             ]
            ],
            "type": "histogram2d"
           }
          ],
          "histogram2dcontour": [
           {
            "colorbar": {
             "outlinewidth": 0,
             "ticks": ""
            },
            "colorscale": [
             [
              0,
              "#0d0887"
             ],
             [
              0.1111111111111111,
              "#46039f"
             ],
             [
              0.2222222222222222,
              "#7201a8"
             ],
             [
              0.3333333333333333,
              "#9c179e"
             ],
             [
              0.4444444444444444,
              "#bd3786"
             ],
             [
              0.5555555555555556,
              "#d8576b"
             ],
             [
              0.6666666666666666,
              "#ed7953"
             ],
             [
              0.7777777777777778,
              "#fb9f3a"
             ],
             [
              0.8888888888888888,
              "#fdca26"
             ],
             [
              1,
              "#f0f921"
             ]
            ],
            "type": "histogram2dcontour"
           }
          ],
          "mesh3d": [
           {
            "colorbar": {
             "outlinewidth": 0,
             "ticks": ""
            },
            "type": "mesh3d"
           }
          ],
          "parcoords": [
           {
            "line": {
             "colorbar": {
              "outlinewidth": 0,
              "ticks": ""
             }
            },
            "type": "parcoords"
           }
          ],
          "pie": [
           {
            "automargin": true,
            "type": "pie"
           }
          ],
          "scatter": [
           {
            "fillpattern": {
             "fillmode": "overlay",
             "size": 10,
             "solidity": 0.2
            },
            "type": "scatter"
           }
          ],
          "scatter3d": [
           {
            "line": {
             "colorbar": {
              "outlinewidth": 0,
              "ticks": ""
             }
            },
            "marker": {
             "colorbar": {
              "outlinewidth": 0,
              "ticks": ""
             }
            },
            "type": "scatter3d"
           }
          ],
          "scattercarpet": [
           {
            "marker": {
             "colorbar": {
              "outlinewidth": 0,
              "ticks": ""
             }
            },
            "type": "scattercarpet"
           }
          ],
          "scattergeo": [
           {
            "marker": {
             "colorbar": {
              "outlinewidth": 0,
              "ticks": ""
             }
            },
            "type": "scattergeo"
           }
          ],
          "scattergl": [
           {
            "marker": {
             "colorbar": {
              "outlinewidth": 0,
              "ticks": ""
             }
            },
            "type": "scattergl"
           }
          ],
          "scattermapbox": [
           {
            "marker": {
             "colorbar": {
              "outlinewidth": 0,
              "ticks": ""
             }
            },
            "type": "scattermapbox"
           }
          ],
          "scatterpolar": [
           {
            "marker": {
             "colorbar": {
              "outlinewidth": 0,
              "ticks": ""
             }
            },
            "type": "scatterpolar"
           }
          ],
          "scatterpolargl": [
           {
            "marker": {
             "colorbar": {
              "outlinewidth": 0,
              "ticks": ""
             }
            },
            "type": "scatterpolargl"
           }
          ],
          "scatterternary": [
           {
            "marker": {
             "colorbar": {
              "outlinewidth": 0,
              "ticks": ""
             }
            },
            "type": "scatterternary"
           }
          ],
          "surface": [
           {
            "colorbar": {
             "outlinewidth": 0,
             "ticks": ""
            },
            "colorscale": [
             [
              0,
              "#0d0887"
             ],
             [
              0.1111111111111111,
              "#46039f"
             ],
             [
              0.2222222222222222,
              "#7201a8"
             ],
             [
              0.3333333333333333,
              "#9c179e"
             ],
             [
              0.4444444444444444,
              "#bd3786"
             ],
             [
              0.5555555555555556,
              "#d8576b"
             ],
             [
              0.6666666666666666,
              "#ed7953"
             ],
             [
              0.7777777777777778,
              "#fb9f3a"
             ],
             [
              0.8888888888888888,
              "#fdca26"
             ],
             [
              1,
              "#f0f921"
             ]
            ],
            "type": "surface"
           }
          ],
          "table": [
           {
            "cells": {
             "fill": {
              "color": "#EBF0F8"
             },
             "line": {
              "color": "white"
             }
            },
            "header": {
             "fill": {
              "color": "#C8D4E3"
             },
             "line": {
              "color": "white"
             }
            },
            "type": "table"
           }
          ]
         },
         "layout": {
          "annotationdefaults": {
           "arrowcolor": "#2a3f5f",
           "arrowhead": 0,
           "arrowwidth": 1
          },
          "autotypenumbers": "strict",
          "coloraxis": {
           "colorbar": {
            "outlinewidth": 0,
            "ticks": ""
           }
          },
          "colorscale": {
           "diverging": [
            [
             0,
             "#8e0152"
            ],
            [
             0.1,
             "#c51b7d"
            ],
            [
             0.2,
             "#de77ae"
            ],
            [
             0.3,
             "#f1b6da"
            ],
            [
             0.4,
             "#fde0ef"
            ],
            [
             0.5,
             "#f7f7f7"
            ],
            [
             0.6,
             "#e6f5d0"
            ],
            [
             0.7,
             "#b8e186"
            ],
            [
             0.8,
             "#7fbc41"
            ],
            [
             0.9,
             "#4d9221"
            ],
            [
             1,
             "#276419"
            ]
           ],
           "sequential": [
            [
             0,
             "#0d0887"
            ],
            [
             0.1111111111111111,
             "#46039f"
            ],
            [
             0.2222222222222222,
             "#7201a8"
            ],
            [
             0.3333333333333333,
             "#9c179e"
            ],
            [
             0.4444444444444444,
             "#bd3786"
            ],
            [
             0.5555555555555556,
             "#d8576b"
            ],
            [
             0.6666666666666666,
             "#ed7953"
            ],
            [
             0.7777777777777778,
             "#fb9f3a"
            ],
            [
             0.8888888888888888,
             "#fdca26"
            ],
            [
             1,
             "#f0f921"
            ]
           ],
           "sequentialminus": [
            [
             0,
             "#0d0887"
            ],
            [
             0.1111111111111111,
             "#46039f"
            ],
            [
             0.2222222222222222,
             "#7201a8"
            ],
            [
             0.3333333333333333,
             "#9c179e"
            ],
            [
             0.4444444444444444,
             "#bd3786"
            ],
            [
             0.5555555555555556,
             "#d8576b"
            ],
            [
             0.6666666666666666,
             "#ed7953"
            ],
            [
             0.7777777777777778,
             "#fb9f3a"
            ],
            [
             0.8888888888888888,
             "#fdca26"
            ],
            [
             1,
             "#f0f921"
            ]
           ]
          },
          "colorway": [
           "#636efa",
           "#EF553B",
           "#00cc96",
           "#ab63fa",
           "#FFA15A",
           "#19d3f3",
           "#FF6692",
           "#B6E880",
           "#FF97FF",
           "#FECB52"
          ],
          "font": {
           "color": "#2a3f5f"
          },
          "geo": {
           "bgcolor": "white",
           "lakecolor": "white",
           "landcolor": "#E5ECF6",
           "showlakes": true,
           "showland": true,
           "subunitcolor": "white"
          },
          "hoverlabel": {
           "align": "left"
          },
          "hovermode": "closest",
          "mapbox": {
           "style": "light"
          },
          "paper_bgcolor": "white",
          "plot_bgcolor": "#E5ECF6",
          "polar": {
           "angularaxis": {
            "gridcolor": "white",
            "linecolor": "white",
            "ticks": ""
           },
           "bgcolor": "#E5ECF6",
           "radialaxis": {
            "gridcolor": "white",
            "linecolor": "white",
            "ticks": ""
           }
          },
          "scene": {
           "xaxis": {
            "backgroundcolor": "#E5ECF6",
            "gridcolor": "white",
            "gridwidth": 2,
            "linecolor": "white",
            "showbackground": true,
            "ticks": "",
            "zerolinecolor": "white"
           },
           "yaxis": {
            "backgroundcolor": "#E5ECF6",
            "gridcolor": "white",
            "gridwidth": 2,
            "linecolor": "white",
            "showbackground": true,
            "ticks": "",
            "zerolinecolor": "white"
           },
           "zaxis": {
            "backgroundcolor": "#E5ECF6",
            "gridcolor": "white",
            "gridwidth": 2,
            "linecolor": "white",
            "showbackground": true,
            "ticks": "",
            "zerolinecolor": "white"
           }
          },
          "shapedefaults": {
           "line": {
            "color": "#2a3f5f"
           }
          },
          "ternary": {
           "aaxis": {
            "gridcolor": "white",
            "linecolor": "white",
            "ticks": ""
           },
           "baxis": {
            "gridcolor": "white",
            "linecolor": "white",
            "ticks": ""
           },
           "bgcolor": "#E5ECF6",
           "caxis": {
            "gridcolor": "white",
            "linecolor": "white",
            "ticks": ""
           }
          },
          "title": {
           "x": 0.05
          },
          "xaxis": {
           "automargin": true,
           "gridcolor": "white",
           "linecolor": "white",
           "ticks": "",
           "title": {
            "standoff": 15
           },
           "zerolinecolor": "white",
           "zerolinewidth": 2
          },
          "yaxis": {
           "automargin": true,
           "gridcolor": "white",
           "linecolor": "white",
           "ticks": "",
           "title": {
            "standoff": 15
           },
           "zerolinecolor": "white",
           "zerolinewidth": 2
          }
         }
        },
        "title": {
         "text": "Histogram of measured_height with Goals"
        },
        "width": 800,
        "xaxis": {
         "anchor": "y",
         "domain": [
          0,
          1
         ],
         "title": {
          "text": "measured_height"
         }
        },
        "yaxis": {
         "anchor": "x",
         "domain": [
          0,
          1
         ],
         "title": {
          "text": "Count"
         }
        }
       }
      }
     },
     "metadata": {},
     "output_type": "display_data"
    }
   ],
   "source": [
    "generate_histogram(product_sample, engine, 'height')"
   ]
  },
  {
   "cell_type": "code",
   "execution_count": null,
   "metadata": {},
   "outputs": [],
   "source": []
  }
 ],
 "metadata": {
  "kernelspec": {
   "display_name": "base",
   "language": "python",
   "name": "python3"
  },
  "language_info": {
   "codemirror_mode": {
    "name": "ipython",
    "version": 3
   },
   "file_extension": ".py",
   "mimetype": "text/x-python",
   "name": "python",
   "nbconvert_exporter": "python",
   "pygments_lexer": "ipython3",
   "version": "3.11.7"
  }
 },
 "nbformat": 4,
 "nbformat_minor": 2
}
