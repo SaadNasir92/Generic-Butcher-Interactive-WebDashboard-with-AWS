{
 "cells": [
  {
   "cell_type": "code",
   "execution_count": 42,
   "id": "0178ebb1",
   "metadata": {},
   "outputs": [],
   "source": [
    "import os\n",
    "import pandas as pd\n",
    "# import matplotlib.pyplot as plt\n",
    "import csv\n",
    "import numpy as np\n",
    "import plotly.express as px\n",
    "import plotly.graph_objects as go #this will be to create the subplot tabling\n",
    "\n",
    "#figure out how to read direct from DB instead of CSV\n",
    "#subtables = min, max, average, list of outliers from min/max spec, %in spec, #compliant = yes or no\n",
    "#figure out how to loop through and create height/ weight tables all at once  \n",
    "#figure out how to loop through and create all tables at once\n",
    "#do we want to convert the pull as pulling only a query of the single product instead of a query of the whole table \n",
    "# would the client want part of the drop down be to call logic of whether this is \"out of compliance?\"\n",
    "\n"
   ]
  },
  {
   "cell_type": "code",
   "execution_count": 39,
   "id": "31754830-660f-4d4a-b561-e7872b68863e",
   "metadata": {},
   "outputs": [
    {
     "data": {
      "text/html": [
       "<div>\n",
       "<style scoped>\n",
       "    .dataframe tbody tr th:only-of-type {\n",
       "        vertical-align: middle;\n",
       "    }\n",
       "\n",
       "    .dataframe tbody tr th {\n",
       "        vertical-align: top;\n",
       "    }\n",
       "\n",
       "    .dataframe thead th {\n",
       "        text-align: right;\n",
       "    }\n",
       "</style>\n",
       "<table border=\"1\" class=\"dataframe\">\n",
       "  <thead>\n",
       "    <tr style=\"text-align: right;\">\n",
       "      <th></th>\n",
       "      <th>Product</th>\n",
       "      <th>Count</th>\n",
       "      <th>Min Weight</th>\n",
       "      <th>Max Weight</th>\n",
       "      <th>Average Weight</th>\n",
       "      <th>Pct In Spec</th>\n",
       "      <th>Count Offspec</th>\n",
       "      <th>Compliant</th>\n",
       "    </tr>\n",
       "  </thead>\n",
       "  <tbody>\n",
       "    <tr>\n",
       "      <th>0</th>\n",
       "      <td>10 oz  Sirloin A</td>\n",
       "      <td>695</td>\n",
       "      <td>9.140</td>\n",
       "      <td>11.00</td>\n",
       "      <td>9.764863</td>\n",
       "      <td>99.28%</td>\n",
       "      <td>5</td>\n",
       "      <td>True</td>\n",
       "    </tr>\n",
       "    <tr>\n",
       "      <th>1</th>\n",
       "      <td>11 oz  Sirloin B</td>\n",
       "      <td>817</td>\n",
       "      <td>10.000</td>\n",
       "      <td>11.30</td>\n",
       "      <td>10.683366</td>\n",
       "      <td>98.29%</td>\n",
       "      <td>14</td>\n",
       "      <td>True</td>\n",
       "    </tr>\n",
       "    <tr>\n",
       "      <th>2</th>\n",
       "      <td>11 oz  Sirloin C</td>\n",
       "      <td>2062</td>\n",
       "      <td>9.980</td>\n",
       "      <td>11.86</td>\n",
       "      <td>10.959171</td>\n",
       "      <td>98.01%</td>\n",
       "      <td>41</td>\n",
       "      <td>True</td>\n",
       "    </tr>\n",
       "    <tr>\n",
       "      <th>3</th>\n",
       "      <td>13 oz  Ribeye Tail A</td>\n",
       "      <td>2181</td>\n",
       "      <td>1.203</td>\n",
       "      <td>18.08</td>\n",
       "      <td>13.113046</td>\n",
       "      <td>97.94%</td>\n",
       "      <td>45</td>\n",
       "      <td>True</td>\n",
       "    </tr>\n",
       "    <tr>\n",
       "      <th>4</th>\n",
       "      <td>16 oz  Dry Age Ribeye A</td>\n",
       "      <td>765</td>\n",
       "      <td>14.020</td>\n",
       "      <td>18.34</td>\n",
       "      <td>15.851085</td>\n",
       "      <td>98.30%</td>\n",
       "      <td>13</td>\n",
       "      <td>True</td>\n",
       "    </tr>\n",
       "    <tr>\n",
       "      <th>5</th>\n",
       "      <td>16 oz  Prime Strip A</td>\n",
       "      <td>220</td>\n",
       "      <td>14.180</td>\n",
       "      <td>17.74</td>\n",
       "      <td>15.864455</td>\n",
       "      <td>96.36%</td>\n",
       "      <td>8</td>\n",
       "      <td>True</td>\n",
       "    </tr>\n",
       "    <tr>\n",
       "      <th>6</th>\n",
       "      <td>16 oz  Ribeye Tail A</td>\n",
       "      <td>1432</td>\n",
       "      <td>14.520</td>\n",
       "      <td>17.90</td>\n",
       "      <td>15.996321</td>\n",
       "      <td>97.91%</td>\n",
       "      <td>30</td>\n",
       "      <td>True</td>\n",
       "    </tr>\n",
       "    <tr>\n",
       "      <th>7</th>\n",
       "      <td>16 oz  Strip A</td>\n",
       "      <td>586</td>\n",
       "      <td>14.140</td>\n",
       "      <td>18.10</td>\n",
       "      <td>16.564078</td>\n",
       "      <td>96.25%</td>\n",
       "      <td>22</td>\n",
       "      <td>True</td>\n",
       "    </tr>\n",
       "    <tr>\n",
       "      <th>8</th>\n",
       "      <td>18 oz  Ribeye A</td>\n",
       "      <td>1401</td>\n",
       "      <td>15.520</td>\n",
       "      <td>20.92</td>\n",
       "      <td>18.606023</td>\n",
       "      <td>95.36%</td>\n",
       "      <td>65</td>\n",
       "      <td>True</td>\n",
       "    </tr>\n",
       "    <tr>\n",
       "      <th>9</th>\n",
       "      <td>20 oz  Prime Ribeye A</td>\n",
       "      <td>122</td>\n",
       "      <td>19.080</td>\n",
       "      <td>21.80</td>\n",
       "      <td>20.774918</td>\n",
       "      <td>73.77%</td>\n",
       "      <td>32</td>\n",
       "      <td>False</td>\n",
       "    </tr>\n",
       "    <tr>\n",
       "      <th>10</th>\n",
       "      <td>22 oz  Porterhouse A</td>\n",
       "      <td>734</td>\n",
       "      <td>20.080</td>\n",
       "      <td>25.70</td>\n",
       "      <td>22.693174</td>\n",
       "      <td>98.37%</td>\n",
       "      <td>12</td>\n",
       "      <td>True</td>\n",
       "    </tr>\n",
       "    <tr>\n",
       "      <th>11</th>\n",
       "      <td>3.5 oz Tender Bits A</td>\n",
       "      <td>1290</td>\n",
       "      <td>3.000</td>\n",
       "      <td>5.92</td>\n",
       "      <td>3.571397</td>\n",
       "      <td>97.83%</td>\n",
       "      <td>28</td>\n",
       "      <td>True</td>\n",
       "    </tr>\n",
       "    <tr>\n",
       "      <th>12</th>\n",
       "      <td>4 oz T Tenderloin Tail A</td>\n",
       "      <td>909</td>\n",
       "      <td>3.210</td>\n",
       "      <td>6.24</td>\n",
       "      <td>3.885622</td>\n",
       "      <td>97.58%</td>\n",
       "      <td>22</td>\n",
       "      <td>True</td>\n",
       "    </tr>\n",
       "    <tr>\n",
       "      <th>13</th>\n",
       "      <td>5 oz S Sirloin A</td>\n",
       "      <td>826</td>\n",
       "      <td>4.220</td>\n",
       "      <td>5.60</td>\n",
       "      <td>4.972337</td>\n",
       "      <td>97.94%</td>\n",
       "      <td>17</td>\n",
       "      <td>True</td>\n",
       "    </tr>\n",
       "    <tr>\n",
       "      <th>14</th>\n",
       "      <td>5 oz S Sirloin B</td>\n",
       "      <td>2137</td>\n",
       "      <td>4.040</td>\n",
       "      <td>7.48</td>\n",
       "      <td>5.086640</td>\n",
       "      <td>97.94%</td>\n",
       "      <td>44</td>\n",
       "      <td>True</td>\n",
       "    </tr>\n",
       "    <tr>\n",
       "      <th>15</th>\n",
       "      <td>6 oz S Sirloin A</td>\n",
       "      <td>1297</td>\n",
       "      <td>5.120</td>\n",
       "      <td>8.70</td>\n",
       "      <td>5.821935</td>\n",
       "      <td>98.69%</td>\n",
       "      <td>17</td>\n",
       "      <td>True</td>\n",
       "    </tr>\n",
       "    <tr>\n",
       "      <th>16</th>\n",
       "      <td>6 oz S Sirloin B</td>\n",
       "      <td>2137</td>\n",
       "      <td>5.380</td>\n",
       "      <td>8.42</td>\n",
       "      <td>5.996963</td>\n",
       "      <td>98.92%</td>\n",
       "      <td>23</td>\n",
       "      <td>True</td>\n",
       "    </tr>\n",
       "    <tr>\n",
       "      <th>17</th>\n",
       "      <td>6 oz T Tenderloin A</td>\n",
       "      <td>2056</td>\n",
       "      <td>4.600</td>\n",
       "      <td>6.92</td>\n",
       "      <td>6.066761</td>\n",
       "      <td>99.12%</td>\n",
       "      <td>18</td>\n",
       "      <td>True</td>\n",
       "    </tr>\n",
       "    <tr>\n",
       "      <th>18</th>\n",
       "      <td>7 oz S Sirloin A</td>\n",
       "      <td>1375</td>\n",
       "      <td>5.560</td>\n",
       "      <td>7.46</td>\n",
       "      <td>6.733287</td>\n",
       "      <td>99.27%</td>\n",
       "      <td>10</td>\n",
       "      <td>True</td>\n",
       "    </tr>\n",
       "    <tr>\n",
       "      <th>19</th>\n",
       "      <td>7 oz S Sirloin B</td>\n",
       "      <td>1263</td>\n",
       "      <td>6.140</td>\n",
       "      <td>7.90</td>\n",
       "      <td>6.837197</td>\n",
       "      <td>99.68%</td>\n",
       "      <td>4</td>\n",
       "      <td>True</td>\n",
       "    </tr>\n",
       "    <tr>\n",
       "      <th>20</th>\n",
       "      <td>7 oz T Tenderloin A</td>\n",
       "      <td>1030</td>\n",
       "      <td>6.440</td>\n",
       "      <td>7.98</td>\n",
       "      <td>6.943173</td>\n",
       "      <td>99.81%</td>\n",
       "      <td>2</td>\n",
       "      <td>True</td>\n",
       "    </tr>\n",
       "    <tr>\n",
       "      <th>21</th>\n",
       "      <td>8 oz P Pork Chop A</td>\n",
       "      <td>1044</td>\n",
       "      <td>7.420</td>\n",
       "      <td>10.06</td>\n",
       "      <td>8.906820</td>\n",
       "      <td>92.72%</td>\n",
       "      <td>76</td>\n",
       "      <td>False</td>\n",
       "    </tr>\n",
       "    <tr>\n",
       "      <th>22</th>\n",
       "      <td>8 oz S Sirloin A</td>\n",
       "      <td>1260</td>\n",
       "      <td>7.120</td>\n",
       "      <td>11.08</td>\n",
       "      <td>7.758103</td>\n",
       "      <td>98.33%</td>\n",
       "      <td>21</td>\n",
       "      <td>True</td>\n",
       "    </tr>\n",
       "    <tr>\n",
       "      <th>23</th>\n",
       "      <td>8 oz S Sirloin B</td>\n",
       "      <td>2088</td>\n",
       "      <td>7.380</td>\n",
       "      <td>8.66</td>\n",
       "      <td>8.035182</td>\n",
       "      <td>99.33%</td>\n",
       "      <td>14</td>\n",
       "      <td>True</td>\n",
       "    </tr>\n",
       "    <tr>\n",
       "      <th>24</th>\n",
       "      <td>8 oz T Tenderloin A</td>\n",
       "      <td>1908</td>\n",
       "      <td>7.160</td>\n",
       "      <td>11.10</td>\n",
       "      <td>8.035451</td>\n",
       "      <td>98.69%</td>\n",
       "      <td>25</td>\n",
       "      <td>True</td>\n",
       "    </tr>\n",
       "    <tr>\n",
       "      <th>25</th>\n",
       "      <td>9 oz S Sirloin A</td>\n",
       "      <td>1768</td>\n",
       "      <td>8.200</td>\n",
       "      <td>9.66</td>\n",
       "      <td>8.859717</td>\n",
       "      <td>96.66%</td>\n",
       "      <td>59</td>\n",
       "      <td>True</td>\n",
       "    </tr>\n",
       "    <tr>\n",
       "      <th>26</th>\n",
       "      <td>9 oz T Tenderloin A</td>\n",
       "      <td>925</td>\n",
       "      <td>8.200</td>\n",
       "      <td>9.70</td>\n",
       "      <td>9.003395</td>\n",
       "      <td>98.81%</td>\n",
       "      <td>11</td>\n",
       "      <td>True</td>\n",
       "    </tr>\n",
       "  </tbody>\n",
       "</table>\n",
       "</div>"
      ],
      "text/plain": [
       "                     Product  Count  Min Weight  Max Weight  Average Weight  \\\n",
       "0           10 oz  Sirloin A    695       9.140       11.00        9.764863   \n",
       "1           11 oz  Sirloin B    817      10.000       11.30       10.683366   \n",
       "2           11 oz  Sirloin C   2062       9.980       11.86       10.959171   \n",
       "3       13 oz  Ribeye Tail A   2181       1.203       18.08       13.113046   \n",
       "4    16 oz  Dry Age Ribeye A    765      14.020       18.34       15.851085   \n",
       "5       16 oz  Prime Strip A    220      14.180       17.74       15.864455   \n",
       "6       16 oz  Ribeye Tail A   1432      14.520       17.90       15.996321   \n",
       "7             16 oz  Strip A    586      14.140       18.10       16.564078   \n",
       "8            18 oz  Ribeye A   1401      15.520       20.92       18.606023   \n",
       "9      20 oz  Prime Ribeye A    122      19.080       21.80       20.774918   \n",
       "10      22 oz  Porterhouse A    734      20.080       25.70       22.693174   \n",
       "11      3.5 oz Tender Bits A   1290       3.000        5.92        3.571397   \n",
       "12  4 oz T Tenderloin Tail A    909       3.210        6.24        3.885622   \n",
       "13          5 oz S Sirloin A    826       4.220        5.60        4.972337   \n",
       "14          5 oz S Sirloin B   2137       4.040        7.48        5.086640   \n",
       "15          6 oz S Sirloin A   1297       5.120        8.70        5.821935   \n",
       "16          6 oz S Sirloin B   2137       5.380        8.42        5.996963   \n",
       "17       6 oz T Tenderloin A   2056       4.600        6.92        6.066761   \n",
       "18          7 oz S Sirloin A   1375       5.560        7.46        6.733287   \n",
       "19          7 oz S Sirloin B   1263       6.140        7.90        6.837197   \n",
       "20       7 oz T Tenderloin A   1030       6.440        7.98        6.943173   \n",
       "21        8 oz P Pork Chop A   1044       7.420       10.06        8.906820   \n",
       "22          8 oz S Sirloin A   1260       7.120       11.08        7.758103   \n",
       "23          8 oz S Sirloin B   2088       7.380        8.66        8.035182   \n",
       "24       8 oz T Tenderloin A   1908       7.160       11.10        8.035451   \n",
       "25          9 oz S Sirloin A   1768       8.200        9.66        8.859717   \n",
       "26       9 oz T Tenderloin A    925       8.200        9.70        9.003395   \n",
       "\n",
       "   Pct In Spec  Count Offspec  Compliant  \n",
       "0       99.28%              5       True  \n",
       "1       98.29%             14       True  \n",
       "2       98.01%             41       True  \n",
       "3       97.94%             45       True  \n",
       "4       98.30%             13       True  \n",
       "5       96.36%              8       True  \n",
       "6       97.91%             30       True  \n",
       "7       96.25%             22       True  \n",
       "8       95.36%             65       True  \n",
       "9       73.77%             32      False  \n",
       "10      98.37%             12       True  \n",
       "11      97.83%             28       True  \n",
       "12      97.58%             22       True  \n",
       "13      97.94%             17       True  \n",
       "14      97.94%             44       True  \n",
       "15      98.69%             17       True  \n",
       "16      98.92%             23       True  \n",
       "17      99.12%             18       True  \n",
       "18      99.27%             10       True  \n",
       "19      99.68%              4       True  \n",
       "20      99.81%              2       True  \n",
       "21      92.72%             76      False  \n",
       "22      98.33%             21       True  \n",
       "23      99.33%             14       True  \n",
       "24      98.69%             25       True  \n",
       "25      96.66%             59       True  \n",
       "26      98.81%             11       True  "
      ]
     },
     "execution_count": 39,
     "metadata": {},
     "output_type": "execute_result"
    }
   ],
   "source": [
    "#WEIGHT-- Relevant Dashboard information \n",
    "\n",
    "# Specify the file paths\n",
    "file_path1 = '../data/cleaned/generic_butcher_cleaned.csv'\n",
    "file_path2 = '../data/cleaned/generic_butcher_spec_cleaned.csv'\n",
    "\n",
    "# Read the CSV files into DataFrames\n",
    "df = pd.read_csv(file_path1)\n",
    "df2 = pd.read_csv(file_path2)\n",
    "\n",
    "# Adjust decimal point that were obvious errors\n",
    "df['measured_weight'] = df['measured_weight'].apply(lambda x: x * 0.01 if x > 50 else x)\n",
    "\n",
    "# Merge the two dataframes on product_name to get the specs in the main dataframe\n",
    "df = df.merge(df2[['product_name', 'weight_min', 'weight_max']], on='product_name', how='left')\n",
    "\n",
    "# Group by product_name and calculate relevant metrics\n",
    "grouped = df.groupby('product_name').agg(\n",
    "    Count=('measured_weight', 'size'),\n",
    "    Min_Weight=('measured_weight', 'min'),\n",
    "    Max_Weight=('measured_weight', 'max'),\n",
    "    Average_Weight=('measured_weight', 'mean')\n",
    ").reset_index()\n",
    "\n",
    "# Calculate additional metrics\n",
    "grouped['Pct_In_Spec'] = df.groupby('product_name').apply(\n",
    "    lambda x: (x['measured_weight'].between(x['weight_min'], x['weight_max'])).mean() * 100\n",
    ").values\n",
    "\n",
    "grouped['Count_Offspec'] = df.groupby('product_name').apply(\n",
    "    lambda x: (~x['measured_weight'].between(x['weight_min'], x['weight_max'])).sum()\n",
    ").values\n",
    "\n",
    "grouped['Compliant'] = grouped['Pct_In_Spec'] > 95\n",
    "\n",
    "# Format the Pct_In_Spec column\n",
    "grouped['Pct_In_Spec'] = grouped['Pct_In_Spec'].apply(lambda x: f\"{x:.2f}%\")\n",
    "\n",
    "# Rename columns for consistency\n",
    "grouped.rename(columns={\n",
    "    'product_name': 'Product',\n",
    "    'Min_Weight': 'Min Weight',\n",
    "    'Max_Weight': 'Max Weight',\n",
    "    'Average_Weight': 'Average Weight',\n",
    "    'Pct_In_Spec': 'Pct In Spec',\n",
    "    'Count_Offspec': 'Count Offspec'\n",
    "}, inplace=True)\n",
    "\n",
    "grouped\n"
   ]
  },
  {
   "cell_type": "code",
   "execution_count": 46,
   "id": "aa6c77e2-e8f6-40e8-a608-399d927bd260",
   "metadata": {},
   "outputs": [
    {
     "data": {
      "text/html": [
       "<div>\n",
       "<style scoped>\n",
       "    .dataframe tbody tr th:only-of-type {\n",
       "        vertical-align: middle;\n",
       "    }\n",
       "\n",
       "    .dataframe tbody tr th {\n",
       "        vertical-align: top;\n",
       "    }\n",
       "\n",
       "    .dataframe thead th {\n",
       "        text-align: right;\n",
       "    }\n",
       "</style>\n",
       "<table border=\"1\" class=\"dataframe\">\n",
       "  <thead>\n",
       "    <tr style=\"text-align: right;\">\n",
       "      <th></th>\n",
       "      <th>Product</th>\n",
       "      <th>Count_Height</th>\n",
       "      <th>Min Height</th>\n",
       "      <th>Max Height</th>\n",
       "      <th>Average Height</th>\n",
       "      <th>Pct In Spec Height</th>\n",
       "      <th>Count Offspec Height</th>\n",
       "      <th>Compliant Height</th>\n",
       "    </tr>\n",
       "  </thead>\n",
       "  <tbody>\n",
       "    <tr>\n",
       "      <th>0</th>\n",
       "      <td>10 oz  Sirloin A</td>\n",
       "      <td>695</td>\n",
       "      <td>1.056760</td>\n",
       "      <td>1.83688</td>\n",
       "      <td>1.378185</td>\n",
       "      <td>99.28%</td>\n",
       "      <td>5</td>\n",
       "      <td>True</td>\n",
       "    </tr>\n",
       "    <tr>\n",
       "      <th>1</th>\n",
       "      <td>11 oz  Sirloin B</td>\n",
       "      <td>817</td>\n",
       "      <td>1.114460</td>\n",
       "      <td>1.88710</td>\n",
       "      <td>1.373452</td>\n",
       "      <td>99.51%</td>\n",
       "      <td>4</td>\n",
       "      <td>True</td>\n",
       "    </tr>\n",
       "    <tr>\n",
       "      <th>2</th>\n",
       "      <td>11 oz  Sirloin C</td>\n",
       "      <td>2062</td>\n",
       "      <td>1.050920</td>\n",
       "      <td>2.40982</td>\n",
       "      <td>1.422922</td>\n",
       "      <td>96.56%</td>\n",
       "      <td>71</td>\n",
       "      <td>True</td>\n",
       "    </tr>\n",
       "    <tr>\n",
       "      <th>3</th>\n",
       "      <td>13 oz  Ribeye Tail A</td>\n",
       "      <td>2181</td>\n",
       "      <td>0.701302</td>\n",
       "      <td>1.68081</td>\n",
       "      <td>1.016365</td>\n",
       "      <td>100.00%</td>\n",
       "      <td>0</td>\n",
       "      <td>True</td>\n",
       "    </tr>\n",
       "    <tr>\n",
       "      <th>4</th>\n",
       "      <td>16 oz  Dry Age Ribeye A</td>\n",
       "      <td>765</td>\n",
       "      <td>0.993740</td>\n",
       "      <td>1.97211</td>\n",
       "      <td>1.293364</td>\n",
       "      <td>100.00%</td>\n",
       "      <td>0</td>\n",
       "      <td>True</td>\n",
       "    </tr>\n",
       "    <tr>\n",
       "      <th>5</th>\n",
       "      <td>16 oz  Prime Strip A</td>\n",
       "      <td>220</td>\n",
       "      <td>1.048440</td>\n",
       "      <td>2.17817</td>\n",
       "      <td>1.479292</td>\n",
       "      <td>100.00%</td>\n",
       "      <td>0</td>\n",
       "      <td>True</td>\n",
       "    </tr>\n",
       "    <tr>\n",
       "      <th>6</th>\n",
       "      <td>16 oz  Ribeye Tail A</td>\n",
       "      <td>1432</td>\n",
       "      <td>0.893239</td>\n",
       "      <td>1.78191</td>\n",
       "      <td>1.186122</td>\n",
       "      <td>100.00%</td>\n",
       "      <td>0</td>\n",
       "      <td>True</td>\n",
       "    </tr>\n",
       "    <tr>\n",
       "      <th>7</th>\n",
       "      <td>16 oz  Strip A</td>\n",
       "      <td>586</td>\n",
       "      <td>0.826419</td>\n",
       "      <td>1.47993</td>\n",
       "      <td>1.097839</td>\n",
       "      <td>100.00%</td>\n",
       "      <td>0</td>\n",
       "      <td>True</td>\n",
       "    </tr>\n",
       "    <tr>\n",
       "      <th>8</th>\n",
       "      <td>18 oz  Ribeye A</td>\n",
       "      <td>1401</td>\n",
       "      <td>0.747236</td>\n",
       "      <td>3.93643</td>\n",
       "      <td>1.071697</td>\n",
       "      <td>99.71%</td>\n",
       "      <td>4</td>\n",
       "      <td>True</td>\n",
       "    </tr>\n",
       "    <tr>\n",
       "      <th>9</th>\n",
       "      <td>20 oz  Prime Ribeye A</td>\n",
       "      <td>122</td>\n",
       "      <td>0.967064</td>\n",
       "      <td>1.95839</td>\n",
       "      <td>1.302482</td>\n",
       "      <td>100.00%</td>\n",
       "      <td>0</td>\n",
       "      <td>True</td>\n",
       "    </tr>\n",
       "    <tr>\n",
       "      <th>10</th>\n",
       "      <td>22 oz  Porterhouse A</td>\n",
       "      <td>734</td>\n",
       "      <td>0.716093</td>\n",
       "      <td>1.53459</td>\n",
       "      <td>1.034557</td>\n",
       "      <td>100.00%</td>\n",
       "      <td>0</td>\n",
       "      <td>True</td>\n",
       "    </tr>\n",
       "    <tr>\n",
       "      <th>11</th>\n",
       "      <td>3.5 oz Tender Bits A</td>\n",
       "      <td>1290</td>\n",
       "      <td>0.630940</td>\n",
       "      <td>2.48781</td>\n",
       "      <td>1.332970</td>\n",
       "      <td>100.00%</td>\n",
       "      <td>0</td>\n",
       "      <td>True</td>\n",
       "    </tr>\n",
       "    <tr>\n",
       "      <th>12</th>\n",
       "      <td>4 oz T Tenderloin Tail A</td>\n",
       "      <td>909</td>\n",
       "      <td>0.697441</td>\n",
       "      <td>1.65256</td>\n",
       "      <td>1.032980</td>\n",
       "      <td>100.00%</td>\n",
       "      <td>0</td>\n",
       "      <td>True</td>\n",
       "    </tr>\n",
       "    <tr>\n",
       "      <th>13</th>\n",
       "      <td>5 oz S Sirloin A</td>\n",
       "      <td>826</td>\n",
       "      <td>0.944742</td>\n",
       "      <td>2.01948</td>\n",
       "      <td>1.346565</td>\n",
       "      <td>95.88%</td>\n",
       "      <td>34</td>\n",
       "      <td>True</td>\n",
       "    </tr>\n",
       "    <tr>\n",
       "      <th>14</th>\n",
       "      <td>5 oz S Sirloin B</td>\n",
       "      <td>2137</td>\n",
       "      <td>0.952895</td>\n",
       "      <td>2.12393</td>\n",
       "      <td>1.303232</td>\n",
       "      <td>94.34%</td>\n",
       "      <td>121</td>\n",
       "      <td>False</td>\n",
       "    </tr>\n",
       "    <tr>\n",
       "      <th>15</th>\n",
       "      <td>6 oz S Sirloin A</td>\n",
       "      <td>1297</td>\n",
       "      <td>0.980229</td>\n",
       "      <td>1.98640</td>\n",
       "      <td>1.368302</td>\n",
       "      <td>97.92%</td>\n",
       "      <td>27</td>\n",
       "      <td>True</td>\n",
       "    </tr>\n",
       "    <tr>\n",
       "      <th>16</th>\n",
       "      <td>6 oz S Sirloin B</td>\n",
       "      <td>2137</td>\n",
       "      <td>0.976007</td>\n",
       "      <td>2.35997</td>\n",
       "      <td>1.348500</td>\n",
       "      <td>97.24%</td>\n",
       "      <td>59</td>\n",
       "      <td>True</td>\n",
       "    </tr>\n",
       "    <tr>\n",
       "      <th>17</th>\n",
       "      <td>6 oz T Tenderloin A</td>\n",
       "      <td>2056</td>\n",
       "      <td>0.803807</td>\n",
       "      <td>2.93890</td>\n",
       "      <td>1.579162</td>\n",
       "      <td>99.03%</td>\n",
       "      <td>20</td>\n",
       "      <td>True</td>\n",
       "    </tr>\n",
       "    <tr>\n",
       "      <th>18</th>\n",
       "      <td>7 oz S Sirloin A</td>\n",
       "      <td>1375</td>\n",
       "      <td>0.956135</td>\n",
       "      <td>1.80927</td>\n",
       "      <td>1.347540</td>\n",
       "      <td>98.25%</td>\n",
       "      <td>24</td>\n",
       "      <td>True</td>\n",
       "    </tr>\n",
       "    <tr>\n",
       "      <th>19</th>\n",
       "      <td>7 oz S Sirloin B</td>\n",
       "      <td>1263</td>\n",
       "      <td>0.962221</td>\n",
       "      <td>1.86313</td>\n",
       "      <td>1.330329</td>\n",
       "      <td>96.99%</td>\n",
       "      <td>38</td>\n",
       "      <td>True</td>\n",
       "    </tr>\n",
       "    <tr>\n",
       "      <th>20</th>\n",
       "      <td>7 oz T Tenderloin A</td>\n",
       "      <td>1030</td>\n",
       "      <td>0.938533</td>\n",
       "      <td>3.00167</td>\n",
       "      <td>1.736495</td>\n",
       "      <td>99.81%</td>\n",
       "      <td>2</td>\n",
       "      <td>True</td>\n",
       "    </tr>\n",
       "    <tr>\n",
       "      <th>21</th>\n",
       "      <td>8 oz P Pork Chop A</td>\n",
       "      <td>1044</td>\n",
       "      <td>0.716492</td>\n",
       "      <td>1.38714</td>\n",
       "      <td>0.942447</td>\n",
       "      <td>99.71%</td>\n",
       "      <td>3</td>\n",
       "      <td>True</td>\n",
       "    </tr>\n",
       "    <tr>\n",
       "      <th>22</th>\n",
       "      <td>8 oz S Sirloin A</td>\n",
       "      <td>1260</td>\n",
       "      <td>1.028720</td>\n",
       "      <td>1.96346</td>\n",
       "      <td>1.383279</td>\n",
       "      <td>97.94%</td>\n",
       "      <td>26</td>\n",
       "      <td>True</td>\n",
       "    </tr>\n",
       "    <tr>\n",
       "      <th>23</th>\n",
       "      <td>8 oz S Sirloin B</td>\n",
       "      <td>2088</td>\n",
       "      <td>1.027280</td>\n",
       "      <td>2.15740</td>\n",
       "      <td>1.374410</td>\n",
       "      <td>98.23%</td>\n",
       "      <td>37</td>\n",
       "      <td>True</td>\n",
       "    </tr>\n",
       "    <tr>\n",
       "      <th>24</th>\n",
       "      <td>8 oz T Tenderloin A</td>\n",
       "      <td>1908</td>\n",
       "      <td>0.987960</td>\n",
       "      <td>3.38117</td>\n",
       "      <td>1.900024</td>\n",
       "      <td>100.00%</td>\n",
       "      <td>0</td>\n",
       "      <td>True</td>\n",
       "    </tr>\n",
       "    <tr>\n",
       "      <th>25</th>\n",
       "      <td>9 oz S Sirloin A</td>\n",
       "      <td>1768</td>\n",
       "      <td>0.949115</td>\n",
       "      <td>2.02464</td>\n",
       "      <td>1.371919</td>\n",
       "      <td>97.91%</td>\n",
       "      <td>37</td>\n",
       "      <td>True</td>\n",
       "    </tr>\n",
       "    <tr>\n",
       "      <th>26</th>\n",
       "      <td>9 oz T Tenderloin A</td>\n",
       "      <td>925</td>\n",
       "      <td>1.196880</td>\n",
       "      <td>2.99910</td>\n",
       "      <td>1.878510</td>\n",
       "      <td>100.00%</td>\n",
       "      <td>0</td>\n",
       "      <td>True</td>\n",
       "    </tr>\n",
       "  </tbody>\n",
       "</table>\n",
       "</div>"
      ],
      "text/plain": [
       "                     Product  Count_Height  Min Height  Max Height  \\\n",
       "0           10 oz  Sirloin A           695    1.056760     1.83688   \n",
       "1           11 oz  Sirloin B           817    1.114460     1.88710   \n",
       "2           11 oz  Sirloin C          2062    1.050920     2.40982   \n",
       "3       13 oz  Ribeye Tail A          2181    0.701302     1.68081   \n",
       "4    16 oz  Dry Age Ribeye A           765    0.993740     1.97211   \n",
       "5       16 oz  Prime Strip A           220    1.048440     2.17817   \n",
       "6       16 oz  Ribeye Tail A          1432    0.893239     1.78191   \n",
       "7             16 oz  Strip A           586    0.826419     1.47993   \n",
       "8            18 oz  Ribeye A          1401    0.747236     3.93643   \n",
       "9      20 oz  Prime Ribeye A           122    0.967064     1.95839   \n",
       "10      22 oz  Porterhouse A           734    0.716093     1.53459   \n",
       "11      3.5 oz Tender Bits A          1290    0.630940     2.48781   \n",
       "12  4 oz T Tenderloin Tail A           909    0.697441     1.65256   \n",
       "13          5 oz S Sirloin A           826    0.944742     2.01948   \n",
       "14          5 oz S Sirloin B          2137    0.952895     2.12393   \n",
       "15          6 oz S Sirloin A          1297    0.980229     1.98640   \n",
       "16          6 oz S Sirloin B          2137    0.976007     2.35997   \n",
       "17       6 oz T Tenderloin A          2056    0.803807     2.93890   \n",
       "18          7 oz S Sirloin A          1375    0.956135     1.80927   \n",
       "19          7 oz S Sirloin B          1263    0.962221     1.86313   \n",
       "20       7 oz T Tenderloin A          1030    0.938533     3.00167   \n",
       "21        8 oz P Pork Chop A          1044    0.716492     1.38714   \n",
       "22          8 oz S Sirloin A          1260    1.028720     1.96346   \n",
       "23          8 oz S Sirloin B          2088    1.027280     2.15740   \n",
       "24       8 oz T Tenderloin A          1908    0.987960     3.38117   \n",
       "25          9 oz S Sirloin A          1768    0.949115     2.02464   \n",
       "26       9 oz T Tenderloin A           925    1.196880     2.99910   \n",
       "\n",
       "    Average Height Pct In Spec Height  Count Offspec Height  Compliant Height  \n",
       "0         1.378185             99.28%                     5              True  \n",
       "1         1.373452             99.51%                     4              True  \n",
       "2         1.422922             96.56%                    71              True  \n",
       "3         1.016365            100.00%                     0              True  \n",
       "4         1.293364            100.00%                     0              True  \n",
       "5         1.479292            100.00%                     0              True  \n",
       "6         1.186122            100.00%                     0              True  \n",
       "7         1.097839            100.00%                     0              True  \n",
       "8         1.071697             99.71%                     4              True  \n",
       "9         1.302482            100.00%                     0              True  \n",
       "10        1.034557            100.00%                     0              True  \n",
       "11        1.332970            100.00%                     0              True  \n",
       "12        1.032980            100.00%                     0              True  \n",
       "13        1.346565             95.88%                    34              True  \n",
       "14        1.303232             94.34%                   121             False  \n",
       "15        1.368302             97.92%                    27              True  \n",
       "16        1.348500             97.24%                    59              True  \n",
       "17        1.579162             99.03%                    20              True  \n",
       "18        1.347540             98.25%                    24              True  \n",
       "19        1.330329             96.99%                    38              True  \n",
       "20        1.736495             99.81%                     2              True  \n",
       "21        0.942447             99.71%                     3              True  \n",
       "22        1.383279             97.94%                    26              True  \n",
       "23        1.374410             98.23%                    37              True  \n",
       "24        1.900024            100.00%                     0              True  \n",
       "25        1.371919             97.91%                    37              True  \n",
       "26        1.878510            100.00%                     0              True  "
      ]
     },
     "execution_count": 46,
     "metadata": {},
     "output_type": "execute_result"
    }
   ],
   "source": [
    "# Specify the file paths\n",
    "file_path1 = '../data/cleaned/generic_butcher_cleaned.csv'\n",
    "file_path2 = '../data/cleaned/generic_butcher_spec_cleaned.csv'\n",
    "\n",
    "# Read the CSV files into DataFrames\n",
    "df = pd.read_csv(file_path1)\n",
    "df2 = pd.read_csv(file_path2)\n",
    "\n",
    "# Merge the two dataframes on product_name to get the specs in the main dataframe\n",
    "df = df.merge(df2[['product_name', 'height_min', 'height_max']], on='product_name', how='left')\n",
    "\n",
    "# Adjust decimal point that were obvious errors for measured_height if necessary\n",
    "# Uncomment the line below if there's a similar issue with height as with weight\n",
    "# df['measured_height'] = df['measured_height'].apply(lambda x: x * 0.01 if x > 50 else x)\n",
    "\n",
    "# Group by product_name and calculate relevant metrics for height\n",
    "grouped_height = df.groupby('product_name').agg(\n",
    "    Count_Height=('measured_height', 'size'),\n",
    "    Min_Height=('measured_height', 'min'),\n",
    "    Max_Height=('measured_height', 'max'),\n",
    "    Average_Height=('measured_height', 'mean')\n",
    ").reset_index()\n",
    "\n",
    "# Calculate additional height metrics\n",
    "grouped_height['Pct_In_Spec_Height'] = df.groupby('product_name').apply(\n",
    "    lambda x: (x['measured_height'].between(x['height_min'], x['height_max'])).mean() * 100\n",
    ").values\n",
    "\n",
    "grouped_height['Count_Offspec_Height'] = df.groupby('product_name').apply(\n",
    "    lambda x: (~x['measured_height'].between(x['height_min'], x['height_max'])).sum()\n",
    ").values\n",
    "\n",
    "grouped_height['Compliant_Height'] = grouped_height['Pct_In_Spec_Height'] > 95\n",
    "\n",
    "# Format the Pct_In_Spec_Height column\n",
    "grouped_height['Pct_In_Spec_Height'] = grouped_height['Pct_In_Spec_Height'].apply(lambda x: f\"{x:.2f}%\")\n",
    "\n",
    "# Rename columns for consistency\n",
    "grouped_height.rename(columns={\n",
    "    'product_name': 'Product',\n",
    "    'Min_Height': 'Min Height',\n",
    "    'Max_Height': 'Max Height',\n",
    "    'Average_Height': 'Average Height',\n",
    "    'Pct_In_Spec_Height': 'Pct In Spec Height',\n",
    "    'Count_Offspec_Height': 'Count Offspec Height',\n",
    "    'Compliant_Height': 'Compliant Height'\n",
    "}, inplace=True)\n",
    "\n",
    "# Display the final height table\n",
    "grouped_height"
   ]
  },
  {
   "cell_type": "code",
   "execution_count": null,
   "id": "bef00fc4-f390-468d-9859-4fcb0f576e07",
   "metadata": {},
   "outputs": [],
   "source": []
  },
  {
   "cell_type": "code",
   "execution_count": 45,
   "id": "d9522ae6-1c84-44d4-b494-6dc15a28b74f",
   "metadata": {},
   "outputs": [
    {
     "data": {
      "text/html": [
       "<div>\n",
       "<style scoped>\n",
       "    .dataframe tbody tr th:only-of-type {\n",
       "        vertical-align: middle;\n",
       "    }\n",
       "\n",
       "    .dataframe tbody tr th {\n",
       "        vertical-align: top;\n",
       "    }\n",
       "\n",
       "    .dataframe thead th {\n",
       "        text-align: right;\n",
       "    }\n",
       "</style>\n",
       "<table border=\"1\" class=\"dataframe\">\n",
       "  <thead>\n",
       "    <tr style=\"text-align: right;\">\n",
       "      <th></th>\n",
       "      <th>0</th>\n",
       "    </tr>\n",
       "  </thead>\n",
       "  <tbody>\n",
       "    <tr>\n",
       "      <th>Product</th>\n",
       "      <td>8 oz T Tenderloin A</td>\n",
       "    </tr>\n",
       "    <tr>\n",
       "      <th>Count</th>\n",
       "      <td>1908</td>\n",
       "    </tr>\n",
       "    <tr>\n",
       "      <th>Min Weight</th>\n",
       "      <td>7.16</td>\n",
       "    </tr>\n",
       "    <tr>\n",
       "      <th>Max Weight</th>\n",
       "      <td>11.1</td>\n",
       "    </tr>\n",
       "    <tr>\n",
       "      <th>Average Weight</th>\n",
       "      <td>8.035451</td>\n",
       "    </tr>\n",
       "    <tr>\n",
       "      <th>Pct In Spec</th>\n",
       "      <td>98.69%</td>\n",
       "    </tr>\n",
       "    <tr>\n",
       "      <th>Count Offspec</th>\n",
       "      <td>25</td>\n",
       "    </tr>\n",
       "    <tr>\n",
       "      <th>Compliant</th>\n",
       "      <td>True</td>\n",
       "    </tr>\n",
       "  </tbody>\n",
       "</table>\n",
       "</div>"
      ],
      "text/plain": [
       "                                  0\n",
       "Product         8 oz T Tenderloin A\n",
       "Count                          1908\n",
       "Min Weight                     7.16\n",
       "Max Weight                     11.1\n",
       "Average Weight             8.035451\n",
       "Pct In Spec                  98.69%\n",
       "Count Offspec                    25\n",
       "Compliant                      True"
      ]
     },
     "execution_count": 45,
     "metadata": {},
     "output_type": "execute_result"
    }
   ],
   "source": [
    "#WEIGHT-- SUBPLOT TABLE\n",
    "#TEST product: \"8 oz T Tenderloin A\"\n",
    "#SPECIFY product_name = \"8 oz T Tenderloin A\"\n",
    "product_name = \"8 oz T Tenderloin A\"\n",
    "\n",
    "# Specify the file path\n",
    "file_path = '../data/cleaned/generic_butcher_cleaned.csv'\n",
    "\n",
    "# Read the CSV file into a DataFrame\n",
    "df = pd.read_csv(file_path)\n",
    "\n",
    "file_path2 = '../data/cleaned/generic_butcher_spec_cleaned.csv'\n",
    "\n",
    "# Read the CSV file into a DataFrame\n",
    "df2 = pd.read_csv(file_path2)\n",
    "\n",
    "# Copy data to preserve original dataset\n",
    "product_data = df.loc[df[\"product_name\"] == product_name]\n",
    "product = product_data.copy()\n",
    "\n",
    "# Adjust decimal point that were obvious errors\n",
    "product['measured_weight'] = product['measured_weight'].apply(lambda x: x * 0.01 if x > 50 else x)\n",
    "\n",
    "#Find relevant subplot data\n",
    "weight_min_spec = df2.loc[df2['product_name'] == product_name, 'weight_min'].iloc[0]\n",
    "weight_max_spec = df2.loc[df2['product_name'] == product_name, 'weight_max'].iloc[0]\n",
    "weight_avg = np.mean(product['measured_weight'])\n",
    "count_wt = len(product['measured_weight'])\n",
    "min_wt = np.min(product['measured_weight'])\n",
    "max_wt = np.max(product['measured_weight'])\n",
    "in_spec_wt = product['measured_weight'].apply(lambda x: weight_min_spec <= x <= weight_max_spec)\n",
    "percent_in_spec_wt = (np.sum(in_spec_wt)/np.sum(count_wt))*100\n",
    "out_spec_val_wt = product.loc[~in_spec_wt, 'measured_weight'].values\n",
    "count_oos_wt = len(out_spec_val_wt)\n",
    "compliance = percent_in_spec_wt > 95.00\n",
    "\n",
    "\n",
    "# Create dataframe for subplot weight information\n",
    "subplot_weight = pd.DataFrame({\n",
    "    'Product': [product_name],\n",
    "    'Count': [count_wt],\n",
    "    'Min Weight': [min_wt],\n",
    "    'Max Weight': [max_wt],\n",
    "    'Average Weight': [weight_avg],\n",
    "    'Pct In Spec': f\"{percent_in_spec_wt:.2f}%\",\n",
    "    'Count Offspec': [count_oos_wt],\n",
    "    'Compliant': [compliance]\n",
    "})\n",
    "\n",
    "subplot_weight.T\n"
   ]
  },
  {
   "cell_type": "code",
   "execution_count": 47,
   "id": "c7e7034a-d7e6-4dfb-95df-83510c35e978",
   "metadata": {},
   "outputs": [
    {
     "data": {
      "text/html": [
       "<div>\n",
       "<style scoped>\n",
       "    .dataframe tbody tr th:only-of-type {\n",
       "        vertical-align: middle;\n",
       "    }\n",
       "\n",
       "    .dataframe tbody tr th {\n",
       "        vertical-align: top;\n",
       "    }\n",
       "\n",
       "    .dataframe thead th {\n",
       "        text-align: right;\n",
       "    }\n",
       "</style>\n",
       "<table border=\"1\" class=\"dataframe\">\n",
       "  <thead>\n",
       "    <tr style=\"text-align: right;\">\n",
       "      <th></th>\n",
       "      <th>0</th>\n",
       "    </tr>\n",
       "  </thead>\n",
       "  <tbody>\n",
       "    <tr>\n",
       "      <th>Product</th>\n",
       "      <td>8 oz T Tenderloin A</td>\n",
       "    </tr>\n",
       "    <tr>\n",
       "      <th>Count</th>\n",
       "      <td>1908</td>\n",
       "    </tr>\n",
       "    <tr>\n",
       "      <th>Min Height</th>\n",
       "      <td>0.98796</td>\n",
       "    </tr>\n",
       "    <tr>\n",
       "      <th>Max Height</th>\n",
       "      <td>3.38117</td>\n",
       "    </tr>\n",
       "    <tr>\n",
       "      <th>Average Height</th>\n",
       "      <td>1.900024</td>\n",
       "    </tr>\n",
       "    <tr>\n",
       "      <th>Pct In Spec</th>\n",
       "      <td>100.00%</td>\n",
       "    </tr>\n",
       "    <tr>\n",
       "      <th>Count Offspec</th>\n",
       "      <td>0</td>\n",
       "    </tr>\n",
       "    <tr>\n",
       "      <th>Compliant</th>\n",
       "      <td>True</td>\n",
       "    </tr>\n",
       "  </tbody>\n",
       "</table>\n",
       "</div>"
      ],
      "text/plain": [
       "                                  0\n",
       "Product         8 oz T Tenderloin A\n",
       "Count                          1908\n",
       "Min Height                  0.98796\n",
       "Max Height                  3.38117\n",
       "Average Height             1.900024\n",
       "Pct In Spec                 100.00%\n",
       "Count Offspec                     0\n",
       "Compliant                      True"
      ]
     },
     "execution_count": 47,
     "metadata": {},
     "output_type": "execute_result"
    }
   ],
   "source": [
    "# Specify the product name\n",
    "product_name = \"8 oz T Tenderloin A\"\n",
    "\n",
    "# Specify the file paths\n",
    "file_path = '../data/cleaned/generic_butcher_cleaned.csv'\n",
    "file_path2 = '../data/cleaned/generic_butcher_spec_cleaned.csv'\n",
    "\n",
    "# Read the CSV files into DataFrames\n",
    "df = pd.read_csv(file_path)\n",
    "df2 = pd.read_csv(file_path2)\n",
    "\n",
    "# Copy data to preserve original dataset\n",
    "product_data = df.loc[df[\"product_name\"] == product_name]\n",
    "product = product_data.copy()\n",
    "\n",
    "# Adjust decimal point that were obvious errors for height\n",
    "product['measured_height'] = product['measured_height'].apply(lambda x: x * 0.01 if x > 50 else x)\n",
    "\n",
    "# Find relevant subplot data for height\n",
    "height_min_spec = df2.loc[df2['product_name'] == product_name, 'height_min'].iloc[0]\n",
    "height_max_spec = df2.loc[df2['product_name'] == product_name, 'height_max'].iloc[0]\n",
    "height_avg = np.mean(product['measured_height'])\n",
    "count_ht = len(product['measured_height'])\n",
    "min_ht = np.min(product['measured_height'])\n",
    "max_ht = np.max(product['measured_height'])\n",
    "in_spec_ht = product['measured_height'].apply(lambda x: height_min_spec <= x <= height_max_spec)\n",
    "percent_in_spec_ht = (np.sum(in_spec_ht) / count_ht) * 100\n",
    "out_spec_val_ht = product.loc[~in_spec_ht, 'measured_height'].values\n",
    "count_oos_ht = len(out_spec_val_ht)\n",
    "compliance = percent_in_spec_ht > 95.00\n",
    "\n",
    "# Create dataframe for subplot height information\n",
    "subplot_height = pd.DataFrame({\n",
    "    'Product': [product_name],\n",
    "    'Count': [count_ht],\n",
    "    'Min Height': [min_ht],\n",
    "    'Max Height': [max_ht],\n",
    "    'Average Height': [height_avg],\n",
    "    'Pct In Spec': [f\"{percent_in_spec_ht:.2f}%\"],\n",
    "    'Count Offspec': [count_oos_ht],\n",
    "    'Compliant': [compliance]\n",
    "})\n",
    "\n",
    "# Display the transposed dataframe\n",
    "subplot_height.T"
   ]
  },
  {
   "cell_type": "code",
   "execution_count": null,
   "id": "36c85e4a-6428-4478-a4c9-7e0addc1e679",
   "metadata": {},
   "outputs": [],
   "source": []
  },
  {
   "cell_type": "code",
   "execution_count": null,
   "id": "7444358c-23a6-4858-9e5e-d54e976c27a5",
   "metadata": {},
   "outputs": [],
   "source": []
  },
  {
   "cell_type": "code",
   "execution_count": 50,
   "id": "056f9596",
   "metadata": {},
   "outputs": [
    {
     "data": {
      "application/vnd.plotly.v1+json": {
       "config": {
        "plotlyServerURL": "https://plot.ly"
       },
       "data": [
        {
         "alignmentgroup": "True",
         "bingroup": "x",
         "hovertemplate": "measured_weight=%{x}<br>count=%{y}<extra></extra>",
         "legendgroup": "",
         "marker": {
          "color": "#636efa",
          "pattern": {
           "shape": ""
          }
         },
         "name": "",
         "nbinsx": 20,
         "offsetgroup": "",
         "orientation": "v",
         "showlegend": false,
         "type": "histogram",
         "x": [
          19.36,
          20,
          21.12,
          21.18,
          21.2,
          21.12,
          20.64,
          21.36,
          20.3,
          20,
          19.63,
          20.84,
          21.46,
          21.2,
          21,
          20.9,
          20.92,
          20.56,
          20.12,
          19.94,
          20.9,
          20.08,
          21,
          20.7,
          21.8,
          20,
          21.09,
          21,
          21.05,
          21.07,
          20.6,
          21.08,
          21.16,
          21.3,
          20.9,
          20.32,
          21.25,
          19.6,
          21.16,
          21.08,
          21.2,
          21.05,
          21.42,
          20,
          20.94,
          21,
          20.42,
          21.09,
          21.08,
          21.04,
          21.38,
          19.64,
          21.28,
          21.02,
          20.94,
          21.28,
          20.64,
          21.3,
          21.3,
          20.82,
          21,
          21.1,
          21.06,
          20.12,
          21.06,
          20.7,
          21.04,
          20.2,
          21.3,
          20.08,
          19.74,
          20.7,
          20.6,
          21.09,
          21.22,
          20.9,
          21.34,
          21.44,
          20.18,
          19.3,
          20.48,
          20.6,
          21,
          20.98,
          21.09,
          20,
          20.8,
          20.2,
          21.8,
          19.26,
          19.5,
          21.08,
          21.02,
          21.06,
          19.96,
          20.26,
          21.42,
          21.32,
          20.96,
          21.08,
          21.4,
          21.3,
          21.06,
          21.24,
          21.09,
          20.94,
          20.06,
          20.84,
          21.06,
          20.8,
          19.08,
          21.3,
          20.09,
          21.1,
          19.24,
          21.07,
          21.09,
          21.25,
          21,
          21.08,
          21.42,
          20.16
         ],
         "xaxis": "x",
         "yaxis": "y"
        }
       ],
       "layout": {
        "annotations": [
         {
          "showarrow": false,
          "text": "20.77",
          "x": 20.774918032786886,
          "xanchor": "right",
          "xref": "x",
          "y": 1,
          "yanchor": "top",
          "yref": "y domain"
         },
         {
          "showarrow": false,
          "text": "18.95",
          "x": 18.95,
          "xanchor": "right",
          "xref": "x",
          "y": 1,
          "yanchor": "top",
          "yref": "y domain"
         },
         {
          "showarrow": false,
          "text": "21.10",
          "x": 21.1,
          "xanchor": "right",
          "xref": "x",
          "y": 1,
          "yanchor": "top",
          "yref": "y domain"
         }
        ],
        "barmode": "relative",
        "height": 500,
        "legend": {
         "tracegroupgap": 0
        },
        "shapes": [
         {
          "line": {
           "color": "green",
           "width": 3
          },
          "type": "line",
          "x0": 20.774918032786886,
          "x1": 20.774918032786886,
          "xref": "x",
          "y0": 0,
          "y1": 1,
          "yref": "y domain"
         },
         {
          "line": {
           "color": "red",
           "dash": "dash",
           "width": 2
          },
          "type": "line",
          "x0": 18.95,
          "x1": 18.95,
          "xref": "x",
          "y0": 0,
          "y1": 1,
          "yref": "y domain"
         },
         {
          "line": {
           "color": "red",
           "dash": "dash",
           "width": 2
          },
          "type": "line",
          "x0": 21.1,
          "x1": 21.1,
          "xref": "x",
          "y0": 0,
          "y1": 1,
          "yref": "y domain"
         }
        ],
        "showlegend": false,
        "template": {
         "data": {
          "bar": [
           {
            "error_x": {
             "color": "#2a3f5f"
            },
            "error_y": {
             "color": "#2a3f5f"
            },
            "marker": {
             "line": {
              "color": "#E5ECF6",
              "width": 0.5
             },
             "pattern": {
              "fillmode": "overlay",
              "size": 10,
              "solidity": 0.2
             }
            },
            "type": "bar"
           }
          ],
          "barpolar": [
           {
            "marker": {
             "line": {
              "color": "#E5ECF6",
              "width": 0.5
             },
             "pattern": {
              "fillmode": "overlay",
              "size": 10,
              "solidity": 0.2
             }
            },
            "type": "barpolar"
           }
          ],
          "carpet": [
           {
            "aaxis": {
             "endlinecolor": "#2a3f5f",
             "gridcolor": "white",
             "linecolor": "white",
             "minorgridcolor": "white",
             "startlinecolor": "#2a3f5f"
            },
            "baxis": {
             "endlinecolor": "#2a3f5f",
             "gridcolor": "white",
             "linecolor": "white",
             "minorgridcolor": "white",
             "startlinecolor": "#2a3f5f"
            },
            "type": "carpet"
           }
          ],
          "choropleth": [
           {
            "colorbar": {
             "outlinewidth": 0,
             "ticks": ""
            },
            "type": "choropleth"
           }
          ],
          "contour": [
           {
            "colorbar": {
             "outlinewidth": 0,
             "ticks": ""
            },
            "colorscale": [
             [
              0,
              "#0d0887"
             ],
             [
              0.1111111111111111,
              "#46039f"
             ],
             [
              0.2222222222222222,
              "#7201a8"
             ],
             [
              0.3333333333333333,
              "#9c179e"
             ],
             [
              0.4444444444444444,
              "#bd3786"
             ],
             [
              0.5555555555555556,
              "#d8576b"
             ],
             [
              0.6666666666666666,
              "#ed7953"
             ],
             [
              0.7777777777777778,
              "#fb9f3a"
             ],
             [
              0.8888888888888888,
              "#fdca26"
             ],
             [
              1,
              "#f0f921"
             ]
            ],
            "type": "contour"
           }
          ],
          "contourcarpet": [
           {
            "colorbar": {
             "outlinewidth": 0,
             "ticks": ""
            },
            "type": "contourcarpet"
           }
          ],
          "heatmap": [
           {
            "colorbar": {
             "outlinewidth": 0,
             "ticks": ""
            },
            "colorscale": [
             [
              0,
              "#0d0887"
             ],
             [
              0.1111111111111111,
              "#46039f"
             ],
             [
              0.2222222222222222,
              "#7201a8"
             ],
             [
              0.3333333333333333,
              "#9c179e"
             ],
             [
              0.4444444444444444,
              "#bd3786"
             ],
             [
              0.5555555555555556,
              "#d8576b"
             ],
             [
              0.6666666666666666,
              "#ed7953"
             ],
             [
              0.7777777777777778,
              "#fb9f3a"
             ],
             [
              0.8888888888888888,
              "#fdca26"
             ],
             [
              1,
              "#f0f921"
             ]
            ],
            "type": "heatmap"
           }
          ],
          "heatmapgl": [
           {
            "colorbar": {
             "outlinewidth": 0,
             "ticks": ""
            },
            "colorscale": [
             [
              0,
              "#0d0887"
             ],
             [
              0.1111111111111111,
              "#46039f"
             ],
             [
              0.2222222222222222,
              "#7201a8"
             ],
             [
              0.3333333333333333,
              "#9c179e"
             ],
             [
              0.4444444444444444,
              "#bd3786"
             ],
             [
              0.5555555555555556,
              "#d8576b"
             ],
             [
              0.6666666666666666,
              "#ed7953"
             ],
             [
              0.7777777777777778,
              "#fb9f3a"
             ],
             [
              0.8888888888888888,
              "#fdca26"
             ],
             [
              1,
              "#f0f921"
             ]
            ],
            "type": "heatmapgl"
           }
          ],
          "histogram": [
           {
            "marker": {
             "pattern": {
              "fillmode": "overlay",
              "size": 10,
              "solidity": 0.2
             }
            },
            "type": "histogram"
           }
          ],
          "histogram2d": [
           {
            "colorbar": {
             "outlinewidth": 0,
             "ticks": ""
            },
            "colorscale": [
             [
              0,
              "#0d0887"
             ],
             [
              0.1111111111111111,
              "#46039f"
             ],
             [
              0.2222222222222222,
              "#7201a8"
             ],
             [
              0.3333333333333333,
              "#9c179e"
             ],
             [
              0.4444444444444444,
              "#bd3786"
             ],
             [
              0.5555555555555556,
              "#d8576b"
             ],
             [
              0.6666666666666666,
              "#ed7953"
             ],
             [
              0.7777777777777778,
              "#fb9f3a"
             ],
             [
              0.8888888888888888,
              "#fdca26"
             ],
             [
              1,
              "#f0f921"
             ]
            ],
            "type": "histogram2d"
           }
          ],
          "histogram2dcontour": [
           {
            "colorbar": {
             "outlinewidth": 0,
             "ticks": ""
            },
            "colorscale": [
             [
              0,
              "#0d0887"
             ],
             [
              0.1111111111111111,
              "#46039f"
             ],
             [
              0.2222222222222222,
              "#7201a8"
             ],
             [
              0.3333333333333333,
              "#9c179e"
             ],
             [
              0.4444444444444444,
              "#bd3786"
             ],
             [
              0.5555555555555556,
              "#d8576b"
             ],
             [
              0.6666666666666666,
              "#ed7953"
             ],
             [
              0.7777777777777778,
              "#fb9f3a"
             ],
             [
              0.8888888888888888,
              "#fdca26"
             ],
             [
              1,
              "#f0f921"
             ]
            ],
            "type": "histogram2dcontour"
           }
          ],
          "mesh3d": [
           {
            "colorbar": {
             "outlinewidth": 0,
             "ticks": ""
            },
            "type": "mesh3d"
           }
          ],
          "parcoords": [
           {
            "line": {
             "colorbar": {
              "outlinewidth": 0,
              "ticks": ""
             }
            },
            "type": "parcoords"
           }
          ],
          "pie": [
           {
            "automargin": true,
            "type": "pie"
           }
          ],
          "scatter": [
           {
            "fillpattern": {
             "fillmode": "overlay",
             "size": 10,
             "solidity": 0.2
            },
            "type": "scatter"
           }
          ],
          "scatter3d": [
           {
            "line": {
             "colorbar": {
              "outlinewidth": 0,
              "ticks": ""
             }
            },
            "marker": {
             "colorbar": {
              "outlinewidth": 0,
              "ticks": ""
             }
            },
            "type": "scatter3d"
           }
          ],
          "scattercarpet": [
           {
            "marker": {
             "colorbar": {
              "outlinewidth": 0,
              "ticks": ""
             }
            },
            "type": "scattercarpet"
           }
          ],
          "scattergeo": [
           {
            "marker": {
             "colorbar": {
              "outlinewidth": 0,
              "ticks": ""
             }
            },
            "type": "scattergeo"
           }
          ],
          "scattergl": [
           {
            "marker": {
             "colorbar": {
              "outlinewidth": 0,
              "ticks": ""
             }
            },
            "type": "scattergl"
           }
          ],
          "scattermapbox": [
           {
            "marker": {
             "colorbar": {
              "outlinewidth": 0,
              "ticks": ""
             }
            },
            "type": "scattermapbox"
           }
          ],
          "scatterpolar": [
           {
            "marker": {
             "colorbar": {
              "outlinewidth": 0,
              "ticks": ""
             }
            },
            "type": "scatterpolar"
           }
          ],
          "scatterpolargl": [
           {
            "marker": {
             "colorbar": {
              "outlinewidth": 0,
              "ticks": ""
             }
            },
            "type": "scatterpolargl"
           }
          ],
          "scatterternary": [
           {
            "marker": {
             "colorbar": {
              "outlinewidth": 0,
              "ticks": ""
             }
            },
            "type": "scatterternary"
           }
          ],
          "surface": [
           {
            "colorbar": {
             "outlinewidth": 0,
             "ticks": ""
            },
            "colorscale": [
             [
              0,
              "#0d0887"
             ],
             [
              0.1111111111111111,
              "#46039f"
             ],
             [
              0.2222222222222222,
              "#7201a8"
             ],
             [
              0.3333333333333333,
              "#9c179e"
             ],
             [
              0.4444444444444444,
              "#bd3786"
             ],
             [
              0.5555555555555556,
              "#d8576b"
             ],
             [
              0.6666666666666666,
              "#ed7953"
             ],
             [
              0.7777777777777778,
              "#fb9f3a"
             ],
             [
              0.8888888888888888,
              "#fdca26"
             ],
             [
              1,
              "#f0f921"
             ]
            ],
            "type": "surface"
           }
          ],
          "table": [
           {
            "cells": {
             "fill": {
              "color": "#EBF0F8"
             },
             "line": {
              "color": "white"
             }
            },
            "header": {
             "fill": {
              "color": "#C8D4E3"
             },
             "line": {
              "color": "white"
             }
            },
            "type": "table"
           }
          ]
         },
         "layout": {
          "annotationdefaults": {
           "arrowcolor": "#2a3f5f",
           "arrowhead": 0,
           "arrowwidth": 1
          },
          "autotypenumbers": "strict",
          "coloraxis": {
           "colorbar": {
            "outlinewidth": 0,
            "ticks": ""
           }
          },
          "colorscale": {
           "diverging": [
            [
             0,
             "#8e0152"
            ],
            [
             0.1,
             "#c51b7d"
            ],
            [
             0.2,
             "#de77ae"
            ],
            [
             0.3,
             "#f1b6da"
            ],
            [
             0.4,
             "#fde0ef"
            ],
            [
             0.5,
             "#f7f7f7"
            ],
            [
             0.6,
             "#e6f5d0"
            ],
            [
             0.7,
             "#b8e186"
            ],
            [
             0.8,
             "#7fbc41"
            ],
            [
             0.9,
             "#4d9221"
            ],
            [
             1,
             "#276419"
            ]
           ],
           "sequential": [
            [
             0,
             "#0d0887"
            ],
            [
             0.1111111111111111,
             "#46039f"
            ],
            [
             0.2222222222222222,
             "#7201a8"
            ],
            [
             0.3333333333333333,
             "#9c179e"
            ],
            [
             0.4444444444444444,
             "#bd3786"
            ],
            [
             0.5555555555555556,
             "#d8576b"
            ],
            [
             0.6666666666666666,
             "#ed7953"
            ],
            [
             0.7777777777777778,
             "#fb9f3a"
            ],
            [
             0.8888888888888888,
             "#fdca26"
            ],
            [
             1,
             "#f0f921"
            ]
           ],
           "sequentialminus": [
            [
             0,
             "#0d0887"
            ],
            [
             0.1111111111111111,
             "#46039f"
            ],
            [
             0.2222222222222222,
             "#7201a8"
            ],
            [
             0.3333333333333333,
             "#9c179e"
            ],
            [
             0.4444444444444444,
             "#bd3786"
            ],
            [
             0.5555555555555556,
             "#d8576b"
            ],
            [
             0.6666666666666666,
             "#ed7953"
            ],
            [
             0.7777777777777778,
             "#fb9f3a"
            ],
            [
             0.8888888888888888,
             "#fdca26"
            ],
            [
             1,
             "#f0f921"
            ]
           ]
          },
          "colorway": [
           "#636efa",
           "#EF553B",
           "#00cc96",
           "#ab63fa",
           "#FFA15A",
           "#19d3f3",
           "#FF6692",
           "#B6E880",
           "#FF97FF",
           "#FECB52"
          ],
          "font": {
           "color": "#2a3f5f"
          },
          "geo": {
           "bgcolor": "white",
           "lakecolor": "white",
           "landcolor": "#E5ECF6",
           "showlakes": true,
           "showland": true,
           "subunitcolor": "white"
          },
          "hoverlabel": {
           "align": "left"
          },
          "hovermode": "closest",
          "mapbox": {
           "style": "light"
          },
          "paper_bgcolor": "white",
          "plot_bgcolor": "#E5ECF6",
          "polar": {
           "angularaxis": {
            "gridcolor": "white",
            "linecolor": "white",
            "ticks": ""
           },
           "bgcolor": "#E5ECF6",
           "radialaxis": {
            "gridcolor": "white",
            "linecolor": "white",
            "ticks": ""
           }
          },
          "scene": {
           "xaxis": {
            "backgroundcolor": "#E5ECF6",
            "gridcolor": "white",
            "gridwidth": 2,
            "linecolor": "white",
            "showbackground": true,
            "ticks": "",
            "zerolinecolor": "white"
           },
           "yaxis": {
            "backgroundcolor": "#E5ECF6",
            "gridcolor": "white",
            "gridwidth": 2,
            "linecolor": "white",
            "showbackground": true,
            "ticks": "",
            "zerolinecolor": "white"
           },
           "zaxis": {
            "backgroundcolor": "#E5ECF6",
            "gridcolor": "white",
            "gridwidth": 2,
            "linecolor": "white",
            "showbackground": true,
            "ticks": "",
            "zerolinecolor": "white"
           }
          },
          "shapedefaults": {
           "line": {
            "color": "#2a3f5f"
           }
          },
          "ternary": {
           "aaxis": {
            "gridcolor": "white",
            "linecolor": "white",
            "ticks": ""
           },
           "baxis": {
            "gridcolor": "white",
            "linecolor": "white",
            "ticks": ""
           },
           "bgcolor": "#E5ECF6",
           "caxis": {
            "gridcolor": "white",
            "linecolor": "white",
            "ticks": ""
           }
          },
          "title": {
           "x": 0.05
          },
          "xaxis": {
           "automargin": true,
           "gridcolor": "white",
           "linecolor": "white",
           "ticks": "",
           "title": {
            "standoff": 15
           },
           "zerolinecolor": "white",
           "zerolinewidth": 2
          },
          "yaxis": {
           "automargin": true,
           "gridcolor": "white",
           "linecolor": "white",
           "ticks": "",
           "title": {
            "standoff": 15
           },
           "zerolinecolor": "white",
           "zerolinewidth": 2
          }
         }
        },
        "title": {
         "text": "Weight Distribution of 20 oz  Prime Ribeye A"
        },
        "width": 1000,
        "xaxis": {
         "anchor": "y",
         "autorange": true,
         "domain": [
          0,
          1
         ],
         "range": [
          18.820973782771535,
          21.599999999999998
         ],
         "title": {
          "text": "Weight (oz)"
         },
         "type": "linear"
        },
        "yaxis": {
         "anchor": "x",
         "autorange": true,
         "domain": [
          0,
          1
         ],
         "range": [
          0,
          41.05263157894737
         ],
         "title": {
          "text": "Count"
         }
        }
       }
      },
      "image/png": "[encoded data removed]",
      "text/html": [
       "<div>                            <div id=\"77f419f0-39a3-4ff0-8e5f-7de987ed9fd7\" class=\"plotly-graph-div\" style=\"height:500px; width:1000px;\"></div>            <script type=\"text/javascript\">                require([\"plotly\"], function(Plotly) {                    window.PLOTLYENV=window.PLOTLYENV || {};                                    if (document.getElementById(\"77f419f0-39a3-4ff0-8e5f-7de987ed9fd7\")) {                    Plotly.newPlot(                        \"77f419f0-39a3-4ff0-8e5f-7de987ed9fd7\",                        [{\"alignmentgroup\":\"True\",\"bingroup\":\"x\",\"hovertemplate\":\"measured_weight=%{x}<br>count=%{y}<extra></extra>\",\"legendgroup\":\"\",\"marker\":{\"color\":\"#636efa\",\"pattern\":{\"shape\":\"\"}},\"name\":\"\",\"nbinsx\":20,\"offsetgroup\":\"\",\"orientation\":\"v\",\"showlegend\":false,\"x\":[19.36,20.0,21.12,21.18,21.2,21.12,20.64,21.36,20.3,20.0,19.63,20.84,21.46,21.2,21.0,20.9,20.92,20.56,20.12,19.94,20.9,20.08,21.0,20.7,21.8,20.0,21.09,21.0,21.05,21.07,20.6,21.08,21.16,21.3,20.9,20.32,21.25,19.6,21.16,21.08,21.2,21.05,21.42,20.0,20.94,21.0,20.42,21.09,21.08,21.04,21.38,19.64,21.28,21.02,20.94,21.28,20.64,21.3,21.3,20.82,21.0,21.1,21.06,20.12,21.06,20.7,21.04,20.2,21.3,20.08,19.74,20.7,20.6,21.09,21.22,20.9,21.34,21.44,20.18,19.3,20.48,20.6,21.0,20.98,21.09,20.0,20.8,20.2,21.8,19.26,19.5,21.08,21.02,21.06,19.96,20.26,21.42,21.32,20.96,21.08,21.4,21.3,21.06,21.24,21.09,20.94,20.06,20.84,21.06,20.8,19.08,21.3,20.09,21.1,19.24,21.07,21.09,21.25,21.0,21.08,21.42,20.16],\"xaxis\":\"x\",\"yaxis\":\"y\",\"type\":\"histogram\"}],                        {\"template\":{\"data\":{\"histogram2dcontour\":[{\"type\":\"histogram2dcontour\",\"colorbar\":{\"outlinewidth\":0,\"ticks\":\"\"},\"colorscale\":[[0.0,\"#0d0887\"],[0.1111111111111111,\"#46039f\"],[0.2222222222222222,\"#7201a8\"],[0.3333333333333333,\"#9c179e\"],[0.4444444444444444,\"#bd3786\"],[0.5555555555555556,\"#d8576b\"],[0.6666666666666666,\"#ed7953\"],[0.7777777777777778,\"#fb9f3a\"],[0.8888888888888888,\"#fdca26\"],[1.0,\"#f0f921\"]]}],\"choropleth\":[{\"type\":\"choropleth\",\"colorbar\":{\"outlinewidth\":0,\"ticks\":\"\"}}],\"histogram2d\":[{\"type\":\"histogram2d\",\"colorbar\":{\"outlinewidth\":0,\"ticks\":\"\"},\"colorscale\":[[0.0,\"#0d0887\"],[0.1111111111111111,\"#46039f\"],[0.2222222222222222,\"#7201a8\"],[0.3333333333333333,\"#9c179e\"],[0.4444444444444444,\"#bd3786\"],[0.5555555555555556,\"#d8576b\"],[0.6666666666666666,\"#ed7953\"],[0.7777777777777778,\"#fb9f3a\"],[0.8888888888888888,\"#fdca26\"],[1.0,\"#f0f921\"]]}],\"heatmap\":[{\"type\":\"heatmap\",\"colorbar\":{\"outlinewidth\":0,\"ticks\":\"\"},\"colorscale\":[[0.0,\"#0d0887\"],[0.1111111111111111,\"#46039f\"],[0.2222222222222222,\"#7201a8\"],[0.3333333333333333,\"#9c179e\"],[0.4444444444444444,\"#bd3786\"],[0.5555555555555556,\"#d8576b\"],[0.6666666666666666,\"#ed7953\"],[0.7777777777777778,\"#fb9f3a\"],[0.8888888888888888,\"#fdca26\"],[1.0,\"#f0f921\"]]}],\"heatmapgl\":[{\"type\":\"heatmapgl\",\"colorbar\":{\"outlinewidth\":0,\"ticks\":\"\"},\"colorscale\":[[0.0,\"#0d0887\"],[0.1111111111111111,\"#46039f\"],[0.2222222222222222,\"#7201a8\"],[0.3333333333333333,\"#9c179e\"],[0.4444444444444444,\"#bd3786\"],[0.5555555555555556,\"#d8576b\"],[0.6666666666666666,\"#ed7953\"],[0.7777777777777778,\"#fb9f3a\"],[0.8888888888888888,\"#fdca26\"],[1.0,\"#f0f921\"]]}],\"contourcarpet\":[{\"type\":\"contourcarpet\",\"colorbar\":{\"outlinewidth\":0,\"ticks\":\"\"}}],\"contour\":[{\"type\":\"contour\",\"colorbar\":{\"outlinewidth\":0,\"ticks\":\"\"},\"colorscale\":[[0.0,\"#0d0887\"],[0.1111111111111111,\"#46039f\"],[0.2222222222222222,\"#7201a8\"],[0.3333333333333333,\"#9c179e\"],[0.4444444444444444,\"#bd3786\"],[0.5555555555555556,\"#d8576b\"],[0.6666666666666666,\"#ed7953\"],[0.7777777777777778,\"#fb9f3a\"],[0.8888888888888888,\"#fdca26\"],[1.0,\"#f0f921\"]]}],\"surface\":[{\"type\":\"surface\",\"colorbar\":{\"outlinewidth\":0,\"ticks\":\"\"},\"colorscale\":[[0.0,\"#0d0887\"],[0.1111111111111111,\"#46039f\"],[0.2222222222222222,\"#7201a8\"],[0.3333333333333333,\"#9c179e\"],[0.4444444444444444,\"#bd3786\"],[0.5555555555555556,\"#d8576b\"],[0.6666666666666666,\"#ed7953\"],[0.7777777777777778,\"#fb9f3a\"],[0.8888888888888888,\"#fdca26\"],[1.0,\"#f0f921\"]]}],\"mesh3d\":[{\"type\":\"mesh3d\",\"colorbar\":{\"outlinewidth\":0,\"ticks\":\"\"}}],\"scatter\":[{\"fillpattern\":{\"fillmode\":\"overlay\",\"size\":10,\"solidity\":0.2},\"type\":\"scatter\"}],\"parcoords\":[{\"type\":\"parcoords\",\"line\":{\"colorbar\":{\"outlinewidth\":0,\"ticks\":\"\"}}}],\"scatterpolargl\":[{\"type\":\"scatterpolargl\",\"marker\":{\"colorbar\":{\"outlinewidth\":0,\"ticks\":\"\"}}}],\"bar\":[{\"error_x\":{\"color\":\"#2a3f5f\"},\"error_y\":{\"color\":\"#2a3f5f\"},\"marker\":{\"line\":{\"color\":\"#E5ECF6\",\"width\":0.5},\"pattern\":{\"fillmode\":\"overlay\",\"size\":10,\"solidity\":0.2}},\"type\":\"bar\"}],\"scattergeo\":[{\"type\":\"scattergeo\",\"marker\":{\"colorbar\":{\"outlinewidth\":0,\"ticks\":\"\"}}}],\"scatterpolar\":[{\"type\":\"scatterpolar\",\"marker\":{\"colorbar\":{\"outlinewidth\":0,\"ticks\":\"\"}}}],\"histogram\":[{\"marker\":{\"pattern\":{\"fillmode\":\"overlay\",\"size\":10,\"solidity\":0.2}},\"type\":\"histogram\"}],\"scattergl\":[{\"type\":\"scattergl\",\"marker\":{\"colorbar\":{\"outlinewidth\":0,\"ticks\":\"\"}}}],\"scatter3d\":[{\"type\":\"scatter3d\",\"line\":{\"colorbar\":{\"outlinewidth\":0,\"ticks\":\"\"}},\"marker\":{\"colorbar\":{\"outlinewidth\":0,\"ticks\":\"\"}}}],\"scattermapbox\":[{\"type\":\"scattermapbox\",\"marker\":{\"colorbar\":{\"outlinewidth\":0,\"ticks\":\"\"}}}],\"scatterternary\":[{\"type\":\"scatterternary\",\"marker\":{\"colorbar\":{\"outlinewidth\":0,\"ticks\":\"\"}}}],\"scattercarpet\":[{\"type\":\"scattercarpet\",\"marker\":{\"colorbar\":{\"outlinewidth\":0,\"ticks\":\"\"}}}],\"carpet\":[{\"aaxis\":{\"endlinecolor\":\"#2a3f5f\",\"gridcolor\":\"white\",\"linecolor\":\"white\",\"minorgridcolor\":\"white\",\"startlinecolor\":\"#2a3f5f\"},\"baxis\":{\"endlinecolor\":\"#2a3f5f\",\"gridcolor\":\"white\",\"linecolor\":\"white\",\"minorgridcolor\":\"white\",\"startlinecolor\":\"#2a3f5f\"},\"type\":\"carpet\"}],\"table\":[{\"cells\":{\"fill\":{\"color\":\"#EBF0F8\"},\"line\":{\"color\":\"white\"}},\"header\":{\"fill\":{\"color\":\"#C8D4E3\"},\"line\":{\"color\":\"white\"}},\"type\":\"table\"}],\"barpolar\":[{\"marker\":{\"line\":{\"color\":\"#E5ECF6\",\"width\":0.5},\"pattern\":{\"fillmode\":\"overlay\",\"size\":10,\"solidity\":0.2}},\"type\":\"barpolar\"}],\"pie\":[{\"automargin\":true,\"type\":\"pie\"}]},\"layout\":{\"autotypenumbers\":\"strict\",\"colorway\":[\"#636efa\",\"#EF553B\",\"#00cc96\",\"#ab63fa\",\"#FFA15A\",\"#19d3f3\",\"#FF6692\",\"#B6E880\",\"#FF97FF\",\"#FECB52\"],\"font\":{\"color\":\"#2a3f5f\"},\"hovermode\":\"closest\",\"hoverlabel\":{\"align\":\"left\"},\"paper_bgcolor\":\"white\",\"plot_bgcolor\":\"#E5ECF6\",\"polar\":{\"bgcolor\":\"#E5ECF6\",\"angularaxis\":{\"gridcolor\":\"white\",\"linecolor\":\"white\",\"ticks\":\"\"},\"radialaxis\":{\"gridcolor\":\"white\",\"linecolor\":\"white\",\"ticks\":\"\"}},\"ternary\":{\"bgcolor\":\"#E5ECF6\",\"aaxis\":{\"gridcolor\":\"white\",\"linecolor\":\"white\",\"ticks\":\"\"},\"baxis\":{\"gridcolor\":\"white\",\"linecolor\":\"white\",\"ticks\":\"\"},\"caxis\":{\"gridcolor\":\"white\",\"linecolor\":\"white\",\"ticks\":\"\"}},\"coloraxis\":{\"colorbar\":{\"outlinewidth\":0,\"ticks\":\"\"}},\"colorscale\":{\"sequential\":[[0.0,\"#0d0887\"],[0.1111111111111111,\"#46039f\"],[0.2222222222222222,\"#7201a8\"],[0.3333333333333333,\"#9c179e\"],[0.4444444444444444,\"#bd3786\"],[0.5555555555555556,\"#d8576b\"],[0.6666666666666666,\"#ed7953\"],[0.7777777777777778,\"#fb9f3a\"],[0.8888888888888888,\"#fdca26\"],[1.0,\"#f0f921\"]],\"sequentialminus\":[[0.0,\"#0d0887\"],[0.1111111111111111,\"#46039f\"],[0.2222222222222222,\"#7201a8\"],[0.3333333333333333,\"#9c179e\"],[0.4444444444444444,\"#bd3786\"],[0.5555555555555556,\"#d8576b\"],[0.6666666666666666,\"#ed7953\"],[0.7777777777777778,\"#fb9f3a\"],[0.8888888888888888,\"#fdca26\"],[1.0,\"#f0f921\"]],\"diverging\":[[0,\"#8e0152\"],[0.1,\"#c51b7d\"],[0.2,\"#de77ae\"],[0.3,\"#f1b6da\"],[0.4,\"#fde0ef\"],[0.5,\"#f7f7f7\"],[0.6,\"#e6f5d0\"],[0.7,\"#b8e186\"],[0.8,\"#7fbc41\"],[0.9,\"#4d9221\"],[1,\"#276419\"]]},\"xaxis\":{\"gridcolor\":\"white\",\"linecolor\":\"white\",\"ticks\":\"\",\"title\":{\"standoff\":15},\"zerolinecolor\":\"white\",\"automargin\":true,\"zerolinewidth\":2},\"yaxis\":{\"gridcolor\":\"white\",\"linecolor\":\"white\",\"ticks\":\"\",\"title\":{\"standoff\":15},\"zerolinecolor\":\"white\",\"automargin\":true,\"zerolinewidth\":2},\"scene\":{\"xaxis\":{\"backgroundcolor\":\"#E5ECF6\",\"gridcolor\":\"white\",\"linecolor\":\"white\",\"showbackground\":true,\"ticks\":\"\",\"zerolinecolor\":\"white\",\"gridwidth\":2},\"yaxis\":{\"backgroundcolor\":\"#E5ECF6\",\"gridcolor\":\"white\",\"linecolor\":\"white\",\"showbackground\":true,\"ticks\":\"\",\"zerolinecolor\":\"white\",\"gridwidth\":2},\"zaxis\":{\"backgroundcolor\":\"#E5ECF6\",\"gridcolor\":\"white\",\"linecolor\":\"white\",\"showbackground\":true,\"ticks\":\"\",\"zerolinecolor\":\"white\",\"gridwidth\":2}},\"shapedefaults\":{\"line\":{\"color\":\"#2a3f5f\"}},\"annotationdefaults\":{\"arrowcolor\":\"#2a3f5f\",\"arrowhead\":0,\"arrowwidth\":1},\"geo\":{\"bgcolor\":\"white\",\"landcolor\":\"#E5ECF6\",\"subunitcolor\":\"white\",\"showland\":true,\"showlakes\":true,\"lakecolor\":\"white\"},\"title\":{\"x\":0.05},\"mapbox\":{\"style\":\"light\"}}},\"xaxis\":{\"anchor\":\"y\",\"domain\":[0.0,1.0],\"title\":{\"text\":\"Weight (oz)\"}},\"yaxis\":{\"anchor\":\"x\",\"domain\":[0.0,1.0],\"title\":{\"text\":\"Count\"}},\"legend\":{\"tracegroupgap\":0},\"title\":{\"text\":\"Weight Distribution of 20 oz  Prime Ribeye A\"},\"barmode\":\"relative\",\"shapes\":[{\"line\":{\"color\":\"green\",\"width\":3},\"type\":\"line\",\"x0\":20.774918032786886,\"x1\":20.774918032786886,\"xref\":\"x\",\"y0\":0,\"y1\":1,\"yref\":\"y domain\"},{\"line\":{\"color\":\"red\",\"dash\":\"dash\",\"width\":2},\"type\":\"line\",\"x0\":18.95,\"x1\":18.95,\"xref\":\"x\",\"y0\":0,\"y1\":1,\"yref\":\"y domain\"},{\"line\":{\"color\":\"red\",\"dash\":\"dash\",\"width\":2},\"type\":\"line\",\"x0\":21.1,\"x1\":21.1,\"xref\":\"x\",\"y0\":0,\"y1\":1,\"yref\":\"y domain\"}],\"annotations\":[{\"showarrow\":false,\"text\":\"20.77\",\"x\":20.774918032786886,\"xanchor\":\"right\",\"xref\":\"x\",\"y\":1,\"yanchor\":\"top\",\"yref\":\"y domain\"},{\"showarrow\":false,\"text\":\"18.95\",\"x\":18.95,\"xanchor\":\"right\",\"xref\":\"x\",\"y\":1,\"yanchor\":\"top\",\"yref\":\"y domain\"},{\"showarrow\":false,\"text\":\"21.10\",\"x\":21.1,\"xanchor\":\"right\",\"xref\":\"x\",\"y\":1,\"yanchor\":\"top\",\"yref\":\"y domain\"}],\"width\":1000,\"height\":500,\"showlegend\":false},                        {\"responsive\": true}                    ).then(function(){\n",
       "                            \n",
       "var gd = document.getElementById('77f419f0-39a3-4ff0-8e5f-7de987ed9fd7');\n",
       "var x = new MutationObserver(function (mutations, observer) {{\n",
       "        var display = window.getComputedStyle(gd).display;\n",
       "        if (!display || display === 'none') {{\n",
       "            console.log([gd, 'removed!']);\n",
       "            Plotly.purge(gd);\n",
       "            observer.disconnect();\n",
       "        }}\n",
       "}});\n",
       "\n",
       "// Listen for the removal of the full notebook cells\n",
       "var notebookContainer = gd.closest('#notebook-container');\n",
       "if (notebookContainer) {{\n",
       "    x.observe(notebookContainer, {childList: true});\n",
       "}}\n",
       "\n",
       "// Listen for the clearing of the current output cell\n",
       "var outputEl = gd.closest('.output');\n",
       "if (outputEl) {{\n",
       "    x.observe(outputEl, {childList: true});\n",
       "}}\n",
       "\n",
       "                        })                };                });            </script>        </div>"
      ]
     },
     "metadata": {},
     "output_type": "display_data"
    }
   ],
   "source": [
    "#WEIGHT\n",
    "#TEST product: \"8 oz T Tenderloin A\"\n",
    "#SPECIFY product_name = \"8 oz T Tenderloin A\"\n",
    "product_name = \"20 oz  Prime Ribeye A\"\n",
    "\n",
    "# Specify the file path\n",
    "file_path = '../data/cleaned/generic_butcher_cleaned.csv'\n",
    "\n",
    "# Read the CSV file into a DataFrame\n",
    "df = pd.read_csv(file_path)\n",
    "\n",
    "file_path2 = '../data/cleaned/generic_butcher_spec_cleaned.csv'\n",
    "\n",
    "# Read the CSV file into a DataFrame\n",
    "df2 = pd.read_csv(file_path2)\n",
    "\n",
    "# Copy data to preserve original dataset\n",
    "product_data = df.loc[df[\"product_name\"] == product_name]\n",
    "product = product_data.copy()\n",
    "\n",
    "# Adjust decimal point that were obvious errors\n",
    "product['measured_weight'] = product['measured_weight'].apply(lambda x: x * 0.01 if x > 50 else x)\n",
    "\n",
    "# Determine bin min and max in a readable format\n",
    "min_wt = np.min(product['measured_weight'])\n",
    "max_wt = np.max(product['measured_weight'])\n",
    "binmin_wt = np.floor(min_wt)-1\n",
    "binmax_wt = np.ceil(max_wt)+1\n",
    "\n",
    "# Determine spec goal posts\n",
    "weight_min_spec = df2.loc[df2['product_name'] == product_name, 'weight_min'].iloc[0]\n",
    "weight_max_spec = df2.loc[df2['product_name'] == product_name, 'weight_max'].iloc[0]\n",
    "weight_avg = np.mean(product['measured_weight'])\n",
    "\n",
    "# Created bins based on the quarter ounce\n",
    "num_bins_wt = int((binmax_wt - binmin_wt) * 1/.25)\n",
    "\n",
    "# Pulls measured weight data for the x value of the histogram\n",
    "product_weights = product['measured_weight']\n",
    "\n",
    "# Create the histogram using Plotly Express\n",
    "fig = px.histogram(product, x='measured_weight', nbins=num_bins_wt, title=f\"Weight Distribution of {product_name}\")\n",
    "\n",
    "# Add vertical lines for average, min spec, and max spec using add_vline\n",
    "fig.add_vline(x=weight_avg, line=dict(color=\"green\", width=3), annotation_text=f\"{weight_avg:.2f}\", annotation_position=\"top left\")\n",
    "fig.add_vline(x=weight_min_spec, line=dict(color=\"red\", width=2, dash='dash'), annotation_text= f\"{weight_min_spec:.2f}\", annotation_position=\"top left\")\n",
    "fig.add_vline(x=weight_max_spec, line=dict(color=\"red\", width=2, dash='dash'), annotation_text=f\"{weight_max_spec:.2f}\", annotation_position=\"top left\")\n",
    "\n",
    "# Update xaxis and yaxis labels\n",
    "fig.update_layout(\n",
    "    width=1000,\n",
    "    height=500,\n",
    "    xaxis_title='Weight (oz)',\n",
    "    yaxis_title='Count',\n",
    "    showlegend=False\n",
    ")\n",
    "\n",
    "# Show the plot\n",
    "fig.show()\n"
   ]
  },
  {
   "cell_type": "code",
   "execution_count": 51,
   "id": "82497537",
   "metadata": {},
   "outputs": [
    {
     "data": {
      "application/vnd.plotly.v1+json": {
       "config": {
        "plotlyServerURL": "https://plot.ly"
       },
       "data": [
        {
         "alignmentgroup": "True",
         "bingroup": "x",
         "hovertemplate": "measured_height=%{x}<br>count=%{y}<extra></extra>",
         "legendgroup": "",
         "marker": {
          "color": "#636efa",
          "pattern": {
           "shape": ""
          }
         },
         "name": "",
         "nbinsx": 20,
         "offsetgroup": "",
         "orientation": "v",
         "showlegend": false,
         "type": "histogram",
         "x": [
          1.69248,
          1.43884,
          2.52096,
          1.43432,
          1.97116,
          1.62124,
          1.51866,
          2.06541,
          2.07027,
          2.03675,
          1.52341,
          1.79721,
          1.87182,
          2.91145,
          1.91834,
          1.45661,
          1.54911,
          1.59475,
          1.61411,
          1.9624,
          1.88285,
          1.86282,
          1.89906,
          1.58625,
          1.45762,
          2.41412,
          1.92064,
          1.87914,
          1.94138,
          1.6959,
          1.69509,
          1.88833,
          1.95438,
          1.63553,
          1.61677,
          1.49263,
          1.56847,
          1.84319,
          2.33364,
          1.47093,
          1.55709,
          2.11604,
          1.77356,
          1.61154,
          2.41634,
          1.93124,
          2.03996,
          1.37683,
          1.7019,
          2.30568,
          1.36967,
          1.80882,
          2.17503,
          1.86504,
          2.36269,
          2.59315,
          1.86646,
          2.59801,
          2.59648,
          1.30807,
          1.7364,
          2.2937,
          1.61895,
          1.28527,
          2.32076,
          2.30824,
          1.64422,
          1.87248,
          1.35955,
          2.34797,
          1.94901,
          2.46045,
          1.77074,
          1.62263,
          1.6727,
          1.88654,
          2.03114,
          1.64001,
          2.07414,
          1.69471,
          2.36551,
          1.78229,
          1.93333,
          1.95003,
          1.6319,
          2.48575,
          1.96795,
          2.21784,
          1.85896,
          2.28823,
          2.52739,
          1.50748,
          2.52412,
          2.62631,
          1.41021,
          2.01377,
          2.38903,
          1.20683,
          2.42362,
          1.60137,
          2.48517,
          1.79035,
          2.81779,
          2.42041,
          1.50425,
          2.32478,
          2.50596,
          2.41139,
          2.04476,
          2.02042,
          1.71546,
          1.78802,
          2.30999,
          1.71119,
          1.8196,
          2.46505,
          1.89193,
          1.21456,
          2.26101,
          1.43117,
          1.86661,
          1.70978,
          1.68899,
          1.90525,
          1.63141,
          1.9964,
          1.70495,
          1.93036,
          1.46692,
          1.73011,
          2.3477,
          2.63178,
          2.13899,
          2.5694,
          1.66629,
          2.05313,
          2.10459,
          2.27116,
          2.23994,
          1.61536,
          2.14105,
          2.77132,
          2.01337,
          1.63809,
          2.13021,
          1.5344,
          2.48701,
          1.47111,
          1.6519,
          1.79463,
          1.50763,
          1.52617,
          1.5917,
          2.05237,
          1.63184,
          1.55692,
          1.56073,
          2.96671,
          2.48783,
          1.63372,
          1.5702,
          1.70012,
          1.42025,
          2.02511,
          2.1674,
          2.08727,
          1.72898,
          1.63763,
          1.90968,
          2.41998,
          1.9169,
          2.55638,
          1.81085,
          1.40725,
          1.65901,
          2.74604,
          1.56765,
          2.68366,
          1.75902,
          1.56132,
          1.75649,
          1.65953,
          1.78812,
          1.73248,
          2.13575,
          1.52432,
          1.43454,
          1.6764,
          1.96402,
          1.72743,
          1.81032,
          1.97829,
          1.78115,
          2.1281,
          1.86364,
          1.54418,
          2.08755,
          1.4759,
          1.69057,
          2.21689,
          1.62938,
          1.64195,
          1.81315,
          2.59108,
          2.23276,
          1.62402,
          1.86867,
          1.76751,
          2.17045,
          2.07263,
          1.73127,
          1.78753,
          2.01872,
          1.62425,
          1.53045,
          1.59843,
          2.77413,
          2.71023,
          1.60658,
          1.53913,
          1.96221,
          2.09767,
          2.50312,
          1.56313,
          1.32119,
          1.76486,
          2.13489,
          1.61152,
          1.671,
          1.87257,
          1.49101,
          1.53647,
          1.22398,
          1.39326,
          1.40533,
          2.55913,
          1.94851,
          1.94326,
          2.18954,
          1.91982,
          1.70327,
          1.86967,
          2.09703,
          2.03555,
          2.85449,
          1.88555,
          2.19052,
          1.67613,
          2.35091,
          1.60441,
          1.85598,
          1.94485,
          1.93107,
          1.61882,
          1.3899,
          1.55086,
          1.30107,
          1.30348,
          1.30765,
          1.27473,
          1.41942,
          1.34447,
          1.34177,
          1.39959,
          1.29115,
          1.6568,
          1.55756,
          1.25069,
          1.38249,
          1.2974,
          1.46066,
          1.32093,
          1.17583,
          1.37601,
          1.54793,
          1.06221,
          1.7616,
          1.13503,
          1.39672,
          1.05887,
          1.42802,
          1.50148,
          1.10335,
          1.28207,
          1.31061,
          1.27426,
          1.21288,
          1.26306,
          1.20263,
          1.44939,
          1.37749,
          1.30376,
          1.27467,
          1.34089,
          1.30202,
          1.49975,
          1.29197,
          1.36774,
          1.19001,
          1.42084,
          1.44167,
          1.13639,
          1.21391,
          1.32598,
          1.30652,
          1.29275,
          1.2979,
          1.36221,
          1.14403,
          1.15453,
          1.22497,
          1.44124,
          1.44688,
          1.44771,
          1.23485,
          1.42171,
          1.36143,
          1.29652,
          1.36447,
          1.16775,
          1.25762,
          1.2706,
          1.39944,
          1.42647,
          1.29234,
          1.40304,
          1.48057,
          1.22748,
          1.28763,
          1.29858,
          1.30069,
          1.14611,
          1.26407,
          1.32374,
          1.48508,
          1.58814,
          1.4738,
          1.26777,
          1.37357,
          1.36263,
          1.55855,
          1.29071,
          1.38472,
          1.53531,
          1.24653,
          1.20245,
          1.28789,
          1.355,
          1.37281,
          1.39577,
          1.50105,
          1.31847,
          1.23225,
          1.17995,
          1.26377,
          1.44533,
          1.36078,
          1.22049,
          1.52613,
          1.59805,
          1.34165,
          1.43109,
          1.48857,
          1.50564,
          1.5172,
          1.51485,
          1.41845,
          1.29716,
          1.13893,
          1.31313,
          1.1883,
          1.36582,
          1.33824,
          1.14629,
          1.27756,
          1.43718,
          1.371,
          1.47067,
          1.38942,
          1.5211,
          1.24258,
          1.39709,
          1.33602,
          1.4685,
          1.3525,
          1.28586,
          1.66302,
          1.27611,
          1.36685,
          1.33319,
          1.29583,
          1.11566,
          1.36771,
          1.1747,
          1.32962,
          1.30439,
          1.83969,
          1.66096,
          2.19401,
          1.53933,
          2.27905,
          2.39868,
          2.0169,
          1.76101,
          2.10515,
          1.75198,
          2.239,
          2.89687,
          1.3906,
          1.8594,
          2.52264,
          1.53321,
          2.51622,
          1.81651,
          2.11862,
          1.62043,
          1.45813,
          1.75949,
          2.13721,
          2.45657,
          1.44271,
          1.68011,
          2.68144,
          1.93009,
          2.02789,
          2.3649,
          2.08936,
          1.62024,
          1.8429,
          2.29742,
          1.50179,
          1.38882,
          1.81479,
          1.83076,
          2.37907,
          1.61073,
          1.55909,
          2.21738,
          2.24088,
          1.66527,
          1.73283,
          1.65872,
          1.75168,
          2.22579,
          1.31205,
          2.14118,
          2.13022,
          1.45911,
          1.85582,
          1.41533,
          2.3535,
          2.05778,
          1.4058,
          1.43138,
          1.71549,
          2.59172,
          1.65483,
          1.99825,
          2.20462,
          1.74261,
          1.59785,
          1.95417,
          1.87375,
          1.9319,
          1.81669,
          1.82043,
          1.4802,
          2.10751,
          1.38432,
          2.3458,
          1.65243,
          2.16753,
          2.05453,
          1.99297,
          2.17397,
          1.52226,
          2.07134,
          2.24476,
          1.9939,
          1.59833,
          1.72413,
          1.51009,
          2.68932,
          1.77237,
          1.41105,
          1.55879,
          1.52291,
          2.44251,
          1.77645,
          1.84459,
          1.68057,
          1.65575,
          2.1112,
          2.11614,
          2.36888,
          1.83008,
          2.21588,
          1.53977,
          1.91083,
          1.44879,
          2.05722,
          2.14189,
          1.76092,
          2.69921,
          1.86135,
          1.85514,
          2.48468,
          1.8843,
          1.51148,
          2.013,
          2.51723,
          2.06214,
          2.68524,
          2.02966,
          2.65123,
          1.93368,
          2.39468,
          2.27248,
          2.2507,
          1.51199,
          1.59007,
          1.88015,
          2.22397,
          2.0912,
          1.61656,
          1.82893,
          2.01918,
          2.04731,
          1.50726,
          1.41316,
          2.71581,
          1.36337,
          1.42326,
          2.51787,
          1.491,
          1.84593,
          2.01847,
          1.92569,
          2.14708,
          2.71916,
          1.89113,
          1.91478,
          1.56739,
          1.65468,
          2.51156,
          1.78407,
          1.3917,
          1.75086,
          1.46392,
          1.41688,
          1.55276,
          1.50575,
          1.42405,
          1.54557,
          1.78557,
          2.35989,
          1.39767,
          1.59118,
          1.76229,
          1.64197,
          1.49146,
          1.68146,
          1.7221,
          2.2928,
          1.32061,
          1.73552,
          2.66518,
          1.88784,
          1.99637,
          1.61869,
          2.58126,
          1.59029,
          1.52065,
          1.89603,
          1.85127,
          2.00257,
          1.65227,
          1.66237,
          2.1295,
          1.57152,
          2.10455,
          1.59114,
          2.44745,
          1.50512,
          2.00672,
          1.93813,
          2.10681,
          1.7355,
          2.16476,
          1.76358,
          2.04769,
          1.70891,
          1.97928,
          1.53039,
          2.16108,
          1.6503,
          1.60042,
          1.76869,
          1.47619,
          1.55065,
          2.19629,
          1.65341,
          2.02363,
          1.96585,
          1.61912,
          2.10695,
          1.94567,
          1.37556,
          2.5757,
          1.79819,
          2.70953,
          1.55817,
          1.69858,
          1.78513,
          1.63155,
          2.53347,
          2.08579,
          1.76787,
          1.65011,
          2.02714,
          1.61357,
          2.09558,
          1.65648,
          2.63375,
          1.59713,
          1.46862,
          2.40679,
          1.75982,
          1.68305,
          1.58675,
          2.64135,
          2.38317,
          1.4577,
          1.35773,
          2.49892,
          1.7003,
          2.12498,
          1.57394,
          1.72546,
          1.95919,
          1.34639,
          2.6019,
          1.61657,
          1.77108,
          1.80635,
          1.70924,
          1.6028,
          1.86774,
          2.05517,
          1.96025,
          1.50796,
          2.30658,
          1.44568,
          1.39726,
          1.91776,
          1.83752,
          1.49631,
          1.80428,
          1.66037,
          2.13732,
          1.87351,
          2.1176,
          2.0987,
          2.6725,
          2.10805,
          2.04892,
          1.83665,
          2.30358,
          2.07151,
          1.90174,
          2.41646,
          2.03255,
          1.60682,
          2.2149,
          1.93148,
          1.60353,
          1.91959,
          2.78231,
          1.65895,
          2.14988,
          2.38203,
          2.18982,
          1.92667,
          1.89311,
          2.06919,
          1.90606,
          2.39434,
          1.67377,
          1.75446,
          1.69599,
          1.58664,
          1.75112,
          1.76899,
          1.57255,
          1.90616,
          1.98202,
          1.92474,
          1.55359,
          2.57324,
          1.75178,
          1.56651,
          1.90955,
          2.39134,
          1.49169,
          2.21836,
          1.53736,
          1.63816,
          1.78406,
          1.85649,
          2.91285,
          1.70189,
          1.68527,
          1.68729,
          1.80912,
          1.80363,
          1.61861,
          1.79642,
          2.11559,
          2.07174,
          1.80478,
          1.69175,
          1.76223,
          1.62191,
          2.95475,
          1.83178,
          1.59828,
          1.77062,
          2.15465,
          2.0199,
          1.66938,
          2.09161,
          1.64954,
          1.66963,
          2.0802,
          1.68826,
          1.88594,
          2.33272,
          2.31881,
          1.82697,
          2.37714,
          2.53266,
          1.84856,
          2.04232,
          2.5721,
          1.95404,
          2.09088,
          2.87494,
          2.39287,
          2.45868,
          1.80227,
          2.9401,
          2.90419,
          2.72598,
          1.94509,
          3.0006,
          1.94131,
          1.73816,
          1.81263,
          3.38117,
          1.76856,
          1.662,
          2.44538,
          1.86208,
          1.84483,
          1.68194,
          1.89377,
          1.68314,
          1.72519,
          1.95058,
          2.06783,
          2.23258,
          1.79655,
          1.77874,
          2.24354,
          2.28613,
          2.80289,
          1.76962,
          1.89149,
          1.83355,
          1.80862,
          1.70945,
          2.00304,
          2.3323,
          1.65929,
          2.02979,
          1.78191,
          2.10181,
          2.38103,
          2.00458,
          1.97002,
          2.47922,
          1.74026,
          2.17045,
          2.12738,
          2.08394,
          2.18334,
          1.66579,
          1.73335,
          1.92169,
          1.99934,
          1.56142,
          1.97983,
          2.39335,
          1.91593,
          1.82671,
          1.42108,
          2.05218,
          1.42893,
          2.34323,
          2.53854,
          1.37313,
          2.22199,
          1.40241,
          1.4847,
          1.33821,
          2.01936,
          1.33539,
          1.94413,
          1.27569,
          2.26439,
          1.86705,
          2.06304,
          1.71579,
          1.48743,
          1.73867,
          1.5519,
          1.52633,
          2.08917,
          2.00988,
          1.56518,
          1.67119,
          1.89414,
          1.57185,
          1.5214,
          1.37853,
          2.33375,
          1.74038,
          1.9349,
          2.02069,
          1.67448,
          2.16059,
          2.18037,
          1.74179,
          1.50085,
          2.10443,
          1.48179,
          2.52022,
          1.24265,
          1.69199,
          1.96927,
          2.18804,
          2.85431,
          2.38902,
          1.90083,
          1.38901,
          2.02105,
          1.58902,
          1.95262,
          2.56146,
          1.61951,
          1.60554,
          2.048,
          1.99952,
          2.75642,
          1.71388,
          1.54488,
          1.73379,
          1.96726,
          1.46195,
          1.68125,
          1.46029,
          2.48421,
          1.09399,
          1.50678,
          2.80297,
          1.54167,
          1.88945,
          2.36548,
          1.79842,
          1.56672,
          1.81382,
          1.43336,
          2.19936,
          1.9851,
          2.10584,
          2.20336,
          1.54168,
          2.46001,
          1.78051,
          1.96183,
          1.99788,
          1.86028,
          1.80198,
          1.88807,
          1.61496,
          2.30454,
          1.92737,
          1.69654,
          2.62451,
          2.31276,
          1.69921,
          1.59495,
          1.78601,
          1.79999,
          1.54173,
          1.8822,
          1.86633,
          1.69057,
          2.10022,
          2.26949,
          2.26111,
          2.14744,
          1.91243,
          2.11576,
          2.78636,
          1.35673,
          1.68397,
          1.42117,
          1.79491,
          2.01624,
          1.59109,
          2.06209,
          1.44269,
          1.5551,
          2.4696,
          1.66048,
          1.63981,
          1.94931,
          1.63968,
          1.68634,
          1.16085,
          3.12873,
          1.11828,
          2.04553,
          2.24218,
          1.73637,
          1.8673,
          2.0853,
          1.98706,
          2.37963,
          1.74664,
          1.93567,
          1.84956,
          2.22833,
          2.23274,
          2.69761,
          2.26072,
          2.02372,
          2.51298,
          2.66665,
          2.28959,
          1.93558,
          2.2186,
          2.37368,
          2.24064,
          2.58692,
          2.1159,
          2.67452,
          2.64374,
          1.80959,
          2.29609,
          2.02793,
          2.37096,
          2.32013,
          2.67192,
          2.2963,
          2.41128,
          2.75839,
          1.65548,
          2.59831,
          2.45412,
          1.68708,
          1.56823,
          2.51647,
          2.60351,
          1.86432,
          2.70648,
          1.44275,
          1.46514,
          2.15644,
          1.75074,
          2.11417,
          1.88125,
          2.70635,
          1.88677,
          1.81021,
          2.79619,
          2.02084,
          1.79896,
          1.36955,
          1.60281,
          1.37015,
          2.7604,
          2.22866,
          1.61593,
          1.90705,
          1.8645,
          2.06925,
          1.96517,
          1.63756,
          1.34167,
          2.0025,
          1.84619,
          2.33155,
          2.57217,
          2.27623,
          2.17666,
          2.14141,
          1.90688,
          2.18246,
          2.73489,
          1.91605,
          1.74882,
          2.09801,
          2.10348,
          2.69213,
          2.64004,
          2.09462,
          2.23976,
          2.47736,
          2.6939,
          2.34956,
          2.28888,
          1.84093,
          1.79459,
          2.30013,
          1.92694,
          2.38995,
          2.43068,
          3.02808,
          1.68175,
          1.82696,
          1.85468,
          2.51572,
          1.91625,
          2.18628,
          1.9287,
          2.20463,
          2.04525,
          2.20513,
          2.03424,
          1.57674,
          2.36165,
          1.80938,
          1.80211,
          1.89037,
          1.98457,
          1.70231,
          1.72929,
          1.98319,
          1.35866,
          2.7036,
          1.88678,
          1.44219,
          2.48869,
          1.7643,
          1.30476,
          1.4088,
          2.22649,
          1.65016,
          1.62423,
          1.87707,
          2.85015,
          1.85484,
          2.56644,
          2.4178,
          1.44955,
          1.78042,
          2.28695,
          2.25071,
          1.78706,
          2.65858,
          2.56038,
          2.11154,
          1.58653,
          1.85207,
          1.62219,
          2.63475,
          1.94753,
          2.43607,
          1.59907,
          2.42126,
          1.55824,
          2.4906,
          1.73465,
          1.73744,
          1.68224,
          1.84732,
          1.933,
          1.51729,
          2.34818,
          2.26298,
          1.99292,
          1.82343,
          2.13201,
          2.85119,
          2.24291,
          1.64094,
          1.2372,
          2.64902,
          1.80036,
          1.50481,
          1.92246,
          1.38288,
          2.06624,
          1.67788,
          1.65377,
          1.8211,
          1.91169,
          2.32869,
          2.15641,
          1.92791,
          2.00273,
          1.90158,
          2.98464,
          2.64613,
          2.32963,
          1.97667,
          2.21657,
          1.57155,
          1.96361,
          1.72239,
          2.01877,
          1.61003,
          2.30549,
          1.87808,
          1.83928,
          2.20896,
          2.30593,
          2.41431,
          1.62606,
          1.94004,
          2.14882,
          1.76687,
          1.737,
          1.69974,
          1.95412,
          1.62904,
          2.2056,
          3.27412,
          2.57385,
          1.88996,
          2.47017,
          2.14509,
          2.38886,
          1.67562,
          1.87633,
          1.90325,
          2.09641,
          2.04273,
          1.85526,
          2.95067,
          2.5579,
          2.12637,
          1.97101,
          2.11421,
          1.75723,
          1.93544,
          1.82294,
          2.00112,
          1.5076,
          2.3896,
          2.05923,
          2.88937,
          2.87158,
          2.73504,
          2.04257,
          2.03565,
          2.81962,
          2.65158,
          1.94059,
          2.62407,
          2.93548,
          1.6172,
          2.06682,
          1.60471,
          2.68388,
          1.82638,
          2.22856,
          2.17043,
          2.03708,
          1.6753,
          1.45205,
          2.47623,
          2.64666,
          1.82872,
          2.34946,
          2.50928,
          2.03518,
          1.78851,
          2.84533,
          2.36608,
          1.59518,
          2.02165,
          2.1178,
          2.35188,
          2.14339,
          1.99089,
          2.35393,
          1.68919,
          1.56767,
          2.0439,
          2.12809,
          2.48063,
          1.72967,
          1.99695,
          1.66307,
          2.14521,
          2.15285,
          1.81605,
          2.1816,
          1.96224,
          1.81691,
          1.80318,
          1.98191,
          2.20923,
          1.72596,
          1.9004,
          1.93182,
          2.11581,
          1.79224,
          1.78293,
          2.46352,
          1.80431,
          2.65468,
          1.77884,
          1.79988,
          1.63257,
          1.84054,
          1.88455,
          1.7155,
          1.8944,
          2.18367,
          1.55194,
          1.95228,
          1.42167,
          1.68015,
          1.58816,
          2.25903,
          1.46883,
          1.65344,
          1.94721,
          2.10119,
          1.77459,
          1.658,
          2.12771,
          2.31274,
          2.07648,
          2.06448,
          1.73109,
          1.89587,
          2.30754,
          1.77178,
          1.47063,
          1.84399,
          1.28531,
          1.56369,
          1.43273,
          2.39441,
          1.96781,
          1.49229,
          1.58513,
          2.05566,
          1.78457,
          2.21841,
          1.7336,
          1.92028,
          2.02987,
          1.47858,
          2.762,
          1.7204,
          1.7037,
          1.21968,
          2.24264,
          3.06185,
          1.76,
          1.44198,
          1.92566,
          1.50244,
          2.10749,
          1.59318,
          1.95029,
          2.1316,
          1.51377,
          2.14407,
          2.35733,
          1.88609,
          2.95739,
          2.71546,
          1.60333,
          2.06064,
          1.79528,
          1.53464,
          1.35615,
          2.34835,
          1.9611,
          1.87868,
          2.25152,
          1.36316,
          1.74248,
          2.67168,
          1.61529,
          2.13476,
          1.8798,
          2.01011,
          1.85978,
          1.67355,
          2.90322,
          2.1167,
          1.61888,
          1.926,
          1.90251,
          1.48971,
          1.59182,
          1.44197,
          2.43636,
          1.46887,
          2.04973,
          1.50231,
          2.84656,
          2.46216,
          1.45537,
          2.58581,
          2.01262,
          1.77204,
          1.4358,
          1.8446,
          1.61963,
          1.98193,
          1.52023,
          1.6871,
          1.8942,
          1.37042,
          1.61997,
          1.95202,
          2.58053,
          1.63464,
          2.45902,
          1.432,
          1.24631,
          1.81343,
          2.46479,
          1.52458,
          1.3601,
          2.75354,
          1.99664,
          1.46289,
          1.67002,
          2.2079,
          1.29073,
          1.68658,
          1.86901,
          1.96846,
          1.99591,
          1.73386,
          1.73182,
          1.67571,
          1.43746,
          1.26944,
          1.67881,
          1.7174,
          1.41138,
          2.20812,
          2.31945,
          1.59179,
          1.80609,
          1.58206,
          1.6408,
          2.00745,
          1.6524,
          1.5781,
          1.61143,
          2.21378,
          1.61958,
          1.72062,
          2.5832,
          2.19494,
          1.6503,
          1.64845,
          1.92821,
          1.48966,
          1.56045,
          1.99327,
          1.98361,
          1.99936,
          2.28291,
          1.75612,
          2.3236,
          2.08369,
          2.2609,
          2.04654,
          1.71149,
          2.67156,
          1.79474,
          2.17372,
          1.62538,
          2.07233,
          2.05398,
          2.19313,
          1.77331,
          2.24766,
          1.30752,
          1.56282,
          2.05802,
          1.706,
          1.77605,
          1.49548,
          1.39632,
          1.67301,
          1.70504,
          2.37169,
          1.76446,
          1.42463,
          2.13657,
          2.47324,
          1.46276,
          1.55026,
          1.26445,
          2.78259,
          2.04556,
          2.03786,
          1.95847,
          1.64546,
          1.45071,
          1.88397,
          1.57335,
          2.31231,
          1.90824,
          1.7176,
          2.08397,
          2.03909,
          1.97314,
          1.51971,
          1.83745,
          1.90303,
          1.72495,
          2.01285,
          1.98435,
          1.43544,
          2.58849,
          1.67535,
          1.66922,
          1.89601,
          1.78097,
          1.8035,
          1.97394,
          1.79815,
          1.735,
          1.54685,
          1.61595,
          2.21098,
          1.50365,
          1.75535,
          1.50122,
          1.8354,
          2.07137,
          1.47194,
          1.81133,
          1.45546,
          1.74846,
          1.51139,
          2.08049,
          1.81759,
          1.61546,
          1.61002,
          1.41809,
          2.58795,
          2.13866,
          2.92665,
          3.04785,
          2.34975,
          2.70798,
          3.01122,
          3.28539,
          2.08612,
          2.21026,
          2.55768,
          1.61825,
          2.6273,
          1.99897,
          1.66264,
          2.70929,
          2.80263,
          1.48857,
          3.01487,
          1.66223,
          2.40184,
          3.02182,
          1.46694,
          2.78107,
          1.75376,
          2.5226,
          2.82494,
          1.68231,
          2.98307,
          2.6331,
          2.87818,
          1.89403,
          2.50663,
          1.83934,
          2.13082,
          1.78098,
          1.72054,
          2.2231,
          2.18849,
          1.70381,
          1.66977,
          3.09258,
          1.73927,
          1.89625,
          2.08561,
          2.262,
          2.05266,
          2.40664,
          1.55454,
          2.67981,
          1.81224,
          2.43325,
          1.68299,
          1.98983,
          2.6887,
          1.83228,
          2.68383,
          2.22819,
          1.94689,
          2.22103,
          1.86885,
          1.90818,
          1.4074,
          1.73528,
          1.93105,
          2.68692,
          2.48279,
          2.32357,
          1.76911,
          2.11053,
          2.23351,
          2.72464,
          1.83893,
          1.67483,
          2.14563,
          1.9484,
          1.71498,
          1.68244,
          1.88387,
          2.15229,
          1.75054,
          2.44542,
          1.99759,
          1.85815,
          2.44186,
          1.83541,
          2.05974,
          2.27343,
          2.66091,
          1.57392,
          2.31608,
          2.54156,
          2.09228,
          2.15661,
          2.01181,
          2.35415,
          2.13602,
          2.1049,
          2.09185,
          2.23407,
          2.0369,
          1.86702,
          2.0803,
          2.12877,
          1.67831,
          1.90183,
          1.89856,
          2.22972,
          2.80142,
          1.80764,
          2.04071,
          1.95327,
          2.15155,
          2.08864,
          1.85675,
          2.44871,
          2.5652,
          1.88059,
          1.75452,
          2.42315,
          1.55068,
          1.68604,
          2.08272,
          2.49433,
          1.62072,
          3.05427,
          1.78839,
          1.89258,
          1.58067,
          2.11814,
          2.46526,
          1.71872,
          2.52227,
          2.06545,
          1.65227,
          2.51987,
          2.67721,
          1.96803,
          1.8913,
          1.75917,
          1.9288,
          2.20489,
          1.94034,
          1.82143,
          1.88261,
          3.01986,
          1.91481,
          1.71507,
          2.48068,
          2.96726,
          2.18251,
          2.60199,
          2.0615,
          2.03224,
          1.84342,
          1.76234,
          2.04867,
          2.05206,
          1.9773,
          2.1624,
          2.07434,
          1.66138,
          1.71105,
          1.7382,
          1.67723,
          2.25316,
          1.74594,
          1.52169,
          1.93293,
          2.30017,
          1.91684,
          1.70021,
          1.81308,
          1.60658,
          1.90982,
          2.48527,
          2.08249,
          1.85945,
          1.71764,
          1.63365,
          1.73662,
          1.89253,
          1.44881,
          2.74014,
          2.02497,
          1.61794,
          2.02341,
          1.76837,
          1.95872,
          1.63208,
          1.6419,
          1.75668,
          1.40019,
          1.41046,
          2.67915,
          1.32567,
          1.85743,
          1.61786,
          1.5828,
          1.35732,
          1.74488,
          1.41243,
          1.4129,
          1.45255,
          2.05602,
          1.40423,
          1.32011,
          1.80407,
          2.56534,
          2.01972,
          2.57785,
          1.40214,
          1.69447,
          1.70224,
          2.31138,
          0.98796,
          2.3065,
          1.49006,
          1.4117,
          1.52034,
          1.98268,
          1.54349,
          1.87124,
          1.63376,
          2.67882,
          1.61246,
          1.51952,
          2.5294,
          1.81702,
          1.29634,
          1.43427,
          1.77039,
          1.92983,
          2.49253,
          1.75551,
          1.72273,
          1.46559,
          1.86337,
          1.57982,
          1.65603,
          1.89529,
          2.23541,
          1.59595,
          1.42862,
          1.95204,
          1.6767,
          1.29146,
          1.44966,
          1.55687,
          1.93919,
          1.99856,
          2.09177,
          1.19558,
          2.07441,
          1.9667,
          1.22458,
          2.07205,
          2.69489,
          1.43113,
          2.20038,
          1.57105,
          2.06781,
          2.2206,
          1.3974,
          1.46032,
          1.93067,
          1.93047,
          1.82569,
          2.39382,
          1.82288,
          1.49289,
          1.47645,
          1.92322,
          1.62985,
          1.62544,
          2.00617,
          2.25073,
          1.7488,
          1.80709,
          2.3055,
          1.32489,
          1.61861,
          1.97148,
          1.77299,
          1.98815,
          1.44922,
          1.82247,
          2.43765,
          1.91778,
          1.5997,
          2.4133,
          1.93306,
          2.78247,
          1.86395,
          1.82567,
          1.25598,
          1.44263,
          2.16171,
          1.50895,
          1.42456,
          1.62549,
          1.55372,
          1.56274,
          1.5651,
          1.80298,
          1.77972,
          1.60969,
          1.43659,
          2.33714,
          2.42823,
          1.80985,
          1.79671,
          2.14372,
          2.01154,
          1.60713,
          1.46868,
          1.77692,
          1.50186,
          1.73866,
          2.39551,
          1.45211,
          1.89846,
          2.40028,
          2.4018,
          2.59325,
          1.9611,
          2.49401,
          1.65099,
          1.69965,
          2.54849,
          1.67932,
          1.55459,
          2.5516,
          2.18182,
          2.28845,
          1.83738,
          1.97312,
          2.09906,
          1.30776,
          1.90202,
          2.48589,
          2.35389,
          1.60249,
          2.32775,
          2.70261,
          1.4788,
          1.5752,
          1.74277,
          2.06142,
          1.63652,
          2.01746,
          2.59291,
          1.70533,
          2.00367,
          2.14835,
          1.57549,
          1.6581,
          2.09065,
          2.1729,
          1.62293,
          2.8576,
          2.5995,
          1.77666,
          2.1364,
          2.04142,
          1.69126,
          1.62716,
          1.59381,
          1.82476,
          1.44147,
          1.46688,
          1.76828,
          1.59774,
          1.58169,
          2.18161,
          2.39662,
          1.90992,
          1.69403,
          1.74948,
          1.50829,
          1.55911,
          2.0341,
          1.6935,
          1.76172,
          1.60562,
          1.64474,
          1.83379,
          1.72129,
          1.49139,
          1.86782,
          1.65595,
          1.49444,
          1.43237,
          2.62173,
          1.77678,
          1.59672,
          1.58157,
          1.65537,
          1.97239,
          2.01302,
          2.24079,
          1.71162,
          1.7665,
          2.72207,
          1.96483,
          1.82219,
          1.82488,
          2.82703,
          1.75397,
          2.10751,
          1.48229,
          1.49115,
          2.20607,
          1.84472,
          1.78252,
          1.6087,
          1.49196,
          2.07616,
          1.70884,
          1.7415,
          2.2804,
          1.71331,
          1.91558,
          2.00845,
          1.70371,
          1.63823,
          1.55182,
          2.86149,
          1.58103,
          1.59312,
          1.48016,
          1.99532,
          1.95013,
          2.26104,
          1.71059,
          1.49815,
          1.56058,
          1.57623,
          2.00839,
          2.10677,
          1.88894,
          1.48384
         ],
         "xaxis": "x",
         "yaxis": "y"
        }
       ],
       "layout": {
        "annotations": [
         {
          "showarrow": false,
          "text": "1.90",
          "x": 1.9000240513626836,
          "xanchor": "right",
          "xref": "x",
          "y": 1,
          "yanchor": "top",
          "yref": "y domain"
         },
         {
          "showarrow": false,
          "text": "0.95",
          "x": 0.95,
          "xanchor": "right",
          "xref": "x",
          "y": 1,
          "yanchor": "top",
          "yref": "y domain"
         },
         {
          "showarrow": false,
          "text": "3.54",
          "x": 3.54,
          "xanchor": "right",
          "xref": "x",
          "y": 1,
          "yanchor": "top",
          "yref": "y domain"
         }
        ],
        "barmode": "relative",
        "height": 500,
        "legend": {
         "tracegroupgap": 0
        },
        "shapes": [
         {
          "line": {
           "color": "green",
           "width": 3
          },
          "type": "line",
          "x0": 1.9000240513626836,
          "x1": 1.9000240513626836,
          "xref": "x",
          "y0": 0,
          "y1": 1,
          "yref": "y domain"
         },
         {
          "line": {
           "color": "red",
           "dash": "dash",
           "width": 2
          },
          "type": "line",
          "x0": 0.95,
          "x1": 0.95,
          "xref": "x",
          "y0": 0,
          "y1": 1,
          "yref": "y domain"
         },
         {
          "line": {
           "color": "red",
           "dash": "dash",
           "width": 2
          },
          "type": "line",
          "x0": 3.54,
          "x1": 3.54,
          "xref": "x",
          "y0": 0,
          "y1": 1,
          "yref": "y domain"
         }
        ],
        "showlegend": false,
        "template": {
         "data": {
          "bar": [
           {
            "error_x": {
             "color": "#2a3f5f"
            },
            "error_y": {
             "color": "#2a3f5f"
            },
            "marker": {
             "line": {
              "color": "#E5ECF6",
              "width": 0.5
             },
             "pattern": {
              "fillmode": "overlay",
              "size": 10,
              "solidity": 0.2
             }
            },
            "type": "bar"
           }
          ],
          "barpolar": [
           {
            "marker": {
             "line": {
              "color": "#E5ECF6",
              "width": 0.5
             },
             "pattern": {
              "fillmode": "overlay",
              "size": 10,
              "solidity": 0.2
             }
            },
            "type": "barpolar"
           }
          ],
          "carpet": [
           {
            "aaxis": {
             "endlinecolor": "#2a3f5f",
             "gridcolor": "white",
             "linecolor": "white",
             "minorgridcolor": "white",
             "startlinecolor": "#2a3f5f"
            },
            "baxis": {
             "endlinecolor": "#2a3f5f",
             "gridcolor": "white",
             "linecolor": "white",
             "minorgridcolor": "white",
             "startlinecolor": "#2a3f5f"
            },
            "type": "carpet"
           }
          ],
          "choropleth": [
           {
            "colorbar": {
             "outlinewidth": 0,
             "ticks": ""
            },
            "type": "choropleth"
           }
          ],
          "contour": [
           {
            "colorbar": {
             "outlinewidth": 0,
             "ticks": ""
            },
            "colorscale": [
             [
              0,
              "#0d0887"
             ],
             [
              0.1111111111111111,
              "#46039f"
             ],
             [
              0.2222222222222222,
              "#7201a8"
             ],
             [
              0.3333333333333333,
              "#9c179e"
             ],
             [
              0.4444444444444444,
              "#bd3786"
             ],
             [
              0.5555555555555556,
              "#d8576b"
             ],
             [
              0.6666666666666666,
              "#ed7953"
             ],
             [
              0.7777777777777778,
              "#fb9f3a"
             ],
             [
              0.8888888888888888,
              "#fdca26"
             ],
             [
              1,
              "#f0f921"
             ]
            ],
            "type": "contour"
           }
          ],
          "contourcarpet": [
           {
            "colorbar": {
             "outlinewidth": 0,
             "ticks": ""
            },
            "type": "contourcarpet"
           }
          ],
          "heatmap": [
           {
            "colorbar": {
             "outlinewidth": 0,
             "ticks": ""
            },
            "colorscale": [
             [
              0,
              "#0d0887"
             ],
             [
              0.1111111111111111,
              "#46039f"
             ],
             [
              0.2222222222222222,
              "#7201a8"
             ],
             [
              0.3333333333333333,
              "#9c179e"
             ],
             [
              0.4444444444444444,
              "#bd3786"
             ],
             [
              0.5555555555555556,
              "#d8576b"
             ],
             [
              0.6666666666666666,
              "#ed7953"
             ],
             [
              0.7777777777777778,
              "#fb9f3a"
             ],
             [
              0.8888888888888888,
              "#fdca26"
             ],
             [
              1,
              "#f0f921"
             ]
            ],
            "type": "heatmap"
           }
          ],
          "heatmapgl": [
           {
            "colorbar": {
             "outlinewidth": 0,
             "ticks": ""
            },
            "colorscale": [
             [
              0,
              "#0d0887"
             ],
             [
              0.1111111111111111,
              "#46039f"
             ],
             [
              0.2222222222222222,
              "#7201a8"
             ],
             [
              0.3333333333333333,
              "#9c179e"
             ],
             [
              0.4444444444444444,
              "#bd3786"
             ],
             [
              0.5555555555555556,
              "#d8576b"
             ],
             [
              0.6666666666666666,
              "#ed7953"
             ],
             [
              0.7777777777777778,
              "#fb9f3a"
             ],
             [
              0.8888888888888888,
              "#fdca26"
             ],
             [
              1,
              "#f0f921"
             ]
            ],
            "type": "heatmapgl"
           }
          ],
          "histogram": [
           {
            "marker": {
             "pattern": {
              "fillmode": "overlay",
              "size": 10,
              "solidity": 0.2
             }
            },
            "type": "histogram"
           }
          ],
          "histogram2d": [
           {
            "colorbar": {
             "outlinewidth": 0,
             "ticks": ""
            },
            "colorscale": [
             [
              0,
              "#0d0887"
             ],
             [
              0.1111111111111111,
              "#46039f"
             ],
             [
              0.2222222222222222,
              "#7201a8"
             ],
             [
              0.3333333333333333,
              "#9c179e"
             ],
             [
              0.4444444444444444,
              "#bd3786"
             ],
             [
              0.5555555555555556,
              "#d8576b"
             ],
             [
              0.6666666666666666,
              "#ed7953"
             ],
             [
              0.7777777777777778,
              "#fb9f3a"
             ],
             [
              0.8888888888888888,
              "#fdca26"
             ],
             [
              1,
              "#f0f921"
             ]
            ],
            "type": "histogram2d"
           }
          ],
          "histogram2dcontour": [
           {
            "colorbar": {
             "outlinewidth": 0,
             "ticks": ""
            },
            "colorscale": [
             [
              0,
              "#0d0887"
             ],
             [
              0.1111111111111111,
              "#46039f"
             ],
             [
              0.2222222222222222,
              "#7201a8"
             ],
             [
              0.3333333333333333,
              "#9c179e"
             ],
             [
              0.4444444444444444,
              "#bd3786"
             ],
             [
              0.5555555555555556,
              "#d8576b"
             ],
             [
              0.6666666666666666,
              "#ed7953"
             ],
             [
              0.7777777777777778,
              "#fb9f3a"
             ],
             [
              0.8888888888888888,
              "#fdca26"
             ],
             [
              1,
              "#f0f921"
             ]
            ],
            "type": "histogram2dcontour"
           }
          ],
          "mesh3d": [
           {
            "colorbar": {
             "outlinewidth": 0,
             "ticks": ""
            },
            "type": "mesh3d"
           }
          ],
          "parcoords": [
           {
            "line": {
             "colorbar": {
              "outlinewidth": 0,
              "ticks": ""
             }
            },
            "type": "parcoords"
           }
          ],
          "pie": [
           {
            "automargin": true,
            "type": "pie"
           }
          ],
          "scatter": [
           {
            "fillpattern": {
             "fillmode": "overlay",
             "size": 10,
             "solidity": 0.2
            },
            "type": "scatter"
           }
          ],
          "scatter3d": [
           {
            "line": {
             "colorbar": {
              "outlinewidth": 0,
              "ticks": ""
             }
            },
            "marker": {
             "colorbar": {
              "outlinewidth": 0,
              "ticks": ""
             }
            },
            "type": "scatter3d"
           }
          ],
          "scattercarpet": [
           {
            "marker": {
             "colorbar": {
              "outlinewidth": 0,
              "ticks": ""
             }
            },
            "type": "scattercarpet"
           }
          ],
          "scattergeo": [
           {
            "marker": {
             "colorbar": {
              "outlinewidth": 0,
              "ticks": ""
             }
            },
            "type": "scattergeo"
           }
          ],
          "scattergl": [
           {
            "marker": {
             "colorbar": {
              "outlinewidth": 0,
              "ticks": ""
             }
            },
            "type": "scattergl"
           }
          ],
          "scattermapbox": [
           {
            "marker": {
             "colorbar": {
              "outlinewidth": 0,
              "ticks": ""
             }
            },
            "type": "scattermapbox"
           }
          ],
          "scatterpolar": [
           {
            "marker": {
             "colorbar": {
              "outlinewidth": 0,
              "ticks": ""
             }
            },
            "type": "scatterpolar"
           }
          ],
          "scatterpolargl": [
           {
            "marker": {
             "colorbar": {
              "outlinewidth": 0,
              "ticks": ""
             }
            },
            "type": "scatterpolargl"
           }
          ],
          "scatterternary": [
           {
            "marker": {
             "colorbar": {
              "outlinewidth": 0,
              "ticks": ""
             }
            },
            "type": "scatterternary"
           }
          ],
          "surface": [
           {
            "colorbar": {
             "outlinewidth": 0,
             "ticks": ""
            },
            "colorscale": [
             [
              0,
              "#0d0887"
             ],
             [
              0.1111111111111111,
              "#46039f"
             ],
             [
              0.2222222222222222,
              "#7201a8"
             ],
             [
              0.3333333333333333,
              "#9c179e"
             ],
             [
              0.4444444444444444,
              "#bd3786"
             ],
             [
              0.5555555555555556,
              "#d8576b"
             ],
             [
              0.6666666666666666,
              "#ed7953"
             ],
             [
              0.7777777777777778,
              "#fb9f3a"
             ],
             [
              0.8888888888888888,
              "#fdca26"
             ],
             [
              1,
              "#f0f921"
             ]
            ],
            "type": "surface"
           }
          ],
          "table": [
           {
            "cells": {
             "fill": {
              "color": "#EBF0F8"
             },
             "line": {
              "color": "white"
             }
            },
            "header": {
             "fill": {
              "color": "#C8D4E3"
             },
             "line": {
              "color": "white"
             }
            },
            "type": "table"
           }
          ]
         },
         "layout": {
          "annotationdefaults": {
           "arrowcolor": "#2a3f5f",
           "arrowhead": 0,
           "arrowwidth": 1
          },
          "autotypenumbers": "strict",
          "coloraxis": {
           "colorbar": {
            "outlinewidth": 0,
            "ticks": ""
           }
          },
          "colorscale": {
           "diverging": [
            [
             0,
             "#8e0152"
            ],
            [
             0.1,
             "#c51b7d"
            ],
            [
             0.2,
             "#de77ae"
            ],
            [
             0.3,
             "#f1b6da"
            ],
            [
             0.4,
             "#fde0ef"
            ],
            [
             0.5,
             "#f7f7f7"
            ],
            [
             0.6,
             "#e6f5d0"
            ],
            [
             0.7,
             "#b8e186"
            ],
            [
             0.8,
             "#7fbc41"
            ],
            [
             0.9,
             "#4d9221"
            ],
            [
             1,
             "#276419"
            ]
           ],
           "sequential": [
            [
             0,
             "#0d0887"
            ],
            [
             0.1111111111111111,
             "#46039f"
            ],
            [
             0.2222222222222222,
             "#7201a8"
            ],
            [
             0.3333333333333333,
             "#9c179e"
            ],
            [
             0.4444444444444444,
             "#bd3786"
            ],
            [
             0.5555555555555556,
             "#d8576b"
            ],
            [
             0.6666666666666666,
             "#ed7953"
            ],
            [
             0.7777777777777778,
             "#fb9f3a"
            ],
            [
             0.8888888888888888,
             "#fdca26"
            ],
            [
             1,
             "#f0f921"
            ]
           ],
           "sequentialminus": [
            [
             0,
             "#0d0887"
            ],
            [
             0.1111111111111111,
             "#46039f"
            ],
            [
             0.2222222222222222,
             "#7201a8"
            ],
            [
             0.3333333333333333,
             "#9c179e"
            ],
            [
             0.4444444444444444,
             "#bd3786"
            ],
            [
             0.5555555555555556,
             "#d8576b"
            ],
            [
             0.6666666666666666,
             "#ed7953"
            ],
            [
             0.7777777777777778,
             "#fb9f3a"
            ],
            [
             0.8888888888888888,
             "#fdca26"
            ],
            [
             1,
             "#f0f921"
            ]
           ]
          },
          "colorway": [
           "#636efa",
           "#EF553B",
           "#00cc96",
           "#ab63fa",
           "#FFA15A",
           "#19d3f3",
           "#FF6692",
           "#B6E880",
           "#FF97FF",
           "#FECB52"
          ],
          "font": {
           "color": "#2a3f5f"
          },
          "geo": {
           "bgcolor": "white",
           "lakecolor": "white",
           "landcolor": "#E5ECF6",
           "showlakes": true,
           "showland": true,
           "subunitcolor": "white"
          },
          "hoverlabel": {
           "align": "left"
          },
          "hovermode": "closest",
          "mapbox": {
           "style": "light"
          },
          "paper_bgcolor": "white",
          "plot_bgcolor": "#E5ECF6",
          "polar": {
           "angularaxis": {
            "gridcolor": "white",
            "linecolor": "white",
            "ticks": ""
           },
           "bgcolor": "#E5ECF6",
           "radialaxis": {
            "gridcolor": "white",
            "linecolor": "white",
            "ticks": ""
           }
          },
          "scene": {
           "xaxis": {
            "backgroundcolor": "#E5ECF6",
            "gridcolor": "white",
            "gridwidth": 2,
            "linecolor": "white",
            "showbackground": true,
            "ticks": "",
            "zerolinecolor": "white"
           },
           "yaxis": {
            "backgroundcolor": "#E5ECF6",
            "gridcolor": "white",
            "gridwidth": 2,
            "linecolor": "white",
            "showbackground": true,
            "ticks": "",
            "zerolinecolor": "white"
           },
           "zaxis": {
            "backgroundcolor": "#E5ECF6",
            "gridcolor": "white",
            "gridwidth": 2,
            "linecolor": "white",
            "showbackground": true,
            "ticks": "",
            "zerolinecolor": "white"
           }
          },
          "shapedefaults": {
           "line": {
            "color": "#2a3f5f"
           }
          },
          "ternary": {
           "aaxis": {
            "gridcolor": "white",
            "linecolor": "white",
            "ticks": ""
           },
           "baxis": {
            "gridcolor": "white",
            "linecolor": "white",
            "ticks": ""
           },
           "bgcolor": "#E5ECF6",
           "caxis": {
            "gridcolor": "white",
            "linecolor": "white",
            "ticks": ""
           }
          },
          "title": {
           "x": 0.05
          },
          "xaxis": {
           "automargin": true,
           "gridcolor": "white",
           "linecolor": "white",
           "ticks": "",
           "title": {
            "standoff": 15
           },
           "zerolinecolor": "white",
           "zerolinewidth": 2
          },
          "yaxis": {
           "automargin": true,
           "gridcolor": "white",
           "linecolor": "white",
           "ticks": "",
           "title": {
            "standoff": 15
           },
           "zerolinecolor": "white",
           "zerolinewidth": 2
          }
         }
        },
        "title": {
         "text": "Thickness Distribution of 8 oz T Tenderloin A"
        },
        "width": 1000,
        "xaxis": {
         "anchor": "y",
         "autorange": true,
         "domain": [
          0,
          1
         ],
         "range": [
          0.8000000000000002,
          3.54326579261025
         ],
         "title": {
          "text": "Height (in)"
         },
         "type": "linear"
        },
        "yaxis": {
         "anchor": "x",
         "autorange": true,
         "domain": [
          0,
          1
         ],
         "range": [
          0,
          422.10526315789474
         ],
         "title": {
          "text": "Count"
         }
        }
       }
      },
      "image/png": "[encoded data removed]",
      "text/html": [
       "<div>                            <div id=\"e695d2c1-220f-4ba6-b89a-a0ebd2dd208d\" class=\"plotly-graph-div\" style=\"height:500px; width:1000px;\"></div>            <script type=\"text/javascript\">                require([\"plotly\"], function(Plotly) {                    window.PLOTLYENV=window.PLOTLYENV || {};                                    if (document.getElementById(\"e695d2c1-220f-4ba6-b89a-a0ebd2dd208d\")) {                    Plotly.newPlot(                        \"e695d2c1-220f-4ba6-b89a-a0ebd2dd208d\",                        [{\"alignmentgroup\":\"True\",\"bingroup\":\"x\",\"hovertemplate\":\"measured_height=%{x}<br>count=%{y}<extra></extra>\",\"legendgroup\":\"\",\"marker\":{\"color\":\"#636efa\",\"pattern\":{\"shape\":\"\"}},\"name\":\"\",\"nbinsx\":20,\"offsetgroup\":\"\",\"orientation\":\"v\",\"showlegend\":false,\"x\":[1.69248,1.43884,2.52096,1.43432,1.97116,1.62124,1.51866,2.06541,2.07027,2.03675,1.52341,1.79721,1.87182,2.91145,1.91834,1.45661,1.54911,1.59475,1.61411,1.9624,1.88285,1.86282,1.89906,1.58625,1.45762,2.41412,1.92064,1.87914,1.94138,1.6959,1.69509,1.88833,1.95438,1.63553,1.61677,1.49263,1.56847,1.84319,2.33364,1.47093,1.55709,2.11604,1.77356,1.61154,2.41634,1.93124,2.03996,1.37683,1.7019,2.30568,1.36967,1.80882,2.17503,1.86504,2.36269,2.59315,1.86646,2.59801,2.59648,1.30807,1.7364,2.2937,1.61895,1.28527,2.32076,2.30824,1.64422,1.87248,1.35955,2.34797,1.94901,2.46045,1.77074,1.62263,1.6727,1.88654,2.03114,1.64001,2.07414,1.69471,2.36551,1.78229,1.93333,1.95003,1.6319,2.48575,1.96795,2.21784,1.85896,2.28823,2.52739,1.50748,2.52412,2.62631,1.41021,2.01377,2.38903,1.20683,2.42362,1.60137,2.48517,1.79035,2.81779,2.42041,1.50425,2.32478,2.50596,2.41139,2.04476,2.02042,1.71546,1.78802,2.30999,1.71119,1.8196,2.46505,1.89193,1.21456,2.26101,1.43117,1.86661,1.70978,1.68899,1.90525,1.63141,1.9964,1.70495,1.93036,1.46692,1.73011,2.3477,2.63178,2.13899,2.5694,1.66629,2.05313,2.10459,2.27116,2.23994,1.61536,2.14105,2.77132,2.01337,1.63809,2.13021,1.5344,2.48701,1.47111,1.6519,1.79463,1.50763,1.52617,1.5917,2.05237,1.63184,1.55692,1.56073,2.96671,2.48783,1.63372,1.5702,1.70012,1.42025,2.02511,2.1674,2.08727,1.72898,1.63763,1.90968,2.41998,1.9169,2.55638,1.81085,1.40725,1.65901,2.74604,1.56765,2.68366,1.75902,1.56132,1.75649,1.65953,1.78812,1.73248,2.13575,1.52432,1.43454,1.6764,1.96402,1.72743,1.81032,1.97829,1.78115,2.1281,1.86364,1.54418,2.08755,1.4759,1.69057,2.21689,1.62938,1.64195,1.81315,2.59108,2.23276,1.62402,1.86867,1.76751,2.17045,2.07263,1.73127,1.78753,2.01872,1.62425,1.53045,1.59843,2.77413,2.71023,1.60658,1.53913,1.96221,2.09767,2.50312,1.56313,1.32119,1.76486,2.13489,1.61152,1.671,1.87257,1.49101,1.53647,1.22398,1.39326,1.40533,2.55913,1.94851,1.94326,2.18954,1.91982,1.70327,1.86967,2.09703,2.03555,2.85449,1.88555,2.19052,1.67613,2.35091,1.60441,1.85598,1.94485,1.93107,1.61882,1.3899,1.55086,1.30107,1.30348,1.30765,1.27473,1.41942,1.34447,1.34177,1.39959,1.29115,1.6568,1.55756,1.25069,1.38249,1.2974,1.46066,1.32093,1.17583,1.37601,1.54793,1.06221,1.7616,1.13503,1.39672,1.05887,1.42802,1.50148,1.10335,1.28207,1.31061,1.27426,1.21288,1.26306,1.20263,1.44939,1.37749,1.30376,1.27467,1.34089,1.30202,1.49975,1.29197,1.36774,1.19001,1.42084,1.44167,1.13639,1.21391,1.32598,1.30652,1.29275,1.2979,1.36221,1.14403,1.15453,1.22497,1.44124,1.44688,1.44771,1.23485,1.42171,1.36143,1.29652,1.36447,1.16775,1.25762,1.2706,1.39944,1.42647,1.29234,1.40304,1.48057,1.22748,1.28763,1.29858,1.30069,1.14611,1.26407,1.32374,1.48508,1.58814,1.4738,1.26777,1.37357,1.36263,1.55855,1.29071,1.38472,1.53531,1.24653,1.20245,1.28789,1.355,1.37281,1.39577,1.50105,1.31847,1.23225,1.17995,1.26377,1.44533,1.36078,1.22049,1.52613,1.59805,1.34165,1.43109,1.48857,1.50564,1.5172,1.51485,1.41845,1.29716,1.13893,1.31313,1.1883,1.36582,1.33824,1.14629,1.27756,1.43718,1.371,1.47067,1.38942,1.5211,1.24258,1.39709,1.33602,1.4685,1.3525,1.28586,1.66302,1.27611,1.36685,1.33319,1.29583,1.11566,1.36771,1.1747,1.32962,1.30439,1.83969,1.66096,2.19401,1.53933,2.27905,2.39868,2.0169,1.76101,2.10515,1.75198,2.239,2.89687,1.3906,1.8594,2.52264,1.53321,2.51622,1.81651,2.11862,1.62043,1.45813,1.75949,2.13721,2.45657,1.44271,1.68011,2.68144,1.93009,2.02789,2.3649,2.08936,1.62024,1.8429,2.29742,1.50179,1.38882,1.81479,1.83076,2.37907,1.61073,1.55909,2.21738,2.24088,1.66527,1.73283,1.65872,1.75168,2.22579,1.31205,2.14118,2.13022,1.45911,1.85582,1.41533,2.3535,2.05778,1.4058,1.43138,1.71549,2.59172,1.65483,1.99825,2.20462,1.74261,1.59785,1.95417,1.87375,1.9319,1.81669,1.82043,1.4802,2.10751,1.38432,2.3458,1.65243,2.16753,2.05453,1.99297,2.17397,1.52226,2.07134,2.24476,1.9939,1.59833,1.72413,1.51009,2.68932,1.77237,1.41105,1.55879,1.52291,2.44251,1.77645,1.84459,1.68057,1.65575,2.1112,2.11614,2.36888,1.83008,2.21588,1.53977,1.91083,1.44879,2.05722,2.14189,1.76092,2.69921,1.86135,1.85514,2.48468,1.8843,1.51148,2.013,2.51723,2.06214,2.68524,2.02966,2.65123,1.93368,2.39468,2.27248,2.2507,1.51199,1.59007,1.88015,2.22397,2.0912,1.61656,1.82893,2.01918,2.04731,1.50726,1.41316,2.71581,1.36337,1.42326,2.51787,1.491,1.84593,2.01847,1.92569,2.14708,2.71916,1.89113,1.91478,1.56739,1.65468,2.51156,1.78407,1.3917,1.75086,1.46392,1.41688,1.55276,1.50575,1.42405,1.54557,1.78557,2.35989,1.39767,1.59118,1.76229,1.64197,1.49146,1.68146,1.7221,2.2928,1.32061,1.73552,2.66518,1.88784,1.99637,1.61869,2.58126,1.59029,1.52065,1.89603,1.85127,2.00257,1.65227,1.66237,2.1295,1.57152,2.10455,1.59114,2.44745,1.50512,2.00672,1.93813,2.10681,1.7355,2.16476,1.76358,2.04769,1.70891,1.97928,1.53039,2.16108,1.6503,1.60042,1.76869,1.47619,1.55065,2.19629,1.65341,2.02363,1.96585,1.61912,2.10695,1.94567,1.37556,2.5757,1.79819,2.70953,1.55817,1.69858,1.78513,1.63155,2.53347,2.08579,1.76787,1.65011,2.02714,1.61357,2.09558,1.65648,2.63375,1.59713,1.46862,2.40679,1.75982,1.68305,1.58675,2.64135,2.38317,1.4577,1.35773,2.49892,1.7003,2.12498,1.57394,1.72546,1.95919,1.34639,2.6019,1.61657,1.77108,1.80635,1.70924,1.6028,1.86774,2.05517,1.96025,1.50796,2.30658,1.44568,1.39726,1.91776,1.83752,1.49631,1.80428,1.66037,2.13732,1.87351,2.1176,2.0987,2.6725,2.10805,2.04892,1.83665,2.30358,2.07151,1.90174,2.41646,2.03255,1.60682,2.2149,1.93148,1.60353,1.91959,2.78231,1.65895,2.14988,2.38203,2.18982,1.92667,1.89311,2.06919,1.90606,2.39434,1.67377,1.75446,1.69599,1.58664,1.75112,1.76899,1.57255,1.90616,1.98202,1.92474,1.55359,2.57324,1.75178,1.56651,1.90955,2.39134,1.49169,2.21836,1.53736,1.63816,1.78406,1.85649,2.91285,1.70189,1.68527,1.68729,1.80912,1.80363,1.61861,1.79642,2.11559,2.07174,1.80478,1.69175,1.76223,1.62191,2.95475,1.83178,1.59828,1.77062,2.15465,2.0199,1.66938,2.09161,1.64954,1.66963,2.0802,1.68826,1.88594,2.33272,2.31881,1.82697,2.37714,2.53266,1.84856,2.04232,2.5721,1.95404,2.09088,2.87494,2.39287,2.45868,1.80227,2.9401,2.90419,2.72598,1.94509,3.0006,1.94131,1.73816,1.81263,3.38117,1.76856,1.662,2.44538,1.86208,1.84483,1.68194,1.89377,1.68314,1.72519,1.95058,2.06783,2.23258,1.79655,1.77874,2.24354,2.28613,2.80289,1.76962,1.89149,1.83355,1.80862,1.70945,2.00304,2.3323,1.65929,2.02979,1.78191,2.10181,2.38103,2.00458,1.97002,2.47922,1.74026,2.17045,2.12738,2.08394,2.18334,1.66579,1.73335,1.92169,1.99934,1.56142,1.97983,2.39335,1.91593,1.82671,1.42108,2.05218,1.42893,2.34323,2.53854,1.37313,2.22199,1.40241,1.4847,1.33821,2.01936,1.33539,1.94413,1.27569,2.26439,1.86705,2.06304,1.71579,1.48743,1.73867,1.5519,1.52633,2.08917,2.00988,1.56518,1.67119,1.89414,1.57185,1.5214,1.37853,2.33375,1.74038,1.9349,2.02069,1.67448,2.16059,2.18037,1.74179,1.50085,2.10443,1.48179,2.52022,1.24265,1.69199,1.96927,2.18804,2.85431,2.38902,1.90083,1.38901,2.02105,1.58902,1.95262,2.56146,1.61951,1.60554,2.048,1.99952,2.75642,1.71388,1.54488,1.73379,1.96726,1.46195,1.68125,1.46029,2.48421,1.09399,1.50678,2.80297,1.54167,1.88945,2.36548,1.79842,1.56672,1.81382,1.43336,2.19936,1.9851,2.10584,2.20336,1.54168,2.46001,1.78051,1.96183,1.99788,1.86028,1.80198,1.88807,1.61496,2.30454,1.92737,1.69654,2.62451,2.31276,1.69921,1.59495,1.78601,1.79999,1.54173,1.8822,1.86633,1.69057,2.10022,2.26949,2.26111,2.14744,1.91243,2.11576,2.78636,1.35673,1.68397,1.42117,1.79491,2.01624,1.59109,2.06209,1.44269,1.5551,2.4696,1.66048,1.63981,1.94931,1.63968,1.68634,1.16085,3.12873,1.11828,2.04553,2.24218,1.73637,1.8673,2.0853,1.98706,2.37963,1.74664,1.93567,1.84956,2.22833,2.23274,2.69761,2.26072,2.02372,2.51298,2.66665,2.28959,1.93558,2.2186,2.37368,2.24064,2.58692,2.1159,2.67452,2.64374,1.80959,2.29609,2.02793,2.37096,2.32013,2.67192,2.2963,2.41128,2.75839,1.65548,2.59831,2.45412,1.68708,1.56823,2.51647,2.60351,1.86432,2.70648,1.44275,1.46514,2.15644,1.75074,2.11417,1.88125,2.70635,1.88677,1.81021,2.79619,2.02084,1.79896,1.36955,1.60281,1.37015,2.7604,2.22866,1.61593,1.90705,1.8645,2.06925,1.96517,1.63756,1.34167,2.0025,1.84619,2.33155,2.57217,2.27623,2.17666,2.14141,1.90688,2.18246,2.73489,1.91605,1.74882,2.09801,2.10348,2.69213,2.64004,2.09462,2.23976,2.47736,2.6939,2.34956,2.28888,1.84093,1.79459,2.30013,1.92694,2.38995,2.43068,3.02808,1.68175,1.82696,1.85468,2.51572,1.91625,2.18628,1.9287,2.20463,2.04525,2.20513,2.03424,1.57674,2.36165,1.80938,1.80211,1.89037,1.98457,1.70231,1.72929,1.98319,1.35866,2.7036,1.88678,1.44219,2.48869,1.7643,1.30476,1.4088,2.22649,1.65016,1.62423,1.87707,2.85015,1.85484,2.56644,2.4178,1.44955,1.78042,2.28695,2.25071,1.78706,2.65858,2.56038,2.11154,1.58653,1.85207,1.62219,2.63475,1.94753,2.43607,1.59907,2.42126,1.55824,2.4906,1.73465,1.73744,1.68224,1.84732,1.933,1.51729,2.34818,2.26298,1.99292,1.82343,2.13201,2.85119,2.24291,1.64094,1.2372,2.64902,1.80036,1.50481,1.92246,1.38288,2.06624,1.67788,1.65377,1.8211,1.91169,2.32869,2.15641,1.92791,2.00273,1.90158,2.98464,2.64613,2.32963,1.97667,2.21657,1.57155,1.96361,1.72239,2.01877,1.61003,2.30549,1.87808,1.83928,2.20896,2.30593,2.41431,1.62606,1.94004,2.14882,1.76687,1.737,1.69974,1.95412,1.62904,2.2056,3.27412,2.57385,1.88996,2.47017,2.14509,2.38886,1.67562,1.87633,1.90325,2.09641,2.04273,1.85526,2.95067,2.5579,2.12637,1.97101,2.11421,1.75723,1.93544,1.82294,2.00112,1.5076,2.3896,2.05923,2.88937,2.87158,2.73504,2.04257,2.03565,2.81962,2.65158,1.94059,2.62407,2.93548,1.6172,2.06682,1.60471,2.68388,1.82638,2.22856,2.17043,2.03708,1.6753,1.45205,2.47623,2.64666,1.82872,2.34946,2.50928,2.03518,1.78851,2.84533,2.36608,1.59518,2.02165,2.1178,2.35188,2.14339,1.99089,2.35393,1.68919,1.56767,2.0439,2.12809,2.48063,1.72967,1.99695,1.66307,2.14521,2.15285,1.81605,2.1816,1.96224,1.81691,1.80318,1.98191,2.20923,1.72596,1.9004,1.93182,2.11581,1.79224,1.78293,2.46352,1.80431,2.65468,1.77884,1.79988,1.63257,1.84054,1.88455,1.7155,1.8944,2.18367,1.55194,1.95228,1.42167,1.68015,1.58816,2.25903,1.46883,1.65344,1.94721,2.10119,1.77459,1.658,2.12771,2.31274,2.07648,2.06448,1.73109,1.89587,2.30754,1.77178,1.47063,1.84399,1.28531,1.56369,1.43273,2.39441,1.96781,1.49229,1.58513,2.05566,1.78457,2.21841,1.7336,1.92028,2.02987,1.47858,2.762,1.7204,1.7037,1.21968,2.24264,3.06185,1.76,1.44198,1.92566,1.50244,2.10749,1.59318,1.95029,2.1316,1.51377,2.14407,2.35733,1.88609,2.95739,2.71546,1.60333,2.06064,1.79528,1.53464,1.35615,2.34835,1.9611,1.87868,2.25152,1.36316,1.74248,2.67168,1.61529,2.13476,1.8798,2.01011,1.85978,1.67355,2.90322,2.1167,1.61888,1.926,1.90251,1.48971,1.59182,1.44197,2.43636,1.46887,2.04973,1.50231,2.84656,2.46216,1.45537,2.58581,2.01262,1.77204,1.4358,1.8446,1.61963,1.98193,1.52023,1.6871,1.8942,1.37042,1.61997,1.95202,2.58053,1.63464,2.45902,1.432,1.24631,1.81343,2.46479,1.52458,1.3601,2.75354,1.99664,1.46289,1.67002,2.2079,1.29073,1.68658,1.86901,1.96846,1.99591,1.73386,1.73182,1.67571,1.43746,1.26944,1.67881,1.7174,1.41138,2.20812,2.31945,1.59179,1.80609,1.58206,1.6408,2.00745,1.6524,1.5781,1.61143,2.21378,1.61958,1.72062,2.5832,2.19494,1.6503,1.64845,1.92821,1.48966,1.56045,1.99327,1.98361,1.99936,2.28291,1.75612,2.3236,2.08369,2.2609,2.04654,1.71149,2.67156,1.79474,2.17372,1.62538,2.07233,2.05398,2.19313,1.77331,2.24766,1.30752,1.56282,2.05802,1.706,1.77605,1.49548,1.39632,1.67301,1.70504,2.37169,1.76446,1.42463,2.13657,2.47324,1.46276,1.55026,1.26445,2.78259,2.04556,2.03786,1.95847,1.64546,1.45071,1.88397,1.57335,2.31231,1.90824,1.7176,2.08397,2.03909,1.97314,1.51971,1.83745,1.90303,1.72495,2.01285,1.98435,1.43544,2.58849,1.67535,1.66922,1.89601,1.78097,1.8035,1.97394,1.79815,1.735,1.54685,1.61595,2.21098,1.50365,1.75535,1.50122,1.8354,2.07137,1.47194,1.81133,1.45546,1.74846,1.51139,2.08049,1.81759,1.61546,1.61002,1.41809,2.58795,2.13866,2.92665,3.04785,2.34975,2.70798,3.01122,3.28539,2.08612,2.21026,2.55768,1.61825,2.6273,1.99897,1.66264,2.70929,2.80263,1.48857,3.01487,1.66223,2.40184,3.02182,1.46694,2.78107,1.75376,2.5226,2.82494,1.68231,2.98307,2.6331,2.87818,1.89403,2.50663,1.83934,2.13082,1.78098,1.72054,2.2231,2.18849,1.70381,1.66977,3.09258,1.73927,1.89625,2.08561,2.262,2.05266,2.40664,1.55454,2.67981,1.81224,2.43325,1.68299,1.98983,2.6887,1.83228,2.68383,2.22819,1.94689,2.22103,1.86885,1.90818,1.4074,1.73528,1.93105,2.68692,2.48279,2.32357,1.76911,2.11053,2.23351,2.72464,1.83893,1.67483,2.14563,1.9484,1.71498,1.68244,1.88387,2.15229,1.75054,2.44542,1.99759,1.85815,2.44186,1.83541,2.05974,2.27343,2.66091,1.57392,2.31608,2.54156,2.09228,2.15661,2.01181,2.35415,2.13602,2.1049,2.09185,2.23407,2.0369,1.86702,2.0803,2.12877,1.67831,1.90183,1.89856,2.22972,2.80142,1.80764,2.04071,1.95327,2.15155,2.08864,1.85675,2.44871,2.5652,1.88059,1.75452,2.42315,1.55068,1.68604,2.08272,2.49433,1.62072,3.05427,1.78839,1.89258,1.58067,2.11814,2.46526,1.71872,2.52227,2.06545,1.65227,2.51987,2.67721,1.96803,1.8913,1.75917,1.9288,2.20489,1.94034,1.82143,1.88261,3.01986,1.91481,1.71507,2.48068,2.96726,2.18251,2.60199,2.0615,2.03224,1.84342,1.76234,2.04867,2.05206,1.9773,2.1624,2.07434,1.66138,1.71105,1.7382,1.67723,2.25316,1.74594,1.52169,1.93293,2.30017,1.91684,1.70021,1.81308,1.60658,1.90982,2.48527,2.08249,1.85945,1.71764,1.63365,1.73662,1.89253,1.44881,2.74014,2.02497,1.61794,2.02341,1.76837,1.95872,1.63208,1.6419,1.75668,1.40019,1.41046,2.67915,1.32567,1.85743,1.61786,1.5828,1.35732,1.74488,1.41243,1.4129,1.45255,2.05602,1.40423,1.32011,1.80407,2.56534,2.01972,2.57785,1.40214,1.69447,1.70224,2.31138,0.98796,2.3065,1.49006,1.4117,1.52034,1.98268,1.54349,1.87124,1.63376,2.67882,1.61246,1.51952,2.5294,1.81702,1.29634,1.43427,1.77039,1.92983,2.49253,1.75551,1.72273,1.46559,1.86337,1.57982,1.65603,1.89529,2.23541,1.59595,1.42862,1.95204,1.6767,1.29146,1.44966,1.55687,1.93919,1.99856,2.09177,1.19558,2.07441,1.9667,1.22458,2.07205,2.69489,1.43113,2.20038,1.57105,2.06781,2.2206,1.3974,1.46032,1.93067,1.93047,1.82569,2.39382,1.82288,1.49289,1.47645,1.92322,1.62985,1.62544,2.00617,2.25073,1.7488,1.80709,2.3055,1.32489,1.61861,1.97148,1.77299,1.98815,1.44922,1.82247,2.43765,1.91778,1.5997,2.4133,1.93306,2.78247,1.86395,1.82567,1.25598,1.44263,2.16171,1.50895,1.42456,1.62549,1.55372,1.56274,1.5651,1.80298,1.77972,1.60969,1.43659,2.33714,2.42823,1.80985,1.79671,2.14372,2.01154,1.60713,1.46868,1.77692,1.50186,1.73866,2.39551,1.45211,1.89846,2.40028,2.4018,2.59325,1.9611,2.49401,1.65099,1.69965,2.54849,1.67932,1.55459,2.5516,2.18182,2.28845,1.83738,1.97312,2.09906,1.30776,1.90202,2.48589,2.35389,1.60249,2.32775,2.70261,1.4788,1.5752,1.74277,2.06142,1.63652,2.01746,2.59291,1.70533,2.00367,2.14835,1.57549,1.6581,2.09065,2.1729,1.62293,2.8576,2.5995,1.77666,2.1364,2.04142,1.69126,1.62716,1.59381,1.82476,1.44147,1.46688,1.76828,1.59774,1.58169,2.18161,2.39662,1.90992,1.69403,1.74948,1.50829,1.55911,2.0341,1.6935,1.76172,1.60562,1.64474,1.83379,1.72129,1.49139,1.86782,1.65595,1.49444,1.43237,2.62173,1.77678,1.59672,1.58157,1.65537,1.97239,2.01302,2.24079,1.71162,1.7665,2.72207,1.96483,1.82219,1.82488,2.82703,1.75397,2.10751,1.48229,1.49115,2.20607,1.84472,1.78252,1.6087,1.49196,2.07616,1.70884,1.7415,2.2804,1.71331,1.91558,2.00845,1.70371,1.63823,1.55182,2.86149,1.58103,1.59312,1.48016,1.99532,1.95013,2.26104,1.71059,1.49815,1.56058,1.57623,2.00839,2.10677,1.88894,1.48384],\"xaxis\":\"x\",\"yaxis\":\"y\",\"type\":\"histogram\"}],                        {\"template\":{\"data\":{\"histogram2dcontour\":[{\"type\":\"histogram2dcontour\",\"colorbar\":{\"outlinewidth\":0,\"ticks\":\"\"},\"colorscale\":[[0.0,\"#0d0887\"],[0.1111111111111111,\"#46039f\"],[0.2222222222222222,\"#7201a8\"],[0.3333333333333333,\"#9c179e\"],[0.4444444444444444,\"#bd3786\"],[0.5555555555555556,\"#d8576b\"],[0.6666666666666666,\"#ed7953\"],[0.7777777777777778,\"#fb9f3a\"],[0.8888888888888888,\"#fdca26\"],[1.0,\"#f0f921\"]]}],\"choropleth\":[{\"type\":\"choropleth\",\"colorbar\":{\"outlinewidth\":0,\"ticks\":\"\"}}],\"histogram2d\":[{\"type\":\"histogram2d\",\"colorbar\":{\"outlinewidth\":0,\"ticks\":\"\"},\"colorscale\":[[0.0,\"#0d0887\"],[0.1111111111111111,\"#46039f\"],[0.2222222222222222,\"#7201a8\"],[0.3333333333333333,\"#9c179e\"],[0.4444444444444444,\"#bd3786\"],[0.5555555555555556,\"#d8576b\"],[0.6666666666666666,\"#ed7953\"],[0.7777777777777778,\"#fb9f3a\"],[0.8888888888888888,\"#fdca26\"],[1.0,\"#f0f921\"]]}],\"heatmap\":[{\"type\":\"heatmap\",\"colorbar\":{\"outlinewidth\":0,\"ticks\":\"\"},\"colorscale\":[[0.0,\"#0d0887\"],[0.1111111111111111,\"#46039f\"],[0.2222222222222222,\"#7201a8\"],[0.3333333333333333,\"#9c179e\"],[0.4444444444444444,\"#bd3786\"],[0.5555555555555556,\"#d8576b\"],[0.6666666666666666,\"#ed7953\"],[0.7777777777777778,\"#fb9f3a\"],[0.8888888888888888,\"#fdca26\"],[1.0,\"#f0f921\"]]}],\"heatmapgl\":[{\"type\":\"heatmapgl\",\"colorbar\":{\"outlinewidth\":0,\"ticks\":\"\"},\"colorscale\":[[0.0,\"#0d0887\"],[0.1111111111111111,\"#46039f\"],[0.2222222222222222,\"#7201a8\"],[0.3333333333333333,\"#9c179e\"],[0.4444444444444444,\"#bd3786\"],[0.5555555555555556,\"#d8576b\"],[0.6666666666666666,\"#ed7953\"],[0.7777777777777778,\"#fb9f3a\"],[0.8888888888888888,\"#fdca26\"],[1.0,\"#f0f921\"]]}],\"contourcarpet\":[{\"type\":\"contourcarpet\",\"colorbar\":{\"outlinewidth\":0,\"ticks\":\"\"}}],\"contour\":[{\"type\":\"contour\",\"colorbar\":{\"outlinewidth\":0,\"ticks\":\"\"},\"colorscale\":[[0.0,\"#0d0887\"],[0.1111111111111111,\"#46039f\"],[0.2222222222222222,\"#7201a8\"],[0.3333333333333333,\"#9c179e\"],[0.4444444444444444,\"#bd3786\"],[0.5555555555555556,\"#d8576b\"],[0.6666666666666666,\"#ed7953\"],[0.7777777777777778,\"#fb9f3a\"],[0.8888888888888888,\"#fdca26\"],[1.0,\"#f0f921\"]]}],\"surface\":[{\"type\":\"surface\",\"colorbar\":{\"outlinewidth\":0,\"ticks\":\"\"},\"colorscale\":[[0.0,\"#0d0887\"],[0.1111111111111111,\"#46039f\"],[0.2222222222222222,\"#7201a8\"],[0.3333333333333333,\"#9c179e\"],[0.4444444444444444,\"#bd3786\"],[0.5555555555555556,\"#d8576b\"],[0.6666666666666666,\"#ed7953\"],[0.7777777777777778,\"#fb9f3a\"],[0.8888888888888888,\"#fdca26\"],[1.0,\"#f0f921\"]]}],\"mesh3d\":[{\"type\":\"mesh3d\",\"colorbar\":{\"outlinewidth\":0,\"ticks\":\"\"}}],\"scatter\":[{\"fillpattern\":{\"fillmode\":\"overlay\",\"size\":10,\"solidity\":0.2},\"type\":\"scatter\"}],\"parcoords\":[{\"type\":\"parcoords\",\"line\":{\"colorbar\":{\"outlinewidth\":0,\"ticks\":\"\"}}}],\"scatterpolargl\":[{\"type\":\"scatterpolargl\",\"marker\":{\"colorbar\":{\"outlinewidth\":0,\"ticks\":\"\"}}}],\"bar\":[{\"error_x\":{\"color\":\"#2a3f5f\"},\"error_y\":{\"color\":\"#2a3f5f\"},\"marker\":{\"line\":{\"color\":\"#E5ECF6\",\"width\":0.5},\"pattern\":{\"fillmode\":\"overlay\",\"size\":10,\"solidity\":0.2}},\"type\":\"bar\"}],\"scattergeo\":[{\"type\":\"scattergeo\",\"marker\":{\"colorbar\":{\"outlinewidth\":0,\"ticks\":\"\"}}}],\"scatterpolar\":[{\"type\":\"scatterpolar\",\"marker\":{\"colorbar\":{\"outlinewidth\":0,\"ticks\":\"\"}}}],\"histogram\":[{\"marker\":{\"pattern\":{\"fillmode\":\"overlay\",\"size\":10,\"solidity\":0.2}},\"type\":\"histogram\"}],\"scattergl\":[{\"type\":\"scattergl\",\"marker\":{\"colorbar\":{\"outlinewidth\":0,\"ticks\":\"\"}}}],\"scatter3d\":[{\"type\":\"scatter3d\",\"line\":{\"colorbar\":{\"outlinewidth\":0,\"ticks\":\"\"}},\"marker\":{\"colorbar\":{\"outlinewidth\":0,\"ticks\":\"\"}}}],\"scattermapbox\":[{\"type\":\"scattermapbox\",\"marker\":{\"colorbar\":{\"outlinewidth\":0,\"ticks\":\"\"}}}],\"scatterternary\":[{\"type\":\"scatterternary\",\"marker\":{\"colorbar\":{\"outlinewidth\":0,\"ticks\":\"\"}}}],\"scattercarpet\":[{\"type\":\"scattercarpet\",\"marker\":{\"colorbar\":{\"outlinewidth\":0,\"ticks\":\"\"}}}],\"carpet\":[{\"aaxis\":{\"endlinecolor\":\"#2a3f5f\",\"gridcolor\":\"white\",\"linecolor\":\"white\",\"minorgridcolor\":\"white\",\"startlinecolor\":\"#2a3f5f\"},\"baxis\":{\"endlinecolor\":\"#2a3f5f\",\"gridcolor\":\"white\",\"linecolor\":\"white\",\"minorgridcolor\":\"white\",\"startlinecolor\":\"#2a3f5f\"},\"type\":\"carpet\"}],\"table\":[{\"cells\":{\"fill\":{\"color\":\"#EBF0F8\"},\"line\":{\"color\":\"white\"}},\"header\":{\"fill\":{\"color\":\"#C8D4E3\"},\"line\":{\"color\":\"white\"}},\"type\":\"table\"}],\"barpolar\":[{\"marker\":{\"line\":{\"color\":\"#E5ECF6\",\"width\":0.5},\"pattern\":{\"fillmode\":\"overlay\",\"size\":10,\"solidity\":0.2}},\"type\":\"barpolar\"}],\"pie\":[{\"automargin\":true,\"type\":\"pie\"}]},\"layout\":{\"autotypenumbers\":\"strict\",\"colorway\":[\"#636efa\",\"#EF553B\",\"#00cc96\",\"#ab63fa\",\"#FFA15A\",\"#19d3f3\",\"#FF6692\",\"#B6E880\",\"#FF97FF\",\"#FECB52\"],\"font\":{\"color\":\"#2a3f5f\"},\"hovermode\":\"closest\",\"hoverlabel\":{\"align\":\"left\"},\"paper_bgcolor\":\"white\",\"plot_bgcolor\":\"#E5ECF6\",\"polar\":{\"bgcolor\":\"#E5ECF6\",\"angularaxis\":{\"gridcolor\":\"white\",\"linecolor\":\"white\",\"ticks\":\"\"},\"radialaxis\":{\"gridcolor\":\"white\",\"linecolor\":\"white\",\"ticks\":\"\"}},\"ternary\":{\"bgcolor\":\"#E5ECF6\",\"aaxis\":{\"gridcolor\":\"white\",\"linecolor\":\"white\",\"ticks\":\"\"},\"baxis\":{\"gridcolor\":\"white\",\"linecolor\":\"white\",\"ticks\":\"\"},\"caxis\":{\"gridcolor\":\"white\",\"linecolor\":\"white\",\"ticks\":\"\"}},\"coloraxis\":{\"colorbar\":{\"outlinewidth\":0,\"ticks\":\"\"}},\"colorscale\":{\"sequential\":[[0.0,\"#0d0887\"],[0.1111111111111111,\"#46039f\"],[0.2222222222222222,\"#7201a8\"],[0.3333333333333333,\"#9c179e\"],[0.4444444444444444,\"#bd3786\"],[0.5555555555555556,\"#d8576b\"],[0.6666666666666666,\"#ed7953\"],[0.7777777777777778,\"#fb9f3a\"],[0.8888888888888888,\"#fdca26\"],[1.0,\"#f0f921\"]],\"sequentialminus\":[[0.0,\"#0d0887\"],[0.1111111111111111,\"#46039f\"],[0.2222222222222222,\"#7201a8\"],[0.3333333333333333,\"#9c179e\"],[0.4444444444444444,\"#bd3786\"],[0.5555555555555556,\"#d8576b\"],[0.6666666666666666,\"#ed7953\"],[0.7777777777777778,\"#fb9f3a\"],[0.8888888888888888,\"#fdca26\"],[1.0,\"#f0f921\"]],\"diverging\":[[0,\"#8e0152\"],[0.1,\"#c51b7d\"],[0.2,\"#de77ae\"],[0.3,\"#f1b6da\"],[0.4,\"#fde0ef\"],[0.5,\"#f7f7f7\"],[0.6,\"#e6f5d0\"],[0.7,\"#b8e186\"],[0.8,\"#7fbc41\"],[0.9,\"#4d9221\"],[1,\"#276419\"]]},\"xaxis\":{\"gridcolor\":\"white\",\"linecolor\":\"white\",\"ticks\":\"\",\"title\":{\"standoff\":15},\"zerolinecolor\":\"white\",\"automargin\":true,\"zerolinewidth\":2},\"yaxis\":{\"gridcolor\":\"white\",\"linecolor\":\"white\",\"ticks\":\"\",\"title\":{\"standoff\":15},\"zerolinecolor\":\"white\",\"automargin\":true,\"zerolinewidth\":2},\"scene\":{\"xaxis\":{\"backgroundcolor\":\"#E5ECF6\",\"gridcolor\":\"white\",\"linecolor\":\"white\",\"showbackground\":true,\"ticks\":\"\",\"zerolinecolor\":\"white\",\"gridwidth\":2},\"yaxis\":{\"backgroundcolor\":\"#E5ECF6\",\"gridcolor\":\"white\",\"linecolor\":\"white\",\"showbackground\":true,\"ticks\":\"\",\"zerolinecolor\":\"white\",\"gridwidth\":2},\"zaxis\":{\"backgroundcolor\":\"#E5ECF6\",\"gridcolor\":\"white\",\"linecolor\":\"white\",\"showbackground\":true,\"ticks\":\"\",\"zerolinecolor\":\"white\",\"gridwidth\":2}},\"shapedefaults\":{\"line\":{\"color\":\"#2a3f5f\"}},\"annotationdefaults\":{\"arrowcolor\":\"#2a3f5f\",\"arrowhead\":0,\"arrowwidth\":1},\"geo\":{\"bgcolor\":\"white\",\"landcolor\":\"#E5ECF6\",\"subunitcolor\":\"white\",\"showland\":true,\"showlakes\":true,\"lakecolor\":\"white\"},\"title\":{\"x\":0.05},\"mapbox\":{\"style\":\"light\"}}},\"xaxis\":{\"anchor\":\"y\",\"domain\":[0.0,1.0],\"title\":{\"text\":\"Height (in)\"}},\"yaxis\":{\"anchor\":\"x\",\"domain\":[0.0,1.0],\"title\":{\"text\":\"Count\"}},\"legend\":{\"tracegroupgap\":0},\"title\":{\"text\":\"Thickness Distribution of 8 oz T Tenderloin A\"},\"barmode\":\"relative\",\"shapes\":[{\"line\":{\"color\":\"green\",\"width\":3},\"type\":\"line\",\"x0\":1.9000240513626836,\"x1\":1.9000240513626836,\"xref\":\"x\",\"y0\":0,\"y1\":1,\"yref\":\"y domain\"},{\"line\":{\"color\":\"red\",\"dash\":\"dash\",\"width\":2},\"type\":\"line\",\"x0\":0.95,\"x1\":0.95,\"xref\":\"x\",\"y0\":0,\"y1\":1,\"yref\":\"y domain\"},{\"line\":{\"color\":\"red\",\"dash\":\"dash\",\"width\":2},\"type\":\"line\",\"x0\":3.54,\"x1\":3.54,\"xref\":\"x\",\"y0\":0,\"y1\":1,\"yref\":\"y domain\"}],\"annotations\":[{\"showarrow\":false,\"text\":\"1.90\",\"x\":1.9000240513626836,\"xanchor\":\"right\",\"xref\":\"x\",\"y\":1,\"yanchor\":\"top\",\"yref\":\"y domain\"},{\"showarrow\":false,\"text\":\"0.95\",\"x\":0.95,\"xanchor\":\"right\",\"xref\":\"x\",\"y\":1,\"yanchor\":\"top\",\"yref\":\"y domain\"},{\"showarrow\":false,\"text\":\"3.54\",\"x\":3.54,\"xanchor\":\"right\",\"xref\":\"x\",\"y\":1,\"yanchor\":\"top\",\"yref\":\"y domain\"}],\"width\":1000,\"height\":500,\"showlegend\":false},                        {\"responsive\": true}                    ).then(function(){\n",
       "                            \n",
       "var gd = document.getElementById('e695d2c1-220f-4ba6-b89a-a0ebd2dd208d');\n",
       "var x = new MutationObserver(function (mutations, observer) {{\n",
       "        var display = window.getComputedStyle(gd).display;\n",
       "        if (!display || display === 'none') {{\n",
       "            console.log([gd, 'removed!']);\n",
       "            Plotly.purge(gd);\n",
       "            observer.disconnect();\n",
       "        }}\n",
       "}});\n",
       "\n",
       "// Listen for the removal of the full notebook cells\n",
       "var notebookContainer = gd.closest('#notebook-container');\n",
       "if (notebookContainer) {{\n",
       "    x.observe(notebookContainer, {childList: true});\n",
       "}}\n",
       "\n",
       "// Listen for the clearing of the current output cell\n",
       "var outputEl = gd.closest('.output');\n",
       "if (outputEl) {{\n",
       "    x.observe(outputEl, {childList: true});\n",
       "}}\n",
       "\n",
       "                        })                };                });            </script>        </div>"
      ]
     },
     "metadata": {},
     "output_type": "display_data"
    }
   ],
   "source": [
    "#THICKNESS (NOTE-- min thick needs to be removed at cleaning stage)\n",
    "#TEST product: \"8 oz T Tenderloin A\"\n",
    "# Specify the product name\n",
    "product_name = \"8 oz T Tenderloin A\"\n",
    "\n",
    "# Specify the file path\n",
    "file_path = '../data/cleaned/generic_butcher_cleaned.csv'\n",
    "\n",
    "# Read the CSV file into a DataFrame\n",
    "df = pd.read_csv(file_path)\n",
    "\n",
    "file_path2 = '../data/cleaned/generic_butcher_spec_cleaned.csv'\n",
    "\n",
    "# Read the CSV file into a DataFrame\n",
    "df2 = pd.read_csv(file_path2)\n",
    "\n",
    "# Copy data to preserve original dataset\n",
    "product_data = df.loc[df[\"product_name\"] == product_name]\n",
    "product = product_data.copy()\n",
    "\n",
    "# Determine bin min and max in a readable format\n",
    "min_ht = np.min(product['measured_height'])\n",
    "max_ht = np.max(product['measured_height'])\n",
    "binmin_ht = np.floor(min_ht)-1\n",
    "binmax_ht = np.ceil(max_ht)+1\n",
    "\n",
    "# Determine spec goal posts\n",
    "height_min_spec = df2.loc[df2['product_name'] == product_name, 'height_min'].iloc[0]\n",
    "height_max_spec = df2.loc[df2['product_name'] == product_name, 'height_max'].iloc[0]\n",
    "\n",
    "# Calculate average height\n",
    "height_avg = np.mean(product['measured_height'])\n",
    "\n",
    "# Created bins based on the 0.1 inch increments\n",
    "num_bins_ht = int((binmax_ht - binmin_ht) * 1/.1)\n",
    "\n",
    "# Pulls measured height data for the x value of the histogram\n",
    "product_heights = product['measured_height']\n",
    "\n",
    "# Create the histogram using Plotly Express\n",
    "fig = px.histogram(product, x='measured_height', nbins=num_bins, title=f\"Thickness Distribution of {product_name}\")\n",
    "\n",
    "# Add vertical lines for average, min spec, and max spec using add_vline\n",
    "fig.add_vline(x=height_avg, line=dict(color=\"green\", width=3), annotation_text=f\"{height_avg:.2f}\", annotation_position=\"top left\")\n",
    "fig.add_vline(x=height_min_spec, line=dict(color=\"red\", width=2, dash='dash'), annotation_text=f\"{height_min_spec:.2f}\", annotation_position=\"top left\")\n",
    "fig.add_vline(x=height_max_spec, line=dict(color=\"red\", width=2, dash='dash'), annotation_text=f\"{height_max_spec:.2f}\", annotation_position=\"top left\")\n",
    "\n",
    "# Update xaxis and yaxis labels\n",
    "fig.update_layout(\n",
    "    width=1000,\n",
    "    height=500,\n",
    "    xaxis_title='Height (in)',\n",
    "    yaxis_title='Count',\n",
    "    showlegend=False\n",
    ")\n",
    "\n",
    "# Show the plot\n",
    "fig.show()"
   ]
  }
 ],
 "metadata": {
  "kernelspec": {
   "display_name": "Python 3 (ipykernel)",
   "language": "python",
   "name": "python3"
  },
  "language_info": {
   "codemirror_mode": {
    "name": "ipython",
    "version": 3
   },
   "file_extension": ".py",
   "mimetype": "text/x-python",
   "name": "python",
   "nbconvert_exporter": "python",
   "pygments_lexer": "ipython3",
   "version": "3.11.7"
  }
 },
 "nbformat": 4,
 "nbformat_minor": 5
}
