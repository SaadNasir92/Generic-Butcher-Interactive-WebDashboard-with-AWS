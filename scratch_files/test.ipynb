{
 "cells": [
  {
   "cell_type": "code",
   "execution_count": 1,
   "metadata": {},
   "outputs": [],
   "source": [
    "import pandas as pd\n",
    "from sqlalchemy import create_engine\n",
    "from src.config.private_info import test_new_db\n",
    "from src.app.db_operations import query_specs, query_metrics, query_product_list\n",
    "from src.app.plot import generate_histogram\n",
    "from src.app.vital_stats import make_overall_card_weight, make_overall_card_height, product_specific_card, action_card\n",
    "\n"
   ]
  },
  {
   "cell_type": "code",
   "execution_count": 2,
   "metadata": {},
   "outputs": [],
   "source": [
    "engine = create_engine(test_new_db)"
   ]
  },
  {
   "cell_type": "code",
   "execution_count": 3,
   "metadata": {},
   "outputs": [],
   "source": [
    "df1 = query_product_list(engine)"
   ]
  },
  {
   "cell_type": "code",
   "execution_count": 4,
   "metadata": {},
   "outputs": [
    {
     "data": {
      "text/plain": [
       "[{'product_name': '10 oz  Sirloin A'},\n",
       " {'product_name': '11 oz  Sirloin B'},\n",
       " {'product_name': '11 oz  Sirloin C'},\n",
       " {'product_name': '13 oz  Ribeye Tail A'},\n",
       " {'product_name': '16 oz  Strip A'},\n",
       " {'product_name': '16 oz  Dry Age Ribeye A'},\n",
       " {'product_name': '16 oz  Prime Strip A'},\n",
       " {'product_name': '16 oz  Ribeye Tail A'},\n",
       " {'product_name': '18 oz  Ribeye A'},\n",
       " {'product_name': '20 oz  Prime Ribeye A'},\n",
       " {'product_name': '22 oz  Porterhouse A'},\n",
       " {'product_name': '3.5 oz Tender Bits A'},\n",
       " {'product_name': '4 oz T Tenderloin Tail A'},\n",
       " {'product_name': '5 oz S Sirloin A'},\n",
       " {'product_name': '5 oz S Sirloin B'},\n",
       " {'product_name': '6 oz S Sirloin A'},\n",
       " {'product_name': '6 oz S Sirloin B'},\n",
       " {'product_name': '6 oz T Tenderloin A'},\n",
       " {'product_name': '7 oz S Sirloin A'},\n",
       " {'product_name': '7 oz S Sirloin B'},\n",
       " {'product_name': '7 oz T Tenderloin A'},\n",
       " {'product_name': '8 oz P Pork Chop A'},\n",
       " {'product_name': '8 oz S Sirloin A'},\n",
       " {'product_name': '8 oz S Sirloin B'},\n",
       " {'product_name': '8 oz T Tenderloin A'},\n",
       " {'product_name': '9 oz S Sirloin A'},\n",
       " {'product_name': '9 oz T Tenderloin A'}]"
      ]
     },
     "execution_count": 4,
     "metadata": {},
     "output_type": "execute_result"
    }
   ],
   "source": [
    "df1.to_dict(orient='records')"
   ]
  },
  {
   "cell_type": "code",
   "execution_count": 5,
   "metadata": {},
   "outputs": [
    {
     "data": {
      "text/plain": [
       "['10 oz  Sirloin A',\n",
       " '11 oz  Sirloin B',\n",
       " '11 oz  Sirloin C',\n",
       " '13 oz  Ribeye Tail A',\n",
       " '16 oz  Strip A',\n",
       " '16 oz  Dry Age Ribeye A',\n",
       " '16 oz  Prime Strip A',\n",
       " '16 oz  Ribeye Tail A',\n",
       " '18 oz  Ribeye A',\n",
       " '20 oz  Prime Ribeye A',\n",
       " '22 oz  Porterhouse A',\n",
       " '3.5 oz Tender Bits A',\n",
       " '4 oz T Tenderloin Tail A',\n",
       " '5 oz S Sirloin A',\n",
       " '5 oz S Sirloin B',\n",
       " '6 oz S Sirloin A',\n",
       " '6 oz S Sirloin B',\n",
       " '6 oz T Tenderloin A',\n",
       " '7 oz S Sirloin A',\n",
       " '7 oz S Sirloin B',\n",
       " '7 oz T Tenderloin A',\n",
       " '8 oz P Pork Chop A',\n",
       " '8 oz S Sirloin A',\n",
       " '8 oz S Sirloin B',\n",
       " '8 oz T Tenderloin A',\n",
       " '9 oz S Sirloin A',\n",
       " '9 oz T Tenderloin A']"
      ]
     },
     "execution_count": 5,
     "metadata": {},
     "output_type": "execute_result"
    }
   ],
   "source": [
    "prods = list(df1.product_name.values)\n",
    "prods"
   ]
  },
  {
   "cell_type": "code",
   "execution_count": 6,
   "metadata": {},
   "outputs": [
    {
     "data": {
      "text/html": [
       "<div>\n",
       "<style scoped>\n",
       "    .dataframe tbody tr th:only-of-type {\n",
       "        vertical-align: middle;\n",
       "    }\n",
       "\n",
       "    .dataframe tbody tr th {\n",
       "        vertical-align: top;\n",
       "    }\n",
       "\n",
       "    .dataframe thead th {\n",
       "        text-align: right;\n",
       "    }\n",
       "</style>\n",
       "<table border=\"1\" class=\"dataframe\">\n",
       "  <thead>\n",
       "    <tr style=\"text-align: right;\">\n",
       "      <th></th>\n",
       "      <th>Product</th>\n",
       "      <th>Count</th>\n",
       "      <th>Min</th>\n",
       "      <th>Max</th>\n",
       "      <th>Average</th>\n",
       "      <th>Pct In Spec</th>\n",
       "      <th>Count Offspec</th>\n",
       "      <th>Compliant</th>\n",
       "    </tr>\n",
       "  </thead>\n",
       "  <tbody>\n",
       "    <tr>\n",
       "      <th>0</th>\n",
       "      <td>10 oz  Sirloin A</td>\n",
       "      <td>695</td>\n",
       "      <td>9.14</td>\n",
       "      <td>11.0</td>\n",
       "      <td>9.764863</td>\n",
       "      <td>99.28%</td>\n",
       "      <td>5</td>\n",
       "      <td>True</td>\n",
       "    </tr>\n",
       "  </tbody>\n",
       "</table>\n",
       "</div>"
      ],
      "text/plain": [
       "            Product  Count   Min   Max   Average Pct In Spec  Count Offspec  \\\n",
       "0  10 oz  Sirloin A    695  9.14  11.0  9.764863      99.28%              5   \n",
       "\n",
       "   Compliant  \n",
       "0       True  "
      ]
     },
     "execution_count": 6,
     "metadata": {},
     "output_type": "execute_result"
    }
   ],
   "source": [
    "product_specific_card(engine, prods[0], 'weight')"
   ]
  },
  {
   "cell_type": "code",
   "execution_count": 7,
   "metadata": {},
   "outputs": [
    {
     "data": {
      "text/plain": [
       "[{'Product': '10 oz  Sirloin A',\n",
       "  'Count': 695,\n",
       "  'Min': 9.14,\n",
       "  'Max': 11.0,\n",
       "  'Average': 9.764863309352517,\n",
       "  'Pct In Spec': '99.28%',\n",
       "  'Count Offspec': 5,\n",
       "  'Compliant': True}]"
      ]
     },
     "execution_count": 7,
     "metadata": {},
     "output_type": "execute_result"
    }
   ],
   "source": [
    "product_specific_card(engine, prods[0], 'weight').to_dict(orient='records')"
   ]
  },
  {
   "cell_type": "code",
   "execution_count": 8,
   "metadata": {},
   "outputs": [
    {
     "data": {
      "text/plain": [
       "[{'Product': '10 oz  Sirloin A',\n",
       "  'Count': 695,\n",
       "  'Min': 1.05676,\n",
       "  'Max': 1.83688,\n",
       "  'Average': 1.3781847913669065,\n",
       "  'Pct In Spec': '99.28%',\n",
       "  'Count Offspec': 5,\n",
       "  'Compliant': True}]"
      ]
     },
     "execution_count": 8,
     "metadata": {},
     "output_type": "execute_result"
    }
   ],
   "source": [
    "product_specific_card(engine, prods[0], 'height').to_dict(orient='records')"
   ]
  },
  {
   "cell_type": "code",
   "execution_count": 6,
   "metadata": {},
   "outputs": [],
   "source": [
    "df = query_product_list(engine)"
   ]
  },
  {
   "cell_type": "code",
   "execution_count": 7,
   "metadata": {},
   "outputs": [
    {
     "data": {
      "text/html": [
       "<div>\n",
       "<style scoped>\n",
       "    .dataframe tbody tr th:only-of-type {\n",
       "        vertical-align: middle;\n",
       "    }\n",
       "\n",
       "    .dataframe tbody tr th {\n",
       "        vertical-align: top;\n",
       "    }\n",
       "\n",
       "    .dataframe thead th {\n",
       "        text-align: right;\n",
       "    }\n",
       "</style>\n",
       "<table border=\"1\" class=\"dataframe\">\n",
       "  <thead>\n",
       "    <tr style=\"text-align: right;\">\n",
       "      <th></th>\n",
       "      <th>product_name</th>\n",
       "    </tr>\n",
       "  </thead>\n",
       "  <tbody>\n",
       "    <tr>\n",
       "      <th>0</th>\n",
       "      <td>10 oz  Sirloin A</td>\n",
       "    </tr>\n",
       "    <tr>\n",
       "      <th>1</th>\n",
       "      <td>11 oz  Sirloin B</td>\n",
       "    </tr>\n",
       "    <tr>\n",
       "      <th>2</th>\n",
       "      <td>11 oz  Sirloin C</td>\n",
       "    </tr>\n",
       "    <tr>\n",
       "      <th>3</th>\n",
       "      <td>13 oz  Ribeye Tail A</td>\n",
       "    </tr>\n",
       "    <tr>\n",
       "      <th>4</th>\n",
       "      <td>16 oz  Strip A</td>\n",
       "    </tr>\n",
       "    <tr>\n",
       "      <th>5</th>\n",
       "      <td>16 oz  Dry Age Ribeye A</td>\n",
       "    </tr>\n",
       "    <tr>\n",
       "      <th>6</th>\n",
       "      <td>16 oz  Prime Strip A</td>\n",
       "    </tr>\n",
       "    <tr>\n",
       "      <th>7</th>\n",
       "      <td>16 oz  Ribeye Tail A</td>\n",
       "    </tr>\n",
       "    <tr>\n",
       "      <th>8</th>\n",
       "      <td>18 oz  Ribeye A</td>\n",
       "    </tr>\n",
       "    <tr>\n",
       "      <th>9</th>\n",
       "      <td>20 oz  Prime Ribeye A</td>\n",
       "    </tr>\n",
       "    <tr>\n",
       "      <th>10</th>\n",
       "      <td>22 oz  Porterhouse A</td>\n",
       "    </tr>\n",
       "    <tr>\n",
       "      <th>11</th>\n",
       "      <td>3.5 oz Tender Bits A</td>\n",
       "    </tr>\n",
       "    <tr>\n",
       "      <th>12</th>\n",
       "      <td>4 oz T Tenderloin Tail A</td>\n",
       "    </tr>\n",
       "    <tr>\n",
       "      <th>13</th>\n",
       "      <td>5 oz S Sirloin A</td>\n",
       "    </tr>\n",
       "    <tr>\n",
       "      <th>14</th>\n",
       "      <td>5 oz S Sirloin B</td>\n",
       "    </tr>\n",
       "    <tr>\n",
       "      <th>15</th>\n",
       "      <td>6 oz S Sirloin A</td>\n",
       "    </tr>\n",
       "    <tr>\n",
       "      <th>16</th>\n",
       "      <td>6 oz S Sirloin B</td>\n",
       "    </tr>\n",
       "    <tr>\n",
       "      <th>17</th>\n",
       "      <td>6 oz T Tenderloin A</td>\n",
       "    </tr>\n",
       "    <tr>\n",
       "      <th>18</th>\n",
       "      <td>7 oz S Sirloin A</td>\n",
       "    </tr>\n",
       "    <tr>\n",
       "      <th>19</th>\n",
       "      <td>7 oz S Sirloin B</td>\n",
       "    </tr>\n",
       "    <tr>\n",
       "      <th>20</th>\n",
       "      <td>7 oz T Tenderloin A</td>\n",
       "    </tr>\n",
       "    <tr>\n",
       "      <th>21</th>\n",
       "      <td>8 oz P Pork Chop A</td>\n",
       "    </tr>\n",
       "    <tr>\n",
       "      <th>22</th>\n",
       "      <td>8 oz S Sirloin A</td>\n",
       "    </tr>\n",
       "    <tr>\n",
       "      <th>23</th>\n",
       "      <td>8 oz S Sirloin B</td>\n",
       "    </tr>\n",
       "    <tr>\n",
       "      <th>24</th>\n",
       "      <td>8 oz T Tenderloin A</td>\n",
       "    </tr>\n",
       "    <tr>\n",
       "      <th>25</th>\n",
       "      <td>9 oz S Sirloin A</td>\n",
       "    </tr>\n",
       "    <tr>\n",
       "      <th>26</th>\n",
       "      <td>9 oz T Tenderloin A</td>\n",
       "    </tr>\n",
       "  </tbody>\n",
       "</table>\n",
       "</div>"
      ],
      "text/plain": [
       "                product_name\n",
       "0           10 oz  Sirloin A\n",
       "1           11 oz  Sirloin B\n",
       "2           11 oz  Sirloin C\n",
       "3       13 oz  Ribeye Tail A\n",
       "4             16 oz  Strip A\n",
       "5    16 oz  Dry Age Ribeye A\n",
       "6       16 oz  Prime Strip A\n",
       "7       16 oz  Ribeye Tail A\n",
       "8            18 oz  Ribeye A\n",
       "9      20 oz  Prime Ribeye A\n",
       "10      22 oz  Porterhouse A\n",
       "11      3.5 oz Tender Bits A\n",
       "12  4 oz T Tenderloin Tail A\n",
       "13          5 oz S Sirloin A\n",
       "14          5 oz S Sirloin B\n",
       "15          6 oz S Sirloin A\n",
       "16          6 oz S Sirloin B\n",
       "17       6 oz T Tenderloin A\n",
       "18          7 oz S Sirloin A\n",
       "19          7 oz S Sirloin B\n",
       "20       7 oz T Tenderloin A\n",
       "21        8 oz P Pork Chop A\n",
       "22          8 oz S Sirloin A\n",
       "23          8 oz S Sirloin B\n",
       "24       8 oz T Tenderloin A\n",
       "25          9 oz S Sirloin A\n",
       "26       9 oz T Tenderloin A"
      ]
     },
     "execution_count": 7,
     "metadata": {},
     "output_type": "execute_result"
    }
   ],
   "source": [
    "df"
   ]
  },
  {
   "cell_type": "code",
   "execution_count": 3,
   "metadata": {},
   "outputs": [],
   "source": [
    "action_cards = action_card(engine)\n"
   ]
  },
  {
   "cell_type": "code",
   "execution_count": null,
   "metadata": {},
   "outputs": [],
   "source": []
  },
  {
   "cell_type": "code",
   "execution_count": 4,
   "metadata": {},
   "outputs": [
    {
     "data": {
      "text/plain": [
       "[{'Product': '20 oz  Prime Ribeye A', 'Compliant': False},\n",
       " {'Product': '8 oz P Pork Chop A', 'Compliant': False},\n",
       " {'Product': '5 oz S Sirloin B', 'Compliant': False}]"
      ]
     },
     "execution_count": 4,
     "metadata": {},
     "output_type": "execute_result"
    }
   ],
   "source": [
    "action_cards"
   ]
  },
  {
   "cell_type": "code",
   "execution_count": 3,
   "metadata": {},
   "outputs": [],
   "source": [
    "df1 = make_overall_card_height(engine)\n"
   ]
  },
  {
   "cell_type": "code",
   "execution_count": 4,
   "metadata": {},
   "outputs": [
    {
     "data": {
      "text/html": [
       "<div>\n",
       "<style scoped>\n",
       "    .dataframe tbody tr th:only-of-type {\n",
       "        vertical-align: middle;\n",
       "    }\n",
       "\n",
       "    .dataframe tbody tr th {\n",
       "        vertical-align: top;\n",
       "    }\n",
       "\n",
       "    .dataframe thead th {\n",
       "        text-align: right;\n",
       "    }\n",
       "</style>\n",
       "<table border=\"1\" class=\"dataframe\">\n",
       "  <thead>\n",
       "    <tr style=\"text-align: right;\">\n",
       "      <th></th>\n",
       "      <th>Product</th>\n",
       "      <th>Count_Height</th>\n",
       "      <th>Min Height</th>\n",
       "      <th>Max Height</th>\n",
       "      <th>Average Height</th>\n",
       "      <th>Pct In Spec Height</th>\n",
       "      <th>Count Offspec</th>\n",
       "      <th>Compliant</th>\n",
       "    </tr>\n",
       "  </thead>\n",
       "  <tbody>\n",
       "    <tr>\n",
       "      <th>0</th>\n",
       "      <td>10 oz  Sirloin A</td>\n",
       "      <td>695</td>\n",
       "      <td>1.056760</td>\n",
       "      <td>1.83688</td>\n",
       "      <td>1.378185</td>\n",
       "      <td>99.28%</td>\n",
       "      <td>5</td>\n",
       "      <td>True</td>\n",
       "    </tr>\n",
       "    <tr>\n",
       "      <th>1</th>\n",
       "      <td>11 oz  Sirloin B</td>\n",
       "      <td>817</td>\n",
       "      <td>1.114460</td>\n",
       "      <td>1.88710</td>\n",
       "      <td>1.373452</td>\n",
       "      <td>99.51%</td>\n",
       "      <td>4</td>\n",
       "      <td>True</td>\n",
       "    </tr>\n",
       "    <tr>\n",
       "      <th>2</th>\n",
       "      <td>11 oz  Sirloin C</td>\n",
       "      <td>2062</td>\n",
       "      <td>1.050920</td>\n",
       "      <td>2.40982</td>\n",
       "      <td>1.422922</td>\n",
       "      <td>96.56%</td>\n",
       "      <td>71</td>\n",
       "      <td>True</td>\n",
       "    </tr>\n",
       "    <tr>\n",
       "      <th>3</th>\n",
       "      <td>13 oz  Ribeye Tail A</td>\n",
       "      <td>2181</td>\n",
       "      <td>0.701302</td>\n",
       "      <td>1.68081</td>\n",
       "      <td>1.016365</td>\n",
       "      <td>100.00%</td>\n",
       "      <td>0</td>\n",
       "      <td>True</td>\n",
       "    </tr>\n",
       "    <tr>\n",
       "      <th>4</th>\n",
       "      <td>16 oz  Dry Age Ribeye A</td>\n",
       "      <td>765</td>\n",
       "      <td>0.993740</td>\n",
       "      <td>1.97211</td>\n",
       "      <td>1.293364</td>\n",
       "      <td>100.00%</td>\n",
       "      <td>0</td>\n",
       "      <td>True</td>\n",
       "    </tr>\n",
       "    <tr>\n",
       "      <th>5</th>\n",
       "      <td>16 oz  Prime Strip A</td>\n",
       "      <td>220</td>\n",
       "      <td>1.048440</td>\n",
       "      <td>2.17817</td>\n",
       "      <td>1.479292</td>\n",
       "      <td>100.00%</td>\n",
       "      <td>0</td>\n",
       "      <td>True</td>\n",
       "    </tr>\n",
       "    <tr>\n",
       "      <th>6</th>\n",
       "      <td>16 oz  Ribeye Tail A</td>\n",
       "      <td>1432</td>\n",
       "      <td>0.893239</td>\n",
       "      <td>1.78191</td>\n",
       "      <td>1.186122</td>\n",
       "      <td>100.00%</td>\n",
       "      <td>0</td>\n",
       "      <td>True</td>\n",
       "    </tr>\n",
       "    <tr>\n",
       "      <th>7</th>\n",
       "      <td>16 oz  Strip A</td>\n",
       "      <td>586</td>\n",
       "      <td>0.826419</td>\n",
       "      <td>1.47993</td>\n",
       "      <td>1.097839</td>\n",
       "      <td>100.00%</td>\n",
       "      <td>0</td>\n",
       "      <td>True</td>\n",
       "    </tr>\n",
       "    <tr>\n",
       "      <th>8</th>\n",
       "      <td>18 oz  Ribeye A</td>\n",
       "      <td>1401</td>\n",
       "      <td>0.747236</td>\n",
       "      <td>3.93643</td>\n",
       "      <td>1.071697</td>\n",
       "      <td>99.71%</td>\n",
       "      <td>4</td>\n",
       "      <td>True</td>\n",
       "    </tr>\n",
       "    <tr>\n",
       "      <th>9</th>\n",
       "      <td>20 oz  Prime Ribeye A</td>\n",
       "      <td>122</td>\n",
       "      <td>0.967064</td>\n",
       "      <td>1.95839</td>\n",
       "      <td>1.302482</td>\n",
       "      <td>100.00%</td>\n",
       "      <td>0</td>\n",
       "      <td>True</td>\n",
       "    </tr>\n",
       "    <tr>\n",
       "      <th>10</th>\n",
       "      <td>22 oz  Porterhouse A</td>\n",
       "      <td>734</td>\n",
       "      <td>0.716093</td>\n",
       "      <td>1.53459</td>\n",
       "      <td>1.034557</td>\n",
       "      <td>100.00%</td>\n",
       "      <td>0</td>\n",
       "      <td>True</td>\n",
       "    </tr>\n",
       "    <tr>\n",
       "      <th>11</th>\n",
       "      <td>3.5 oz Tender Bits A</td>\n",
       "      <td>1290</td>\n",
       "      <td>0.630940</td>\n",
       "      <td>2.48781</td>\n",
       "      <td>1.332970</td>\n",
       "      <td>100.00%</td>\n",
       "      <td>0</td>\n",
       "      <td>True</td>\n",
       "    </tr>\n",
       "    <tr>\n",
       "      <th>12</th>\n",
       "      <td>4 oz T Tenderloin Tail A</td>\n",
       "      <td>909</td>\n",
       "      <td>0.697441</td>\n",
       "      <td>1.65256</td>\n",
       "      <td>1.032980</td>\n",
       "      <td>100.00%</td>\n",
       "      <td>0</td>\n",
       "      <td>True</td>\n",
       "    </tr>\n",
       "    <tr>\n",
       "      <th>13</th>\n",
       "      <td>5 oz S Sirloin A</td>\n",
       "      <td>826</td>\n",
       "      <td>0.944742</td>\n",
       "      <td>2.01948</td>\n",
       "      <td>1.346565</td>\n",
       "      <td>95.88%</td>\n",
       "      <td>34</td>\n",
       "      <td>True</td>\n",
       "    </tr>\n",
       "    <tr>\n",
       "      <th>14</th>\n",
       "      <td>5 oz S Sirloin B</td>\n",
       "      <td>2137</td>\n",
       "      <td>0.952895</td>\n",
       "      <td>2.12393</td>\n",
       "      <td>1.303232</td>\n",
       "      <td>94.34%</td>\n",
       "      <td>121</td>\n",
       "      <td>False</td>\n",
       "    </tr>\n",
       "    <tr>\n",
       "      <th>15</th>\n",
       "      <td>6 oz S Sirloin A</td>\n",
       "      <td>1297</td>\n",
       "      <td>0.980229</td>\n",
       "      <td>1.98640</td>\n",
       "      <td>1.368302</td>\n",
       "      <td>97.92%</td>\n",
       "      <td>27</td>\n",
       "      <td>True</td>\n",
       "    </tr>\n",
       "    <tr>\n",
       "      <th>16</th>\n",
       "      <td>6 oz S Sirloin B</td>\n",
       "      <td>2137</td>\n",
       "      <td>0.976007</td>\n",
       "      <td>2.35997</td>\n",
       "      <td>1.348500</td>\n",
       "      <td>97.24%</td>\n",
       "      <td>59</td>\n",
       "      <td>True</td>\n",
       "    </tr>\n",
       "    <tr>\n",
       "      <th>17</th>\n",
       "      <td>6 oz T Tenderloin A</td>\n",
       "      <td>2056</td>\n",
       "      <td>0.803807</td>\n",
       "      <td>2.93890</td>\n",
       "      <td>1.579162</td>\n",
       "      <td>99.03%</td>\n",
       "      <td>20</td>\n",
       "      <td>True</td>\n",
       "    </tr>\n",
       "    <tr>\n",
       "      <th>18</th>\n",
       "      <td>7 oz S Sirloin A</td>\n",
       "      <td>1375</td>\n",
       "      <td>0.956135</td>\n",
       "      <td>1.80927</td>\n",
       "      <td>1.347540</td>\n",
       "      <td>98.25%</td>\n",
       "      <td>24</td>\n",
       "      <td>True</td>\n",
       "    </tr>\n",
       "    <tr>\n",
       "      <th>19</th>\n",
       "      <td>7 oz S Sirloin B</td>\n",
       "      <td>1263</td>\n",
       "      <td>0.962221</td>\n",
       "      <td>1.86313</td>\n",
       "      <td>1.330329</td>\n",
       "      <td>96.99%</td>\n",
       "      <td>38</td>\n",
       "      <td>True</td>\n",
       "    </tr>\n",
       "    <tr>\n",
       "      <th>20</th>\n",
       "      <td>7 oz T Tenderloin A</td>\n",
       "      <td>1030</td>\n",
       "      <td>0.938533</td>\n",
       "      <td>3.00167</td>\n",
       "      <td>1.736495</td>\n",
       "      <td>99.81%</td>\n",
       "      <td>2</td>\n",
       "      <td>True</td>\n",
       "    </tr>\n",
       "    <tr>\n",
       "      <th>21</th>\n",
       "      <td>8 oz P Pork Chop A</td>\n",
       "      <td>1044</td>\n",
       "      <td>0.716492</td>\n",
       "      <td>1.38714</td>\n",
       "      <td>0.942447</td>\n",
       "      <td>99.71%</td>\n",
       "      <td>3</td>\n",
       "      <td>True</td>\n",
       "    </tr>\n",
       "    <tr>\n",
       "      <th>22</th>\n",
       "      <td>8 oz S Sirloin A</td>\n",
       "      <td>1260</td>\n",
       "      <td>1.028720</td>\n",
       "      <td>1.96346</td>\n",
       "      <td>1.383279</td>\n",
       "      <td>97.94%</td>\n",
       "      <td>26</td>\n",
       "      <td>True</td>\n",
       "    </tr>\n",
       "    <tr>\n",
       "      <th>23</th>\n",
       "      <td>8 oz S Sirloin B</td>\n",
       "      <td>2088</td>\n",
       "      <td>1.027280</td>\n",
       "      <td>2.15740</td>\n",
       "      <td>1.374410</td>\n",
       "      <td>98.23%</td>\n",
       "      <td>37</td>\n",
       "      <td>True</td>\n",
       "    </tr>\n",
       "    <tr>\n",
       "      <th>24</th>\n",
       "      <td>8 oz T Tenderloin A</td>\n",
       "      <td>1908</td>\n",
       "      <td>0.987960</td>\n",
       "      <td>3.38117</td>\n",
       "      <td>1.900024</td>\n",
       "      <td>100.00%</td>\n",
       "      <td>0</td>\n",
       "      <td>True</td>\n",
       "    </tr>\n",
       "    <tr>\n",
       "      <th>25</th>\n",
       "      <td>9 oz S Sirloin A</td>\n",
       "      <td>1768</td>\n",
       "      <td>0.949115</td>\n",
       "      <td>2.02464</td>\n",
       "      <td>1.371919</td>\n",
       "      <td>97.91%</td>\n",
       "      <td>37</td>\n",
       "      <td>True</td>\n",
       "    </tr>\n",
       "    <tr>\n",
       "      <th>26</th>\n",
       "      <td>9 oz T Tenderloin A</td>\n",
       "      <td>925</td>\n",
       "      <td>1.196880</td>\n",
       "      <td>2.99910</td>\n",
       "      <td>1.878510</td>\n",
       "      <td>100.00%</td>\n",
       "      <td>0</td>\n",
       "      <td>True</td>\n",
       "    </tr>\n",
       "  </tbody>\n",
       "</table>\n",
       "</div>"
      ],
      "text/plain": [
       "                     Product  Count_Height  Min Height  Max Height  \\\n",
       "0           10 oz  Sirloin A           695    1.056760     1.83688   \n",
       "1           11 oz  Sirloin B           817    1.114460     1.88710   \n",
       "2           11 oz  Sirloin C          2062    1.050920     2.40982   \n",
       "3       13 oz  Ribeye Tail A          2181    0.701302     1.68081   \n",
       "4    16 oz  Dry Age Ribeye A           765    0.993740     1.97211   \n",
       "5       16 oz  Prime Strip A           220    1.048440     2.17817   \n",
       "6       16 oz  Ribeye Tail A          1432    0.893239     1.78191   \n",
       "7             16 oz  Strip A           586    0.826419     1.47993   \n",
       "8            18 oz  Ribeye A          1401    0.747236     3.93643   \n",
       "9      20 oz  Prime Ribeye A           122    0.967064     1.95839   \n",
       "10      22 oz  Porterhouse A           734    0.716093     1.53459   \n",
       "11      3.5 oz Tender Bits A          1290    0.630940     2.48781   \n",
       "12  4 oz T Tenderloin Tail A           909    0.697441     1.65256   \n",
       "13          5 oz S Sirloin A           826    0.944742     2.01948   \n",
       "14          5 oz S Sirloin B          2137    0.952895     2.12393   \n",
       "15          6 oz S Sirloin A          1297    0.980229     1.98640   \n",
       "16          6 oz S Sirloin B          2137    0.976007     2.35997   \n",
       "17       6 oz T Tenderloin A          2056    0.803807     2.93890   \n",
       "18          7 oz S Sirloin A          1375    0.956135     1.80927   \n",
       "19          7 oz S Sirloin B          1263    0.962221     1.86313   \n",
       "20       7 oz T Tenderloin A          1030    0.938533     3.00167   \n",
       "21        8 oz P Pork Chop A          1044    0.716492     1.38714   \n",
       "22          8 oz S Sirloin A          1260    1.028720     1.96346   \n",
       "23          8 oz S Sirloin B          2088    1.027280     2.15740   \n",
       "24       8 oz T Tenderloin A          1908    0.987960     3.38117   \n",
       "25          9 oz S Sirloin A          1768    0.949115     2.02464   \n",
       "26       9 oz T Tenderloin A           925    1.196880     2.99910   \n",
       "\n",
       "    Average Height Pct In Spec Height  Count Offspec  Compliant  \n",
       "0         1.378185             99.28%              5       True  \n",
       "1         1.373452             99.51%              4       True  \n",
       "2         1.422922             96.56%             71       True  \n",
       "3         1.016365            100.00%              0       True  \n",
       "4         1.293364            100.00%              0       True  \n",
       "5         1.479292            100.00%              0       True  \n",
       "6         1.186122            100.00%              0       True  \n",
       "7         1.097839            100.00%              0       True  \n",
       "8         1.071697             99.71%              4       True  \n",
       "9         1.302482            100.00%              0       True  \n",
       "10        1.034557            100.00%              0       True  \n",
       "11        1.332970            100.00%              0       True  \n",
       "12        1.032980            100.00%              0       True  \n",
       "13        1.346565             95.88%             34       True  \n",
       "14        1.303232             94.34%            121      False  \n",
       "15        1.368302             97.92%             27       True  \n",
       "16        1.348500             97.24%             59       True  \n",
       "17        1.579162             99.03%             20       True  \n",
       "18        1.347540             98.25%             24       True  \n",
       "19        1.330329             96.99%             38       True  \n",
       "20        1.736495             99.81%              2       True  \n",
       "21        0.942447             99.71%              3       True  \n",
       "22        1.383279             97.94%             26       True  \n",
       "23        1.374410             98.23%             37       True  \n",
       "24        1.900024            100.00%              0       True  \n",
       "25        1.371919             97.91%             37       True  \n",
       "26        1.878510            100.00%              0       True  "
      ]
     },
     "execution_count": 4,
     "metadata": {},
     "output_type": "execute_result"
    }
   ],
   "source": [
    "df1"
   ]
  },
  {
   "cell_type": "code",
   "execution_count": null,
   "metadata": {},
   "outputs": [],
   "source": []
  },
  {
   "cell_type": "code",
   "execution_count": 5,
   "metadata": {},
   "outputs": [],
   "source": [
    "df = make_overall_card_weight(engine)"
   ]
  },
  {
   "cell_type": "code",
   "execution_count": 11,
   "metadata": {},
   "outputs": [
    {
     "data": {
      "text/plain": [
       "[{'Product': '10 oz  Sirloin A',\n",
       "  'Count': 695,\n",
       "  'Min Weight': 9.14,\n",
       "  'Max Weight': 11.0,\n",
       "  'Average Weight': 9.764863309352517,\n",
       "  'Pct In Spec Weight': '99.28%',\n",
       "  'Count Offspec': 5,\n",
       "  'Compliant': True},\n",
       " {'Product': '11 oz  Sirloin B',\n",
       "  'Count': 817,\n",
       "  'Min Weight': 10.0,\n",
       "  'Max Weight': 11.3,\n",
       "  'Average Weight': 10.683365973072215,\n",
       "  'Pct In Spec Weight': '98.29%',\n",
       "  'Count Offspec': 14,\n",
       "  'Compliant': True},\n",
       " {'Product': '11 oz  Sirloin C',\n",
       "  'Count': 2062,\n",
       "  'Min Weight': 9.98,\n",
       "  'Max Weight': 11.86,\n",
       "  'Average Weight': 10.959170708050436,\n",
       "  'Pct In Spec Weight': '98.01%',\n",
       "  'Count Offspec': 41,\n",
       "  'Compliant': True},\n",
       " {'Product': '13 oz  Ribeye Tail A',\n",
       "  'Count': 2181,\n",
       "  'Min Weight': 1.203,\n",
       "  'Max Weight': 18.08,\n",
       "  'Average Weight': 13.11304585052728,\n",
       "  'Pct In Spec Weight': '97.94%',\n",
       "  'Count Offspec': 45,\n",
       "  'Compliant': True},\n",
       " {'Product': '16 oz  Dry Age Ribeye A',\n",
       "  'Count': 765,\n",
       "  'Min Weight': 14.02,\n",
       "  'Max Weight': 18.34,\n",
       "  'Average Weight': 15.851084967320261,\n",
       "  'Pct In Spec Weight': '98.30%',\n",
       "  'Count Offspec': 13,\n",
       "  'Compliant': True},\n",
       " {'Product': '16 oz  Prime Strip A',\n",
       "  'Count': 220,\n",
       "  'Min Weight': 14.18,\n",
       "  'Max Weight': 17.74,\n",
       "  'Average Weight': 15.864454545454544,\n",
       "  'Pct In Spec Weight': '96.36%',\n",
       "  'Count Offspec': 8,\n",
       "  'Compliant': True},\n",
       " {'Product': '16 oz  Ribeye Tail A',\n",
       "  'Count': 1432,\n",
       "  'Min Weight': 14.52,\n",
       "  'Max Weight': 17.9,\n",
       "  'Average Weight': 15.99632122905028,\n",
       "  'Pct In Spec Weight': '97.91%',\n",
       "  'Count Offspec': 30,\n",
       "  'Compliant': True},\n",
       " {'Product': '16 oz  Strip A',\n",
       "  'Count': 586,\n",
       "  'Min Weight': 14.14,\n",
       "  'Max Weight': 18.1,\n",
       "  'Average Weight': 16.564078498293515,\n",
       "  'Pct In Spec Weight': '96.25%',\n",
       "  'Count Offspec': 22,\n",
       "  'Compliant': True},\n",
       " {'Product': '18 oz  Ribeye A',\n",
       "  'Count': 1401,\n",
       "  'Min Weight': 15.52,\n",
       "  'Max Weight': 20.92,\n",
       "  'Average Weight': 18.60602284082798,\n",
       "  'Pct In Spec Weight': '95.36%',\n",
       "  'Count Offspec': 65,\n",
       "  'Compliant': True},\n",
       " {'Product': '20 oz  Prime Ribeye A',\n",
       "  'Count': 122,\n",
       "  'Min Weight': 19.08,\n",
       "  'Max Weight': 21.8,\n",
       "  'Average Weight': 20.774918032786886,\n",
       "  'Pct In Spec Weight': '73.77%',\n",
       "  'Count Offspec': 32,\n",
       "  'Compliant': False},\n",
       " {'Product': '22 oz  Porterhouse A',\n",
       "  'Count': 734,\n",
       "  'Min Weight': 20.08,\n",
       "  'Max Weight': 25.7,\n",
       "  'Average Weight': 22.693174386920983,\n",
       "  'Pct In Spec Weight': '98.37%',\n",
       "  'Count Offspec': 12,\n",
       "  'Compliant': True},\n",
       " {'Product': '3.5 oz Tender Bits A',\n",
       "  'Count': 1290,\n",
       "  'Min Weight': 3.0,\n",
       "  'Max Weight': 5.92,\n",
       "  'Average Weight': 3.571396899224806,\n",
       "  'Pct In Spec Weight': '97.83%',\n",
       "  'Count Offspec': 28,\n",
       "  'Compliant': True},\n",
       " {'Product': '4 oz T Tenderloin Tail A',\n",
       "  'Count': 909,\n",
       "  'Min Weight': 3.21,\n",
       "  'Max Weight': 6.24,\n",
       "  'Average Weight': 3.885621562156216,\n",
       "  'Pct In Spec Weight': '97.58%',\n",
       "  'Count Offspec': 22,\n",
       "  'Compliant': True},\n",
       " {'Product': '5 oz S Sirloin A',\n",
       "  'Count': 826,\n",
       "  'Min Weight': 4.22,\n",
       "  'Max Weight': 5.6,\n",
       "  'Average Weight': 4.972336561743341,\n",
       "  'Pct In Spec Weight': '97.94%',\n",
       "  'Count Offspec': 17,\n",
       "  'Compliant': True},\n",
       " {'Product': '5 oz S Sirloin B',\n",
       "  'Count': 2137,\n",
       "  'Min Weight': 4.04,\n",
       "  'Max Weight': 7.48,\n",
       "  'Average Weight': 5.08664014974263,\n",
       "  'Pct In Spec Weight': '97.94%',\n",
       "  'Count Offspec': 44,\n",
       "  'Compliant': True},\n",
       " {'Product': '6 oz S Sirloin A',\n",
       "  'Count': 1297,\n",
       "  'Min Weight': 5.12,\n",
       "  'Max Weight': 8.7,\n",
       "  'Average Weight': 5.821935235158057,\n",
       "  'Pct In Spec Weight': '98.69%',\n",
       "  'Count Offspec': 17,\n",
       "  'Compliant': True},\n",
       " {'Product': '6 oz S Sirloin B',\n",
       "  'Count': 2137,\n",
       "  'Min Weight': 5.38,\n",
       "  'Max Weight': 8.42,\n",
       "  'Average Weight': 5.996963032288255,\n",
       "  'Pct In Spec Weight': '98.92%',\n",
       "  'Count Offspec': 23,\n",
       "  'Compliant': True},\n",
       " {'Product': '6 oz T Tenderloin A',\n",
       "  'Count': 2056,\n",
       "  'Min Weight': 4.6,\n",
       "  'Max Weight': 6.92,\n",
       "  'Average Weight': 6.066760700389105,\n",
       "  'Pct In Spec Weight': '99.12%',\n",
       "  'Count Offspec': 18,\n",
       "  'Compliant': True},\n",
       " {'Product': '7 oz S Sirloin A',\n",
       "  'Count': 1375,\n",
       "  'Min Weight': 5.56,\n",
       "  'Max Weight': 7.46,\n",
       "  'Average Weight': 6.7332872727272735,\n",
       "  'Pct In Spec Weight': '99.27%',\n",
       "  'Count Offspec': 10,\n",
       "  'Compliant': True},\n",
       " {'Product': '7 oz S Sirloin B',\n",
       "  'Count': 1263,\n",
       "  'Min Weight': 6.14,\n",
       "  'Max Weight': 7.9,\n",
       "  'Average Weight': 6.837197149643705,\n",
       "  'Pct In Spec Weight': '99.68%',\n",
       "  'Count Offspec': 4,\n",
       "  'Compliant': True},\n",
       " {'Product': '7 oz T Tenderloin A',\n",
       "  'Count': 1030,\n",
       "  'Min Weight': 6.44,\n",
       "  'Max Weight': 7.98,\n",
       "  'Average Weight': 6.9431728155339805,\n",
       "  'Pct In Spec Weight': '99.81%',\n",
       "  'Count Offspec': 2,\n",
       "  'Compliant': True},\n",
       " {'Product': '8 oz P Pork Chop A',\n",
       "  'Count': 1044,\n",
       "  'Min Weight': 7.42,\n",
       "  'Max Weight': 10.06,\n",
       "  'Average Weight': 8.906819923371646,\n",
       "  'Pct In Spec Weight': '92.72%',\n",
       "  'Count Offspec': 76,\n",
       "  'Compliant': False},\n",
       " {'Product': '8 oz S Sirloin A',\n",
       "  'Count': 1260,\n",
       "  'Min Weight': 7.12,\n",
       "  'Max Weight': 11.08,\n",
       "  'Average Weight': 7.758103174603174,\n",
       "  'Pct In Spec Weight': '98.33%',\n",
       "  'Count Offspec': 21,\n",
       "  'Compliant': True},\n",
       " {'Product': '8 oz S Sirloin B',\n",
       "  'Count': 2088,\n",
       "  'Min Weight': 7.38,\n",
       "  'Max Weight': 8.66,\n",
       "  'Average Weight': 8.035181992337165,\n",
       "  'Pct In Spec Weight': '99.33%',\n",
       "  'Count Offspec': 14,\n",
       "  'Compliant': True},\n",
       " {'Product': '8 oz T Tenderloin A',\n",
       "  'Count': 1908,\n",
       "  'Min Weight': 7.16,\n",
       "  'Max Weight': 11.1,\n",
       "  'Average Weight': 8.03545073375262,\n",
       "  'Pct In Spec Weight': '98.69%',\n",
       "  'Count Offspec': 25,\n",
       "  'Compliant': True},\n",
       " {'Product': '9 oz S Sirloin A',\n",
       "  'Count': 1768,\n",
       "  'Min Weight': 8.2,\n",
       "  'Max Weight': 9.66,\n",
       "  'Average Weight': 8.859717194570136,\n",
       "  'Pct In Spec Weight': '96.66%',\n",
       "  'Count Offspec': 59,\n",
       "  'Compliant': True},\n",
       " {'Product': '9 oz T Tenderloin A',\n",
       "  'Count': 925,\n",
       "  'Min Weight': 8.2,\n",
       "  'Max Weight': 9.7,\n",
       "  'Average Weight': 9.003394594594594,\n",
       "  'Pct In Spec Weight': '98.81%',\n",
       "  'Count Offspec': 11,\n",
       "  'Compliant': True}]"
      ]
     },
     "execution_count": 11,
     "metadata": {},
     "output_type": "execute_result"
    }
   ],
   "source": [
    "df.to_dict(orient='records')"
   ]
  },
  {
   "cell_type": "code",
   "execution_count": 12,
   "metadata": {},
   "outputs": [
    {
     "data": {
      "text/plain": [
       "[{'Product': '10 oz  Sirloin A',\n",
       "  'Count_Height': 695,\n",
       "  'Min Height': 1.05676,\n",
       "  'Max Height': 1.83688,\n",
       "  'Average Height': 1.3781847913669065,\n",
       "  'Pct In Spec Height': '99.28%',\n",
       "  'Count Offspec': 5,\n",
       "  'Compliant': True},\n",
       " {'Product': '11 oz  Sirloin B',\n",
       "  'Count_Height': 817,\n",
       "  'Min Height': 1.11446,\n",
       "  'Max Height': 1.8871,\n",
       "  'Average Height': 1.3734516156670746,\n",
       "  'Pct In Spec Height': '99.51%',\n",
       "  'Count Offspec': 4,\n",
       "  'Compliant': True},\n",
       " {'Product': '11 oz  Sirloin C',\n",
       "  'Count_Height': 2062,\n",
       "  'Min Height': 1.05092,\n",
       "  'Max Height': 2.40982,\n",
       "  'Average Height': 1.422922027158099,\n",
       "  'Pct In Spec Height': '96.56%',\n",
       "  'Count Offspec': 71,\n",
       "  'Compliant': True},\n",
       " {'Product': '13 oz  Ribeye Tail A',\n",
       "  'Count_Height': 2181,\n",
       "  'Min Height': 0.701302,\n",
       "  'Max Height': 1.68081,\n",
       "  'Average Height': 1.0163654736359469,\n",
       "  'Pct In Spec Height': '100.00%',\n",
       "  'Count Offspec': 0,\n",
       "  'Compliant': True},\n",
       " {'Product': '16 oz  Dry Age Ribeye A',\n",
       "  'Count_Height': 765,\n",
       "  'Min Height': 0.99374,\n",
       "  'Max Height': 1.97211,\n",
       "  'Average Height': 1.2933640091503267,\n",
       "  'Pct In Spec Height': '100.00%',\n",
       "  'Count Offspec': 0,\n",
       "  'Compliant': True},\n",
       " {'Product': '16 oz  Prime Strip A',\n",
       "  'Count_Height': 220,\n",
       "  'Min Height': 1.04844,\n",
       "  'Max Height': 2.17817,\n",
       "  'Average Height': 1.4792916363636364,\n",
       "  'Pct In Spec Height': '100.00%',\n",
       "  'Count Offspec': 0,\n",
       "  'Compliant': True},\n",
       " {'Product': '16 oz  Ribeye Tail A',\n",
       "  'Count_Height': 1432,\n",
       "  'Min Height': 0.893239,\n",
       "  'Max Height': 1.78191,\n",
       "  'Average Height': 1.1861219560055865,\n",
       "  'Pct In Spec Height': '100.00%',\n",
       "  'Count Offspec': 0,\n",
       "  'Compliant': True},\n",
       " {'Product': '16 oz  Strip A',\n",
       "  'Count_Height': 586,\n",
       "  'Min Height': 0.826419,\n",
       "  'Max Height': 1.47993,\n",
       "  'Average Height': 1.0978388105802046,\n",
       "  'Pct In Spec Height': '100.00%',\n",
       "  'Count Offspec': 0,\n",
       "  'Compliant': True},\n",
       " {'Product': '18 oz  Ribeye A',\n",
       "  'Count_Height': 1401,\n",
       "  'Min Height': 0.747236,\n",
       "  'Max Height': 3.93643,\n",
       "  'Average Height': 1.0716966716630978,\n",
       "  'Pct In Spec Height': '99.71%',\n",
       "  'Count Offspec': 4,\n",
       "  'Compliant': True},\n",
       " {'Product': '20 oz  Prime Ribeye A',\n",
       "  'Count_Height': 122,\n",
       "  'Min Height': 0.967064,\n",
       "  'Max Height': 1.95839,\n",
       "  'Average Height': 1.302482336065574,\n",
       "  'Pct In Spec Height': '100.00%',\n",
       "  'Count Offspec': 0,\n",
       "  'Compliant': True},\n",
       " {'Product': '22 oz  Porterhouse A',\n",
       "  'Count_Height': 734,\n",
       "  'Min Height': 0.716093,\n",
       "  'Max Height': 1.53459,\n",
       "  'Average Height': 1.034556599455041,\n",
       "  'Pct In Spec Height': '100.00%',\n",
       "  'Count Offspec': 0,\n",
       "  'Compliant': True},\n",
       " {'Product': '3.5 oz Tender Bits A',\n",
       "  'Count_Height': 1290,\n",
       "  'Min Height': 0.63094,\n",
       "  'Max Height': 2.48781,\n",
       "  'Average Height': 1.3329695596899225,\n",
       "  'Pct In Spec Height': '100.00%',\n",
       "  'Count Offspec': 0,\n",
       "  'Compliant': True},\n",
       " {'Product': '4 oz T Tenderloin Tail A',\n",
       "  'Count_Height': 909,\n",
       "  'Min Height': 0.697441,\n",
       "  'Max Height': 1.65256,\n",
       "  'Average Height': 1.032980304730473,\n",
       "  'Pct In Spec Height': '100.00%',\n",
       "  'Count Offspec': 0,\n",
       "  'Compliant': True},\n",
       " {'Product': '5 oz S Sirloin A',\n",
       "  'Count_Height': 826,\n",
       "  'Min Height': 0.944742,\n",
       "  'Max Height': 2.01948,\n",
       "  'Average Height': 1.346565343825666,\n",
       "  'Pct In Spec Height': '95.88%',\n",
       "  'Count Offspec': 34,\n",
       "  'Compliant': True},\n",
       " {'Product': '5 oz S Sirloin B',\n",
       "  'Count_Height': 2137,\n",
       "  'Min Height': 0.952895,\n",
       "  'Max Height': 2.12393,\n",
       "  'Average Height': 1.303232029948526,\n",
       "  'Pct In Spec Height': '94.34%',\n",
       "  'Count Offspec': 121,\n",
       "  'Compliant': False},\n",
       " {'Product': '6 oz S Sirloin A',\n",
       "  'Count_Height': 1297,\n",
       "  'Min Height': 0.980229,\n",
       "  'Max Height': 1.9864,\n",
       "  'Average Height': 1.36830166461064,\n",
       "  'Pct In Spec Height': '97.92%',\n",
       "  'Count Offspec': 27,\n",
       "  'Compliant': True},\n",
       " {'Product': '6 oz S Sirloin B',\n",
       "  'Count_Height': 2137,\n",
       "  'Min Height': 0.976007,\n",
       "  'Max Height': 2.35997,\n",
       "  'Average Height': 1.348500071127749,\n",
       "  'Pct In Spec Height': '97.24%',\n",
       "  'Count Offspec': 59,\n",
       "  'Compliant': True},\n",
       " {'Product': '6 oz T Tenderloin A',\n",
       "  'Count_Height': 2056,\n",
       "  'Min Height': 0.803807,\n",
       "  'Max Height': 2.9389,\n",
       "  'Average Height': 1.5791617767509727,\n",
       "  'Pct In Spec Height': '99.03%',\n",
       "  'Count Offspec': 20,\n",
       "  'Compliant': True},\n",
       " {'Product': '7 oz S Sirloin A',\n",
       "  'Count_Height': 1375,\n",
       "  'Min Height': 0.956135,\n",
       "  'Max Height': 1.80927,\n",
       "  'Average Height': 1.3475398436363637,\n",
       "  'Pct In Spec Height': '98.25%',\n",
       "  'Count Offspec': 24,\n",
       "  'Compliant': True},\n",
       " {'Product': '7 oz S Sirloin B',\n",
       "  'Count_Height': 1263,\n",
       "  'Min Height': 0.962221,\n",
       "  'Max Height': 1.86313,\n",
       "  'Average Height': 1.3303294140934283,\n",
       "  'Pct In Spec Height': '96.99%',\n",
       "  'Count Offspec': 38,\n",
       "  'Compliant': True},\n",
       " {'Product': '7 oz T Tenderloin A',\n",
       "  'Count_Height': 1030,\n",
       "  'Min Height': 0.938533,\n",
       "  'Max Height': 3.00167,\n",
       "  'Average Height': 1.7364948805825242,\n",
       "  'Pct In Spec Height': '99.81%',\n",
       "  'Count Offspec': 2,\n",
       "  'Compliant': True},\n",
       " {'Product': '8 oz P Pork Chop A',\n",
       "  'Count_Height': 1044,\n",
       "  'Min Height': 0.716492,\n",
       "  'Max Height': 1.38714,\n",
       "  'Average Height': 0.9424468400383141,\n",
       "  'Pct In Spec Height': '99.71%',\n",
       "  'Count Offspec': 3,\n",
       "  'Compliant': True},\n",
       " {'Product': '8 oz S Sirloin A',\n",
       "  'Count_Height': 1260,\n",
       "  'Min Height': 1.02872,\n",
       "  'Max Height': 1.96346,\n",
       "  'Average Height': 1.3832790317460317,\n",
       "  'Pct In Spec Height': '97.94%',\n",
       "  'Count Offspec': 26,\n",
       "  'Compliant': True},\n",
       " {'Product': '8 oz S Sirloin B',\n",
       "  'Count_Height': 2088,\n",
       "  'Min Height': 1.02728,\n",
       "  'Max Height': 2.1574,\n",
       "  'Average Height': 1.3744102107279694,\n",
       "  'Pct In Spec Height': '98.23%',\n",
       "  'Count Offspec': 37,\n",
       "  'Compliant': True},\n",
       " {'Product': '8 oz T Tenderloin A',\n",
       "  'Count_Height': 1908,\n",
       "  'Min Height': 0.98796,\n",
       "  'Max Height': 3.38117,\n",
       "  'Average Height': 1.9000240513626836,\n",
       "  'Pct In Spec Height': '100.00%',\n",
       "  'Count Offspec': 0,\n",
       "  'Compliant': True},\n",
       " {'Product': '9 oz S Sirloin A',\n",
       "  'Count_Height': 1768,\n",
       "  'Min Height': 0.949115,\n",
       "  'Max Height': 2.02464,\n",
       "  'Average Height': 1.3719191221719456,\n",
       "  'Pct In Spec Height': '97.91%',\n",
       "  'Count Offspec': 37,\n",
       "  'Compliant': True},\n",
       " {'Product': '9 oz T Tenderloin A',\n",
       "  'Count_Height': 925,\n",
       "  'Min Height': 1.19688,\n",
       "  'Max Height': 2.9991,\n",
       "  'Average Height': 1.8785099459459458,\n",
       "  'Pct In Spec Height': '100.00%',\n",
       "  'Count Offspec': 0,\n",
       "  'Compliant': True}]"
      ]
     },
     "execution_count": 12,
     "metadata": {},
     "output_type": "execute_result"
    }
   ],
   "source": [
    "df1.to_dict(orient='records')"
   ]
  },
  {
   "cell_type": "code",
   "execution_count": null,
   "metadata": {},
   "outputs": [],
   "source": []
  },
  {
   "cell_type": "code",
   "execution_count": 11,
   "metadata": {},
   "outputs": [
    {
     "data": {
      "text/html": [
       "<div>\n",
       "<style scoped>\n",
       "    .dataframe tbody tr th:only-of-type {\n",
       "        vertical-align: middle;\n",
       "    }\n",
       "\n",
       "    .dataframe tbody tr th {\n",
       "        vertical-align: top;\n",
       "    }\n",
       "\n",
       "    .dataframe thead th {\n",
       "        text-align: right;\n",
       "    }\n",
       "</style>\n",
       "<table border=\"1\" class=\"dataframe\">\n",
       "  <thead>\n",
       "    <tr style=\"text-align: right;\">\n",
       "      <th></th>\n",
       "      <th>0</th>\n",
       "    </tr>\n",
       "  </thead>\n",
       "  <tbody>\n",
       "    <tr>\n",
       "      <th>Product</th>\n",
       "      <td>8 oz T Tenderloin A</td>\n",
       "    </tr>\n",
       "    <tr>\n",
       "      <th>Count</th>\n",
       "      <td>1908</td>\n",
       "    </tr>\n",
       "    <tr>\n",
       "      <th>Min</th>\n",
       "      <td>7.16</td>\n",
       "    </tr>\n",
       "    <tr>\n",
       "      <th>Max</th>\n",
       "      <td>11.1</td>\n",
       "    </tr>\n",
       "    <tr>\n",
       "      <th>Average</th>\n",
       "      <td>8.035451</td>\n",
       "    </tr>\n",
       "    <tr>\n",
       "      <th>Pct In Spec</th>\n",
       "      <td>98.69%</td>\n",
       "    </tr>\n",
       "    <tr>\n",
       "      <th>Count Offspec</th>\n",
       "      <td>25</td>\n",
       "    </tr>\n",
       "    <tr>\n",
       "      <th>Compliant</th>\n",
       "      <td>True</td>\n",
       "    </tr>\n",
       "  </tbody>\n",
       "</table>\n",
       "</div>"
      ],
      "text/plain": [
       "                                 0\n",
       "Product        8 oz T Tenderloin A\n",
       "Count                         1908\n",
       "Min                           7.16\n",
       "Max                           11.1\n",
       "Average                   8.035451\n",
       "Pct In Spec                 98.69%\n",
       "Count Offspec                   25\n",
       "Compliant                     True"
      ]
     },
     "execution_count": 11,
     "metadata": {},
     "output_type": "execute_result"
    }
   ],
   "source": [
    "df = product_specific_card(engine, '8 oz T Tenderloin A', 'weight')\n",
    "df"
   ]
  },
  {
   "cell_type": "code",
   "execution_count": 12,
   "metadata": {},
   "outputs": [
    {
     "data": {
      "text/html": [
       "<div>\n",
       "<style scoped>\n",
       "    .dataframe tbody tr th:only-of-type {\n",
       "        vertical-align: middle;\n",
       "    }\n",
       "\n",
       "    .dataframe tbody tr th {\n",
       "        vertical-align: top;\n",
       "    }\n",
       "\n",
       "    .dataframe thead th {\n",
       "        text-align: right;\n",
       "    }\n",
       "</style>\n",
       "<table border=\"1\" class=\"dataframe\">\n",
       "  <thead>\n",
       "    <tr style=\"text-align: right;\">\n",
       "      <th></th>\n",
       "      <th>0</th>\n",
       "    </tr>\n",
       "  </thead>\n",
       "  <tbody>\n",
       "    <tr>\n",
       "      <th>Product</th>\n",
       "      <td>8 oz T Tenderloin A</td>\n",
       "    </tr>\n",
       "    <tr>\n",
       "      <th>Count</th>\n",
       "      <td>1908</td>\n",
       "    </tr>\n",
       "    <tr>\n",
       "      <th>Min</th>\n",
       "      <td>0.98796</td>\n",
       "    </tr>\n",
       "    <tr>\n",
       "      <th>Max</th>\n",
       "      <td>3.38117</td>\n",
       "    </tr>\n",
       "    <tr>\n",
       "      <th>Average</th>\n",
       "      <td>1.900024</td>\n",
       "    </tr>\n",
       "    <tr>\n",
       "      <th>Pct In Spec</th>\n",
       "      <td>100.00%</td>\n",
       "    </tr>\n",
       "    <tr>\n",
       "      <th>Count Offspec</th>\n",
       "      <td>0</td>\n",
       "    </tr>\n",
       "    <tr>\n",
       "      <th>Compliant</th>\n",
       "      <td>True</td>\n",
       "    </tr>\n",
       "  </tbody>\n",
       "</table>\n",
       "</div>"
      ],
      "text/plain": [
       "                                 0\n",
       "Product        8 oz T Tenderloin A\n",
       "Count                         1908\n",
       "Min                        0.98796\n",
       "Max                        3.38117\n",
       "Average                   1.900024\n",
       "Pct In Spec                100.00%\n",
       "Count Offspec                    0\n",
       "Compliant                     True"
      ]
     },
     "execution_count": 12,
     "metadata": {},
     "output_type": "execute_result"
    }
   ],
   "source": [
    "df = product_specific_card(engine, '8 oz T Tenderloin A', 'height')\n",
    "df"
   ]
  },
  {
   "cell_type": "code",
   "execution_count": 12,
   "metadata": {},
   "outputs": [
    {
     "data": {
      "text/html": [
       "<div>\n",
       "<style scoped>\n",
       "    .dataframe tbody tr th:only-of-type {\n",
       "        vertical-align: middle;\n",
       "    }\n",
       "\n",
       "    .dataframe tbody tr th {\n",
       "        vertical-align: top;\n",
       "    }\n",
       "\n",
       "    .dataframe thead th {\n",
       "        text-align: right;\n",
       "    }\n",
       "</style>\n",
       "<table border=\"1\" class=\"dataframe\">\n",
       "  <thead>\n",
       "    <tr style=\"text-align: right;\">\n",
       "      <th></th>\n",
       "      <th>measured_weight</th>\n",
       "      <th>measured_height</th>\n",
       "    </tr>\n",
       "  </thead>\n",
       "  <tbody>\n",
       "    <tr>\n",
       "      <th>0</th>\n",
       "      <td>16.76</td>\n",
       "      <td>1.62952</td>\n",
       "    </tr>\n",
       "    <tr>\n",
       "      <th>1</th>\n",
       "      <td>16.12</td>\n",
       "      <td>1.02086</td>\n",
       "    </tr>\n",
       "    <tr>\n",
       "      <th>2</th>\n",
       "      <td>16.34</td>\n",
       "      <td>1.03975</td>\n",
       "    </tr>\n",
       "    <tr>\n",
       "      <th>3</th>\n",
       "      <td>16.16</td>\n",
       "      <td>1.05378</td>\n",
       "    </tr>\n",
       "    <tr>\n",
       "      <th>4</th>\n",
       "      <td>16.12</td>\n",
       "      <td>1.03522</td>\n",
       "    </tr>\n",
       "    <tr>\n",
       "      <th>...</th>\n",
       "      <td>...</td>\n",
       "      <td>...</td>\n",
       "    </tr>\n",
       "    <tr>\n",
       "      <th>34323</th>\n",
       "      <td>6.82</td>\n",
       "      <td>1.25516</td>\n",
       "    </tr>\n",
       "    <tr>\n",
       "      <th>34324</th>\n",
       "      <td>6.86</td>\n",
       "      <td>1.29131</td>\n",
       "    </tr>\n",
       "    <tr>\n",
       "      <th>34325</th>\n",
       "      <td>6.94</td>\n",
       "      <td>1.36985</td>\n",
       "    </tr>\n",
       "    <tr>\n",
       "      <th>34326</th>\n",
       "      <td>6.80</td>\n",
       "      <td>1.32573</td>\n",
       "    </tr>\n",
       "    <tr>\n",
       "      <th>34327</th>\n",
       "      <td>6.80</td>\n",
       "      <td>1.25799</td>\n",
       "    </tr>\n",
       "  </tbody>\n",
       "</table>\n",
       "<p>34328 rows × 2 columns</p>\n",
       "</div>"
      ],
      "text/plain": [
       "       measured_weight  measured_height\n",
       "0                16.76          1.62952\n",
       "1                16.12          1.02086\n",
       "2                16.34          1.03975\n",
       "3                16.16          1.05378\n",
       "4                16.12          1.03522\n",
       "...                ...              ...\n",
       "34323             6.82          1.25516\n",
       "34324             6.86          1.29131\n",
       "34325             6.94          1.36985\n",
       "34326             6.80          1.32573\n",
       "34327             6.80          1.25799\n",
       "\n",
       "[34328 rows x 2 columns]"
      ]
     },
     "execution_count": 12,
     "metadata": {},
     "output_type": "execute_result"
    }
   ],
   "source": [
    "df3"
   ]
  },
  {
   "cell_type": "code",
   "execution_count": 10,
   "metadata": {},
   "outputs": [],
   "source": [
    "df1 = query_specs(engine)"
   ]
  },
  {
   "cell_type": "code",
   "execution_count": 11,
   "metadata": {},
   "outputs": [
    {
     "data": {
      "text/plain": [
       "'20 oz  Prime Ribeye A'"
      ]
     },
     "execution_count": 11,
     "metadata": {},
     "output_type": "execute_result"
    }
   ],
   "source": [
    "product_sample = df1.product_name.values[9]\n",
    "product_sample"
   ]
  },
  {
   "cell_type": "code",
   "execution_count": 8,
   "metadata": {},
   "outputs": [
    {
     "data": {
      "text/html": [
       "<div>\n",
       "<style scoped>\n",
       "    .dataframe tbody tr th:only-of-type {\n",
       "        vertical-align: middle;\n",
       "    }\n",
       "\n",
       "    .dataframe tbody tr th {\n",
       "        vertical-align: top;\n",
       "    }\n",
       "\n",
       "    .dataframe thead th {\n",
       "        text-align: right;\n",
       "    }\n",
       "</style>\n",
       "<table border=\"1\" class=\"dataframe\">\n",
       "  <thead>\n",
       "    <tr style=\"text-align: right;\">\n",
       "      <th></th>\n",
       "      <th>product_id</th>\n",
       "      <th>product_name</th>\n",
       "      <th>weight_min</th>\n",
       "      <th>weight_max</th>\n",
       "      <th>height_min</th>\n",
       "      <th>height_max</th>\n",
       "    </tr>\n",
       "  </thead>\n",
       "  <tbody>\n",
       "    <tr>\n",
       "      <th>0</th>\n",
       "      <td>10</td>\n",
       "      <td>20 oz  Prime Ribeye A</td>\n",
       "      <td>18.95</td>\n",
       "      <td>21.1</td>\n",
       "      <td>0.95</td>\n",
       "      <td>2.0</td>\n",
       "    </tr>\n",
       "  </tbody>\n",
       "</table>\n",
       "</div>"
      ],
      "text/plain": [
       "   product_id           product_name  weight_min  weight_max  height_min  \\\n",
       "0          10  20 oz  Prime Ribeye A       18.95        21.1        0.95   \n",
       "\n",
       "   height_max  \n",
       "0         2.0  "
      ]
     },
     "execution_count": 8,
     "metadata": {},
     "output_type": "execute_result"
    }
   ],
   "source": [
    "df2 = query_specs(engine, product_sample)\n",
    "df2"
   ]
  },
  {
   "cell_type": "code",
   "execution_count": 9,
   "metadata": {},
   "outputs": [],
   "source": [
    "df3 = query_metrics(engine)"
   ]
  },
  {
   "cell_type": "code",
   "execution_count": 10,
   "metadata": {},
   "outputs": [],
   "source": [
    "df4 = query_metrics(engine, product_sample)"
   ]
  },
  {
   "cell_type": "code",
   "execution_count": null,
   "metadata": {},
   "outputs": [],
   "source": []
  },
  {
   "cell_type": "code",
   "execution_count": null,
   "metadata": {},
   "outputs": [],
   "source": []
  },
  {
   "cell_type": "code",
   "execution_count": null,
   "metadata": {},
   "outputs": [],
   "source": []
  },
  {
   "cell_type": "code",
   "execution_count": 20,
   "metadata": {},
   "outputs": [
    {
     "data": {
      "text/plain": [
       "array(['10 oz  Sirloin A'], dtype=object)"
      ]
     },
     "execution_count": 20,
     "metadata": {},
     "output_type": "execute_result"
    }
   ],
   "source": [
    "df4.product_name.unique()"
   ]
  },
  {
   "cell_type": "code",
   "execution_count": 23,
   "metadata": {},
   "outputs": [
    {
     "data": {
      "text/plain": [
       "(8.0, 12.0)"
      ]
     },
     "execution_count": 23,
     "metadata": {},
     "output_type": "execute_result"
    }
   ],
   "source": [
    "bin_edges = get_bins(df4)\n",
    "bin_edges"
   ]
  },
  {
   "cell_type": "code",
   "execution_count": 25,
   "metadata": {},
   "outputs": [],
   "source": [
    "posts = goal_posts(df2, df4)"
   ]
  },
  {
   "cell_type": "code",
   "execution_count": 26,
   "metadata": {},
   "outputs": [
    {
     "data": {
      "text/plain": [
       "(9.12, 10.12, 9.765)"
      ]
     },
     "execution_count": 26,
     "metadata": {},
     "output_type": "execute_result"
    }
   ],
   "source": [
    "posts"
   ]
  },
  {
   "cell_type": "code",
   "execution_count": 16,
   "metadata": {},
   "outputs": [
    {
     "data": {
      "application/vnd.plotly.v1+json": {
       "config": {
        "plotlyServerURL": "https://plot.ly"
       },
       "data": [
        {
         "alignmentgroup": "True",
         "bingroup": "x",
         "hovertemplate": "measured_weight=%{x}<br>count=%{y}<extra></extra>",
         "legendgroup": "",
         "marker": {
          "color": "#43A7E5",
          "line": {
           "color": "DarkSlateGrey",
           "width": 1
          },
          "pattern": {
           "shape": ""
          }
         },
         "name": "",
         "nbinsx": 20,
         "offsetgroup": "",
         "orientation": "v",
         "showlegend": false,
         "type": "histogram",
         "x": [
          19.36,
          20,
          21.12,
          21.18,
          21.2,
          21.12,
          20.64,
          21.36,
          20.3,
          20,
          19.63,
          20.84,
          21.46,
          21.2,
          21,
          20.9,
          20.92,
          20.56,
          20.12,
          19.94,
          20.9,
          20.08,
          21,
          20.7,
          21.8,
          20,
          21.09,
          21,
          21.05,
          21.07,
          20.6,
          21.08,
          21.16,
          21.3,
          20.9,
          20.32,
          21.25,
          19.6,
          21.16,
          21.08,
          21.2,
          21.05,
          21.42,
          20,
          20.94,
          21,
          20.42,
          21.09,
          21.08,
          21.04,
          21.38,
          19.64,
          21.28,
          21.02,
          20.94,
          21.28,
          20.64,
          21.3,
          21.3,
          20.82,
          21,
          21.1,
          21.06,
          20.12,
          21.06,
          20.7,
          21.04,
          20.2,
          21.3,
          20.08,
          19.74,
          20.7,
          20.6,
          21.09,
          21.22,
          20.9,
          21.34,
          21.44,
          20.18,
          19.3,
          20.48,
          20.6,
          21,
          20.98,
          21.09,
          20,
          20.8,
          20.2,
          21.8,
          19.26,
          19.5,
          21.08,
          21.02,
          21.06,
          19.96,
          20.26,
          21.42,
          21.32,
          20.96,
          21.08,
          21.4,
          21.3,
          21.06,
          21.24,
          21.09,
          20.94,
          20.06,
          20.84,
          21.06,
          20.8,
          19.08,
          21.3,
          20.09,
          21.1,
          19.24,
          21.07,
          21.09,
          21.25,
          21,
          21.08,
          21.42,
          20.16
         ],
         "xaxis": "x",
         "yaxis": "y"
        }
       ],
       "layout": {
        "annotations": [
         {
          "showarrow": false,
          "text": "18.95",
          "x": 18.95,
          "xanchor": "right",
          "xref": "x",
          "y": 1,
          "yanchor": "top",
          "yref": "y domain"
         },
         {
          "showarrow": false,
          "text": "21.10",
          "x": 21.1,
          "xanchor": "right",
          "xref": "x",
          "y": 1,
          "yanchor": "top",
          "yref": "y domain"
         },
         {
          "showarrow": false,
          "text": "20.77",
          "x": 20.775,
          "xanchor": "right",
          "xref": "x",
          "y": 1,
          "yanchor": "top",
          "yref": "y domain"
         }
        ],
        "barmode": "relative",
        "height": 600,
        "legend": {
         "tracegroupgap": 0
        },
        "margin": {
         "t": 60
        },
        "shapes": [
         {
          "line": {
           "color": "red",
           "dash": "solid"
          },
          "type": "line",
          "x0": 18.95,
          "x1": 18.95,
          "xref": "x",
          "y0": 0,
          "y1": 1,
          "yref": "y domain"
         },
         {
          "line": {
           "color": "red",
           "dash": "solid"
          },
          "type": "line",
          "x0": 21.1,
          "x1": 21.1,
          "xref": "x",
          "y0": 0,
          "y1": 1,
          "yref": "y domain"
         },
         {
          "line": {
           "color": "blue",
           "dash": "longdash"
          },
          "type": "line",
          "x0": 20.775,
          "x1": 20.775,
          "xref": "x",
          "y0": 0,
          "y1": 1,
          "yref": "y domain"
         }
        ],
        "template": {
         "data": {
          "bar": [
           {
            "error_x": {
             "color": "#2a3f5f"
            },
            "error_y": {
             "color": "#2a3f5f"
            },
            "marker": {
             "line": {
              "color": "#E5ECF6",
              "width": 0.5
             },
             "pattern": {
              "fillmode": "overlay",
              "size": 10,
              "solidity": 0.2
             }
            },
            "type": "bar"
           }
          ],
          "barpolar": [
           {
            "marker": {
             "line": {
              "color": "#E5ECF6",
              "width": 0.5
             },
             "pattern": {
              "fillmode": "overlay",
              "size": 10,
              "solidity": 0.2
             }
            },
            "type": "barpolar"
           }
          ],
          "carpet": [
           {
            "aaxis": {
             "endlinecolor": "#2a3f5f",
             "gridcolor": "white",
             "linecolor": "white",
             "minorgridcolor": "white",
             "startlinecolor": "#2a3f5f"
            },
            "baxis": {
             "endlinecolor": "#2a3f5f",
             "gridcolor": "white",
             "linecolor": "white",
             "minorgridcolor": "white",
             "startlinecolor": "#2a3f5f"
            },
            "type": "carpet"
           }
          ],
          "choropleth": [
           {
            "colorbar": {
             "outlinewidth": 0,
             "ticks": ""
            },
            "type": "choropleth"
           }
          ],
          "contour": [
           {
            "colorbar": {
             "outlinewidth": 0,
             "ticks": ""
            },
            "colorscale": [
             [
              0,
              "#0d0887"
             ],
             [
              0.1111111111111111,
              "#46039f"
             ],
             [
              0.2222222222222222,
              "#7201a8"
             ],
             [
              0.3333333333333333,
              "#9c179e"
             ],
             [
              0.4444444444444444,
              "#bd3786"
             ],
             [
              0.5555555555555556,
              "#d8576b"
             ],
             [
              0.6666666666666666,
              "#ed7953"
             ],
             [
              0.7777777777777778,
              "#fb9f3a"
             ],
             [
              0.8888888888888888,
              "#fdca26"
             ],
             [
              1,
              "#f0f921"
             ]
            ],
            "type": "contour"
           }
          ],
          "contourcarpet": [
           {
            "colorbar": {
             "outlinewidth": 0,
             "ticks": ""
            },
            "type": "contourcarpet"
           }
          ],
          "heatmap": [
           {
            "colorbar": {
             "outlinewidth": 0,
             "ticks": ""
            },
            "colorscale": [
             [
              0,
              "#0d0887"
             ],
             [
              0.1111111111111111,
              "#46039f"
             ],
             [
              0.2222222222222222,
              "#7201a8"
             ],
             [
              0.3333333333333333,
              "#9c179e"
             ],
             [
              0.4444444444444444,
              "#bd3786"
             ],
             [
              0.5555555555555556,
              "#d8576b"
             ],
             [
              0.6666666666666666,
              "#ed7953"
             ],
             [
              0.7777777777777778,
              "#fb9f3a"
             ],
             [
              0.8888888888888888,
              "#fdca26"
             ],
             [
              1,
              "#f0f921"
             ]
            ],
            "type": "heatmap"
           }
          ],
          "heatmapgl": [
           {
            "colorbar": {
             "outlinewidth": 0,
             "ticks": ""
            },
            "colorscale": [
             [
              0,
              "#0d0887"
             ],
             [
              0.1111111111111111,
              "#46039f"
             ],
             [
              0.2222222222222222,
              "#7201a8"
             ],
             [
              0.3333333333333333,
              "#9c179e"
             ],
             [
              0.4444444444444444,
              "#bd3786"
             ],
             [
              0.5555555555555556,
              "#d8576b"
             ],
             [
              0.6666666666666666,
              "#ed7953"
             ],
             [
              0.7777777777777778,
              "#fb9f3a"
             ],
             [
              0.8888888888888888,
              "#fdca26"
             ],
             [
              1,
              "#f0f921"
             ]
            ],
            "type": "heatmapgl"
           }
          ],
          "histogram": [
           {
            "marker": {
             "pattern": {
              "fillmode": "overlay",
              "size": 10,
              "solidity": 0.2
             }
            },
            "type": "histogram"
           }
          ],
          "histogram2d": [
           {
            "colorbar": {
             "outlinewidth": 0,
             "ticks": ""
            },
            "colorscale": [
             [
              0,
              "#0d0887"
             ],
             [
              0.1111111111111111,
              "#46039f"
             ],
             [
              0.2222222222222222,
              "#7201a8"
             ],
             [
              0.3333333333333333,
              "#9c179e"
             ],
             [
              0.4444444444444444,
              "#bd3786"
             ],
             [
              0.5555555555555556,
              "#d8576b"
             ],
             [
              0.6666666666666666,
              "#ed7953"
             ],
             [
              0.7777777777777778,
              "#fb9f3a"
             ],
             [
              0.8888888888888888,
              "#fdca26"
             ],
             [
              1,
              "#f0f921"
             ]
            ],
            "type": "histogram2d"
           }
          ],
          "histogram2dcontour": [
           {
            "colorbar": {
             "outlinewidth": 0,
             "ticks": ""
            },
            "colorscale": [
             [
              0,
              "#0d0887"
             ],
             [
              0.1111111111111111,
              "#46039f"
             ],
             [
              0.2222222222222222,
              "#7201a8"
             ],
             [
              0.3333333333333333,
              "#9c179e"
             ],
             [
              0.4444444444444444,
              "#bd3786"
             ],
             [
              0.5555555555555556,
              "#d8576b"
             ],
             [
              0.6666666666666666,
              "#ed7953"
             ],
             [
              0.7777777777777778,
              "#fb9f3a"
             ],
             [
              0.8888888888888888,
              "#fdca26"
             ],
             [
              1,
              "#f0f921"
             ]
            ],
            "type": "histogram2dcontour"
           }
          ],
          "mesh3d": [
           {
            "colorbar": {
             "outlinewidth": 0,
             "ticks": ""
            },
            "type": "mesh3d"
           }
          ],
          "parcoords": [
           {
            "line": {
             "colorbar": {
              "outlinewidth": 0,
              "ticks": ""
             }
            },
            "type": "parcoords"
           }
          ],
          "pie": [
           {
            "automargin": true,
            "type": "pie"
           }
          ],
          "scatter": [
           {
            "fillpattern": {
             "fillmode": "overlay",
             "size": 10,
             "solidity": 0.2
            },
            "type": "scatter"
           }
          ],
          "scatter3d": [
           {
            "line": {
             "colorbar": {
              "outlinewidth": 0,
              "ticks": ""
             }
            },
            "marker": {
             "colorbar": {
              "outlinewidth": 0,
              "ticks": ""
             }
            },
            "type": "scatter3d"
           }
          ],
          "scattercarpet": [
           {
            "marker": {
             "colorbar": {
              "outlinewidth": 0,
              "ticks": ""
             }
            },
            "type": "scattercarpet"
           }
          ],
          "scattergeo": [
           {
            "marker": {
             "colorbar": {
              "outlinewidth": 0,
              "ticks": ""
             }
            },
            "type": "scattergeo"
           }
          ],
          "scattergl": [
           {
            "marker": {
             "colorbar": {
              "outlinewidth": 0,
              "ticks": ""
             }
            },
            "type": "scattergl"
           }
          ],
          "scattermapbox": [
           {
            "marker": {
             "colorbar": {
              "outlinewidth": 0,
              "ticks": ""
             }
            },
            "type": "scattermapbox"
           }
          ],
          "scatterpolar": [
           {
            "marker": {
             "colorbar": {
              "outlinewidth": 0,
              "ticks": ""
             }
            },
            "type": "scatterpolar"
           }
          ],
          "scatterpolargl": [
           {
            "marker": {
             "colorbar": {
              "outlinewidth": 0,
              "ticks": ""
             }
            },
            "type": "scatterpolargl"
           }
          ],
          "scatterternary": [
           {
            "marker": {
             "colorbar": {
              "outlinewidth": 0,
              "ticks": ""
             }
            },
            "type": "scatterternary"
           }
          ],
          "surface": [
           {
            "colorbar": {
             "outlinewidth": 0,
             "ticks": ""
            },
            "colorscale": [
             [
              0,
              "#0d0887"
             ],
             [
              0.1111111111111111,
              "#46039f"
             ],
             [
              0.2222222222222222,
              "#7201a8"
             ],
             [
              0.3333333333333333,
              "#9c179e"
             ],
             [
              0.4444444444444444,
              "#bd3786"
             ],
             [
              0.5555555555555556,
              "#d8576b"
             ],
             [
              0.6666666666666666,
              "#ed7953"
             ],
             [
              0.7777777777777778,
              "#fb9f3a"
             ],
             [
              0.8888888888888888,
              "#fdca26"
             ],
             [
              1,
              "#f0f921"
             ]
            ],
            "type": "surface"
           }
          ],
          "table": [
           {
            "cells": {
             "fill": {
              "color": "#EBF0F8"
             },
             "line": {
              "color": "white"
             }
            },
            "header": {
             "fill": {
              "color": "#C8D4E3"
             },
             "line": {
              "color": "white"
             }
            },
            "type": "table"
           }
          ]
         },
         "layout": {
          "annotationdefaults": {
           "arrowcolor": "#2a3f5f",
           "arrowhead": 0,
           "arrowwidth": 1
          },
          "autotypenumbers": "strict",
          "coloraxis": {
           "colorbar": {
            "outlinewidth": 0,
            "ticks": ""
           }
          },
          "colorscale": {
           "diverging": [
            [
             0,
             "#8e0152"
            ],
            [
             0.1,
             "#c51b7d"
            ],
            [
             0.2,
             "#de77ae"
            ],
            [
             0.3,
             "#f1b6da"
            ],
            [
             0.4,
             "#fde0ef"
            ],
            [
             0.5,
             "#f7f7f7"
            ],
            [
             0.6,
             "#e6f5d0"
            ],
            [
             0.7,
             "#b8e186"
            ],
            [
             0.8,
             "#7fbc41"
            ],
            [
             0.9,
             "#4d9221"
            ],
            [
             1,
             "#276419"
            ]
           ],
           "sequential": [
            [
             0,
             "#0d0887"
            ],
            [
             0.1111111111111111,
             "#46039f"
            ],
            [
             0.2222222222222222,
             "#7201a8"
            ],
            [
             0.3333333333333333,
             "#9c179e"
            ],
            [
             0.4444444444444444,
             "#bd3786"
            ],
            [
             0.5555555555555556,
             "#d8576b"
            ],
            [
             0.6666666666666666,
             "#ed7953"
            ],
            [
             0.7777777777777778,
             "#fb9f3a"
            ],
            [
             0.8888888888888888,
             "#fdca26"
            ],
            [
             1,
             "#f0f921"
            ]
           ],
           "sequentialminus": [
            [
             0,
             "#0d0887"
            ],
            [
             0.1111111111111111,
             "#46039f"
            ],
            [
             0.2222222222222222,
             "#7201a8"
            ],
            [
             0.3333333333333333,
             "#9c179e"
            ],
            [
             0.4444444444444444,
             "#bd3786"
            ],
            [
             0.5555555555555556,
             "#d8576b"
            ],
            [
             0.6666666666666666,
             "#ed7953"
            ],
            [
             0.7777777777777778,
             "#fb9f3a"
            ],
            [
             0.8888888888888888,
             "#fdca26"
            ],
            [
             1,
             "#f0f921"
            ]
           ]
          },
          "colorway": [
           "#636efa",
           "#EF553B",
           "#00cc96",
           "#ab63fa",
           "#FFA15A",
           "#19d3f3",
           "#FF6692",
           "#B6E880",
           "#FF97FF",
           "#FECB52"
          ],
          "font": {
           "color": "#2a3f5f"
          },
          "geo": {
           "bgcolor": "white",
           "lakecolor": "white",
           "landcolor": "#E5ECF6",
           "showlakes": true,
           "showland": true,
           "subunitcolor": "white"
          },
          "hoverlabel": {
           "align": "left"
          },
          "hovermode": "closest",
          "mapbox": {
           "style": "light"
          },
          "paper_bgcolor": "white",
          "plot_bgcolor": "#E5ECF6",
          "polar": {
           "angularaxis": {
            "gridcolor": "white",
            "linecolor": "white",
            "ticks": ""
           },
           "bgcolor": "#E5ECF6",
           "radialaxis": {
            "gridcolor": "white",
            "linecolor": "white",
            "ticks": ""
           }
          },
          "scene": {
           "xaxis": {
            "backgroundcolor": "#E5ECF6",
            "gridcolor": "white",
            "gridwidth": 2,
            "linecolor": "white",
            "showbackground": true,
            "ticks": "",
            "zerolinecolor": "white"
           },
           "yaxis": {
            "backgroundcolor": "#E5ECF6",
            "gridcolor": "white",
            "gridwidth": 2,
            "linecolor": "white",
            "showbackground": true,
            "ticks": "",
            "zerolinecolor": "white"
           },
           "zaxis": {
            "backgroundcolor": "#E5ECF6",
            "gridcolor": "white",
            "gridwidth": 2,
            "linecolor": "white",
            "showbackground": true,
            "ticks": "",
            "zerolinecolor": "white"
           }
          },
          "shapedefaults": {
           "line": {
            "color": "#2a3f5f"
           }
          },
          "ternary": {
           "aaxis": {
            "gridcolor": "white",
            "linecolor": "white",
            "ticks": ""
           },
           "baxis": {
            "gridcolor": "white",
            "linecolor": "white",
            "ticks": ""
           },
           "bgcolor": "#E5ECF6",
           "caxis": {
            "gridcolor": "white",
            "linecolor": "white",
            "ticks": ""
           }
          },
          "title": {
           "x": 0.05
          },
          "xaxis": {
           "automargin": true,
           "gridcolor": "white",
           "linecolor": "white",
           "ticks": "",
           "title": {
            "standoff": 15
           },
           "zerolinecolor": "white",
           "zerolinewidth": 2
          },
          "yaxis": {
           "automargin": true,
           "gridcolor": "white",
           "linecolor": "white",
           "ticks": "",
           "title": {
            "standoff": 15
           },
           "zerolinecolor": "white",
           "zerolinewidth": 2
          }
         }
        },
        "title": {
         "text": "Weight Distribution of 20 oz  Prime Ribeye A"
        },
        "width": 800,
        "xaxis": {
         "anchor": "y",
         "domain": [
          0,
          1
         ],
         "title": {
          "text": "Weight (oz)"
         }
        },
        "yaxis": {
         "anchor": "x",
         "domain": [
          0,
          1
         ],
         "title": {
          "text": "Count"
         }
        }
       }
      }
     },
     "metadata": {},
     "output_type": "display_data"
    }
   ],
   "source": [
    "generate_histogram(product_sample, engine, 'weight')"
   ]
  },
  {
   "cell_type": "code",
   "execution_count": 6,
   "metadata": {},
   "outputs": [
    {
     "data": {
      "text/plain": [
       "'20 oz  Prime Ribeye A'"
      ]
     },
     "execution_count": 6,
     "metadata": {},
     "output_type": "execute_result"
    }
   ],
   "source": [
    "product_sample"
   ]
  },
  {
   "cell_type": "code",
   "execution_count": 17,
   "metadata": {},
   "outputs": [
    {
     "data": {
      "application/vnd.plotly.v1+json": {
       "config": {
        "plotlyServerURL": "https://plot.ly"
       },
       "data": [
        {
         "alignmentgroup": "True",
         "bingroup": "x",
         "hovertemplate": "measured_height=%{x}<br>count=%{y}<extra></extra>",
         "legendgroup": "",
         "marker": {
          "color": "#43A7E5",
          "line": {
           "color": "DarkSlateGrey",
           "width": 1
          },
          "pattern": {
           "shape": ""
          }
         },
         "name": "",
         "nbinsx": 40,
         "offsetgroup": "",
         "orientation": "v",
         "showlegend": false,
         "type": "histogram",
         "x": [
          1.48599,
          1.0869,
          1.07905,
          1.35046,
          1.72608,
          1.43025,
          1.18863,
          1.31047,
          1.20732,
          1.35304,
          1.01858,
          1.39432,
          1.17912,
          1.38874,
          1.29252,
          1.32445,
          1.43647,
          1.20634,
          1.3833,
          1.06009,
          1.24098,
          1.23968,
          1.38772,
          1.21153,
          1.32845,
          1.2326,
          1.37793,
          1.21436,
          1.31257,
          1.20075,
          1.50685,
          1.33221,
          1.32142,
          1.41258,
          1.35271,
          1.3489,
          1.3651,
          1.32074,
          1.66349,
          1.29585,
          1.95839,
          1.33997,
          1.27525,
          1.21272,
          1.15204,
          1.21315,
          1.2159,
          1.28857,
          1.37733,
          1.76117,
          1.2514,
          1.36972,
          1.27204,
          1.33388,
          1.1005,
          1.35347,
          1.45019,
          1.39252,
          1.34741,
          1.4546,
          1.25049,
          1.41463,
          1.35058,
          1.25113,
          1.29976,
          1.33326,
          1.75825,
          1.38806,
          1.26098,
          1.22972,
          1.06417,
          1.24506,
          1.07157,
          1.2463,
          1.18305,
          1.34742,
          1.25402,
          1.11415,
          1.22903,
          1.35486,
          1.11206,
          1.02202,
          1.25296,
          1.25452,
          1.35635,
          1.36748,
          1.29139,
          1.19651,
          1.373,
          1.14849,
          1.45072,
          1.14311,
          1.28354,
          1.35356,
          1.12133,
          1.43883,
          1.19392,
          1.50424,
          1.0684,
          1.39842,
          1.34509,
          1.42028,
          1.49204,
          1.30312,
          1.31495,
          1.30986,
          1.27483,
          1.21025,
          1.35275,
          1.34459,
          0.967064,
          1.32168,
          1.22101,
          1.15742,
          1.38899,
          1.19623,
          1.16149,
          1.19484,
          1.43103,
          1.60385,
          1.24791,
          0.977471
         ],
         "xaxis": "x",
         "yaxis": "y"
        }
       ],
       "layout": {
        "annotations": [
         {
          "showarrow": false,
          "text": "0.95",
          "x": 0.95,
          "xanchor": "right",
          "xref": "x",
          "y": 1,
          "yanchor": "top",
          "yref": "y domain"
         },
         {
          "showarrow": false,
          "text": "2.00",
          "x": 2,
          "xanchor": "right",
          "xref": "x",
          "y": 1,
          "yanchor": "top",
          "yref": "y domain"
         },
         {
          "showarrow": false,
          "text": "1.30",
          "x": 1.302,
          "xanchor": "right",
          "xref": "x",
          "y": 1,
          "yanchor": "top",
          "yref": "y domain"
         }
        ],
        "barmode": "relative",
        "height": 600,
        "legend": {
         "tracegroupgap": 0
        },
        "margin": {
         "t": 60
        },
        "shapes": [
         {
          "line": {
           "color": "red",
           "dash": "solid"
          },
          "type": "line",
          "x0": 0.95,
          "x1": 0.95,
          "xref": "x",
          "y0": 0,
          "y1": 1,
          "yref": "y domain"
         },
         {
          "line": {
           "color": "red",
           "dash": "solid"
          },
          "type": "line",
          "x0": 2,
          "x1": 2,
          "xref": "x",
          "y0": 0,
          "y1": 1,
          "yref": "y domain"
         },
         {
          "line": {
           "color": "blue",
           "dash": "longdash"
          },
          "type": "line",
          "x0": 1.302,
          "x1": 1.302,
          "xref": "x",
          "y0": 0,
          "y1": 1,
          "yref": "y domain"
         }
        ],
        "template": {
         "data": {
          "bar": [
           {
            "error_x": {
             "color": "#2a3f5f"
            },
            "error_y": {
             "color": "#2a3f5f"
            },
            "marker": {
             "line": {
              "color": "#E5ECF6",
              "width": 0.5
             },
             "pattern": {
              "fillmode": "overlay",
              "size": 10,
              "solidity": 0.2
             }
            },
            "type": "bar"
           }
          ],
          "barpolar": [
           {
            "marker": {
             "line": {
              "color": "#E5ECF6",
              "width": 0.5
             },
             "pattern": {
              "fillmode": "overlay",
              "size": 10,
              "solidity": 0.2
             }
            },
            "type": "barpolar"
           }
          ],
          "carpet": [
           {
            "aaxis": {
             "endlinecolor": "#2a3f5f",
             "gridcolor": "white",
             "linecolor": "white",
             "minorgridcolor": "white",
             "startlinecolor": "#2a3f5f"
            },
            "baxis": {
             "endlinecolor": "#2a3f5f",
             "gridcolor": "white",
             "linecolor": "white",
             "minorgridcolor": "white",
             "startlinecolor": "#2a3f5f"
            },
            "type": "carpet"
           }
          ],
          "choropleth": [
           {
            "colorbar": {
             "outlinewidth": 0,
             "ticks": ""
            },
            "type": "choropleth"
           }
          ],
          "contour": [
           {
            "colorbar": {
             "outlinewidth": 0,
             "ticks": ""
            },
            "colorscale": [
             [
              0,
              "#0d0887"
             ],
             [
              0.1111111111111111,
              "#46039f"
             ],
             [
              0.2222222222222222,
              "#7201a8"
             ],
             [
              0.3333333333333333,
              "#9c179e"
             ],
             [
              0.4444444444444444,
              "#bd3786"
             ],
             [
              0.5555555555555556,
              "#d8576b"
             ],
             [
              0.6666666666666666,
              "#ed7953"
             ],
             [
              0.7777777777777778,
              "#fb9f3a"
             ],
             [
              0.8888888888888888,
              "#fdca26"
             ],
             [
              1,
              "#f0f921"
             ]
            ],
            "type": "contour"
           }
          ],
          "contourcarpet": [
           {
            "colorbar": {
             "outlinewidth": 0,
             "ticks": ""
            },
            "type": "contourcarpet"
           }
          ],
          "heatmap": [
           {
            "colorbar": {
             "outlinewidth": 0,
             "ticks": ""
            },
            "colorscale": [
             [
              0,
              "#0d0887"
             ],
             [
              0.1111111111111111,
              "#46039f"
             ],
             [
              0.2222222222222222,
              "#7201a8"
             ],
             [
              0.3333333333333333,
              "#9c179e"
             ],
             [
              0.4444444444444444,
              "#bd3786"
             ],
             [
              0.5555555555555556,
              "#d8576b"
             ],
             [
              0.6666666666666666,
              "#ed7953"
             ],
             [
              0.7777777777777778,
              "#fb9f3a"
             ],
             [
              0.8888888888888888,
              "#fdca26"
             ],
             [
              1,
              "#f0f921"
             ]
            ],
            "type": "heatmap"
           }
          ],
          "heatmapgl": [
           {
            "colorbar": {
             "outlinewidth": 0,
             "ticks": ""
            },
            "colorscale": [
             [
              0,
              "#0d0887"
             ],
             [
              0.1111111111111111,
              "#46039f"
             ],
             [
              0.2222222222222222,
              "#7201a8"
             ],
             [
              0.3333333333333333,
              "#9c179e"
             ],
             [
              0.4444444444444444,
              "#bd3786"
             ],
             [
              0.5555555555555556,
              "#d8576b"
             ],
             [
              0.6666666666666666,
              "#ed7953"
             ],
             [
              0.7777777777777778,
              "#fb9f3a"
             ],
             [
              0.8888888888888888,
              "#fdca26"
             ],
             [
              1,
              "#f0f921"
             ]
            ],
            "type": "heatmapgl"
           }
          ],
          "histogram": [
           {
            "marker": {
             "pattern": {
              "fillmode": "overlay",
              "size": 10,
              "solidity": 0.2
             }
            },
            "type": "histogram"
           }
          ],
          "histogram2d": [
           {
            "colorbar": {
             "outlinewidth": 0,
             "ticks": ""
            },
            "colorscale": [
             [
              0,
              "#0d0887"
             ],
             [
              0.1111111111111111,
              "#46039f"
             ],
             [
              0.2222222222222222,
              "#7201a8"
             ],
             [
              0.3333333333333333,
              "#9c179e"
             ],
             [
              0.4444444444444444,
              "#bd3786"
             ],
             [
              0.5555555555555556,
              "#d8576b"
             ],
             [
              0.6666666666666666,
              "#ed7953"
             ],
             [
              0.7777777777777778,
              "#fb9f3a"
             ],
             [
              0.8888888888888888,
              "#fdca26"
             ],
             [
              1,
              "#f0f921"
             ]
            ],
            "type": "histogram2d"
           }
          ],
          "histogram2dcontour": [
           {
            "colorbar": {
             "outlinewidth": 0,
             "ticks": ""
            },
            "colorscale": [
             [
              0,
              "#0d0887"
             ],
             [
              0.1111111111111111,
              "#46039f"
             ],
             [
              0.2222222222222222,
              "#7201a8"
             ],
             [
              0.3333333333333333,
              "#9c179e"
             ],
             [
              0.4444444444444444,
              "#bd3786"
             ],
             [
              0.5555555555555556,
              "#d8576b"
             ],
             [
              0.6666666666666666,
              "#ed7953"
             ],
             [
              0.7777777777777778,
              "#fb9f3a"
             ],
             [
              0.8888888888888888,
              "#fdca26"
             ],
             [
              1,
              "#f0f921"
             ]
            ],
            "type": "histogram2dcontour"
           }
          ],
          "mesh3d": [
           {
            "colorbar": {
             "outlinewidth": 0,
             "ticks": ""
            },
            "type": "mesh3d"
           }
          ],
          "parcoords": [
           {
            "line": {
             "colorbar": {
              "outlinewidth": 0,
              "ticks": ""
             }
            },
            "type": "parcoords"
           }
          ],
          "pie": [
           {
            "automargin": true,
            "type": "pie"
           }
          ],
          "scatter": [
           {
            "fillpattern": {
             "fillmode": "overlay",
             "size": 10,
             "solidity": 0.2
            },
            "type": "scatter"
           }
          ],
          "scatter3d": [
           {
            "line": {
             "colorbar": {
              "outlinewidth": 0,
              "ticks": ""
             }
            },
            "marker": {
             "colorbar": {
              "outlinewidth": 0,
              "ticks": ""
             }
            },
            "type": "scatter3d"
           }
          ],
          "scattercarpet": [
           {
            "marker": {
             "colorbar": {
              "outlinewidth": 0,
              "ticks": ""
             }
            },
            "type": "scattercarpet"
           }
          ],
          "scattergeo": [
           {
            "marker": {
             "colorbar": {
              "outlinewidth": 0,
              "ticks": ""
             }
            },
            "type": "scattergeo"
           }
          ],
          "scattergl": [
           {
            "marker": {
             "colorbar": {
              "outlinewidth": 0,
              "ticks": ""
             }
            },
            "type": "scattergl"
           }
          ],
          "scattermapbox": [
           {
            "marker": {
             "colorbar": {
              "outlinewidth": 0,
              "ticks": ""
             }
            },
            "type": "scattermapbox"
           }
          ],
          "scatterpolar": [
           {
            "marker": {
             "colorbar": {
              "outlinewidth": 0,
              "ticks": ""
             }
            },
            "type": "scatterpolar"
           }
          ],
          "scatterpolargl": [
           {
            "marker": {
             "colorbar": {
              "outlinewidth": 0,
              "ticks": ""
             }
            },
            "type": "scatterpolargl"
           }
          ],
          "scatterternary": [
           {
            "marker": {
             "colorbar": {
              "outlinewidth": 0,
              "ticks": ""
             }
            },
            "type": "scatterternary"
           }
          ],
          "surface": [
           {
            "colorbar": {
             "outlinewidth": 0,
             "ticks": ""
            },
            "colorscale": [
             [
              0,
              "#0d0887"
             ],
             [
              0.1111111111111111,
              "#46039f"
             ],
             [
              0.2222222222222222,
              "#7201a8"
             ],
             [
              0.3333333333333333,
              "#9c179e"
             ],
             [
              0.4444444444444444,
              "#bd3786"
             ],
             [
              0.5555555555555556,
              "#d8576b"
             ],
             [
              0.6666666666666666,
              "#ed7953"
             ],
             [
              0.7777777777777778,
              "#fb9f3a"
             ],
             [
              0.8888888888888888,
              "#fdca26"
             ],
             [
              1,
              "#f0f921"
             ]
            ],
            "type": "surface"
           }
          ],
          "table": [
           {
            "cells": {
             "fill": {
              "color": "#EBF0F8"
             },
             "line": {
              "color": "white"
             }
            },
            "header": {
             "fill": {
              "color": "#C8D4E3"
             },
             "line": {
              "color": "white"
             }
            },
            "type": "table"
           }
          ]
         },
         "layout": {
          "annotationdefaults": {
           "arrowcolor": "#2a3f5f",
           "arrowhead": 0,
           "arrowwidth": 1
          },
          "autotypenumbers": "strict",
          "coloraxis": {
           "colorbar": {
            "outlinewidth": 0,
            "ticks": ""
           }
          },
          "colorscale": {
           "diverging": [
            [
             0,
             "#8e0152"
            ],
            [
             0.1,
             "#c51b7d"
            ],
            [
             0.2,
             "#de77ae"
            ],
            [
             0.3,
             "#f1b6da"
            ],
            [
             0.4,
             "#fde0ef"
            ],
            [
             0.5,
             "#f7f7f7"
            ],
            [
             0.6,
             "#e6f5d0"
            ],
            [
             0.7,
             "#b8e186"
            ],
            [
             0.8,
             "#7fbc41"
            ],
            [
             0.9,
             "#4d9221"
            ],
            [
             1,
             "#276419"
            ]
           ],
           "sequential": [
            [
             0,
             "#0d0887"
            ],
            [
             0.1111111111111111,
             "#46039f"
            ],
            [
             0.2222222222222222,
             "#7201a8"
            ],
            [
             0.3333333333333333,
             "#9c179e"
            ],
            [
             0.4444444444444444,
             "#bd3786"
            ],
            [
             0.5555555555555556,
             "#d8576b"
            ],
            [
             0.6666666666666666,
             "#ed7953"
            ],
            [
             0.7777777777777778,
             "#fb9f3a"
            ],
            [
             0.8888888888888888,
             "#fdca26"
            ],
            [
             1,
             "#f0f921"
            ]
           ],
           "sequentialminus": [
            [
             0,
             "#0d0887"
            ],
            [
             0.1111111111111111,
             "#46039f"
            ],
            [
             0.2222222222222222,
             "#7201a8"
            ],
            [
             0.3333333333333333,
             "#9c179e"
            ],
            [
             0.4444444444444444,
             "#bd3786"
            ],
            [
             0.5555555555555556,
             "#d8576b"
            ],
            [
             0.6666666666666666,
             "#ed7953"
            ],
            [
             0.7777777777777778,
             "#fb9f3a"
            ],
            [
             0.8888888888888888,
             "#fdca26"
            ],
            [
             1,
             "#f0f921"
            ]
           ]
          },
          "colorway": [
           "#636efa",
           "#EF553B",
           "#00cc96",
           "#ab63fa",
           "#FFA15A",
           "#19d3f3",
           "#FF6692",
           "#B6E880",
           "#FF97FF",
           "#FECB52"
          ],
          "font": {
           "color": "#2a3f5f"
          },
          "geo": {
           "bgcolor": "white",
           "lakecolor": "white",
           "landcolor": "#E5ECF6",
           "showlakes": true,
           "showland": true,
           "subunitcolor": "white"
          },
          "hoverlabel": {
           "align": "left"
          },
          "hovermode": "closest",
          "mapbox": {
           "style": "light"
          },
          "paper_bgcolor": "white",
          "plot_bgcolor": "#E5ECF6",
          "polar": {
           "angularaxis": {
            "gridcolor": "white",
            "linecolor": "white",
            "ticks": ""
           },
           "bgcolor": "#E5ECF6",
           "radialaxis": {
            "gridcolor": "white",
            "linecolor": "white",
            "ticks": ""
           }
          },
          "scene": {
           "xaxis": {
            "backgroundcolor": "#E5ECF6",
            "gridcolor": "white",
            "gridwidth": 2,
            "linecolor": "white",
            "showbackground": true,
            "ticks": "",
            "zerolinecolor": "white"
           },
           "yaxis": {
            "backgroundcolor": "#E5ECF6",
            "gridcolor": "white",
            "gridwidth": 2,
            "linecolor": "white",
            "showbackground": true,
            "ticks": "",
            "zerolinecolor": "white"
           },
           "zaxis": {
            "backgroundcolor": "#E5ECF6",
            "gridcolor": "white",
            "gridwidth": 2,
            "linecolor": "white",
            "showbackground": true,
            "ticks": "",
            "zerolinecolor": "white"
           }
          },
          "shapedefaults": {
           "line": {
            "color": "#2a3f5f"
           }
          },
          "ternary": {
           "aaxis": {
            "gridcolor": "white",
            "linecolor": "white",
            "ticks": ""
           },
           "baxis": {
            "gridcolor": "white",
            "linecolor": "white",
            "ticks": ""
           },
           "bgcolor": "#E5ECF6",
           "caxis": {
            "gridcolor": "white",
            "linecolor": "white",
            "ticks": ""
           }
          },
          "title": {
           "x": 0.05
          },
          "xaxis": {
           "automargin": true,
           "gridcolor": "white",
           "linecolor": "white",
           "ticks": "",
           "title": {
            "standoff": 15
           },
           "zerolinecolor": "white",
           "zerolinewidth": 2
          },
          "yaxis": {
           "automargin": true,
           "gridcolor": "white",
           "linecolor": "white",
           "ticks": "",
           "title": {
            "standoff": 15
           },
           "zerolinecolor": "white",
           "zerolinewidth": 2
          }
         }
        },
        "title": {
         "text": "Height Distribution of 20 oz  Prime Ribeye A"
        },
        "width": 800,
        "xaxis": {
         "anchor": "y",
         "domain": [
          0,
          1
         ],
         "title": {
          "text": "Height (in)"
         }
        },
        "yaxis": {
         "anchor": "x",
         "domain": [
          0,
          1
         ],
         "title": {
          "text": "Count"
         }
        }
       }
      }
     },
     "metadata": {},
     "output_type": "display_data"
    }
   ],
   "source": [
    "generate_histogram(product_sample, engine, 'height')"
   ]
  },
  {
   "cell_type": "code",
   "execution_count": null,
   "metadata": {},
   "outputs": [],
   "source": []
  }
 ],
 "metadata": {
  "kernelspec": {
   "display_name": "base",
   "language": "python",
   "name": "python3"
  },
  "language_info": {
   "codemirror_mode": {
    "name": "ipython",
    "version": 3
   },
   "file_extension": ".py",
   "mimetype": "text/x-python",
   "name": "python",
   "nbconvert_exporter": "python",
   "pygments_lexer": "ipython3",
   "version": "3.11.7"
  }
 },
 "nbformat": 4,
 "nbformat_minor": 2
}
