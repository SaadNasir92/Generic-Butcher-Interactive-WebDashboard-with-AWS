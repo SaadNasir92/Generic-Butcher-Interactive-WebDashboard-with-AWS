{
 "cells": [
  {
   "cell_type": "code",
   "execution_count": 114,
   "id": "0178ebb1",
   "metadata": {},
   "outputs": [],
   "source": [
    "import os\n",
    "import pandas as pd\n",
    "import matplotlib.pyplot as plt\n",
    "import csv\n",
    "import numpy as np"
   ]
  },
  {
   "cell_type": "code",
   "execution_count": 115,
   "id": "056f9596",
   "metadata": {},
   "outputs": [],
   "source": [
    "def weight_histogram(product_name):\n",
    "\n",
    "    # Specify the file path\n",
    "    file_path = '../data/cleaned/generic_butcher_cleaned.csv'\n",
    "\n",
    "    # Read the CSV file into a DataFrame\n",
    "    df = pd.read_csv(file_path)\n",
    "\n",
    "    file_path2 = '../data/cleaned/generic_butcher_spec_cleaned.csv'\n",
    "\n",
    "    # Read the CSV file into a DataFrame\n",
    "    df2 = pd.read_csv(file_path2)\n",
    "\n",
    "    #Copied data to preserve original dataset\n",
    "    product_data = df.loc[df[\"product_name\"] == product_name]\n",
    "    product=product_data.copy()\n",
    "     \n",
    "    #Adjust decimal point that were obvious errors\n",
    "    # for index, row in product.iterrows():\n",
    "    #     if row['measured_weight'] > 50:\n",
    "    #        product.at[index, 'measured_weight'] *= 0.01\n",
    "    product['measured_weight'] = product['measured_weight'].apply(lambda x: x * 0.01 if x > 50 else x)\n",
    "        \n",
    "    # product = product[[\"product_name\",\"date_time\",\"measured_weight\"]]\n",
    "    # drop_data = product.loc[product['measured_weight']>=50].index\n",
    "    # product = product.drop(drop_data)\n",
    "    \n",
    "    #determine bin min and max in a readable format\n",
    "    min_wt = np.min(product['measured_weight'])\n",
    "    max_wt = np.max(product['measured_weight'])\n",
    "    binmin = np.floor(min_wt)\n",
    "    binmax = np.ceil(max_wt)\n",
    "\n",
    "    #deterimined spec goal posts\n",
    "    weight_min_spec = (df2.loc[df2['product_name']==product_name,'weight_min']).iloc[0]\n",
    "    weight_max_spec = (df2.loc[df2['product_name']==product_name,'weight_max']).iloc[0]\n",
    "    weight_avg = np.mean(product['measured_weight'])\n",
    "\n",
    "    #created bins based on the quarter ounce\n",
    "    num_bins = int((binmax-binmin)*(1/.25))\n",
    "\n",
    "    #pulls measured weight data for the x value of the histogram\n",
    "    #x is the measurment and the y is the count\n",
    "    product = product['measured_weight']\n",
    "\n",
    "    plt.figure(figsize=(10,6))\n",
    "    plt.hist(product,bins=num_bins)\n",
    "    plt.axvline(weight_avg, color=\"green\", linewidth= 3)\n",
    "    plt.axvline(weight_min_spec, color=\"red\")\n",
    "    plt.axvline(weight_max_spec, color=\"red\")\n",
    "    plt.title(product_name)\n",
    "    plt.xlabel('Weight (oz)')\n",
    "    plt.ylabel('Count')\n",
    "    plt.show()"
   ]
  },
  {
   "cell_type": "code",
   "execution_count": 116,
   "id": "82497537",
   "metadata": {},
   "outputs": [],
   "source": [
    "def height_histogram(product_name):\n",
    "    # Specify the file path\n",
    "    file_path = '../data/cleaned/generic_butcher_cleaned.csv'\n",
    "\n",
    "    # Read the CSV file into a DataFrame\n",
    "    df = pd.read_csv(file_path)\n",
    "\n",
    "    file_path2 = '../data/cleaned/generic_butcher_spec_cleaned.csv'\n",
    "\n",
    "    # Read the CSV file into a DataFrame\n",
    "    df2 = pd.read_csv(file_path2)\n",
    "\n",
    "    #Copied data to preserve original dataset\n",
    "    product_data = df.loc[df[\"product_name\"] == product_name]\n",
    "    product=product_data.copy()\n",
    "     \n",
    "    product['measured_weight'] = product['measured_weight'].apply(lambda x: x * 0.01 if x > 50 else x)\n",
    "\n",
    "    #determine bin min and max in a readable format\n",
    "    min_ht = np.min(product['measured_height'])\n",
    "    max_ht = np.max(product['measured_height'])\n",
    "    binmin = np.floor(min_ht)\n",
    "    binmax = np.ceil(max_ht)\n",
    "\n",
    "    #deterimined spec goal posts\n",
    "    height_min_spec = (df2.loc[df2['product_name']==product_name,'thick_min']).iloc[0]\n",
    "    height_max_spec = (df2.loc[df2['product_name']==product_name,'thick_max']).iloc[0]\n",
    "    height_avg = np.mean(product['measured_height'])\n",
    "\n",
    "    #created bins based on the quarter ounce\n",
    "    num_bins = int((binmax-binmin)*(1/.1))\n",
    "\n",
    "    #pulls measured weight data for the x value of the histogram\n",
    "    #x is the measurment and the y is the count\n",
    "    product = product['measured_height']\n",
    "\n",
    "    plt.figure(figsize=(10,6))\n",
    "    plt.hist(product,bins=num_bins)\n",
    "    plt.axvline(height_avg, color=\"green\", linewidth= 3)\n",
    "    plt.axvline(height_min_spec, color=\"red\")\n",
    "    plt.axvline(height_max_spec, color=\"red\")\n",
    "    plt.title(product_name)\n",
    "    plt.xlabel('Height (in)')\n",
    "    plt.ylabel('Count')\n",
    "    plt.show()"
   ]
  },
  {
   "cell_type": "code",
   "execution_count": 135,
   "id": "17dffa17",
   "metadata": {},
   "outputs": [
    {
     "data": {
      "text/html": [
       "<div>\n",
       "<style scoped>\n",
       "    .dataframe tbody tr th:only-of-type {\n",
       "        vertical-align: middle;\n",
       "    }\n",
       "\n",
       "    .dataframe tbody tr th {\n",
       "        vertical-align: top;\n",
       "    }\n",
       "\n",
       "    .dataframe thead th {\n",
       "        text-align: right;\n",
       "    }\n",
       "</style>\n",
       "<table border=\"1\" class=\"dataframe\">\n",
       "  <thead>\n",
       "    <tr style=\"text-align: right;\">\n",
       "      <th></th>\n",
       "      <th>measured_weight</th>\n",
       "      <th>measured_height</th>\n",
       "    </tr>\n",
       "  </thead>\n",
       "  <tbody>\n",
       "    <tr>\n",
       "      <th>count</th>\n",
       "      <td>34356.000000</td>\n",
       "      <td>34356.000000</td>\n",
       "    </tr>\n",
       "    <tr>\n",
       "      <th>mean</th>\n",
       "      <td>9.597231</td>\n",
       "      <td>1.352706</td>\n",
       "    </tr>\n",
       "    <tr>\n",
       "      <th>std</th>\n",
       "      <td>20.511896</td>\n",
       "      <td>0.319378</td>\n",
       "    </tr>\n",
       "    <tr>\n",
       "      <th>min</th>\n",
       "      <td>3.000000</td>\n",
       "      <td>0.022862</td>\n",
       "    </tr>\n",
       "    <tr>\n",
       "      <th>25%</th>\n",
       "      <td>6.080000</td>\n",
       "      <td>1.168350</td>\n",
       "    </tr>\n",
       "    <tr>\n",
       "      <th>50%</th>\n",
       "      <td>8.020000</td>\n",
       "      <td>1.318550</td>\n",
       "    </tr>\n",
       "    <tr>\n",
       "      <th>75%</th>\n",
       "      <td>10.980000</td>\n",
       "      <td>1.464973</td>\n",
       "    </tr>\n",
       "    <tr>\n",
       "      <th>max</th>\n",
       "      <td>1762.000000</td>\n",
       "      <td>3.936430</td>\n",
       "    </tr>\n",
       "  </tbody>\n",
       "</table>\n",
       "</div>"
      ],
      "text/plain": [
       "       measured_weight  measured_height\n",
       "count     34356.000000     34356.000000\n",
       "mean          9.597231         1.352706\n",
       "std          20.511896         0.319378\n",
       "min           3.000000         0.022862\n",
       "25%           6.080000         1.168350\n",
       "50%           8.020000         1.318550\n",
       "75%          10.980000         1.464973\n",
       "max        1762.000000         3.936430"
      ]
     },
     "execution_count": 135,
     "metadata": {},
     "output_type": "execute_result"
    }
   ],
   "source": [
    "df.describe()"
   ]
  },
  {
   "cell_type": "code",
   "execution_count": 118,
   "id": "c7ec48f8",
   "metadata": {},
   "outputs": [
    {
     "data": {
      "image/png": "[encoded data removed]",
      "text/plain": [
       "<Figure size 1000x600 with 1 Axes>"
      ]
     },
     "metadata": {},
     "output_type": "display_data"
    },
    {
     "data": {
      "image/png": "[encoded data removed]",
      "text/plain": [
       "<Figure size 1000x600 with 1 Axes>"
      ]
     },
     "metadata": {},
     "output_type": "display_data"
    }
   ],
   "source": [
    "productName = \"8 oz T Tenderloin A\"\n",
    "height_histogram(productName)\n",
    "weight_histogram(productName)"
   ]
  },
  {
   "cell_type": "code",
   "execution_count": 131,
   "id": "ee88c193",
   "metadata": {},
   "outputs": [
    {
     "data": {
      "text/html": [
       "<div>\n",
       "<style scoped>\n",
       "    .dataframe tbody tr th:only-of-type {\n",
       "        vertical-align: middle;\n",
       "    }\n",
       "\n",
       "    .dataframe tbody tr th {\n",
       "        vertical-align: top;\n",
       "    }\n",
       "\n",
       "    .dataframe thead th {\n",
       "        text-align: right;\n",
       "    }\n",
       "</style>\n",
       "<table border=\"1\" class=\"dataframe\">\n",
       "  <thead>\n",
       "    <tr style=\"text-align: right;\">\n",
       "      <th></th>\n",
       "      <th>product_name</th>\n",
       "      <th>date_time</th>\n",
       "      <th>measured_weight</th>\n",
       "      <th>measured_height</th>\n",
       "    </tr>\n",
       "  </thead>\n",
       "  <tbody>\n",
       "    <tr>\n",
       "      <th>20373</th>\n",
       "      <td>8 oz T Tenderloin A</td>\n",
       "      <td>2024-06-19 06:48:03</td>\n",
       "      <td>8.12</td>\n",
       "      <td>0.023153</td>\n",
       "    </tr>\n",
       "  </tbody>\n",
       "</table>\n",
       "</div>"
      ],
      "text/plain": [
       "              product_name            date_time  measured_weight  \\\n",
       "20373  8 oz T Tenderloin A  2024-06-19 06:48:03             8.12   \n",
       "\n",
       "       measured_height  \n",
       "20373         0.023153  "
      ]
     },
     "execution_count": 131,
     "metadata": {},
     "output_type": "execute_result"
    }
   ],
   "source": [
    "\n",
    "df[(df['product_name']=='8 oz T Tenderloin A') & (df['measured_height']<.5)]"
   ]
  },
  {
   "cell_type": "code",
   "execution_count": 128,
   "id": "7bad7d4d",
   "metadata": {},
   "outputs": [],
   "source": [
    "\n",
    "variable = df.groupby('product_name')['measured_height'].value_counts().reset_index().sort_values(by=\"measured_height\").head(20)"
   ]
  },
  {
   "cell_type": "code",
   "execution_count": 130,
   "id": "04843a1d",
   "metadata": {},
   "outputs": [
    {
     "data": {
      "text/plain": [
       "product_name       20\n",
       "measured_height    20\n",
       "count              20\n",
       "dtype: int64"
      ]
     },
     "execution_count": 130,
     "metadata": {},
     "output_type": "execute_result"
    }
   ],
   "source": [
    "variable.loc[variable[\"measured_height\"]<.05].count()"
   ]
  },
  {
   "cell_type": "code",
   "execution_count": null,
   "id": "fe543d2d",
   "metadata": {},
   "outputs": [],
   "source": []
  },
  {
   "cell_type": "code",
   "execution_count": 35,
   "id": "e969d069",
   "metadata": {},
   "outputs": [
    {
     "data": {
      "text/plain": [
       "0        13 oz  Ribeye Tail A\n",
       "1        13 oz  Ribeye Tail A\n",
       "2        16 oz  Ribeye Tail A\n",
       "3        16 oz  Ribeye Tail A\n",
       "4        16 oz  Ribeye Tail A\n",
       "                 ...         \n",
       "34351        7 oz S Sirloin A\n",
       "34352        7 oz S Sirloin A\n",
       "34353        7 oz S Sirloin A\n",
       "34354        7 oz S Sirloin A\n",
       "34355        7 oz S Sirloin A\n",
       "Name: product_name, Length: 34356, dtype: object"
      ]
     },
     "execution_count": 35,
     "metadata": {},
     "output_type": "execute_result"
    }
   ],
   "source": [
    "df['product_name']"
   ]
  },
  {
   "cell_type": "code",
   "execution_count": 93,
   "id": "80ba19d5",
   "metadata": {},
   "outputs": [
    {
     "data": {
      "text/plain": [
       "0             10 oz  Sirloin A\n",
       "1             11 oz  Sirloin B\n",
       "2             11 oz  Sirloin C\n",
       "3         13 oz  Ribeye Tail A\n",
       "4               16 oz  Strip A\n",
       "5      16 oz  Dry Age Ribeye A\n",
       "6         16 oz  Prime Strip A\n",
       "7         16 oz  Ribeye Tail A\n",
       "8              18 oz  Ribeye A\n",
       "9        20 oz  Prime Ribeye A\n",
       "10        22 oz  Porterhouse A\n",
       "11        3.5 oz Tender Bits A\n",
       "12    4 oz T Tenderloin Tail A\n",
       "13            5 oz S Sirloin A\n",
       "14            5 oz S Sirloin B\n",
       "15            6 oz S Sirloin A\n",
       "16            6 oz S Sirloin B\n",
       "17         6 oz T Tenderloin A\n",
       "18            7 oz S Sirloin A\n",
       "19            7 oz S Sirloin B\n",
       "20         7 oz T Tenderloin A\n",
       "21          8 oz P Pork Chop A\n",
       "22            8 oz S Sirloin A\n",
       "23            8 oz S Sirloin B\n",
       "24         8 oz T Tenderloin A\n",
       "25            9 oz S Sirloin A\n",
       "26         9 oz T Tenderloin A\n",
       "Name: product_name, dtype: object"
      ]
     },
     "execution_count": 93,
     "metadata": {},
     "output_type": "execute_result"
    }
   ],
   "source": [
    "\n",
    "df2['product_name']"
   ]
  }
 ],
 "metadata": {
  "kernelspec": {
   "display_name": "Python 3 (ipykernel)",
   "language": "python",
   "name": "python3"
  },
  "language_info": {
   "codemirror_mode": {
    "name": "ipython",
    "version": 3
   },
   "file_extension": ".py",
   "mimetype": "text/x-python",
   "name": "python",
   "nbconvert_exporter": "python",
   "pygments_lexer": "ipython3",
   "version": "3.11.7"
  }
 },
 "nbformat": 4,
 "nbformat_minor": 5
}
