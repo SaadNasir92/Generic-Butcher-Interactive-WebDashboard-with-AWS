{
 "cells": [
  {
   "cell_type": "code",
   "execution_count": 90,
   "metadata": {},
   "outputs": [],
   "source": [
    "import pandas as pd\n",
    "import numpy as np\n",
    "import seaborn\n",
    "import matplotlib.pyplot as plt"
   ]
  },
  {
   "cell_type": "code",
   "execution_count": 2,
   "metadata": {},
   "outputs": [],
   "source": [
    "df = pd.read_csv('../data/cleaned/generic_butcher_cleaned.csv')"
   ]
  },
  {
   "cell_type": "code",
   "execution_count": 3,
   "metadata": {},
   "outputs": [
    {
     "data": {
      "text/html": [
       "<div>\n",
       "<style scoped>\n",
       "    .dataframe tbody tr th:only-of-type {\n",
       "        vertical-align: middle;\n",
       "    }\n",
       "\n",
       "    .dataframe tbody tr th {\n",
       "        vertical-align: top;\n",
       "    }\n",
       "\n",
       "    .dataframe thead th {\n",
       "        text-align: right;\n",
       "    }\n",
       "</style>\n",
       "<table border=\"1\" class=\"dataframe\">\n",
       "  <thead>\n",
       "    <tr style=\"text-align: right;\">\n",
       "      <th></th>\n",
       "      <th>product_name</th>\n",
       "      <th>date_time</th>\n",
       "      <th>measured_weight</th>\n",
       "      <th>measured_height</th>\n",
       "    </tr>\n",
       "  </thead>\n",
       "  <tbody>\n",
       "    <tr>\n",
       "      <th>0</th>\n",
       "      <td>13 oz  Ribeye Tail A</td>\n",
       "      <td>2024-06-03 07:16:28</td>\n",
       "      <td>16.76</td>\n",
       "      <td>1.62952</td>\n",
       "    </tr>\n",
       "    <tr>\n",
       "      <th>1</th>\n",
       "      <td>13 oz  Ribeye Tail A</td>\n",
       "      <td>2024-06-03 07:16:47</td>\n",
       "      <td>16.12</td>\n",
       "      <td>1.02086</td>\n",
       "    </tr>\n",
       "    <tr>\n",
       "      <th>2</th>\n",
       "      <td>16 oz  Ribeye Tail A</td>\n",
       "      <td>2024-06-03 07:17:36</td>\n",
       "      <td>16.34</td>\n",
       "      <td>1.03975</td>\n",
       "    </tr>\n",
       "    <tr>\n",
       "      <th>3</th>\n",
       "      <td>16 oz  Ribeye Tail A</td>\n",
       "      <td>2024-06-03 07:17:53</td>\n",
       "      <td>16.16</td>\n",
       "      <td>1.05378</td>\n",
       "    </tr>\n",
       "    <tr>\n",
       "      <th>4</th>\n",
       "      <td>16 oz  Ribeye Tail A</td>\n",
       "      <td>2024-06-03 07:18:08</td>\n",
       "      <td>16.12</td>\n",
       "      <td>1.03522</td>\n",
       "    </tr>\n",
       "  </tbody>\n",
       "</table>\n",
       "</div>"
      ],
      "text/plain": [
       "           product_name            date_time  measured_weight  measured_height\n",
       "0  13 oz  Ribeye Tail A  2024-06-03 07:16:28            16.76          1.62952\n",
       "1  13 oz  Ribeye Tail A  2024-06-03 07:16:47            16.12          1.02086\n",
       "2  16 oz  Ribeye Tail A  2024-06-03 07:17:36            16.34          1.03975\n",
       "3  16 oz  Ribeye Tail A  2024-06-03 07:17:53            16.16          1.05378\n",
       "4  16 oz  Ribeye Tail A  2024-06-03 07:18:08            16.12          1.03522"
      ]
     },
     "execution_count": 3,
     "metadata": {},
     "output_type": "execute_result"
    }
   ],
   "source": [
    "df.head()\n"
   ]
  },
  {
   "cell_type": "code",
   "execution_count": 4,
   "metadata": {},
   "outputs": [],
   "source": [
    "bot_bin = np.floor(df['measured_weight'][0])\n",
    "top_bin = np.ceil(df['measured_weight'][0])"
   ]
  },
  {
   "cell_type": "code",
   "execution_count": 5,
   "metadata": {},
   "outputs": [],
   "source": [
    "bins = np.arange(bot_bin, top_bin, .25)"
   ]
  },
  {
   "cell_type": "code",
   "execution_count": 6,
   "metadata": {},
   "outputs": [
    {
     "data": {
      "text/plain": [
       "4"
      ]
     },
     "execution_count": 6,
     "metadata": {},
     "output_type": "execute_result"
    }
   ],
   "source": [
    "len(bins)"
   ]
  },
  {
   "cell_type": "code",
   "execution_count": 7,
   "metadata": {},
   "outputs": [
    {
     "name": "stdout",
     "output_type": "stream",
     "text": [
      "16.0\n",
      "16.25\n",
      "16.5\n",
      "16.75\n"
     ]
    }
   ],
   "source": [
    "for x in bins:\n",
    "    print(x)"
   ]
  },
  {
   "cell_type": "code",
   "execution_count": 8,
   "metadata": {},
   "outputs": [],
   "source": [
    "bins = list(map(lambda x: float(x), bins))"
   ]
  },
  {
   "cell_type": "code",
   "execution_count": 9,
   "metadata": {},
   "outputs": [
    {
     "data": {
      "text/plain": [
       "[16.0, 16.25, 16.5, 16.75]"
      ]
     },
     "execution_count": 9,
     "metadata": {},
     "output_type": "execute_result"
    }
   ],
   "source": [
    "bins"
   ]
  },
  {
   "cell_type": "code",
   "execution_count": 10,
   "metadata": {},
   "outputs": [],
   "source": [
    "# df['binned_values'] = pd.cut(df['measured_weight'], bins=bins, labels=False)"
   ]
  },
  {
   "cell_type": "code",
   "execution_count": 19,
   "metadata": {},
   "outputs": [],
   "source": [
    "unique_prods = list(df.groupby('product_name')[['measured_weight']].value_counts().reset_index()['product_name'].unique())"
   ]
  },
  {
   "cell_type": "code",
   "execution_count": 20,
   "metadata": {},
   "outputs": [
    {
     "data": {
      "text/plain": [
       "['10 oz  Sirloin A',\n",
       " '11 oz  Sirloin B',\n",
       " '11 oz  Sirloin C',\n",
       " '13 oz  Ribeye Tail A',\n",
       " '16 oz  Dry Age Ribeye A',\n",
       " '16 oz  Prime Strip A',\n",
       " '16 oz  Ribeye Tail A',\n",
       " '16 oz  Strip A',\n",
       " '18 oz  Ribeye A',\n",
       " '20 oz  Prime Ribeye A',\n",
       " '22 oz  Porterhouse A',\n",
       " '3.5 oz Tender Bits A',\n",
       " '4 oz T Tenderloin Tail A',\n",
       " '5 oz S Sirloin A',\n",
       " '5 oz S Sirloin B',\n",
       " '6 oz S Sirloin A',\n",
       " '6 oz S Sirloin B',\n",
       " '6 oz T Tenderloin A',\n",
       " '7 oz S Sirloin A',\n",
       " '7 oz S Sirloin B',\n",
       " '7 oz T Tenderloin A',\n",
       " '8 oz P Pork Chop A',\n",
       " '8 oz S Sirloin A',\n",
       " '8 oz S Sirloin B',\n",
       " '8 oz T Tenderloin A',\n",
       " '9 oz S Sirloin A',\n",
       " '9 oz T Tenderloin A']"
      ]
     },
     "execution_count": 20,
     "metadata": {},
     "output_type": "execute_result"
    }
   ],
   "source": [
    "unique_prods"
   ]
  },
  {
   "cell_type": "code",
   "execution_count": 21,
   "metadata": {},
   "outputs": [
    {
     "data": {
      "text/html": [
       "<div>\n",
       "<style scoped>\n",
       "    .dataframe tbody tr th:only-of-type {\n",
       "        vertical-align: middle;\n",
       "    }\n",
       "\n",
       "    .dataframe tbody tr th {\n",
       "        vertical-align: top;\n",
       "    }\n",
       "\n",
       "    .dataframe thead th {\n",
       "        text-align: right;\n",
       "    }\n",
       "</style>\n",
       "<table border=\"1\" class=\"dataframe\">\n",
       "  <thead>\n",
       "    <tr style=\"text-align: right;\">\n",
       "      <th></th>\n",
       "      <th>product_name</th>\n",
       "      <th>measured_weight</th>\n",
       "      <th>count</th>\n",
       "    </tr>\n",
       "  </thead>\n",
       "  <tbody>\n",
       "    <tr>\n",
       "      <th>0</th>\n",
       "      <td>10 oz  Sirloin A</td>\n",
       "      <td>10.00</td>\n",
       "      <td>41</td>\n",
       "    </tr>\n",
       "    <tr>\n",
       "      <th>1</th>\n",
       "      <td>10 oz  Sirloin A</td>\n",
       "      <td>9.64</td>\n",
       "      <td>31</td>\n",
       "    </tr>\n",
       "    <tr>\n",
       "      <th>2</th>\n",
       "      <td>10 oz  Sirloin A</td>\n",
       "      <td>9.84</td>\n",
       "      <td>28</td>\n",
       "    </tr>\n",
       "    <tr>\n",
       "      <th>3</th>\n",
       "      <td>10 oz  Sirloin A</td>\n",
       "      <td>9.54</td>\n",
       "      <td>28</td>\n",
       "    </tr>\n",
       "    <tr>\n",
       "      <th>4</th>\n",
       "      <td>10 oz  Sirloin A</td>\n",
       "      <td>10.10</td>\n",
       "      <td>24</td>\n",
       "    </tr>\n",
       "    <tr>\n",
       "      <th>...</th>\n",
       "      <td>...</td>\n",
       "      <td>...</td>\n",
       "      <td>...</td>\n",
       "    </tr>\n",
       "    <tr>\n",
       "      <th>2603</th>\n",
       "      <td>9 oz T Tenderloin A</td>\n",
       "      <td>9.11</td>\n",
       "      <td>1</td>\n",
       "    </tr>\n",
       "    <tr>\n",
       "      <th>2604</th>\n",
       "      <td>9 oz T Tenderloin A</td>\n",
       "      <td>9.21</td>\n",
       "      <td>1</td>\n",
       "    </tr>\n",
       "    <tr>\n",
       "      <th>2605</th>\n",
       "      <td>9 oz T Tenderloin A</td>\n",
       "      <td>8.22</td>\n",
       "      <td>1</td>\n",
       "    </tr>\n",
       "    <tr>\n",
       "      <th>2606</th>\n",
       "      <td>9 oz T Tenderloin A</td>\n",
       "      <td>8.20</td>\n",
       "      <td>1</td>\n",
       "    </tr>\n",
       "    <tr>\n",
       "      <th>2607</th>\n",
       "      <td>9 oz T Tenderloin A</td>\n",
       "      <td>9.70</td>\n",
       "      <td>1</td>\n",
       "    </tr>\n",
       "  </tbody>\n",
       "</table>\n",
       "<p>2608 rows × 3 columns</p>\n",
       "</div>"
      ],
      "text/plain": [
       "             product_name  measured_weight  count\n",
       "0        10 oz  Sirloin A            10.00     41\n",
       "1        10 oz  Sirloin A             9.64     31\n",
       "2        10 oz  Sirloin A             9.84     28\n",
       "3        10 oz  Sirloin A             9.54     28\n",
       "4        10 oz  Sirloin A            10.10     24\n",
       "...                   ...              ...    ...\n",
       "2603  9 oz T Tenderloin A             9.11      1\n",
       "2604  9 oz T Tenderloin A             9.21      1\n",
       "2605  9 oz T Tenderloin A             8.22      1\n",
       "2606  9 oz T Tenderloin A             8.20      1\n",
       "2607  9 oz T Tenderloin A             9.70      1\n",
       "\n",
       "[2608 rows x 3 columns]"
      ]
     },
     "execution_count": 21,
     "metadata": {},
     "output_type": "execute_result"
    }
   ],
   "source": [
    "df.groupby('product_name')[['measured_weight']].value_counts().reset_index()"
   ]
  },
  {
   "cell_type": "code",
   "execution_count": 22,
   "metadata": {},
   "outputs": [],
   "source": [
    "prod_df = df.loc[df['product_name'] == unique_prods[0]]"
   ]
  },
  {
   "cell_type": "code",
   "execution_count": 60,
   "metadata": {},
   "outputs": [],
   "source": [
    "bot_bin = np.floor(prod_df['measured_weight'].min())\n",
    "top_bin = np.ceil(prod_df['measured_weight'].max())"
   ]
  },
  {
   "cell_type": "code",
   "execution_count": 61,
   "metadata": {},
   "outputs": [
    {
     "data": {
      "text/plain": [
       "9.0"
      ]
     },
     "execution_count": 61,
     "metadata": {},
     "output_type": "execute_result"
    }
   ],
   "source": [
    "bot_bin"
   ]
  },
  {
   "cell_type": "code",
   "execution_count": 62,
   "metadata": {},
   "outputs": [
    {
     "data": {
      "text/plain": [
       "11.0"
      ]
     },
     "execution_count": 62,
     "metadata": {},
     "output_type": "execute_result"
    }
   ],
   "source": [
    "top_bin "
   ]
  },
  {
   "cell_type": "code",
   "execution_count": 72,
   "metadata": {},
   "outputs": [],
   "source": [
    "bins = np.arange(bot_bin, top_bin + .25, .25)"
   ]
  },
  {
   "cell_type": "code",
   "execution_count": 73,
   "metadata": {},
   "outputs": [],
   "source": [
    "bins = list(map(lambda x: float(x), bins))"
   ]
  },
  {
   "cell_type": "code",
   "execution_count": 74,
   "metadata": {},
   "outputs": [
    {
     "data": {
      "text/plain": [
       "[9.0, 9.25, 9.5, 9.75, 10.0, 10.25, 10.5, 10.75, 11.0]"
      ]
     },
     "execution_count": 74,
     "metadata": {},
     "output_type": "execute_result"
    }
   ],
   "source": [
    "bins"
   ]
  },
  {
   "cell_type": "code",
   "execution_count": 75,
   "metadata": {},
   "outputs": [],
   "source": [
    "prod_df.loc[:, 'bins'] = pd.cut(prod_df['measured_weight'], bins=bins, labels=False)"
   ]
  },
  {
   "cell_type": "code",
   "execution_count": 86,
   "metadata": {},
   "outputs": [],
   "source": [
    "bin_counts = prod_df['bins'].value_counts().sort_index().values"
   ]
  },
  {
   "cell_type": "code",
   "execution_count": 87,
   "metadata": {},
   "outputs": [
    {
     "data": {
      "text/plain": [
       "array([ 22,  76, 213, 271, 109,   1,   1,   2], dtype=int64)"
      ]
     },
     "execution_count": 87,
     "metadata": {},
     "output_type": "execute_result"
    }
   ],
   "source": [
    "bin_counts"
   ]
  },
  {
   "cell_type": "code",
   "execution_count": 78,
   "metadata": {},
   "outputs": [
    {
     "data": {
      "text/plain": [
       "[9.0, 9.25, 9.5, 9.75, 10.0, 10.25, 10.5, 10.75, 11.0]"
      ]
     },
     "execution_count": 78,
     "metadata": {},
     "output_type": "execute_result"
    }
   ],
   "source": [
    "bins"
   ]
  },
  {
   "cell_type": "code",
   "execution_count": 70,
   "metadata": {},
   "outputs": [
    {
     "data": {
      "text/plain": [
       "'10 oz  Sirloin A'"
      ]
     },
     "execution_count": 70,
     "metadata": {},
     "output_type": "execute_result"
    }
   ],
   "source": [
    "unique_prods[0]"
   ]
  },
  {
   "cell_type": "code",
   "execution_count": 88,
   "metadata": {},
   "outputs": [
    {
     "data": {
      "text/plain": [
       "[9.0, 9.25, 9.5, 9.75, 10.0, 10.25, 10.5, 10.75]"
      ]
     },
     "execution_count": 88,
     "metadata": {},
     "output_type": "execute_result"
    }
   ],
   "source": [
    "x_bins = bins[:-1]\n",
    "x_bins"
   ]
  },
  {
   "cell_type": "code",
   "execution_count": 91,
   "metadata": {},
   "outputs": [
    {
     "name": "stderr",
     "output_type": "stream",
     "text": [
      "c:\\Users\\saad\\anaconda3\\Lib\\site-packages\\seaborn\\_oldcore.py:1119: FutureWarning: use_inf_as_na option is deprecated and will be removed in a future version. Convert inf values to NaN before operating instead.\n",
      "  with pd.option_context('mode.use_inf_as_na', True):\n"
     ]
    },
    {
     "data": {
      "text/plain": [
       "<Axes: ylabel='Count'>"
      ]
     },
     "execution_count": 91,
     "metadata": {},
     "output_type": "execute_result"
    },
    {
     "data": {
      "image/png": "[encoded data removed]",
      "text/plain": [
       "<Figure size 1000x600 with 1 Axes>"
      ]
     },
     "metadata": {},
     "output_type": "display_data"
    }
   ],
   "source": [
    "plt.figure(figsize=(10,6))\n",
    "seaborn.histplot(x=x_bins, weights=bin_counts, bins=len(x_bins))\n"
   ]
  },
  {
   "cell_type": "code",
   "execution_count": null,
   "metadata": {},
   "outputs": [],
   "source": []
  }
 ],
 "metadata": {
  "kernelspec": {
   "display_name": "base",
   "language": "python",
   "name": "python3"
  },
  "language_info": {
   "codemirror_mode": {
    "name": "ipython",
    "version": 3
   },
   "file_extension": ".py",
   "mimetype": "text/x-python",
   "name": "python",
   "nbconvert_exporter": "python",
   "pygments_lexer": "ipython3",
   "version": "3.11.7"
  }
 },
 "nbformat": 4,
 "nbformat_minor": 2
}
