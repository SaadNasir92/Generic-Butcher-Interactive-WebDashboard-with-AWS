{
 "cells": [
  {
   "cell_type": "markdown",
   "metadata": {},
   "source": [
    "### cleaning objectives\n",
    "- Change date column to date time\n",
    "- Change height and weight columns to float\n",
    "- Strip product text\n",
    "- "
   ]
  },
  {
   "cell_type": "code",
   "execution_count": 1,
   "metadata": {},
   "outputs": [],
   "source": [
    "import pandas as pd \n",
    "import csv\n",
    "from pathlib import Path\n",
    "import datetime as dt"
   ]
  },
  {
   "cell_type": "code",
   "execution_count": 2,
   "metadata": {},
   "outputs": [
    {
     "data": {
      "text/plain": [
       "Index(['Site', ' Line', ' Product', ' Date Time', ' Adaptive Length',\n",
       "       ' Caliper Length', ' Color; L', ' Diameter; Avg',\n",
       "       ' External Measurement Weight 0', ' Height; Avg', ' Max Edge Fat Width',\n",
       "       ' Single Caliper Width', ' Tail Length', ' Total Fat Percent Area',\n",
       "       ' Total Fat Top Area', '% Compliance Weight', '% Compliance Thickness'],\n",
       "      dtype='object')"
      ]
     },
     "execution_count": 2,
     "metadata": {},
     "output_type": "execute_result"
    }
   ],
   "source": [
    "data_path = Path(\"./Resources/Generic_Butcher_Company_2024_06.csv\")\n",
    "spec_path =Path(\"./Resources/Generic_Butcher_Company_2024_06_SPEC_SHEET.csv\")\n",
    "\n",
    "june_meat_data = pd.read_csv(data_path)\n",
    "june_spec_data = pd.read_csv(spec_path)\n",
    "june_meat_data.columns"
   ]
  },
  {
   "cell_type": "code",
   "execution_count": 3,
   "metadata": {},
   "outputs": [
    {
     "data": {
      "text/plain": [
       "Index(['Site', 'Line', 'Product', 'Date Time', 'Adaptive Length',\n",
       "       'Caliper Length', 'Color L', 'Diameter Avg',\n",
       "       'External Measurement Weight', 'Height Avg', 'Max Edge Fat Width',\n",
       "       'Single Caliper Width', 'Tail Length', 'Total Fat Percent Area',\n",
       "       'Total Fat Top Area', 'Percentage Compliance Weight',\n",
       "       'Percentage Compliance Thickness'],\n",
       "      dtype='object')"
      ]
     },
     "execution_count": 3,
     "metadata": {},
     "output_type": "execute_result"
    }
   ],
   "source": [
    "june_meat_data = june_meat_data.rename(columns={\n",
    "                      \" Diameter; Avg\":\"Diameter Avg\",\n",
    "                      \" Color; L\":\"Color L\",\n",
    "                      \" Height; Avg\": \"Height Avg\",\n",
    "                      \" External Measurement Weight 0\":\"External Measurement Weight\",\n",
    "                      \"% Compliance Weight\":\"Percentage Compliance Weight\",\n",
    "                      \"% Compliance Thickness\":\"Percentage Compliance Thickness\",\n",
    "                      ' Site':'Site',\n",
    "                      ' Line':'Line',\n",
    "                      ' Product':'Product',\n",
    "                      ' Date Time':'Date Time',\n",
    "                      ' Adaptive Length':'Adaptive Length',\n",
    "                      ' Caliper Length':'Caliper Length',\n",
    "                      ' Max Edge Fat Width':'Max Edge Fat Width',\n",
    "                      ' Single Caliper Width':'Single Caliper Width',\n",
    "                      ' Tail Length':'Tail Length',\n",
    "                      ' Total Fat Percent Area':'Total Fat Percent Area',\n",
    "                      ' Total Fat Top Area':'Total Fat Top Area', \n",
    "                      })\n",
    "\n",
    "june_meat_data.columns"
   ]
  },
  {
   "cell_type": "code",
   "execution_count": 12,
   "metadata": {},
   "outputs": [],
   "source": [
    "june_meat_data.columns = june_meat_data.columns.str.lower().str.replace(\" \", \"_\")"
   ]
  },
  {
   "cell_type": "code",
   "execution_count": 13,
   "metadata": {},
   "outputs": [
    {
     "data": {
      "text/plain": [
       "Index(['site', 'line', 'product', 'date_time', 'adaptive_length',\n",
       "       'caliper_length', 'color_l', 'diameter_avg',\n",
       "       'external_measurement_weight', 'height_avg', 'max_edge_fat_width',\n",
       "       'single_caliper_width', 'tail_length', 'total_fat_percent_area',\n",
       "       'total_fat_top_area', 'percentage_compliance_weight',\n",
       "       'percentage_compliance_thickness'],\n",
       "      dtype='object')"
      ]
     },
     "execution_count": 13,
     "metadata": {},
     "output_type": "execute_result"
    }
   ],
   "source": [
    "june_meat_data.columns"
   ]
  },
  {
   "cell_type": "code",
   "execution_count": 6,
   "metadata": {},
   "outputs": [],
   "source": [
    "# for x in range(len(june_meat_data)):\n",
    "#     if june_meat_data['Line'][x]== 'NaN':\n",
    "#         june_meat_data['Line'][x]=\"y\"\n",
    "# june_meat_data"
   ]
  },
  {
   "cell_type": "code",
   "execution_count": 7,
   "metadata": {},
   "outputs": [
    {
     "data": {
      "text/html": [
       "<div>\n",
       "<style scoped>\n",
       "    .dataframe tbody tr th:only-of-type {\n",
       "        vertical-align: middle;\n",
       "    }\n",
       "\n",
       "    .dataframe tbody tr th {\n",
       "        vertical-align: top;\n",
       "    }\n",
       "\n",
       "    .dataframe thead th {\n",
       "        text-align: right;\n",
       "    }\n",
       "</style>\n",
       "<table border=\"1\" class=\"dataframe\">\n",
       "  <thead>\n",
       "    <tr style=\"text-align: right;\">\n",
       "      <th></th>\n",
       "      <th>Site</th>\n",
       "      <th>Line</th>\n",
       "      <th>Product</th>\n",
       "      <th>Date Time</th>\n",
       "      <th>Adaptive Length</th>\n",
       "      <th>Caliper Length</th>\n",
       "      <th>Color L</th>\n",
       "      <th>Diameter Avg</th>\n",
       "      <th>External Measurement Weight</th>\n",
       "      <th>Height Avg</th>\n",
       "      <th>Max Edge Fat Width</th>\n",
       "      <th>Single Caliper Width</th>\n",
       "      <th>Tail Length</th>\n",
       "      <th>Total Fat Percent Area</th>\n",
       "      <th>Total Fat Top Area</th>\n",
       "      <th>Percentage Compliance Weight</th>\n",
       "      <th>Percentage Compliance Thickness</th>\n",
       "    </tr>\n",
       "  </thead>\n",
       "  <tbody>\n",
       "    <tr>\n",
       "      <th>0</th>\n",
       "      <td>Generic Butcher Company</td>\n",
       "      <td>Generic</td>\n",
       "      <td>TEST BLOCK A</td>\n",
       "      <td>6/3/2024 6:48:55 AM</td>\n",
       "      <td></td>\n",
       "      <td></td>\n",
       "      <td>67.9184</td>\n",
       "      <td>87.7136</td>\n",
       "      <td></td>\n",
       "      <td>24.41330</td>\n",
       "      <td></td>\n",
       "      <td></td>\n",
       "      <td></td>\n",
       "      <td></td>\n",
       "      <td></td>\n",
       "      <td></td>\n",
       "      <td></td>\n",
       "    </tr>\n",
       "    <tr>\n",
       "      <th>1</th>\n",
       "      <td>Generic Butcher Company</td>\n",
       "      <td>Generic</td>\n",
       "      <td>TEST BLOCK B</td>\n",
       "      <td>6/3/2024 6:49:16 AM</td>\n",
       "      <td></td>\n",
       "      <td></td>\n",
       "      <td></td>\n",
       "      <td>114</td>\n",
       "      <td></td>\n",
       "      <td>25.41610</td>\n",
       "      <td></td>\n",
       "      <td></td>\n",
       "      <td></td>\n",
       "      <td></td>\n",
       "      <td></td>\n",
       "      <td></td>\n",
       "      <td></td>\n",
       "    </tr>\n",
       "    <tr>\n",
       "      <th>2</th>\n",
       "      <td>Generic Butcher Company</td>\n",
       "      <td>Generic</td>\n",
       "      <td>13 oz  Ribeye Tail A</td>\n",
       "      <td>6/3/2024 7:16:28 AM</td>\n",
       "      <td></td>\n",
       "      <td></td>\n",
       "      <td></td>\n",
       "      <td></td>\n",
       "      <td>16.76</td>\n",
       "      <td>1.62952</td>\n",
       "      <td>0.513377</td>\n",
       "      <td></td>\n",
       "      <td>1.11626</td>\n",
       "      <td></td>\n",
       "      <td></td>\n",
       "      <td></td>\n",
       "      <td></td>\n",
       "    </tr>\n",
       "    <tr>\n",
       "      <th>3</th>\n",
       "      <td>Generic Butcher Company</td>\n",
       "      <td>Generic</td>\n",
       "      <td>13 oz  Ribeye Tail A</td>\n",
       "      <td>6/3/2024 7:16:47 AM</td>\n",
       "      <td></td>\n",
       "      <td></td>\n",
       "      <td></td>\n",
       "      <td></td>\n",
       "      <td>16.12</td>\n",
       "      <td>1.02086</td>\n",
       "      <td>0.573745</td>\n",
       "      <td></td>\n",
       "      <td>4.83435</td>\n",
       "      <td></td>\n",
       "      <td></td>\n",
       "      <td></td>\n",
       "      <td></td>\n",
       "    </tr>\n",
       "    <tr>\n",
       "      <th>4</th>\n",
       "      <td>Generic Butcher Company</td>\n",
       "      <td>Generic</td>\n",
       "      <td>16 oz  Ribeye Tail A</td>\n",
       "      <td>6/3/2024 7:17:36 AM</td>\n",
       "      <td></td>\n",
       "      <td></td>\n",
       "      <td></td>\n",
       "      <td></td>\n",
       "      <td>16.34</td>\n",
       "      <td>1.03975</td>\n",
       "      <td>0.921001</td>\n",
       "      <td></td>\n",
       "      <td>0.936875</td>\n",
       "      <td></td>\n",
       "      <td></td>\n",
       "      <td></td>\n",
       "      <td></td>\n",
       "    </tr>\n",
       "    <tr>\n",
       "      <th>...</th>\n",
       "      <td>...</td>\n",
       "      <td>...</td>\n",
       "      <td>...</td>\n",
       "      <td>...</td>\n",
       "      <td>...</td>\n",
       "      <td>...</td>\n",
       "      <td>...</td>\n",
       "      <td>...</td>\n",
       "      <td>...</td>\n",
       "      <td>...</td>\n",
       "      <td>...</td>\n",
       "      <td>...</td>\n",
       "      <td>...</td>\n",
       "      <td>...</td>\n",
       "      <td>...</td>\n",
       "      <td>...</td>\n",
       "      <td>...</td>\n",
       "    </tr>\n",
       "    <tr>\n",
       "      <th>36195</th>\n",
       "      <td>Generic Butcher Company</td>\n",
       "      <td>Generic</td>\n",
       "      <td>7 oz S Sirloin A</td>\n",
       "      <td>6/28/2024 10:58:13 PM</td>\n",
       "      <td></td>\n",
       "      <td>4.74138</td>\n",
       "      <td></td>\n",
       "      <td></td>\n",
       "      <td>6.82</td>\n",
       "      <td>1.25516</td>\n",
       "      <td>0</td>\n",
       "      <td>3.15575</td>\n",
       "      <td></td>\n",
       "      <td></td>\n",
       "      <td>0</td>\n",
       "      <td></td>\n",
       "      <td></td>\n",
       "    </tr>\n",
       "    <tr>\n",
       "      <th>36196</th>\n",
       "      <td>Generic Butcher Company</td>\n",
       "      <td>Generic</td>\n",
       "      <td>7 oz S Sirloin A</td>\n",
       "      <td>6/28/2024 10:58:23 PM</td>\n",
       "      <td></td>\n",
       "      <td>4.77603</td>\n",
       "      <td></td>\n",
       "      <td></td>\n",
       "      <td>6.86</td>\n",
       "      <td>1.29131</td>\n",
       "      <td>0</td>\n",
       "      <td>2.10478</td>\n",
       "      <td></td>\n",
       "      <td></td>\n",
       "      <td>0</td>\n",
       "      <td></td>\n",
       "      <td></td>\n",
       "    </tr>\n",
       "    <tr>\n",
       "      <th>36197</th>\n",
       "      <td>Generic Butcher Company</td>\n",
       "      <td>Generic</td>\n",
       "      <td>7 oz S Sirloin A</td>\n",
       "      <td>6/28/2024 10:58:36 PM</td>\n",
       "      <td></td>\n",
       "      <td>4.65199</td>\n",
       "      <td></td>\n",
       "      <td></td>\n",
       "      <td>6.94</td>\n",
       "      <td>1.36985</td>\n",
       "      <td>0</td>\n",
       "      <td>2.95081</td>\n",
       "      <td></td>\n",
       "      <td></td>\n",
       "      <td>0.0181235</td>\n",
       "      <td></td>\n",
       "      <td></td>\n",
       "    </tr>\n",
       "    <tr>\n",
       "      <th>36198</th>\n",
       "      <td>Generic Butcher Company</td>\n",
       "      <td>Generic</td>\n",
       "      <td>7 oz S Sirloin A</td>\n",
       "      <td>6/28/2024 10:59:01 PM</td>\n",
       "      <td></td>\n",
       "      <td>4.46065</td>\n",
       "      <td></td>\n",
       "      <td></td>\n",
       "      <td>6.8</td>\n",
       "      <td>1.32573</td>\n",
       "      <td>0</td>\n",
       "      <td>2.57711</td>\n",
       "      <td></td>\n",
       "      <td></td>\n",
       "      <td>0.0230846</td>\n",
       "      <td></td>\n",
       "      <td></td>\n",
       "    </tr>\n",
       "    <tr>\n",
       "      <th>36199</th>\n",
       "      <td>Generic Butcher Company</td>\n",
       "      <td>Generic</td>\n",
       "      <td>7 oz S Sirloin A</td>\n",
       "      <td>6/28/2024 10:59:09 PM</td>\n",
       "      <td></td>\n",
       "      <td>3.90196</td>\n",
       "      <td></td>\n",
       "      <td></td>\n",
       "      <td>6.8</td>\n",
       "      <td>1.25799</td>\n",
       "      <td>0</td>\n",
       "      <td>3.40737</td>\n",
       "      <td></td>\n",
       "      <td></td>\n",
       "      <td>0.0221903</td>\n",
       "      <td></td>\n",
       "      <td></td>\n",
       "    </tr>\n",
       "  </tbody>\n",
       "</table>\n",
       "<p>36200 rows × 17 columns</p>\n",
       "</div>"
      ],
      "text/plain": [
       "                          Site     Line                Product  \\\n",
       "0      Generic Butcher Company  Generic           TEST BLOCK A   \n",
       "1      Generic Butcher Company  Generic           TEST BLOCK B   \n",
       "2      Generic Butcher Company  Generic   13 oz  Ribeye Tail A   \n",
       "3      Generic Butcher Company  Generic   13 oz  Ribeye Tail A   \n",
       "4      Generic Butcher Company  Generic   16 oz  Ribeye Tail A   \n",
       "...                        ...      ...                    ...   \n",
       "36195  Generic Butcher Company  Generic       7 oz S Sirloin A   \n",
       "36196  Generic Butcher Company  Generic       7 oz S Sirloin A   \n",
       "36197  Generic Butcher Company  Generic       7 oz S Sirloin A   \n",
       "36198  Generic Butcher Company  Generic       7 oz S Sirloin A   \n",
       "36199  Generic Butcher Company  Generic       7 oz S Sirloin A   \n",
       "\n",
       "                    Date Time Adaptive Length Caliper Length  Color L  \\\n",
       "0         6/3/2024 6:48:55 AM                                 67.9184   \n",
       "1         6/3/2024 6:49:16 AM                                           \n",
       "2         6/3/2024 7:16:28 AM                                           \n",
       "3         6/3/2024 7:16:47 AM                                           \n",
       "4         6/3/2024 7:17:36 AM                                           \n",
       "...                       ...             ...            ...      ...   \n",
       "36195   6/28/2024 10:58:13 PM                        4.74138            \n",
       "36196   6/28/2024 10:58:23 PM                        4.77603            \n",
       "36197   6/28/2024 10:58:36 PM                        4.65199            \n",
       "36198   6/28/2024 10:59:01 PM                        4.46065            \n",
       "36199   6/28/2024 10:59:09 PM                        3.90196            \n",
       "\n",
       "      Diameter Avg External Measurement Weight  Height Avg Max Edge Fat Width  \\\n",
       "0          87.7136                                24.41330                      \n",
       "1              114                                25.41610                      \n",
       "2                                        16.76     1.62952           0.513377   \n",
       "3                                        16.12     1.02086           0.573745   \n",
       "4                                        16.34     1.03975           0.921001   \n",
       "...            ...                         ...         ...                ...   \n",
       "36195                                     6.82     1.25516                  0   \n",
       "36196                                     6.86     1.29131                  0   \n",
       "36197                                     6.94     1.36985                  0   \n",
       "36198                                      6.8     1.32573                  0   \n",
       "36199                                      6.8     1.25799                  0   \n",
       "\n",
       "      Single Caliper Width Tail Length Total Fat Percent Area  \\\n",
       "0                                                               \n",
       "1                                                               \n",
       "2                              1.11626                          \n",
       "3                              4.83435                          \n",
       "4                             0.936875                          \n",
       "...                    ...         ...                    ...   \n",
       "36195              3.15575                                      \n",
       "36196              2.10478                                      \n",
       "36197              2.95081                                      \n",
       "36198              2.57711                                      \n",
       "36199              3.40737                                      \n",
       "\n",
       "      Total Fat Top Area Percentage Compliance Weight  \\\n",
       "0                                                       \n",
       "1                                                       \n",
       "2                                                       \n",
       "3                                                       \n",
       "4                                                       \n",
       "...                  ...                          ...   \n",
       "36195                  0                                \n",
       "36196                  0                                \n",
       "36197          0.0181235                                \n",
       "36198          0.0230846                                \n",
       "36199          0.0221903                                \n",
       "\n",
       "      Percentage Compliance Thickness  \n",
       "0                                      \n",
       "1                                      \n",
       "2                                      \n",
       "3                                      \n",
       "4                                      \n",
       "...                               ...  \n",
       "36195                                  \n",
       "36196                                  \n",
       "36197                                  \n",
       "36198                                  \n",
       "36199                                  \n",
       "\n",
       "[36200 rows x 17 columns]"
      ]
     },
     "execution_count": 7,
     "metadata": {},
     "output_type": "execute_result"
    }
   ],
   "source": [
    "for col in june_meat_data.columns:\n",
    "    june_meat_data[col] = june_meat_data[col].fillna('')\n",
    "    \n",
    "june_meat_data"
   ]
  },
  {
   "cell_type": "code",
   "execution_count": 8,
   "metadata": {},
   "outputs": [
    {
     "data": {
      "text/plain": [
       "Site                                object\n",
       "Line                                object\n",
       "Product                             object\n",
       "Date Time                           object\n",
       "Adaptive Length                     object\n",
       "Caliper Length                      object\n",
       "Color L                             object\n",
       "Diameter Avg                        object\n",
       "External Measurement Weight         object\n",
       "Height Avg                         float64\n",
       "Max Edge Fat Width                  object\n",
       "Single Caliper Width                object\n",
       "Tail Length                         object\n",
       "Total Fat Percent Area              object\n",
       "Total Fat Top Area                  object\n",
       "Percentage Compliance Weight        object\n",
       "Percentage Compliance Thickness     object\n",
       "dtype: object"
      ]
     },
     "execution_count": 8,
     "metadata": {},
     "output_type": "execute_result"
    }
   ],
   "source": [
    "june_meat_data = june_meat_data.astype({\"Site\":str,\n",
    "                                        \"Line\":str,\n",
    "                                        \"Product\":str,\n",
    "                                        \"Date Time\":str,\n",
    "                                        \"Adaptive Length\":str,\n",
    "                                        \"Caliper Length\":str,\n",
    "                                        'Color L':str,\n",
    "                                        'Diameter Avg':str,\n",
    "                                        'External Measurement Weight':float,\n",
    "                                        'Height Avg':float,\n",
    "                                        'Max Edge Fat Width':str,\n",
    "                                        'Single Caliper Width':str,\n",
    "                                        'Tail Length':str,\n",
    "                                        'Total Fat Percent Area':str,\n",
    "                                        'Total Fat Top Area':str,\n",
    "                                        'Percentage Compliance Weight':str,\n",
    "                                        'Percentage Compliance Thickness':str},errors='ignore')\n",
    "\n",
    "june_meat_data.dtypes"
   ]
  },
  {
   "cell_type": "code",
   "execution_count": 9,
   "metadata": {},
   "outputs": [
    {
     "data": {
      "text/plain": [
       "Index(['Site', 'Line', 'Product', 'Date Time', 'Adaptive Length',\n",
       "       'Caliper Length', 'Color L', 'Diameter Avg',\n",
       "       'External Measurement Weight', 'Height Avg', 'Max Edge Fat Width',\n",
       "       'Single Caliper Width', 'Tail Length', 'Total Fat Percent Area',\n",
       "       'Total Fat Top Area', 'Percentage Compliance Weight',\n",
       "       'Percentage Compliance Thickness'],\n",
       "      dtype='object')"
      ]
     },
     "execution_count": 9,
     "metadata": {},
     "output_type": "execute_result"
    }
   ],
   "source": [
    "june_meat_data.columns"
   ]
  },
  {
   "cell_type": "code",
   "execution_count": 17,
   "metadata": {},
   "outputs": [
    {
     "data": {
      "text/plain": [
       "site                               0\n",
       "line                               0\n",
       "product                            0\n",
       "date_time                          0\n",
       "adaptive_length                    0\n",
       "caliper_length                     0\n",
       "color_l                            0\n",
       "diameter_avg                       0\n",
       "external_measurement_weight        0\n",
       "height_avg                         0\n",
       "max_edge_fat_width                 0\n",
       "single_caliper_width               0\n",
       "tail_length                        0\n",
       "total_fat_percent_area             0\n",
       "total_fat_top_area                 0\n",
       "percentage_compliance_weight       0\n",
       "percentage_compliance_thickness    0\n",
       "dtype: int64"
      ]
     },
     "execution_count": 17,
     "metadata": {},
     "output_type": "execute_result"
    }
   ],
   "source": [
    "june_meat_data.isna().sum()"
   ]
  },
  {
   "cell_type": "code",
   "execution_count": 18,
   "metadata": {},
   "outputs": [],
   "source": [
    "df = june_meat_data.copy()"
   ]
  },
  {
   "cell_type": "code",
   "execution_count": 19,
   "metadata": {},
   "outputs": [],
   "source": [
    "df = df[ [\"product\", \"date_time\", \"external_measurement_weight\", \"height_avg\"]]"
   ]
  },
  {
   "cell_type": "code",
   "execution_count": 20,
   "metadata": {},
   "outputs": [
    {
     "data": {
      "text/html": [
       "<div>\n",
       "<style scoped>\n",
       "    .dataframe tbody tr th:only-of-type {\n",
       "        vertical-align: middle;\n",
       "    }\n",
       "\n",
       "    .dataframe tbody tr th {\n",
       "        vertical-align: top;\n",
       "    }\n",
       "\n",
       "    .dataframe thead th {\n",
       "        text-align: right;\n",
       "    }\n",
       "</style>\n",
       "<table border=\"1\" class=\"dataframe\">\n",
       "  <thead>\n",
       "    <tr style=\"text-align: right;\">\n",
       "      <th></th>\n",
       "      <th>product</th>\n",
       "      <th>date_time</th>\n",
       "      <th>external_measurement_weight</th>\n",
       "      <th>height_avg</th>\n",
       "    </tr>\n",
       "  </thead>\n",
       "  <tbody>\n",
       "    <tr>\n",
       "      <th>0</th>\n",
       "      <td>TEST BLOCK A</td>\n",
       "      <td>6/3/2024 6:48:55 AM</td>\n",
       "      <td></td>\n",
       "      <td>24.41330</td>\n",
       "    </tr>\n",
       "    <tr>\n",
       "      <th>1</th>\n",
       "      <td>TEST BLOCK B</td>\n",
       "      <td>6/3/2024 6:49:16 AM</td>\n",
       "      <td></td>\n",
       "      <td>25.41610</td>\n",
       "    </tr>\n",
       "    <tr>\n",
       "      <th>2</th>\n",
       "      <td>13 oz  Ribeye Tail A</td>\n",
       "      <td>6/3/2024 7:16:28 AM</td>\n",
       "      <td>16.76</td>\n",
       "      <td>1.62952</td>\n",
       "    </tr>\n",
       "    <tr>\n",
       "      <th>3</th>\n",
       "      <td>13 oz  Ribeye Tail A</td>\n",
       "      <td>6/3/2024 7:16:47 AM</td>\n",
       "      <td>16.12</td>\n",
       "      <td>1.02086</td>\n",
       "    </tr>\n",
       "    <tr>\n",
       "      <th>4</th>\n",
       "      <td>16 oz  Ribeye Tail A</td>\n",
       "      <td>6/3/2024 7:17:36 AM</td>\n",
       "      <td>16.34</td>\n",
       "      <td>1.03975</td>\n",
       "    </tr>\n",
       "  </tbody>\n",
       "</table>\n",
       "</div>"
      ],
      "text/plain": [
       "                 product             date_time external_measurement_weight  \\\n",
       "0           TEST BLOCK A   6/3/2024 6:48:55 AM                               \n",
       "1           TEST BLOCK B   6/3/2024 6:49:16 AM                               \n",
       "2   13 oz  Ribeye Tail A   6/3/2024 7:16:28 AM                       16.76   \n",
       "3   13 oz  Ribeye Tail A   6/3/2024 7:16:47 AM                       16.12   \n",
       "4   16 oz  Ribeye Tail A   6/3/2024 7:17:36 AM                       16.34   \n",
       "\n",
       "   height_avg  \n",
       "0    24.41330  \n",
       "1    25.41610  \n",
       "2     1.62952  \n",
       "3     1.02086  \n",
       "4     1.03975  "
      ]
     },
     "execution_count": 20,
     "metadata": {},
     "output_type": "execute_result"
    }
   ],
   "source": [
    "df.head()"
   ]
  },
  {
   "cell_type": "code",
   "execution_count": 21,
   "metadata": {},
   "outputs": [
    {
     "data": {
      "text/plain": [
       "product                         object\n",
       "date_time                       object\n",
       "external_measurement_weight     object\n",
       "height_avg                     float64\n",
       "dtype: object"
      ]
     },
     "execution_count": 21,
     "metadata": {},
     "output_type": "execute_result"
    }
   ],
   "source": [
    "df.dtypes"
   ]
  },
  {
   "cell_type": "code",
   "execution_count": 25,
   "metadata": {},
   "outputs": [
    {
     "data": {
      "text/plain": [
       "str"
      ]
     },
     "execution_count": 25,
     "metadata": {},
     "output_type": "execute_result"
    }
   ],
   "source": [
    "type(df[\"external_measurement_weight\"].values[2])"
   ]
  },
  {
   "cell_type": "code",
   "execution_count": 27,
   "metadata": {},
   "outputs": [
    {
     "ename": "ValueError",
     "evalue": "could not convert string to float: ' '",
     "output_type": "error",
     "traceback": [
      "\u001b[1;31m---------------------------------------------------------------------------\u001b[0m",
      "\u001b[1;31mValueError\u001b[0m                                Traceback (most recent call last)",
      "Cell \u001b[1;32mIn[27], line 1\u001b[0m\n\u001b[1;32m----> 1\u001b[0m df[\u001b[38;5;124m\"\u001b[39m\u001b[38;5;124mexternal_measurement_weight\u001b[39m\u001b[38;5;124m\"\u001b[39m]\u001b[38;5;241m.\u001b[39mastype(\u001b[38;5;124m\"\u001b[39m\u001b[38;5;124mfloat\u001b[39m\u001b[38;5;124m\"\u001b[39m)\n",
      "File \u001b[1;32mc:\\Users\\Abbi\\anaconda3\\Lib\\site-packages\\pandas\\core\\generic.py:6534\u001b[0m, in \u001b[0;36mNDFrame.astype\u001b[1;34m(self, dtype, copy, errors)\u001b[0m\n\u001b[0;32m   6530\u001b[0m     results \u001b[38;5;241m=\u001b[39m [ser\u001b[38;5;241m.\u001b[39mastype(dtype, copy\u001b[38;5;241m=\u001b[39mcopy) \u001b[38;5;28;01mfor\u001b[39;00m _, ser \u001b[38;5;129;01min\u001b[39;00m \u001b[38;5;28mself\u001b[39m\u001b[38;5;241m.\u001b[39mitems()]\n\u001b[0;32m   6532\u001b[0m \u001b[38;5;28;01melse\u001b[39;00m:\n\u001b[0;32m   6533\u001b[0m     \u001b[38;5;66;03m# else, only a single dtype is given\u001b[39;00m\n\u001b[1;32m-> 6534\u001b[0m     new_data \u001b[38;5;241m=\u001b[39m \u001b[38;5;28mself\u001b[39m\u001b[38;5;241m.\u001b[39m_mgr\u001b[38;5;241m.\u001b[39mastype(dtype\u001b[38;5;241m=\u001b[39mdtype, copy\u001b[38;5;241m=\u001b[39mcopy, errors\u001b[38;5;241m=\u001b[39merrors)\n\u001b[0;32m   6535\u001b[0m     res \u001b[38;5;241m=\u001b[39m \u001b[38;5;28mself\u001b[39m\u001b[38;5;241m.\u001b[39m_constructor_from_mgr(new_data, axes\u001b[38;5;241m=\u001b[39mnew_data\u001b[38;5;241m.\u001b[39maxes)\n\u001b[0;32m   6536\u001b[0m     \u001b[38;5;28;01mreturn\u001b[39;00m res\u001b[38;5;241m.\u001b[39m__finalize__(\u001b[38;5;28mself\u001b[39m, method\u001b[38;5;241m=\u001b[39m\u001b[38;5;124m\"\u001b[39m\u001b[38;5;124mastype\u001b[39m\u001b[38;5;124m\"\u001b[39m)\n",
      "File \u001b[1;32mc:\\Users\\Abbi\\anaconda3\\Lib\\site-packages\\pandas\\core\\internals\\managers.py:414\u001b[0m, in \u001b[0;36mBaseBlockManager.astype\u001b[1;34m(self, dtype, copy, errors)\u001b[0m\n\u001b[0;32m    411\u001b[0m \u001b[38;5;28;01melif\u001b[39;00m using_copy_on_write():\n\u001b[0;32m    412\u001b[0m     copy \u001b[38;5;241m=\u001b[39m \u001b[38;5;28;01mFalse\u001b[39;00m\n\u001b[1;32m--> 414\u001b[0m \u001b[38;5;28;01mreturn\u001b[39;00m \u001b[38;5;28mself\u001b[39m\u001b[38;5;241m.\u001b[39mapply(\n\u001b[0;32m    415\u001b[0m     \u001b[38;5;124m\"\u001b[39m\u001b[38;5;124mastype\u001b[39m\u001b[38;5;124m\"\u001b[39m,\n\u001b[0;32m    416\u001b[0m     dtype\u001b[38;5;241m=\u001b[39mdtype,\n\u001b[0;32m    417\u001b[0m     copy\u001b[38;5;241m=\u001b[39mcopy,\n\u001b[0;32m    418\u001b[0m     errors\u001b[38;5;241m=\u001b[39merrors,\n\u001b[0;32m    419\u001b[0m     using_cow\u001b[38;5;241m=\u001b[39musing_copy_on_write(),\n\u001b[0;32m    420\u001b[0m )\n",
      "File \u001b[1;32mc:\\Users\\Abbi\\anaconda3\\Lib\\site-packages\\pandas\\core\\internals\\managers.py:354\u001b[0m, in \u001b[0;36mBaseBlockManager.apply\u001b[1;34m(self, f, align_keys, **kwargs)\u001b[0m\n\u001b[0;32m    352\u001b[0m         applied \u001b[38;5;241m=\u001b[39m b\u001b[38;5;241m.\u001b[39mapply(f, \u001b[38;5;241m*\u001b[39m\u001b[38;5;241m*\u001b[39mkwargs)\n\u001b[0;32m    353\u001b[0m     \u001b[38;5;28;01melse\u001b[39;00m:\n\u001b[1;32m--> 354\u001b[0m         applied \u001b[38;5;241m=\u001b[39m \u001b[38;5;28mgetattr\u001b[39m(b, f)(\u001b[38;5;241m*\u001b[39m\u001b[38;5;241m*\u001b[39mkwargs)\n\u001b[0;32m    355\u001b[0m     result_blocks \u001b[38;5;241m=\u001b[39m extend_blocks(applied, result_blocks)\n\u001b[0;32m    357\u001b[0m out \u001b[38;5;241m=\u001b[39m \u001b[38;5;28mtype\u001b[39m(\u001b[38;5;28mself\u001b[39m)\u001b[38;5;241m.\u001b[39mfrom_blocks(result_blocks, \u001b[38;5;28mself\u001b[39m\u001b[38;5;241m.\u001b[39maxes)\n",
      "File \u001b[1;32mc:\\Users\\Abbi\\anaconda3\\Lib\\site-packages\\pandas\\core\\internals\\blocks.py:616\u001b[0m, in \u001b[0;36mBlock.astype\u001b[1;34m(self, dtype, copy, errors, using_cow)\u001b[0m\n\u001b[0;32m    596\u001b[0m \u001b[38;5;250m\u001b[39m\u001b[38;5;124;03m\"\"\"\u001b[39;00m\n\u001b[0;32m    597\u001b[0m \u001b[38;5;124;03mCoerce to the new dtype.\u001b[39;00m\n\u001b[0;32m    598\u001b[0m \n\u001b[1;32m   (...)\u001b[0m\n\u001b[0;32m    612\u001b[0m \u001b[38;5;124;03mBlock\u001b[39;00m\n\u001b[0;32m    613\u001b[0m \u001b[38;5;124;03m\"\"\"\u001b[39;00m\n\u001b[0;32m    614\u001b[0m values \u001b[38;5;241m=\u001b[39m \u001b[38;5;28mself\u001b[39m\u001b[38;5;241m.\u001b[39mvalues\n\u001b[1;32m--> 616\u001b[0m new_values \u001b[38;5;241m=\u001b[39m astype_array_safe(values, dtype, copy\u001b[38;5;241m=\u001b[39mcopy, errors\u001b[38;5;241m=\u001b[39merrors)\n\u001b[0;32m    618\u001b[0m new_values \u001b[38;5;241m=\u001b[39m maybe_coerce_values(new_values)\n\u001b[0;32m    620\u001b[0m refs \u001b[38;5;241m=\u001b[39m \u001b[38;5;28;01mNone\u001b[39;00m\n",
      "File \u001b[1;32mc:\\Users\\Abbi\\anaconda3\\Lib\\site-packages\\pandas\\core\\dtypes\\astype.py:238\u001b[0m, in \u001b[0;36mastype_array_safe\u001b[1;34m(values, dtype, copy, errors)\u001b[0m\n\u001b[0;32m    235\u001b[0m     dtype \u001b[38;5;241m=\u001b[39m dtype\u001b[38;5;241m.\u001b[39mnumpy_dtype\n\u001b[0;32m    237\u001b[0m \u001b[38;5;28;01mtry\u001b[39;00m:\n\u001b[1;32m--> 238\u001b[0m     new_values \u001b[38;5;241m=\u001b[39m astype_array(values, dtype, copy\u001b[38;5;241m=\u001b[39mcopy)\n\u001b[0;32m    239\u001b[0m \u001b[38;5;28;01mexcept\u001b[39;00m (\u001b[38;5;167;01mValueError\u001b[39;00m, \u001b[38;5;167;01mTypeError\u001b[39;00m):\n\u001b[0;32m    240\u001b[0m     \u001b[38;5;66;03m# e.g. _astype_nansafe can fail on object-dtype of strings\u001b[39;00m\n\u001b[0;32m    241\u001b[0m     \u001b[38;5;66;03m#  trying to convert to float\u001b[39;00m\n\u001b[0;32m    242\u001b[0m     \u001b[38;5;28;01mif\u001b[39;00m errors \u001b[38;5;241m==\u001b[39m \u001b[38;5;124m\"\u001b[39m\u001b[38;5;124mignore\u001b[39m\u001b[38;5;124m\"\u001b[39m:\n",
      "File \u001b[1;32mc:\\Users\\Abbi\\anaconda3\\Lib\\site-packages\\pandas\\core\\dtypes\\astype.py:183\u001b[0m, in \u001b[0;36mastype_array\u001b[1;34m(values, dtype, copy)\u001b[0m\n\u001b[0;32m    180\u001b[0m     values \u001b[38;5;241m=\u001b[39m values\u001b[38;5;241m.\u001b[39mastype(dtype, copy\u001b[38;5;241m=\u001b[39mcopy)\n\u001b[0;32m    182\u001b[0m \u001b[38;5;28;01melse\u001b[39;00m:\n\u001b[1;32m--> 183\u001b[0m     values \u001b[38;5;241m=\u001b[39m _astype_nansafe(values, dtype, copy\u001b[38;5;241m=\u001b[39mcopy)\n\u001b[0;32m    185\u001b[0m \u001b[38;5;66;03m# in pandas we don't store numpy str dtypes, so convert to object\u001b[39;00m\n\u001b[0;32m    186\u001b[0m \u001b[38;5;28;01mif\u001b[39;00m \u001b[38;5;28misinstance\u001b[39m(dtype, np\u001b[38;5;241m.\u001b[39mdtype) \u001b[38;5;129;01mand\u001b[39;00m \u001b[38;5;28missubclass\u001b[39m(values\u001b[38;5;241m.\u001b[39mdtype\u001b[38;5;241m.\u001b[39mtype, \u001b[38;5;28mstr\u001b[39m):\n",
      "File \u001b[1;32mc:\\Users\\Abbi\\anaconda3\\Lib\\site-packages\\pandas\\core\\dtypes\\astype.py:134\u001b[0m, in \u001b[0;36m_astype_nansafe\u001b[1;34m(arr, dtype, copy, skipna)\u001b[0m\n\u001b[0;32m    130\u001b[0m     \u001b[38;5;28;01mraise\u001b[39;00m \u001b[38;5;167;01mValueError\u001b[39;00m(msg)\n\u001b[0;32m    132\u001b[0m \u001b[38;5;28;01mif\u001b[39;00m copy \u001b[38;5;129;01mor\u001b[39;00m arr\u001b[38;5;241m.\u001b[39mdtype \u001b[38;5;241m==\u001b[39m \u001b[38;5;28mobject\u001b[39m \u001b[38;5;129;01mor\u001b[39;00m dtype \u001b[38;5;241m==\u001b[39m \u001b[38;5;28mobject\u001b[39m:\n\u001b[0;32m    133\u001b[0m     \u001b[38;5;66;03m# Explicit copy, or required since NumPy can't view from / to object.\u001b[39;00m\n\u001b[1;32m--> 134\u001b[0m     \u001b[38;5;28;01mreturn\u001b[39;00m arr\u001b[38;5;241m.\u001b[39mastype(dtype, copy\u001b[38;5;241m=\u001b[39m\u001b[38;5;28;01mTrue\u001b[39;00m)\n\u001b[0;32m    136\u001b[0m \u001b[38;5;28;01mreturn\u001b[39;00m arr\u001b[38;5;241m.\u001b[39mastype(dtype, copy\u001b[38;5;241m=\u001b[39mcopy)\n",
      "\u001b[1;31mValueError\u001b[0m: could not convert string to float: ' '"
     ]
    }
   ],
   "source": [
    "df[\"external_measurement_weight\"].astype(\"float\")"
   ]
  },
  {
   "cell_type": "code",
   "execution_count": null,
   "metadata": {},
   "outputs": [],
   "source": []
  }
 ],
 "metadata": {
  "kernelspec": {
   "display_name": "base",
   "language": "python",
   "name": "python3"
  },
  "language_info": {
   "codemirror_mode": {
    "name": "ipython",
    "version": 3
   },
   "file_extension": ".py",
   "mimetype": "text/x-python",
   "name": "python",
   "nbconvert_exporter": "python",
   "pygments_lexer": "ipython3",
   "version": "3.11.7"
  }
 },
 "nbformat": 4,
 "nbformat_minor": 2
}
