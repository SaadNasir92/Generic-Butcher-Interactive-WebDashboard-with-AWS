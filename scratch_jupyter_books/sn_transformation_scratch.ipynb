{
 "cells": [
  {
   "cell_type": "code",
   "execution_count": 2,
   "metadata": {},
   "outputs": [],
   "source": [
    "import pandas as pd\n",
    "import numpy as np\n",
    "import seaborn\n",
    "import matplotlib.pyplot as plt\n",
    "import plotly.express as px\n"
   ]
  },
  {
   "cell_type": "code",
   "execution_count": 6,
   "metadata": {},
   "outputs": [],
   "source": [
    "df = pd.read_csv('../data/cleaned/generic_butcher_cleaned.csv')"
   ]
  },
  {
   "cell_type": "code",
   "execution_count": 3,
   "metadata": {},
   "outputs": [
    {
     "data": {
      "text/html": [
       "<div>\n",
       "<style scoped>\n",
       "    .dataframe tbody tr th:only-of-type {\n",
       "        vertical-align: middle;\n",
       "    }\n",
       "\n",
       "    .dataframe tbody tr th {\n",
       "        vertical-align: top;\n",
       "    }\n",
       "\n",
       "    .dataframe thead th {\n",
       "        text-align: right;\n",
       "    }\n",
       "</style>\n",
       "<table border=\"1\" class=\"dataframe\">\n",
       "  <thead>\n",
       "    <tr style=\"text-align: right;\">\n",
       "      <th></th>\n",
       "      <th>product_name</th>\n",
       "      <th>date_time</th>\n",
       "      <th>measured_weight</th>\n",
       "      <th>measured_height</th>\n",
       "    </tr>\n",
       "  </thead>\n",
       "  <tbody>\n",
       "    <tr>\n",
       "      <th>0</th>\n",
       "      <td>13 oz  Ribeye Tail A</td>\n",
       "      <td>2024-06-03 07:16:28</td>\n",
       "      <td>16.76</td>\n",
       "      <td>1.62952</td>\n",
       "    </tr>\n",
       "    <tr>\n",
       "      <th>1</th>\n",
       "      <td>13 oz  Ribeye Tail A</td>\n",
       "      <td>2024-06-03 07:16:47</td>\n",
       "      <td>16.12</td>\n",
       "      <td>1.02086</td>\n",
       "    </tr>\n",
       "    <tr>\n",
       "      <th>2</th>\n",
       "      <td>16 oz  Ribeye Tail A</td>\n",
       "      <td>2024-06-03 07:17:36</td>\n",
       "      <td>16.34</td>\n",
       "      <td>1.03975</td>\n",
       "    </tr>\n",
       "    <tr>\n",
       "      <th>3</th>\n",
       "      <td>16 oz  Ribeye Tail A</td>\n",
       "      <td>2024-06-03 07:17:53</td>\n",
       "      <td>16.16</td>\n",
       "      <td>1.05378</td>\n",
       "    </tr>\n",
       "    <tr>\n",
       "      <th>4</th>\n",
       "      <td>16 oz  Ribeye Tail A</td>\n",
       "      <td>2024-06-03 07:18:08</td>\n",
       "      <td>16.12</td>\n",
       "      <td>1.03522</td>\n",
       "    </tr>\n",
       "  </tbody>\n",
       "</table>\n",
       "</div>"
      ],
      "text/plain": [
       "           product_name            date_time  measured_weight  measured_height\n",
       "0  13 oz  Ribeye Tail A  2024-06-03 07:16:28            16.76          1.62952\n",
       "1  13 oz  Ribeye Tail A  2024-06-03 07:16:47            16.12          1.02086\n",
       "2  16 oz  Ribeye Tail A  2024-06-03 07:17:36            16.34          1.03975\n",
       "3  16 oz  Ribeye Tail A  2024-06-03 07:17:53            16.16          1.05378\n",
       "4  16 oz  Ribeye Tail A  2024-06-03 07:18:08            16.12          1.03522"
      ]
     },
     "execution_count": 3,
     "metadata": {},
     "output_type": "execute_result"
    }
   ],
   "source": [
    "df.head()\n"
   ]
  },
  {
   "cell_type": "code",
   "execution_count": 4,
   "metadata": {},
   "outputs": [],
   "source": [
    "bot_bin = np.floor(df['measured_weight'][0])\n",
    "top_bin = np.ceil(df['measured_weight'][0])"
   ]
  },
  {
   "cell_type": "code",
   "execution_count": 5,
   "metadata": {},
   "outputs": [],
   "source": [
    "bins = np.arange(bot_bin, top_bin, .25)"
   ]
  },
  {
   "cell_type": "code",
   "execution_count": 6,
   "metadata": {},
   "outputs": [
    {
     "data": {
      "text/plain": [
       "4"
      ]
     },
     "execution_count": 6,
     "metadata": {},
     "output_type": "execute_result"
    }
   ],
   "source": [
    "len(bins)"
   ]
  },
  {
   "cell_type": "code",
   "execution_count": 7,
   "metadata": {},
   "outputs": [
    {
     "name": "stdout",
     "output_type": "stream",
     "text": [
      "16.0\n",
      "16.25\n",
      "16.5\n",
      "16.75\n"
     ]
    }
   ],
   "source": [
    "for x in bins:\n",
    "    print(x)"
   ]
  },
  {
   "cell_type": "code",
   "execution_count": 8,
   "metadata": {},
   "outputs": [],
   "source": [
    "bins = list(map(lambda x: float(x), bins))"
   ]
  },
  {
   "cell_type": "code",
   "execution_count": 9,
   "metadata": {},
   "outputs": [
    {
     "data": {
      "text/plain": [
       "[16.0, 16.25, 16.5, 16.75]"
      ]
     },
     "execution_count": 9,
     "metadata": {},
     "output_type": "execute_result"
    }
   ],
   "source": [
    "bins"
   ]
  },
  {
   "cell_type": "code",
   "execution_count": 10,
   "metadata": {},
   "outputs": [],
   "source": [
    "# df['binned_values'] = pd.cut(df['measured_weight'], bins=bins, labels=False)"
   ]
  },
  {
   "cell_type": "code",
   "execution_count": 7,
   "metadata": {},
   "outputs": [],
   "source": [
    "unique_prods = list(df.groupby('product_name')[['measured_weight']].value_counts().reset_index()['product_name'].unique())"
   ]
  },
  {
   "cell_type": "code",
   "execution_count": 8,
   "metadata": {},
   "outputs": [
    {
     "data": {
      "text/plain": [
       "['10 oz  Sirloin A',\n",
       " '11 oz  Sirloin B',\n",
       " '11 oz  Sirloin C',\n",
       " '13 oz  Ribeye Tail A',\n",
       " '16 oz  Dry Age Ribeye A',\n",
       " '16 oz  Prime Strip A',\n",
       " '16 oz  Ribeye Tail A',\n",
       " '16 oz  Strip A',\n",
       " '18 oz  Ribeye A',\n",
       " '20 oz  Prime Ribeye A',\n",
       " '22 oz  Porterhouse A',\n",
       " '3.5 oz Tender Bits A',\n",
       " '4 oz T Tenderloin Tail A',\n",
       " '5 oz S Sirloin A',\n",
       " '5 oz S Sirloin B',\n",
       " '6 oz S Sirloin A',\n",
       " '6 oz S Sirloin B',\n",
       " '6 oz T Tenderloin A',\n",
       " '7 oz S Sirloin A',\n",
       " '7 oz S Sirloin B',\n",
       " '7 oz T Tenderloin A',\n",
       " '8 oz P Pork Chop A',\n",
       " '8 oz S Sirloin A',\n",
       " '8 oz S Sirloin B',\n",
       " '8 oz T Tenderloin A',\n",
       " '9 oz S Sirloin A',\n",
       " '9 oz T Tenderloin A']"
      ]
     },
     "execution_count": 8,
     "metadata": {},
     "output_type": "execute_result"
    }
   ],
   "source": [
    "unique_prods"
   ]
  },
  {
   "cell_type": "code",
   "execution_count": 21,
   "metadata": {},
   "outputs": [
    {
     "data": {
      "text/html": [
       "<div>\n",
       "<style scoped>\n",
       "    .dataframe tbody tr th:only-of-type {\n",
       "        vertical-align: middle;\n",
       "    }\n",
       "\n",
       "    .dataframe tbody tr th {\n",
       "        vertical-align: top;\n",
       "    }\n",
       "\n",
       "    .dataframe thead th {\n",
       "        text-align: right;\n",
       "    }\n",
       "</style>\n",
       "<table border=\"1\" class=\"dataframe\">\n",
       "  <thead>\n",
       "    <tr style=\"text-align: right;\">\n",
       "      <th></th>\n",
       "      <th>product_name</th>\n",
       "      <th>measured_weight</th>\n",
       "      <th>count</th>\n",
       "    </tr>\n",
       "  </thead>\n",
       "  <tbody>\n",
       "    <tr>\n",
       "      <th>0</th>\n",
       "      <td>10 oz  Sirloin A</td>\n",
       "      <td>10.00</td>\n",
       "      <td>41</td>\n",
       "    </tr>\n",
       "    <tr>\n",
       "      <th>1</th>\n",
       "      <td>10 oz  Sirloin A</td>\n",
       "      <td>9.64</td>\n",
       "      <td>31</td>\n",
       "    </tr>\n",
       "    <tr>\n",
       "      <th>2</th>\n",
       "      <td>10 oz  Sirloin A</td>\n",
       "      <td>9.84</td>\n",
       "      <td>28</td>\n",
       "    </tr>\n",
       "    <tr>\n",
       "      <th>3</th>\n",
       "      <td>10 oz  Sirloin A</td>\n",
       "      <td>9.54</td>\n",
       "      <td>28</td>\n",
       "    </tr>\n",
       "    <tr>\n",
       "      <th>4</th>\n",
       "      <td>10 oz  Sirloin A</td>\n",
       "      <td>10.10</td>\n",
       "      <td>24</td>\n",
       "    </tr>\n",
       "    <tr>\n",
       "      <th>...</th>\n",
       "      <td>...</td>\n",
       "      <td>...</td>\n",
       "      <td>...</td>\n",
       "    </tr>\n",
       "    <tr>\n",
       "      <th>2603</th>\n",
       "      <td>9 oz T Tenderloin A</td>\n",
       "      <td>9.11</td>\n",
       "      <td>1</td>\n",
       "    </tr>\n",
       "    <tr>\n",
       "      <th>2604</th>\n",
       "      <td>9 oz T Tenderloin A</td>\n",
       "      <td>9.21</td>\n",
       "      <td>1</td>\n",
       "    </tr>\n",
       "    <tr>\n",
       "      <th>2605</th>\n",
       "      <td>9 oz T Tenderloin A</td>\n",
       "      <td>8.22</td>\n",
       "      <td>1</td>\n",
       "    </tr>\n",
       "    <tr>\n",
       "      <th>2606</th>\n",
       "      <td>9 oz T Tenderloin A</td>\n",
       "      <td>8.20</td>\n",
       "      <td>1</td>\n",
       "    </tr>\n",
       "    <tr>\n",
       "      <th>2607</th>\n",
       "      <td>9 oz T Tenderloin A</td>\n",
       "      <td>9.70</td>\n",
       "      <td>1</td>\n",
       "    </tr>\n",
       "  </tbody>\n",
       "</table>\n",
       "<p>2608 rows × 3 columns</p>\n",
       "</div>"
      ],
      "text/plain": [
       "             product_name  measured_weight  count\n",
       "0        10 oz  Sirloin A            10.00     41\n",
       "1        10 oz  Sirloin A             9.64     31\n",
       "2        10 oz  Sirloin A             9.84     28\n",
       "3        10 oz  Sirloin A             9.54     28\n",
       "4        10 oz  Sirloin A            10.10     24\n",
       "...                   ...              ...    ...\n",
       "2603  9 oz T Tenderloin A             9.11      1\n",
       "2604  9 oz T Tenderloin A             9.21      1\n",
       "2605  9 oz T Tenderloin A             8.22      1\n",
       "2606  9 oz T Tenderloin A             8.20      1\n",
       "2607  9 oz T Tenderloin A             9.70      1\n",
       "\n",
       "[2608 rows x 3 columns]"
      ]
     },
     "execution_count": 21,
     "metadata": {},
     "output_type": "execute_result"
    }
   ],
   "source": [
    "df.groupby('product_name')[['measured_weight']].value_counts().reset_index()"
   ]
  },
  {
   "cell_type": "code",
   "execution_count": 22,
   "metadata": {},
   "outputs": [],
   "source": [
    "prod_df = df.loc[df['product_name'] == unique_prods[0]]"
   ]
  },
  {
   "cell_type": "code",
   "execution_count": 60,
   "metadata": {},
   "outputs": [],
   "source": [
    "bot_bin = np.floor(prod_df['measured_weight'].min())\n",
    "top_bin = np.ceil(prod_df['measured_weight'].max())"
   ]
  },
  {
   "cell_type": "code",
   "execution_count": 61,
   "metadata": {},
   "outputs": [
    {
     "data": {
      "text/plain": [
       "9.0"
      ]
     },
     "execution_count": 61,
     "metadata": {},
     "output_type": "execute_result"
    }
   ],
   "source": [
    "bot_bin"
   ]
  },
  {
   "cell_type": "code",
   "execution_count": 62,
   "metadata": {},
   "outputs": [
    {
     "data": {
      "text/plain": [
       "11.0"
      ]
     },
     "execution_count": 62,
     "metadata": {},
     "output_type": "execute_result"
    }
   ],
   "source": [
    "top_bin "
   ]
  },
  {
   "cell_type": "code",
   "execution_count": 72,
   "metadata": {},
   "outputs": [],
   "source": [
    "bins = np.arange(bot_bin, top_bin + .25, .25)"
   ]
  },
  {
   "cell_type": "code",
   "execution_count": 73,
   "metadata": {},
   "outputs": [],
   "source": [
    "bins = list(map(lambda x: float(x), bins))"
   ]
  },
  {
   "cell_type": "code",
   "execution_count": 74,
   "metadata": {},
   "outputs": [
    {
     "data": {
      "text/plain": [
       "[9.0, 9.25, 9.5, 9.75, 10.0, 10.25, 10.5, 10.75, 11.0]"
      ]
     },
     "execution_count": 74,
     "metadata": {},
     "output_type": "execute_result"
    }
   ],
   "source": [
    "bins"
   ]
  },
  {
   "cell_type": "code",
   "execution_count": 75,
   "metadata": {},
   "outputs": [],
   "source": [
    "prod_df.loc[:, 'bins'] = pd.cut(prod_df['measured_weight'], bins=bins, labels=False)"
   ]
  },
  {
   "cell_type": "code",
   "execution_count": 86,
   "metadata": {},
   "outputs": [],
   "source": [
    "bin_counts = prod_df['bins'].value_counts().sort_index().values"
   ]
  },
  {
   "cell_type": "code",
   "execution_count": 87,
   "metadata": {},
   "outputs": [
    {
     "data": {
      "text/plain": [
       "array([ 22,  76, 213, 271, 109,   1,   1,   2], dtype=int64)"
      ]
     },
     "execution_count": 87,
     "metadata": {},
     "output_type": "execute_result"
    }
   ],
   "source": [
    "bin_counts"
   ]
  },
  {
   "cell_type": "code",
   "execution_count": 78,
   "metadata": {},
   "outputs": [
    {
     "data": {
      "text/plain": [
       "[9.0, 9.25, 9.5, 9.75, 10.0, 10.25, 10.5, 10.75, 11.0]"
      ]
     },
     "execution_count": 78,
     "metadata": {},
     "output_type": "execute_result"
    }
   ],
   "source": [
    "bins"
   ]
  },
  {
   "cell_type": "code",
   "execution_count": 70,
   "metadata": {},
   "outputs": [
    {
     "data": {
      "text/plain": [
       "'10 oz  Sirloin A'"
      ]
     },
     "execution_count": 70,
     "metadata": {},
     "output_type": "execute_result"
    }
   ],
   "source": [
    "unique_prods[0]"
   ]
  },
  {
   "cell_type": "code",
   "execution_count": 88,
   "metadata": {},
   "outputs": [
    {
     "data": {
      "text/plain": [
       "[9.0, 9.25, 9.5, 9.75, 10.0, 10.25, 10.5, 10.75]"
      ]
     },
     "execution_count": 88,
     "metadata": {},
     "output_type": "execute_result"
    }
   ],
   "source": [
    "x_bins = bins[:-1]\n",
    "x_bins"
   ]
  },
  {
   "cell_type": "code",
   "execution_count": 91,
   "metadata": {},
   "outputs": [
    {
     "name": "stderr",
     "output_type": "stream",
     "text": [
      "c:\\Users\\saad\\anaconda3\\Lib\\site-packages\\seaborn\\_oldcore.py:1119: FutureWarning: use_inf_as_na option is deprecated and will be removed in a future version. Convert inf values to NaN before operating instead.\n",
      "  with pd.option_context('mode.use_inf_as_na', True):\n"
     ]
    },
    {
     "data": {
      "text/plain": [
       "<Axes: ylabel='Count'>"
      ]
     },
     "execution_count": 91,
     "metadata": {},
     "output_type": "execute_result"
    },
    {
     "data": {
      "image/png": "[encoded data removed]",
      "text/plain": [
       "<Figure size 1000x600 with 1 Axes>"
      ]
     },
     "metadata": {},
     "output_type": "display_data"
    }
   ],
   "source": [
    "plt.figure(figsize=(10,6))\n",
    "seaborn.histplot(x=x_bins, weights=bin_counts, bins=len(x_bins))\n"
   ]
  },
  {
   "cell_type": "code",
   "execution_count": 19,
   "metadata": {},
   "outputs": [
    {
     "data": {
      "text/plain": [
       "695"
      ]
     },
     "execution_count": 19,
     "metadata": {},
     "output_type": "execute_result"
    }
   ],
   "source": [
    "grouped_df = df.groupby('product_name')['measured_weight'].value_counts().reset_index()\n",
    "grouped_df.loc[grouped_df['product_name'] == unique_prods[0]]['count'].sum()"
   ]
  },
  {
   "cell_type": "code",
   "execution_count": 3,
   "metadata": {},
   "outputs": [],
   "source": [
    "df2 = pd.read_csv('../data/cleaned/generic_butcher_spec_cleaned.csv')"
   ]
  },
  {
   "cell_type": "code",
   "execution_count": 9,
   "metadata": {},
   "outputs": [
    {
     "data": {
      "text/html": [
       "<div>\n",
       "<style scoped>\n",
       "    .dataframe tbody tr th:only-of-type {\n",
       "        vertical-align: middle;\n",
       "    }\n",
       "\n",
       "    .dataframe tbody tr th {\n",
       "        vertical-align: top;\n",
       "    }\n",
       "\n",
       "    .dataframe thead th {\n",
       "        text-align: right;\n",
       "    }\n",
       "</style>\n",
       "<table border=\"1\" class=\"dataframe\">\n",
       "  <thead>\n",
       "    <tr style=\"text-align: right;\">\n",
       "      <th></th>\n",
       "      <th>product_name</th>\n",
       "      <th>weight_min</th>\n",
       "      <th>weight_max</th>\n",
       "      <th>height_min</th>\n",
       "      <th>height_max</th>\n",
       "    </tr>\n",
       "  </thead>\n",
       "  <tbody>\n",
       "    <tr>\n",
       "      <th>0</th>\n",
       "      <td>10 oz  Sirloin A</td>\n",
       "      <td>9.12</td>\n",
       "      <td>10.12</td>\n",
       "      <td>1.1</td>\n",
       "      <td>1.75</td>\n",
       "    </tr>\n",
       "  </tbody>\n",
       "</table>\n",
       "</div>"
      ],
      "text/plain": [
       "       product_name  weight_min  weight_max  height_min  height_max\n",
       "0  10 oz  Sirloin A        9.12       10.12         1.1        1.75"
      ]
     },
     "execution_count": 9,
     "metadata": {},
     "output_type": "execute_result"
    }
   ],
   "source": [
    "current_prod = df2.loc[df2['product_name'] == unique_prods[0]]\n",
    "current_prod"
   ]
  },
  {
   "cell_type": "code",
   "execution_count": 12,
   "metadata": {},
   "outputs": [
    {
     "data": {
      "text/html": [
       "<div>\n",
       "<style scoped>\n",
       "    .dataframe tbody tr th:only-of-type {\n",
       "        vertical-align: middle;\n",
       "    }\n",
       "\n",
       "    .dataframe tbody tr th {\n",
       "        vertical-align: top;\n",
       "    }\n",
       "\n",
       "    .dataframe thead th {\n",
       "        text-align: right;\n",
       "    }\n",
       "</style>\n",
       "<table border=\"1\" class=\"dataframe\">\n",
       "  <thead>\n",
       "    <tr style=\"text-align: right;\">\n",
       "      <th></th>\n",
       "      <th>product_name</th>\n",
       "      <th>date_time</th>\n",
       "      <th>measured_weight</th>\n",
       "      <th>measured_height</th>\n",
       "    </tr>\n",
       "  </thead>\n",
       "  <tbody>\n",
       "    <tr>\n",
       "      <th>5036</th>\n",
       "      <td>10 oz  Sirloin A</td>\n",
       "      <td>2024-06-05 21:05:07</td>\n",
       "      <td>9.74</td>\n",
       "      <td>1.47718</td>\n",
       "    </tr>\n",
       "    <tr>\n",
       "      <th>5037</th>\n",
       "      <td>10 oz  Sirloin A</td>\n",
       "      <td>2024-06-05 21:05:13</td>\n",
       "      <td>9.82</td>\n",
       "      <td>1.33462</td>\n",
       "    </tr>\n",
       "    <tr>\n",
       "      <th>5038</th>\n",
       "      <td>10 oz  Sirloin A</td>\n",
       "      <td>2024-06-05 21:05:18</td>\n",
       "      <td>9.48</td>\n",
       "      <td>1.70458</td>\n",
       "    </tr>\n",
       "    <tr>\n",
       "      <th>5039</th>\n",
       "      <td>10 oz  Sirloin A</td>\n",
       "      <td>2024-06-05 21:05:24</td>\n",
       "      <td>9.70</td>\n",
       "      <td>1.30403</td>\n",
       "    </tr>\n",
       "    <tr>\n",
       "      <th>5040</th>\n",
       "      <td>10 oz  Sirloin A</td>\n",
       "      <td>2024-06-05 21:05:30</td>\n",
       "      <td>9.72</td>\n",
       "      <td>1.52521</td>\n",
       "    </tr>\n",
       "    <tr>\n",
       "      <th>...</th>\n",
       "      <td>...</td>\n",
       "      <td>...</td>\n",
       "      <td>...</td>\n",
       "      <td>...</td>\n",
       "    </tr>\n",
       "    <tr>\n",
       "      <th>32676</th>\n",
       "      <td>10 oz  Sirloin A</td>\n",
       "      <td>2024-06-27 19:20:56</td>\n",
       "      <td>9.20</td>\n",
       "      <td>1.30005</td>\n",
       "    </tr>\n",
       "    <tr>\n",
       "      <th>32677</th>\n",
       "      <td>10 oz  Sirloin A</td>\n",
       "      <td>2024-06-27 19:24:29</td>\n",
       "      <td>9.24</td>\n",
       "      <td>1.53207</td>\n",
       "    </tr>\n",
       "    <tr>\n",
       "      <th>32678</th>\n",
       "      <td>10 oz  Sirloin A</td>\n",
       "      <td>2024-06-27 19:24:35</td>\n",
       "      <td>9.26</td>\n",
       "      <td>1.34580</td>\n",
       "    </tr>\n",
       "    <tr>\n",
       "      <th>32679</th>\n",
       "      <td>10 oz  Sirloin A</td>\n",
       "      <td>2024-06-27 19:24:50</td>\n",
       "      <td>9.18</td>\n",
       "      <td>1.44220</td>\n",
       "    </tr>\n",
       "    <tr>\n",
       "      <th>32680</th>\n",
       "      <td>10 oz  Sirloin A</td>\n",
       "      <td>2024-06-27 19:25:04</td>\n",
       "      <td>9.16</td>\n",
       "      <td>1.30402</td>\n",
       "    </tr>\n",
       "  </tbody>\n",
       "</table>\n",
       "<p>695 rows × 4 columns</p>\n",
       "</div>"
      ],
      "text/plain": [
       "           product_name            date_time  measured_weight  measured_height\n",
       "5036   10 oz  Sirloin A  2024-06-05 21:05:07             9.74          1.47718\n",
       "5037   10 oz  Sirloin A  2024-06-05 21:05:13             9.82          1.33462\n",
       "5038   10 oz  Sirloin A  2024-06-05 21:05:18             9.48          1.70458\n",
       "5039   10 oz  Sirloin A  2024-06-05 21:05:24             9.70          1.30403\n",
       "5040   10 oz  Sirloin A  2024-06-05 21:05:30             9.72          1.52521\n",
       "...                 ...                  ...              ...              ...\n",
       "32676  10 oz  Sirloin A  2024-06-27 19:20:56             9.20          1.30005\n",
       "32677  10 oz  Sirloin A  2024-06-27 19:24:29             9.24          1.53207\n",
       "32678  10 oz  Sirloin A  2024-06-27 19:24:35             9.26          1.34580\n",
       "32679  10 oz  Sirloin A  2024-06-27 19:24:50             9.18          1.44220\n",
       "32680  10 oz  Sirloin A  2024-06-27 19:25:04             9.16          1.30402\n",
       "\n",
       "[695 rows x 4 columns]"
      ]
     },
     "execution_count": 12,
     "metadata": {},
     "output_type": "execute_result"
    }
   ],
   "source": [
    "product_A = df.loc[df['product_name'] == unique_prods[0]]\n",
    "product_A"
   ]
  },
  {
   "cell_type": "code",
   "execution_count": 70,
   "metadata": {},
   "outputs": [
    {
     "data": {
      "text/plain": [
       "11.0"
      ]
     },
     "execution_count": 70,
     "metadata": {},
     "output_type": "execute_result"
    }
   ],
   "source": [
    "product_A.loc[product_A['measured_weight'] > 50, 'measured_weight'] *= 0.01\n",
    "product_A.measured_weight.max()"
   ]
  },
  {
   "cell_type": "code",
   "execution_count": 20,
   "metadata": {},
   "outputs": [
    {
     "data": {
      "text/plain": [
       "(9.12, 9.765, 10.12)"
      ]
     },
     "execution_count": 20,
     "metadata": {},
     "output_type": "execute_result"
    }
   ],
   "source": [
    "min_goal = current_prod['weight_min'].values[0]\n",
    "max_goal = current_prod['weight_max'].values[0]\n",
    "avg_goal = round(product_A['measured_weight'].mean(), 3)\n",
    "min_goal, avg_goal, max_goal\n"
   ]
  },
  {
   "cell_type": "code",
   "execution_count": 34,
   "metadata": {},
   "outputs": [
    {
     "data": {
      "text/plain": [
       "(9.0, 11.0, 0.25)"
      ]
     },
     "execution_count": 34,
     "metadata": {},
     "output_type": "execute_result"
    }
   ],
   "source": [
    "bin_min = np.floor(product_A['measured_weight'].min())\n",
    "bin_max = np.ceil(product_A['measured_weight'].max())\n",
    "# bin_count = int((bin_max-bin_min)/(.25))\n",
    "bin_size = .25\n",
    "bin_min, bin_max, bin_size"
   ]
  },
  {
   "cell_type": "code",
   "execution_count": 55,
   "metadata": {},
   "outputs": [
    {
     "data": {
      "application/vnd.plotly.v1+json": {
       "config": {
        "plotlyServerURL": "https://plot.ly"
       },
       "data": [
        {
         "alignmentgroup": "True",
         "bingroup": "x",
         "hovertemplate": "measured_weight=%{x}<br>count=%{y}<extra></extra>",
         "legendgroup": "",
         "marker": {
          "color": "teal",
          "line": {
           "color": "DarkSlateGrey",
           "width": 1
          },
          "pattern": {
           "shape": ""
          }
         },
         "name": "",
         "offsetgroup": "",
         "orientation": "v",
         "showlegend": false,
         "type": "histogram",
         "x": [
          9.74,
          9.82,
          9.48,
          9.7,
          9.72,
          9.76,
          9.62,
          9.6,
          9.58,
          9.54,
          9.66,
          9.64,
          9.3,
          9.54,
          9.84,
          9.64,
          10,
          9.96,
          9.78,
          9.8,
          9.78,
          9.46,
          9.54,
          9.54,
          9.98,
          9.8,
          9.32,
          10.08,
          10.06,
          9.92,
          10.06,
          9.92,
          9.82,
          9.84,
          9.66,
          9.78,
          9.98,
          10.04,
          9.92,
          10.1,
          9.62,
          10.04,
          9.74,
          9.78,
          9.76,
          10.1,
          10.08,
          9.74,
          9.48,
          9.8,
          9.56,
          9.98,
          9.9,
          10.04,
          9.74,
          9.96,
          9.62,
          9.88,
          9.66,
          9.82,
          9.7,
          9.54,
          9.74,
          9.9,
          9.54,
          9.6,
          9.5,
          9.64,
          9.84,
          9.42,
          9.96,
          9.64,
          10.1,
          10.08,
          9.98,
          9.8,
          10.06,
          9.68,
          10,
          9.94,
          9.68,
          9.96,
          9.54,
          9.9,
          9.56,
          10.06,
          9.84,
          9.42,
          9.64,
          9.54,
          9.8,
          9.94,
          10.06,
          9.6,
          9.46,
          9.46,
          9.96,
          9.46,
          9.68,
          9.82,
          9.68,
          9.18,
          10.02,
          10.04,
          10.18,
          10,
          10.02,
          9.64,
          9.46,
          9.85,
          10.08,
          9.64,
          9.36,
          9.42,
          9.48,
          9.78,
          9.6,
          9.62,
          9.42,
          9.18,
          9.64,
          9.66,
          9.82,
          9.84,
          9.52,
          9.54,
          9.6,
          9.82,
          9.62,
          9.42,
          9.32,
          9.9,
          9.96,
          9.42,
          9.2,
          9.6,
          9.84,
          9.36,
          9.68,
          9.9,
          9.92,
          10.02,
          10,
          9.64,
          9.62,
          9.36,
          9.6,
          9.54,
          9.96,
          9.92,
          9.46,
          9.36,
          9.44,
          9.6,
          9.52,
          9.9,
          10.08,
          10.04,
          9.62,
          9.94,
          9.84,
          9.62,
          9.54,
          9.36,
          9.42,
          9.46,
          9.86,
          9.94,
          9.86,
          10.1,
          10,
          10.04,
          9.96,
          10.02,
          10,
          9.86,
          10.09,
          10.08,
          9.64,
          10.04,
          10.1,
          9.62,
          10.06,
          9.84,
          10.04,
          9.54,
          9.98,
          10.06,
          9.84,
          9.96,
          9.8,
          9.86,
          9.9,
          9.54,
          9.58,
          9.36,
          9.84,
          9.7,
          9.62,
          9.64,
          9.87,
          10.04,
          10.1,
          9.64,
          9.32,
          9.22,
          9.6,
          9.54,
          9.54,
          9.6,
          9.84,
          9.9,
          9.96,
          9.9,
          9.96,
          9.92,
          9.56,
          10,
          9.56,
          10.1,
          9.84,
          10.1,
          9.76,
          9.78,
          10.11,
          9.94,
          10.02,
          9.58,
          9.84,
          10.04,
          9.8,
          9.64,
          9.78,
          9.74,
          9.78,
          10.1,
          9.64,
          9.92,
          9.52,
          10.1,
          9.48,
          9.94,
          9.72,
          10.08,
          9.86,
          10.1,
          9.64,
          10.06,
          9.68,
          9.62,
          10.1,
          9.76,
          10.1,
          9.76,
          10.08,
          9.96,
          9.98,
          9.84,
          10.08,
          9.78,
          9.72,
          9.54,
          10.08,
          9.72,
          9.98,
          10.06,
          9.82,
          9.66,
          10.08,
          10.11,
          9.7,
          9.86,
          10.08,
          9.98,
          9.24,
          9.56,
          9.88,
          10.02,
          9.9,
          9.42,
          9.4,
          10.02,
          9.7,
          10,
          9.76,
          10.08,
          10,
          9.96,
          9.82,
          9.42,
          10,
          10.02,
          9.66,
          9.72,
          9.8,
          10,
          9.62,
          10,
          9.84,
          10.06,
          9.94,
          10.04,
          9.98,
          9.82,
          9.36,
          9.42,
          9.54,
          9.56,
          9.7,
          9.92,
          10.08,
          10.1,
          10.1,
          10.06,
          9.98,
          10.02,
          9.78,
          10.1,
          10.02,
          9.94,
          10.06,
          10,
          10.02,
          10.06,
          9.98,
          9.98,
          9.84,
          9.64,
          9.92,
          9.9,
          9.98,
          10,
          9.94,
          9.88,
          10.1,
          9.84,
          10,
          9.9,
          9.92,
          9.82,
          9.74,
          9.98,
          10,
          10.04,
          10,
          9.92,
          10.08,
          9.84,
          9.64,
          9.86,
          10.02,
          9.82,
          9.48,
          9.24,
          9.8,
          9.64,
          9.52,
          9.64,
          9.86,
          9.84,
          9.54,
          9.72,
          9.56,
          9.64,
          9.88,
          10.11,
          9.8,
          9.86,
          9.72,
          9.48,
          9.24,
          9.2,
          9.56,
          9.62,
          9.48,
          9.26,
          9.3,
          9.56,
          9.28,
          9.64,
          9.8,
          9.54,
          9.62,
          9.26,
          9.52,
          9.56,
          9.62,
          9.56,
          9.98,
          9.92,
          9.58,
          10,
          10.02,
          10.56,
          10.82,
          10,
          10,
          9.98,
          9.92,
          10.34,
          9.84,
          9.7,
          9.34,
          9.42,
          9.84,
          9.94,
          10,
          10.06,
          9.86,
          10.02,
          9.62,
          10,
          9.82,
          9.56,
          9.64,
          9.54,
          9.84,
          9.68,
          9.84,
          9.92,
          9.76,
          9.62,
          10,
          9.64,
          9.8,
          10.02,
          9.84,
          9.54,
          9.6,
          9.54,
          9.34,
          9.42,
          9.56,
          10.04,
          10.06,
          10,
          9.84,
          9.56,
          9.68,
          9.9,
          9.92,
          9.62,
          9.98,
          9.9,
          9.8,
          9.82,
          9.6,
          10,
          9.88,
          10,
          10.06,
          9.6,
          9.72,
          9.82,
          9.52,
          10.06,
          9.92,
          9.54,
          9.8,
          9.7,
          9.76,
          9.66,
          9.92,
          10,
          9.82,
          9.56,
          9.74,
          9.62,
          9.66,
          9.8,
          9.74,
          9.88,
          10,
          9.42,
          9.82,
          9.76,
          10.06,
          9.64,
          9.62,
          10,
          10.02,
          9.98,
          9.76,
          9.44,
          9.86,
          9.68,
          9.52,
          9.94,
          9.96,
          9.86,
          9.34,
          9.66,
          9.56,
          10.1,
          9.88,
          10.1,
          9.98,
          9.86,
          10.12,
          9.2,
          10.1,
          9.86,
          9.62,
          9.68,
          9.88,
          9.5,
          9.74,
          9.92,
          9.56,
          10,
          9.68,
          9.86,
          10,
          10.08,
          9.88,
          10.1,
          10,
          9.88,
          9.9,
          10.08,
          9.14,
          10.06,
          10.02,
          9.22,
          9.78,
          10.04,
          9.58,
          9.3,
          9.36,
          9.4,
          9.42,
          9.32,
          9.34,
          9.8,
          9.98,
          9.6,
          9.94,
          9.36,
          9.84,
          9.66,
          9.54,
          9.2,
          9.68,
          9.56,
          9.62,
          9.28,
          10,
          9.64,
          9.9,
          10,
          10.02,
          10.08,
          9.94,
          9.88,
          9.76,
          9.36,
          9.42,
          9.6,
          11,
          9.88,
          9.76,
          9.82,
          9.9,
          9.88,
          9.44,
          9.78,
          9.52,
          9.82,
          9.58,
          9.42,
          9.52,
          9.32,
          9.56,
          9.58,
          9.7,
          9.34,
          9.38,
          9.4,
          9.16,
          9.56,
          9.8,
          9.76,
          9.78,
          9.64,
          9.9,
          9.88,
          9.54,
          9.9,
          9.2,
          9.76,
          9.84,
          9.8,
          9.5,
          10,
          10,
          9.46,
          9.74,
          10.02,
          10.04,
          9.66,
          10,
          9.86,
          9.58,
          10.04,
          9.66,
          9.74,
          9.76,
          10.08,
          9.54,
          10.02,
          10.1,
          9.68,
          9.96,
          9.62,
          9.74,
          9.78,
          9.96,
          9.74,
          9.82,
          9.44,
          9.72,
          9.76,
          10.06,
          9.7,
          9.68,
          10.1,
          9.64,
          10,
          10.06,
          9.84,
          9.82,
          9.78,
          9.74,
          9.72,
          9.2,
          9.76,
          9.48,
          9.94,
          9.74,
          9.64,
          10.06,
          10.1,
          9.94,
          9.54,
          9.7,
          9.96,
          9.74,
          9.76,
          9.88,
          9.54,
          9.96,
          9.7,
          9.64,
          10,
          9.64,
          9.52,
          9.98,
          9.52,
          10,
          9.22,
          9.44,
          10.06,
          9.58,
          9.66,
          9.64,
          9.46,
          9.82,
          9.56,
          9.68,
          9.72,
          9.7,
          9.88,
          9.34,
          9.78,
          9.14,
          9.2,
          9.46,
          9.52,
          9.8,
          9.78,
          10,
          10.02,
          9.58,
          9.7,
          9.92,
          9.56,
          9.44,
          9.96,
          9.74,
          9.72,
          9.2,
          9.24,
          9.26,
          9.18,
          9.16
         ],
         "xaxis": "x",
         "xbins": {
          "end": 11,
          "size": 0.25,
          "start": 9
         },
         "yaxis": "y"
        }
       ],
       "layout": {
        "barmode": "relative",
        "height": 600,
        "legend": {
         "tracegroupgap": 0
        },
        "margin": {
         "t": 60
        },
        "shapes": [
         {
          "line": {
           "color": "red",
           "dash": "solid"
          },
          "type": "line",
          "x0": 9.12,
          "x1": 9.12,
          "xref": "x",
          "y0": 0,
          "y1": 1,
          "yref": "y domain"
         },
         {
          "line": {
           "color": "red",
           "dash": "solid"
          },
          "type": "line",
          "x0": 10.12,
          "x1": 10.12,
          "xref": "x",
          "y0": 0,
          "y1": 1,
          "yref": "y domain"
         },
         {
          "line": {
           "color": "blue",
           "dash": "longdash"
          },
          "type": "line",
          "x0": 9.765,
          "x1": 9.765,
          "xref": "x",
          "y0": 0,
          "y1": 1,
          "yref": "y domain"
         }
        ],
        "template": {
         "data": {
          "bar": [
           {
            "error_x": {
             "color": "#2a3f5f"
            },
            "error_y": {
             "color": "#2a3f5f"
            },
            "marker": {
             "line": {
              "color": "#E5ECF6",
              "width": 0.5
             },
             "pattern": {
              "fillmode": "overlay",
              "size": 10,
              "solidity": 0.2
             }
            },
            "type": "bar"
           }
          ],
          "barpolar": [
           {
            "marker": {
             "line": {
              "color": "#E5ECF6",
              "width": 0.5
             },
             "pattern": {
              "fillmode": "overlay",
              "size": 10,
              "solidity": 0.2
             }
            },
            "type": "barpolar"
           }
          ],
          "carpet": [
           {
            "aaxis": {
             "endlinecolor": "#2a3f5f",
             "gridcolor": "white",
             "linecolor": "white",
             "minorgridcolor": "white",
             "startlinecolor": "#2a3f5f"
            },
            "baxis": {
             "endlinecolor": "#2a3f5f",
             "gridcolor": "white",
             "linecolor": "white",
             "minorgridcolor": "white",
             "startlinecolor": "#2a3f5f"
            },
            "type": "carpet"
           }
          ],
          "choropleth": [
           {
            "colorbar": {
             "outlinewidth": 0,
             "ticks": ""
            },
            "type": "choropleth"
           }
          ],
          "contour": [
           {
            "colorbar": {
             "outlinewidth": 0,
             "ticks": ""
            },
            "colorscale": [
             [
              0,
              "#0d0887"
             ],
             [
              0.1111111111111111,
              "#46039f"
             ],
             [
              0.2222222222222222,
              "#7201a8"
             ],
             [
              0.3333333333333333,
              "#9c179e"
             ],
             [
              0.4444444444444444,
              "#bd3786"
             ],
             [
              0.5555555555555556,
              "#d8576b"
             ],
             [
              0.6666666666666666,
              "#ed7953"
             ],
             [
              0.7777777777777778,
              "#fb9f3a"
             ],
             [
              0.8888888888888888,
              "#fdca26"
             ],
             [
              1,
              "#f0f921"
             ]
            ],
            "type": "contour"
           }
          ],
          "contourcarpet": [
           {
            "colorbar": {
             "outlinewidth": 0,
             "ticks": ""
            },
            "type": "contourcarpet"
           }
          ],
          "heatmap": [
           {
            "colorbar": {
             "outlinewidth": 0,
             "ticks": ""
            },
            "colorscale": [
             [
              0,
              "#0d0887"
             ],
             [
              0.1111111111111111,
              "#46039f"
             ],
             [
              0.2222222222222222,
              "#7201a8"
             ],
             [
              0.3333333333333333,
              "#9c179e"
             ],
             [
              0.4444444444444444,
              "#bd3786"
             ],
             [
              0.5555555555555556,
              "#d8576b"
             ],
             [
              0.6666666666666666,
              "#ed7953"
             ],
             [
              0.7777777777777778,
              "#fb9f3a"
             ],
             [
              0.8888888888888888,
              "#fdca26"
             ],
             [
              1,
              "#f0f921"
             ]
            ],
            "type": "heatmap"
           }
          ],
          "heatmapgl": [
           {
            "colorbar": {
             "outlinewidth": 0,
             "ticks": ""
            },
            "colorscale": [
             [
              0,
              "#0d0887"
             ],
             [
              0.1111111111111111,
              "#46039f"
             ],
             [
              0.2222222222222222,
              "#7201a8"
             ],
             [
              0.3333333333333333,
              "#9c179e"
             ],
             [
              0.4444444444444444,
              "#bd3786"
             ],
             [
              0.5555555555555556,
              "#d8576b"
             ],
             [
              0.6666666666666666,
              "#ed7953"
             ],
             [
              0.7777777777777778,
              "#fb9f3a"
             ],
             [
              0.8888888888888888,
              "#fdca26"
             ],
             [
              1,
              "#f0f921"
             ]
            ],
            "type": "heatmapgl"
           }
          ],
          "histogram": [
           {
            "marker": {
             "pattern": {
              "fillmode": "overlay",
              "size": 10,
              "solidity": 0.2
             }
            },
            "type": "histogram"
           }
          ],
          "histogram2d": [
           {
            "colorbar": {
             "outlinewidth": 0,
             "ticks": ""
            },
            "colorscale": [
             [
              0,
              "#0d0887"
             ],
             [
              0.1111111111111111,
              "#46039f"
             ],
             [
              0.2222222222222222,
              "#7201a8"
             ],
             [
              0.3333333333333333,
              "#9c179e"
             ],
             [
              0.4444444444444444,
              "#bd3786"
             ],
             [
              0.5555555555555556,
              "#d8576b"
             ],
             [
              0.6666666666666666,
              "#ed7953"
             ],
             [
              0.7777777777777778,
              "#fb9f3a"
             ],
             [
              0.8888888888888888,
              "#fdca26"
             ],
             [
              1,
              "#f0f921"
             ]
            ],
            "type": "histogram2d"
           }
          ],
          "histogram2dcontour": [
           {
            "colorbar": {
             "outlinewidth": 0,
             "ticks": ""
            },
            "colorscale": [
             [
              0,
              "#0d0887"
             ],
             [
              0.1111111111111111,
              "#46039f"
             ],
             [
              0.2222222222222222,
              "#7201a8"
             ],
             [
              0.3333333333333333,
              "#9c179e"
             ],
             [
              0.4444444444444444,
              "#bd3786"
             ],
             [
              0.5555555555555556,
              "#d8576b"
             ],
             [
              0.6666666666666666,
              "#ed7953"
             ],
             [
              0.7777777777777778,
              "#fb9f3a"
             ],
             [
              0.8888888888888888,
              "#fdca26"
             ],
             [
              1,
              "#f0f921"
             ]
            ],
            "type": "histogram2dcontour"
           }
          ],
          "mesh3d": [
           {
            "colorbar": {
             "outlinewidth": 0,
             "ticks": ""
            },
            "type": "mesh3d"
           }
          ],
          "parcoords": [
           {
            "line": {
             "colorbar": {
              "outlinewidth": 0,
              "ticks": ""
             }
            },
            "type": "parcoords"
           }
          ],
          "pie": [
           {
            "automargin": true,
            "type": "pie"
           }
          ],
          "scatter": [
           {
            "fillpattern": {
             "fillmode": "overlay",
             "size": 10,
             "solidity": 0.2
            },
            "type": "scatter"
           }
          ],
          "scatter3d": [
           {
            "line": {
             "colorbar": {
              "outlinewidth": 0,
              "ticks": ""
             }
            },
            "marker": {
             "colorbar": {
              "outlinewidth": 0,
              "ticks": ""
             }
            },
            "type": "scatter3d"
           }
          ],
          "scattercarpet": [
           {
            "marker": {
             "colorbar": {
              "outlinewidth": 0,
              "ticks": ""
             }
            },
            "type": "scattercarpet"
           }
          ],
          "scattergeo": [
           {
            "marker": {
             "colorbar": {
              "outlinewidth": 0,
              "ticks": ""
             }
            },
            "type": "scattergeo"
           }
          ],
          "scattergl": [
           {
            "marker": {
             "colorbar": {
              "outlinewidth": 0,
              "ticks": ""
             }
            },
            "type": "scattergl"
           }
          ],
          "scattermapbox": [
           {
            "marker": {
             "colorbar": {
              "outlinewidth": 0,
              "ticks": ""
             }
            },
            "type": "scattermapbox"
           }
          ],
          "scatterpolar": [
           {
            "marker": {
             "colorbar": {
              "outlinewidth": 0,
              "ticks": ""
             }
            },
            "type": "scatterpolar"
           }
          ],
          "scatterpolargl": [
           {
            "marker": {
             "colorbar": {
              "outlinewidth": 0,
              "ticks": ""
             }
            },
            "type": "scatterpolargl"
           }
          ],
          "scatterternary": [
           {
            "marker": {
             "colorbar": {
              "outlinewidth": 0,
              "ticks": ""
             }
            },
            "type": "scatterternary"
           }
          ],
          "surface": [
           {
            "colorbar": {
             "outlinewidth": 0,
             "ticks": ""
            },
            "colorscale": [
             [
              0,
              "#0d0887"
             ],
             [
              0.1111111111111111,
              "#46039f"
             ],
             [
              0.2222222222222222,
              "#7201a8"
             ],
             [
              0.3333333333333333,
              "#9c179e"
             ],
             [
              0.4444444444444444,
              "#bd3786"
             ],
             [
              0.5555555555555556,
              "#d8576b"
             ],
             [
              0.6666666666666666,
              "#ed7953"
             ],
             [
              0.7777777777777778,
              "#fb9f3a"
             ],
             [
              0.8888888888888888,
              "#fdca26"
             ],
             [
              1,
              "#f0f921"
             ]
            ],
            "type": "surface"
           }
          ],
          "table": [
           {
            "cells": {
             "fill": {
              "color": "#EBF0F8"
             },
             "line": {
              "color": "white"
             }
            },
            "header": {
             "fill": {
              "color": "#C8D4E3"
             },
             "line": {
              "color": "white"
             }
            },
            "type": "table"
           }
          ]
         },
         "layout": {
          "annotationdefaults": {
           "arrowcolor": "#2a3f5f",
           "arrowhead": 0,
           "arrowwidth": 1
          },
          "autotypenumbers": "strict",
          "coloraxis": {
           "colorbar": {
            "outlinewidth": 0,
            "ticks": ""
           }
          },
          "colorscale": {
           "diverging": [
            [
             0,
             "#8e0152"
            ],
            [
             0.1,
             "#c51b7d"
            ],
            [
             0.2,
             "#de77ae"
            ],
            [
             0.3,
             "#f1b6da"
            ],
            [
             0.4,
             "#fde0ef"
            ],
            [
             0.5,
             "#f7f7f7"
            ],
            [
             0.6,
             "#e6f5d0"
            ],
            [
             0.7,
             "#b8e186"
            ],
            [
             0.8,
             "#7fbc41"
            ],
            [
             0.9,
             "#4d9221"
            ],
            [
             1,
             "#276419"
            ]
           ],
           "sequential": [
            [
             0,
             "#0d0887"
            ],
            [
             0.1111111111111111,
             "#46039f"
            ],
            [
             0.2222222222222222,
             "#7201a8"
            ],
            [
             0.3333333333333333,
             "#9c179e"
            ],
            [
             0.4444444444444444,
             "#bd3786"
            ],
            [
             0.5555555555555556,
             "#d8576b"
            ],
            [
             0.6666666666666666,
             "#ed7953"
            ],
            [
             0.7777777777777778,
             "#fb9f3a"
            ],
            [
             0.8888888888888888,
             "#fdca26"
            ],
            [
             1,
             "#f0f921"
            ]
           ],
           "sequentialminus": [
            [
             0,
             "#0d0887"
            ],
            [
             0.1111111111111111,
             "#46039f"
            ],
            [
             0.2222222222222222,
             "#7201a8"
            ],
            [
             0.3333333333333333,
             "#9c179e"
            ],
            [
             0.4444444444444444,
             "#bd3786"
            ],
            [
             0.5555555555555556,
             "#d8576b"
            ],
            [
             0.6666666666666666,
             "#ed7953"
            ],
            [
             0.7777777777777778,
             "#fb9f3a"
            ],
            [
             0.8888888888888888,
             "#fdca26"
            ],
            [
             1,
             "#f0f921"
            ]
           ]
          },
          "colorway": [
           "#636efa",
           "#EF553B",
           "#00cc96",
           "#ab63fa",
           "#FFA15A",
           "#19d3f3",
           "#FF6692",
           "#B6E880",
           "#FF97FF",
           "#FECB52"
          ],
          "font": {
           "color": "#2a3f5f"
          },
          "geo": {
           "bgcolor": "white",
           "lakecolor": "white",
           "landcolor": "#E5ECF6",
           "showlakes": true,
           "showland": true,
           "subunitcolor": "white"
          },
          "hoverlabel": {
           "align": "left"
          },
          "hovermode": "closest",
          "mapbox": {
           "style": "light"
          },
          "paper_bgcolor": "white",
          "plot_bgcolor": "#E5ECF6",
          "polar": {
           "angularaxis": {
            "gridcolor": "white",
            "linecolor": "white",
            "ticks": ""
           },
           "bgcolor": "#E5ECF6",
           "radialaxis": {
            "gridcolor": "white",
            "linecolor": "white",
            "ticks": ""
           }
          },
          "scene": {
           "xaxis": {
            "backgroundcolor": "#E5ECF6",
            "gridcolor": "white",
            "gridwidth": 2,
            "linecolor": "white",
            "showbackground": true,
            "ticks": "",
            "zerolinecolor": "white"
           },
           "yaxis": {
            "backgroundcolor": "#E5ECF6",
            "gridcolor": "white",
            "gridwidth": 2,
            "linecolor": "white",
            "showbackground": true,
            "ticks": "",
            "zerolinecolor": "white"
           },
           "zaxis": {
            "backgroundcolor": "#E5ECF6",
            "gridcolor": "white",
            "gridwidth": 2,
            "linecolor": "white",
            "showbackground": true,
            "ticks": "",
            "zerolinecolor": "white"
           }
          },
          "shapedefaults": {
           "line": {
            "color": "#2a3f5f"
           }
          },
          "ternary": {
           "aaxis": {
            "gridcolor": "white",
            "linecolor": "white",
            "ticks": ""
           },
           "baxis": {
            "gridcolor": "white",
            "linecolor": "white",
            "ticks": ""
           },
           "bgcolor": "#E5ECF6",
           "caxis": {
            "gridcolor": "white",
            "linecolor": "white",
            "ticks": ""
           }
          },
          "title": {
           "x": 0.05
          },
          "xaxis": {
           "automargin": true,
           "gridcolor": "white",
           "linecolor": "white",
           "ticks": "",
           "title": {
            "standoff": 15
           },
           "zerolinecolor": "white",
           "zerolinewidth": 2
          },
          "yaxis": {
           "automargin": true,
           "gridcolor": "white",
           "linecolor": "white",
           "ticks": "",
           "title": {
            "standoff": 15
           },
           "zerolinecolor": "white",
           "zerolinewidth": 2
          }
         }
        },
        "title": {
         "text": "Histogram of Measured Weight with Goals"
        },
        "width": 800,
        "xaxis": {
         "anchor": "y",
         "domain": [
          0,
          1
         ],
         "title": {
          "text": "Measured Weight"
         }
        },
        "yaxis": {
         "anchor": "x",
         "domain": [
          0,
          1
         ],
         "title": {
          "text": "Count"
         }
        }
       }
      }
     },
     "metadata": {},
     "output_type": "display_data"
    }
   ],
   "source": [
    "fig = px.histogram(product_A, x='measured_weight')\n",
    "fig.add_vline(x=min_goal, line_dash='solid', line_color='red')\n",
    "fig.add_vline(x=max_goal, line_dash='solid', line_color='red')\n",
    "fig.add_vline(x=avg_goal, line_dash='longdash', line_color='blue')\n",
    "\n",
    "fig.update_layout(\n",
    "    width=800,\n",
    "    height=600,\n",
    "    title='Histogram of Measured Weight with Goals',\n",
    "    xaxis_title='Measured Weight',\n",
    "    yaxis_title='Count',\n",
    ")\n",
    "\n",
    "fig.update_traces(marker=dict(color='teal', line=dict(width=1, color='DarkSlateGrey')))\n",
    "\n",
    "fig.update_traces(xbins=dict(\n",
    "    start=bin_min,\n",
    "    end=bin_max,\n",
    "    size=bin_size\n",
    "))\n",
    "fig.show()\n"
   ]
  },
  {
   "cell_type": "code",
   "execution_count": null,
   "metadata": {},
   "outputs": [],
   "source": []
  }
 ],
 "metadata": {
  "kernelspec": {
   "display_name": "base",
   "language": "python",
   "name": "python3"
  },
  "language_info": {
   "codemirror_mode": {
    "name": "ipython",
    "version": 3
   },
   "file_extension": ".py",
   "mimetype": "text/x-python",
   "name": "python",
   "nbconvert_exporter": "python",
   "pygments_lexer": "ipython3",
   "version": "3.11.7"
  }
 },
 "nbformat": 4,
 "nbformat_minor": 2
}
