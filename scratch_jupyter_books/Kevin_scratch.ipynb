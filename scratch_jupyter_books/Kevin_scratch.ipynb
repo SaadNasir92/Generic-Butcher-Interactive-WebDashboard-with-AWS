{
 "cells": [
  {
   "cell_type": "code",
   "execution_count": 353,
   "id": "42e78bf6-a60b-4d85-a4a3-8d33f91a7045",
   "metadata": {},
   "outputs": [],
   "source": [
    "import os\n",
    "import pandas as pd\n",
    "import matplotlib.pyplot as plt\n",
    "import requests\n",
    "import json\n",
    "import csv\n",
    "import scipy.stats as st\n",
    "import seaborn as sns\n",
    "import numpy as np"
   ]
  },
  {
   "cell_type": "code",
   "execution_count": 364,
   "id": "703a57f7-18ad-47e2-be88-89d7fe3f9e65",
   "metadata": {},
   "outputs": [
    {
     "data": {
      "text/html": [
       "<div>\n",
       "<style scoped>\n",
       "    .dataframe tbody tr th:only-of-type {\n",
       "        vertical-align: middle;\n",
       "    }\n",
       "\n",
       "    .dataframe tbody tr th {\n",
       "        vertical-align: top;\n",
       "    }\n",
       "\n",
       "    .dataframe thead th {\n",
       "        text-align: right;\n",
       "    }\n",
       "</style>\n",
       "<table border=\"1\" class=\"dataframe\">\n",
       "  <thead>\n",
       "    <tr style=\"text-align: right;\">\n",
       "      <th></th>\n",
       "      <th>product_name</th>\n",
       "      <th>date_time</th>\n",
       "      <th>measured_weight</th>\n",
       "      <th>measured_height</th>\n",
       "    </tr>\n",
       "  </thead>\n",
       "  <tbody>\n",
       "    <tr>\n",
       "      <th>0</th>\n",
       "      <td>13 oz  Ribeye Tail A</td>\n",
       "      <td>2024-06-03 07:16:28</td>\n",
       "      <td>16.76</td>\n",
       "      <td>1.62952</td>\n",
       "    </tr>\n",
       "    <tr>\n",
       "      <th>1</th>\n",
       "      <td>13 oz  Ribeye Tail A</td>\n",
       "      <td>2024-06-03 07:16:47</td>\n",
       "      <td>16.12</td>\n",
       "      <td>1.02086</td>\n",
       "    </tr>\n",
       "  </tbody>\n",
       "</table>\n",
       "</div>"
      ],
      "text/plain": [
       "           product_name            date_time  measured_weight  measured_height\n",
       "0  13 oz  Ribeye Tail A  2024-06-03 07:16:28            16.76          1.62952\n",
       "1  13 oz  Ribeye Tail A  2024-06-03 07:16:47            16.12          1.02086"
      ]
     },
     "execution_count": 364,
     "metadata": {},
     "output_type": "execute_result"
    }
   ],
   "source": [
    "# Specify the file path\n",
    "file_path = '../data/cleaned/generic_butcher_cleaned.csv'\n",
    "\n",
    "# Read the CSV file into a DataFrame\n",
    "df = pd.read_csv(file_path)\n",
    "\n",
    "# Display the DataFrame\n",
    "df.head(2)"
   ]
  },
  {
   "cell_type": "code",
   "execution_count": 363,
   "id": "d7dee15a-34da-4948-9c18-8f203f5d4f6d",
   "metadata": {},
   "outputs": [],
   "source": [
    "file_path2 = '../data/cleaned/generic_butcher_spec_cleaned.csv'\n",
    "\n",
    "# Read the CSV file into a DataFrame\n",
    "df2 = pd.read_csv(file_path2)"
   ]
  },
  {
   "cell_type": "code",
   "execution_count": 356,
   "id": "fdf651da-5089-412e-9aa5-f95223b0a1b1",
   "metadata": {},
   "outputs": [],
   "source": [
    "#separate 1 product from remainder \n",
    "#find stdev, mean, max, and min throw into chart (will serve this with the histgram)\n",
    "#determine bin widths\n",
    "#determine max/ min of x axis (dynamic)\n",
    "#min/max of y axis (dynamic)\n",
    "#create variables of mean and the specs to throw vertical lines to the x-axis\n",
    "    #this means merging tables###\n",
    "#find outliers"
   ]
  },
  {
   "cell_type": "code",
   "execution_count": 357,
   "id": "2fefe751",
   "metadata": {},
   "outputs": [
    {
     "data": {
      "text/plain": [
       "0             10 oz  Sirloin A\n",
       "1             11 oz  Sirloin B\n",
       "2             11 oz  Sirloin C\n",
       "3         13 oz  Ribeye Tail A\n",
       "4               16 oz  Strip A\n",
       "5      16 oz  Dry Age Ribeye A\n",
       "6         16 oz  Prime Strip A\n",
       "7         16 oz  Ribeye Tail A\n",
       "8              18 oz  Ribeye A\n",
       "9        20 oz  Prime Ribeye A\n",
       "10        22 oz  Porterhouse A\n",
       "11        3.5 oz Tender Bits A\n",
       "12    4 oz T Tenderloin Tail A\n",
       "13            5 oz S Sirloin A\n",
       "14            5 oz S Sirloin B\n",
       "15            6 oz S Sirloin A\n",
       "16            6 oz S Sirloin B\n",
       "17         6 oz T Tenderloin A\n",
       "18            7 oz S Sirloin A\n",
       "19            7 oz S Sirloin B\n",
       "20         7 oz T Tenderloin A\n",
       "21          8 oz P Pork Chop A\n",
       "22            8 oz S Sirloin A\n",
       "23            8 oz S Sirloin B\n",
       "24         8 oz T Tenderloin A\n",
       "25            9 oz S Sirloin A\n",
       "26         9 oz T Tenderloin A\n",
       "Name: product_name, dtype: object"
      ]
     },
     "execution_count": 357,
     "metadata": {},
     "output_type": "execute_result"
    }
   ],
   "source": [
    "df2['product_name']"
   ]
  },
  {
   "cell_type": "code",
   "execution_count": 352,
   "id": "83ce225c-4287-47dc-b472-eb94e0df43a0",
   "metadata": {},
   "outputs": [],
   "source": [
    "# product = product[[\"product_name\",\"date_time\",\"measured_weight\"]]\n",
    "# drop_data = product.loc[product['measured_weight']>=50].index\n",
    "# product = product.drop(drop_data)"
   ]
  },
  {
   "cell_type": "code",
   "execution_count": 359,
   "id": "838f3437-d7cc-4ba3-8efb-53501bfebb0a",
   "metadata": {},
   "outputs": [],
   "source": [
    "def weight_histogram(product_name):\n",
    "\n",
    "    product_data = df.loc[df[\"product_name\"] == product_name]\n",
    "    product=product_data.copy()\n",
    "    \n",
    "    min_wt = np.min(product['measured_weight'])\n",
    "    max_wt = np.max(product['measured_weight'])\n",
    "\n",
    "    binmin = np.floor(min_wt)\n",
    "    binmax = np.ceil(max_wt)\n",
    "\n",
    "    l_limit = df2.loc[df2['product_name']==product_name,'weight_min']\n",
    "    u_limit = df2.loc[df2['product_name']==product_name,'weight_max']\n",
    "\n",
    "    weight_min_spec = (df2.loc[df2['product_name']==product_name,'weight_min']).iloc[0]\n",
    "    weight_max_spec = (df2.loc[df2['product_name']==product_name,'weight_max']).iloc[0]\n",
    "    weight_avg = np.mean(product['measured_weight'])\n",
    "\n",
    "    num_bins = int((binmax-binmin)*(1/.25))\n",
    "\n",
    "    product = product['measured_weight']\n",
    "\n",
    "    plt.figure(figsize=(10,6))\n",
    "    plt.hist(product,bins=num_bins)\n",
    "    plt.axvline(weight_avg, color=\"green\", linewidth= 3)\n",
    "    plt.axvline(weight_min_spec, color=\"red\")\n",
    "    plt.axvline(weight_max_spec, color=\"red\")\n",
    "    plt.title(product_name)\n",
    "    plt.show()"
   ]
  }
 ],
 "metadata": {
  "kernelspec": {
   "display_name": "Python 3 (ipykernel)",
   "language": "python",
   "name": "python3"
  },
  "language_info": {
   "codemirror_mode": {
    "name": "ipython",
    "version": 3
   },
   "file_extension": ".py",
   "mimetype": "text/x-python",
   "name": "python",
   "nbconvert_exporter": "python",
   "pygments_lexer": "ipython3",
   "version": "3.11.7"
  }
 },
 "nbformat": 4,
 "nbformat_minor": 5
}
