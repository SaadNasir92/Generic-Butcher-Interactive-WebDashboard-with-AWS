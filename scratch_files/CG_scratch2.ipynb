{
 "cells": [
  {
   "cell_type": "code",
   "execution_count": 1,
   "id": "0178ebb1",
   "metadata": {},
   "outputs": [],
   "source": [
    "import os\n",
    "import pandas as pd\n",
    "# import matplotlib.pyplot as plt\n",
    "import csv\n",
    "import numpy as np\n",
    "import plotly.express as px\n",
    "import plotly.graph_objects as go #this will be to create the subplot tabling\n",
    "\n",
    "#figure out how to read direct from DB instead of CSV\n",
    "#subtables = min, max, average, list of outliers from min/max spec, %in spec, #compliant = yes or no\n",
    "#figure out how to loop through and create height/ weight tables all at once  \n",
    "#figure out how to loop through and create all tables at once\n",
    "#do we want to convert the pull as pulling only a query of the single product instead of a query of the whole table \n",
    "# would the client want part of the drop down be to call logic of whether this is \"out of compliance?\"\n",
    "\n"
   ]
  },
  {
   "cell_type": "markdown",
   "id": "fd8a5c50",
   "metadata": {},
   "source": [
    "### OVERALL -- WEIGHT"
   ]
  },
  {
   "cell_type": "code",
   "execution_count": 2,
   "id": "31754830-660f-4d4a-b561-e7872b68863e",
   "metadata": {},
   "outputs": [
    {
     "data": {
      "text/html": [
       "<div>\n",
       "<style scoped>\n",
       "    .dataframe tbody tr th:only-of-type {\n",
       "        vertical-align: middle;\n",
       "    }\n",
       "\n",
       "    .dataframe tbody tr th {\n",
       "        vertical-align: top;\n",
       "    }\n",
       "\n",
       "    .dataframe thead th {\n",
       "        text-align: right;\n",
       "    }\n",
       "</style>\n",
       "<table border=\"1\" class=\"dataframe\">\n",
       "  <thead>\n",
       "    <tr style=\"text-align: right;\">\n",
       "      <th></th>\n",
       "      <th>Product</th>\n",
       "      <th>Count</th>\n",
       "      <th>Min Weight</th>\n",
       "      <th>Max Weight</th>\n",
       "      <th>Average Weight</th>\n",
       "      <th>Pct In Spec</th>\n",
       "      <th>Count Offspec</th>\n",
       "      <th>Compliant</th>\n",
       "    </tr>\n",
       "  </thead>\n",
       "  <tbody>\n",
       "    <tr>\n",
       "      <th>0</th>\n",
       "      <td>10 oz  Sirloin A</td>\n",
       "      <td>695</td>\n",
       "      <td>9.140</td>\n",
       "      <td>11.00</td>\n",
       "      <td>9.764863</td>\n",
       "      <td>99.28%</td>\n",
       "      <td>5</td>\n",
       "      <td>True</td>\n",
       "    </tr>\n",
       "    <tr>\n",
       "      <th>1</th>\n",
       "      <td>11 oz  Sirloin B</td>\n",
       "      <td>817</td>\n",
       "      <td>10.000</td>\n",
       "      <td>11.30</td>\n",
       "      <td>10.683366</td>\n",
       "      <td>98.29%</td>\n",
       "      <td>14</td>\n",
       "      <td>True</td>\n",
       "    </tr>\n",
       "    <tr>\n",
       "      <th>2</th>\n",
       "      <td>11 oz  Sirloin C</td>\n",
       "      <td>2062</td>\n",
       "      <td>9.980</td>\n",
       "      <td>11.86</td>\n",
       "      <td>10.959171</td>\n",
       "      <td>98.01%</td>\n",
       "      <td>41</td>\n",
       "      <td>True</td>\n",
       "    </tr>\n",
       "    <tr>\n",
       "      <th>3</th>\n",
       "      <td>13 oz  Ribeye Tail A</td>\n",
       "      <td>2181</td>\n",
       "      <td>1.203</td>\n",
       "      <td>18.08</td>\n",
       "      <td>13.113046</td>\n",
       "      <td>97.94%</td>\n",
       "      <td>45</td>\n",
       "      <td>True</td>\n",
       "    </tr>\n",
       "    <tr>\n",
       "      <th>4</th>\n",
       "      <td>16 oz  Dry Age Ribeye A</td>\n",
       "      <td>765</td>\n",
       "      <td>14.020</td>\n",
       "      <td>18.34</td>\n",
       "      <td>15.851085</td>\n",
       "      <td>98.30%</td>\n",
       "      <td>13</td>\n",
       "      <td>True</td>\n",
       "    </tr>\n",
       "    <tr>\n",
       "      <th>5</th>\n",
       "      <td>16 oz  Prime Strip A</td>\n",
       "      <td>220</td>\n",
       "      <td>14.180</td>\n",
       "      <td>17.74</td>\n",
       "      <td>15.864455</td>\n",
       "      <td>96.36%</td>\n",
       "      <td>8</td>\n",
       "      <td>True</td>\n",
       "    </tr>\n",
       "    <tr>\n",
       "      <th>6</th>\n",
       "      <td>16 oz  Ribeye Tail A</td>\n",
       "      <td>1432</td>\n",
       "      <td>14.520</td>\n",
       "      <td>17.90</td>\n",
       "      <td>15.996321</td>\n",
       "      <td>97.91%</td>\n",
       "      <td>30</td>\n",
       "      <td>True</td>\n",
       "    </tr>\n",
       "    <tr>\n",
       "      <th>7</th>\n",
       "      <td>16 oz  Strip A</td>\n",
       "      <td>586</td>\n",
       "      <td>14.140</td>\n",
       "      <td>18.10</td>\n",
       "      <td>16.564078</td>\n",
       "      <td>96.25%</td>\n",
       "      <td>22</td>\n",
       "      <td>True</td>\n",
       "    </tr>\n",
       "    <tr>\n",
       "      <th>8</th>\n",
       "      <td>18 oz  Ribeye A</td>\n",
       "      <td>1401</td>\n",
       "      <td>15.520</td>\n",
       "      <td>20.92</td>\n",
       "      <td>18.606023</td>\n",
       "      <td>95.36%</td>\n",
       "      <td>65</td>\n",
       "      <td>True</td>\n",
       "    </tr>\n",
       "    <tr>\n",
       "      <th>9</th>\n",
       "      <td>20 oz  Prime Ribeye A</td>\n",
       "      <td>122</td>\n",
       "      <td>19.080</td>\n",
       "      <td>21.80</td>\n",
       "      <td>20.774918</td>\n",
       "      <td>73.77%</td>\n",
       "      <td>32</td>\n",
       "      <td>False</td>\n",
       "    </tr>\n",
       "    <tr>\n",
       "      <th>10</th>\n",
       "      <td>22 oz  Porterhouse A</td>\n",
       "      <td>734</td>\n",
       "      <td>20.080</td>\n",
       "      <td>25.70</td>\n",
       "      <td>22.693174</td>\n",
       "      <td>98.37%</td>\n",
       "      <td>12</td>\n",
       "      <td>True</td>\n",
       "    </tr>\n",
       "    <tr>\n",
       "      <th>11</th>\n",
       "      <td>3.5 oz Tender Bits A</td>\n",
       "      <td>1290</td>\n",
       "      <td>3.000</td>\n",
       "      <td>5.92</td>\n",
       "      <td>3.571397</td>\n",
       "      <td>97.83%</td>\n",
       "      <td>28</td>\n",
       "      <td>True</td>\n",
       "    </tr>\n",
       "    <tr>\n",
       "      <th>12</th>\n",
       "      <td>4 oz T Tenderloin Tail A</td>\n",
       "      <td>909</td>\n",
       "      <td>3.210</td>\n",
       "      <td>6.24</td>\n",
       "      <td>3.885622</td>\n",
       "      <td>97.58%</td>\n",
       "      <td>22</td>\n",
       "      <td>True</td>\n",
       "    </tr>\n",
       "    <tr>\n",
       "      <th>13</th>\n",
       "      <td>5 oz S Sirloin A</td>\n",
       "      <td>826</td>\n",
       "      <td>4.220</td>\n",
       "      <td>5.60</td>\n",
       "      <td>4.972337</td>\n",
       "      <td>97.94%</td>\n",
       "      <td>17</td>\n",
       "      <td>True</td>\n",
       "    </tr>\n",
       "    <tr>\n",
       "      <th>14</th>\n",
       "      <td>5 oz S Sirloin B</td>\n",
       "      <td>2137</td>\n",
       "      <td>4.040</td>\n",
       "      <td>7.48</td>\n",
       "      <td>5.086640</td>\n",
       "      <td>97.94%</td>\n",
       "      <td>44</td>\n",
       "      <td>True</td>\n",
       "    </tr>\n",
       "    <tr>\n",
       "      <th>15</th>\n",
       "      <td>6 oz S Sirloin A</td>\n",
       "      <td>1297</td>\n",
       "      <td>5.120</td>\n",
       "      <td>8.70</td>\n",
       "      <td>5.821935</td>\n",
       "      <td>98.69%</td>\n",
       "      <td>17</td>\n",
       "      <td>True</td>\n",
       "    </tr>\n",
       "    <tr>\n",
       "      <th>16</th>\n",
       "      <td>6 oz S Sirloin B</td>\n",
       "      <td>2137</td>\n",
       "      <td>5.380</td>\n",
       "      <td>8.42</td>\n",
       "      <td>5.996963</td>\n",
       "      <td>98.92%</td>\n",
       "      <td>23</td>\n",
       "      <td>True</td>\n",
       "    </tr>\n",
       "    <tr>\n",
       "      <th>17</th>\n",
       "      <td>6 oz T Tenderloin A</td>\n",
       "      <td>2056</td>\n",
       "      <td>4.600</td>\n",
       "      <td>6.92</td>\n",
       "      <td>6.066761</td>\n",
       "      <td>99.12%</td>\n",
       "      <td>18</td>\n",
       "      <td>True</td>\n",
       "    </tr>\n",
       "    <tr>\n",
       "      <th>18</th>\n",
       "      <td>7 oz S Sirloin A</td>\n",
       "      <td>1375</td>\n",
       "      <td>5.560</td>\n",
       "      <td>7.46</td>\n",
       "      <td>6.733287</td>\n",
       "      <td>99.27%</td>\n",
       "      <td>10</td>\n",
       "      <td>True</td>\n",
       "    </tr>\n",
       "    <tr>\n",
       "      <th>19</th>\n",
       "      <td>7 oz S Sirloin B</td>\n",
       "      <td>1263</td>\n",
       "      <td>6.140</td>\n",
       "      <td>7.90</td>\n",
       "      <td>6.837197</td>\n",
       "      <td>99.68%</td>\n",
       "      <td>4</td>\n",
       "      <td>True</td>\n",
       "    </tr>\n",
       "    <tr>\n",
       "      <th>20</th>\n",
       "      <td>7 oz T Tenderloin A</td>\n",
       "      <td>1030</td>\n",
       "      <td>6.440</td>\n",
       "      <td>7.98</td>\n",
       "      <td>6.943173</td>\n",
       "      <td>99.81%</td>\n",
       "      <td>2</td>\n",
       "      <td>True</td>\n",
       "    </tr>\n",
       "    <tr>\n",
       "      <th>21</th>\n",
       "      <td>8 oz P Pork Chop A</td>\n",
       "      <td>1044</td>\n",
       "      <td>7.420</td>\n",
       "      <td>10.06</td>\n",
       "      <td>8.906820</td>\n",
       "      <td>92.72%</td>\n",
       "      <td>76</td>\n",
       "      <td>False</td>\n",
       "    </tr>\n",
       "    <tr>\n",
       "      <th>22</th>\n",
       "      <td>8 oz S Sirloin A</td>\n",
       "      <td>1260</td>\n",
       "      <td>7.120</td>\n",
       "      <td>11.08</td>\n",
       "      <td>7.758103</td>\n",
       "      <td>98.33%</td>\n",
       "      <td>21</td>\n",
       "      <td>True</td>\n",
       "    </tr>\n",
       "    <tr>\n",
       "      <th>23</th>\n",
       "      <td>8 oz S Sirloin B</td>\n",
       "      <td>2088</td>\n",
       "      <td>7.380</td>\n",
       "      <td>8.66</td>\n",
       "      <td>8.035182</td>\n",
       "      <td>99.33%</td>\n",
       "      <td>14</td>\n",
       "      <td>True</td>\n",
       "    </tr>\n",
       "    <tr>\n",
       "      <th>24</th>\n",
       "      <td>8 oz T Tenderloin A</td>\n",
       "      <td>1908</td>\n",
       "      <td>7.160</td>\n",
       "      <td>11.10</td>\n",
       "      <td>8.035451</td>\n",
       "      <td>98.69%</td>\n",
       "      <td>25</td>\n",
       "      <td>True</td>\n",
       "    </tr>\n",
       "    <tr>\n",
       "      <th>25</th>\n",
       "      <td>9 oz S Sirloin A</td>\n",
       "      <td>1768</td>\n",
       "      <td>8.200</td>\n",
       "      <td>9.66</td>\n",
       "      <td>8.859717</td>\n",
       "      <td>96.66%</td>\n",
       "      <td>59</td>\n",
       "      <td>True</td>\n",
       "    </tr>\n",
       "    <tr>\n",
       "      <th>26</th>\n",
       "      <td>9 oz T Tenderloin A</td>\n",
       "      <td>925</td>\n",
       "      <td>8.200</td>\n",
       "      <td>9.70</td>\n",
       "      <td>9.003395</td>\n",
       "      <td>98.81%</td>\n",
       "      <td>11</td>\n",
       "      <td>True</td>\n",
       "    </tr>\n",
       "  </tbody>\n",
       "</table>\n",
       "</div>"
      ],
      "text/plain": [
       "                     Product  Count  Min Weight  Max Weight  Average Weight  \\\n",
       "0           10 oz  Sirloin A    695       9.140       11.00        9.764863   \n",
       "1           11 oz  Sirloin B    817      10.000       11.30       10.683366   \n",
       "2           11 oz  Sirloin C   2062       9.980       11.86       10.959171   \n",
       "3       13 oz  Ribeye Tail A   2181       1.203       18.08       13.113046   \n",
       "4    16 oz  Dry Age Ribeye A    765      14.020       18.34       15.851085   \n",
       "5       16 oz  Prime Strip A    220      14.180       17.74       15.864455   \n",
       "6       16 oz  Ribeye Tail A   1432      14.520       17.90       15.996321   \n",
       "7             16 oz  Strip A    586      14.140       18.10       16.564078   \n",
       "8            18 oz  Ribeye A   1401      15.520       20.92       18.606023   \n",
       "9      20 oz  Prime Ribeye A    122      19.080       21.80       20.774918   \n",
       "10      22 oz  Porterhouse A    734      20.080       25.70       22.693174   \n",
       "11      3.5 oz Tender Bits A   1290       3.000        5.92        3.571397   \n",
       "12  4 oz T Tenderloin Tail A    909       3.210        6.24        3.885622   \n",
       "13          5 oz S Sirloin A    826       4.220        5.60        4.972337   \n",
       "14          5 oz S Sirloin B   2137       4.040        7.48        5.086640   \n",
       "15          6 oz S Sirloin A   1297       5.120        8.70        5.821935   \n",
       "16          6 oz S Sirloin B   2137       5.380        8.42        5.996963   \n",
       "17       6 oz T Tenderloin A   2056       4.600        6.92        6.066761   \n",
       "18          7 oz S Sirloin A   1375       5.560        7.46        6.733287   \n",
       "19          7 oz S Sirloin B   1263       6.140        7.90        6.837197   \n",
       "20       7 oz T Tenderloin A   1030       6.440        7.98        6.943173   \n",
       "21        8 oz P Pork Chop A   1044       7.420       10.06        8.906820   \n",
       "22          8 oz S Sirloin A   1260       7.120       11.08        7.758103   \n",
       "23          8 oz S Sirloin B   2088       7.380        8.66        8.035182   \n",
       "24       8 oz T Tenderloin A   1908       7.160       11.10        8.035451   \n",
       "25          9 oz S Sirloin A   1768       8.200        9.66        8.859717   \n",
       "26       9 oz T Tenderloin A    925       8.200        9.70        9.003395   \n",
       "\n",
       "   Pct In Spec  Count Offspec  Compliant  \n",
       "0       99.28%              5       True  \n",
       "1       98.29%             14       True  \n",
       "2       98.01%             41       True  \n",
       "3       97.94%             45       True  \n",
       "4       98.30%             13       True  \n",
       "5       96.36%              8       True  \n",
       "6       97.91%             30       True  \n",
       "7       96.25%             22       True  \n",
       "8       95.36%             65       True  \n",
       "9       73.77%             32      False  \n",
       "10      98.37%             12       True  \n",
       "11      97.83%             28       True  \n",
       "12      97.58%             22       True  \n",
       "13      97.94%             17       True  \n",
       "14      97.94%             44       True  \n",
       "15      98.69%             17       True  \n",
       "16      98.92%             23       True  \n",
       "17      99.12%             18       True  \n",
       "18      99.27%             10       True  \n",
       "19      99.68%              4       True  \n",
       "20      99.81%              2       True  \n",
       "21      92.72%             76      False  \n",
       "22      98.33%             21       True  \n",
       "23      99.33%             14       True  \n",
       "24      98.69%             25       True  \n",
       "25      96.66%             59       True  \n",
       "26      98.81%             11       True  "
      ]
     },
     "execution_count": 2,
     "metadata": {},
     "output_type": "execute_result"
    }
   ],
   "source": [
    "#WEIGHT-- Relevant Dashboard information \n",
    "\n",
    "# Specify the file paths\n",
    "file_path1 = '../data/cleaned/generic_butcher_cleaned.csv'\n",
    "file_path2 = '../data/cleaned/generic_butcher_spec_cleaned.csv'\n",
    "\n",
    "# Read the CSV files into DataFrames\n",
    "df = pd.read_csv(file_path1)\n",
    "df2 = pd.read_csv(file_path2)\n",
    "\n",
    "# Adjust decimal point that were obvious errors\n",
    "df['measured_weight'] = df['measured_weight'].apply(lambda x: x * 0.01 if x > 50 else x)\n",
    "\n",
    "# Merge the two dataframes on product_name to get the specs in the main dataframe\n",
    "df = df.merge(df2[['product_name', 'weight_min', 'weight_max']], on='product_name', how='left')\n",
    "\n",
    "# Group by product_name and calculate relevant metrics\n",
    "grouped = df.groupby('product_name').agg(\n",
    "    Count=('measured_weight', 'size'),\n",
    "    Min_Weight=('measured_weight', 'min'),\n",
    "    Max_Weight=('measured_weight', 'max'),\n",
    "    Average_Weight=('measured_weight', 'mean')\n",
    ").reset_index()\n",
    "\n",
    "# Calculate additional metrics\n",
    "grouped['Pct_In_Spec'] = df.groupby('product_name').apply(\n",
    "    lambda x: (x['measured_weight'].between(x['weight_min'], x['weight_max'])).mean() * 100\n",
    ").values\n",
    "\n",
    "grouped['Count_Offspec'] = df.groupby('product_name').apply(\n",
    "    lambda x: (~x['measured_weight'].between(x['weight_min'], x['weight_max'])).sum()\n",
    ").values\n",
    "\n",
    "grouped['Compliant'] = grouped['Pct_In_Spec'] > 95\n",
    "\n",
    "# Format the Pct_In_Spec column\n",
    "grouped['Pct_In_Spec'] = grouped['Pct_In_Spec'].apply(lambda x: f\"{x:.2f}%\")\n",
    "\n",
    "# Rename columns for consistency\n",
    "grouped.rename(columns={\n",
    "    'product_name': 'Product',\n",
    "    'Min_Weight': 'Min Weight',\n",
    "    'Max_Weight': 'Max Weight',\n",
    "    'Average_Weight': 'Average Weight',\n",
    "    'Pct_In_Spec': 'Pct In Spec',\n",
    "    'Count_Offspec': 'Count Offspec'\n",
    "}, inplace=True)\n",
    "\n",
    "grouped\n"
   ]
  },
  {
   "cell_type": "markdown",
   "id": "2932b761",
   "metadata": {},
   "source": [
    "### OVERALL -- HEIGHT"
   ]
  },
  {
   "cell_type": "code",
   "execution_count": 3,
   "id": "aa6c77e2-e8f6-40e8-a608-399d927bd260",
   "metadata": {},
   "outputs": [
    {
     "data": {
      "text/html": [
       "<div>\n",
       "<style scoped>\n",
       "    .dataframe tbody tr th:only-of-type {\n",
       "        vertical-align: middle;\n",
       "    }\n",
       "\n",
       "    .dataframe tbody tr th {\n",
       "        vertical-align: top;\n",
       "    }\n",
       "\n",
       "    .dataframe thead th {\n",
       "        text-align: right;\n",
       "    }\n",
       "</style>\n",
       "<table border=\"1\" class=\"dataframe\">\n",
       "  <thead>\n",
       "    <tr style=\"text-align: right;\">\n",
       "      <th></th>\n",
       "      <th>Product</th>\n",
       "      <th>Count_Height</th>\n",
       "      <th>Min Height</th>\n",
       "      <th>Max Height</th>\n",
       "      <th>Average Height</th>\n",
       "      <th>Pct In Spec Height</th>\n",
       "      <th>Count Offspec Height</th>\n",
       "      <th>Compliant Height</th>\n",
       "    </tr>\n",
       "  </thead>\n",
       "  <tbody>\n",
       "    <tr>\n",
       "      <th>0</th>\n",
       "      <td>10 oz  Sirloin A</td>\n",
       "      <td>695</td>\n",
       "      <td>1.056760</td>\n",
       "      <td>1.83688</td>\n",
       "      <td>1.378185</td>\n",
       "      <td>99.28%</td>\n",
       "      <td>5</td>\n",
       "      <td>True</td>\n",
       "    </tr>\n",
       "    <tr>\n",
       "      <th>1</th>\n",
       "      <td>11 oz  Sirloin B</td>\n",
       "      <td>817</td>\n",
       "      <td>1.114460</td>\n",
       "      <td>1.88710</td>\n",
       "      <td>1.373452</td>\n",
       "      <td>99.51%</td>\n",
       "      <td>4</td>\n",
       "      <td>True</td>\n",
       "    </tr>\n",
       "    <tr>\n",
       "      <th>2</th>\n",
       "      <td>11 oz  Sirloin C</td>\n",
       "      <td>2062</td>\n",
       "      <td>1.050920</td>\n",
       "      <td>2.40982</td>\n",
       "      <td>1.422922</td>\n",
       "      <td>96.56%</td>\n",
       "      <td>71</td>\n",
       "      <td>True</td>\n",
       "    </tr>\n",
       "    <tr>\n",
       "      <th>3</th>\n",
       "      <td>13 oz  Ribeye Tail A</td>\n",
       "      <td>2181</td>\n",
       "      <td>0.701302</td>\n",
       "      <td>1.68081</td>\n",
       "      <td>1.016365</td>\n",
       "      <td>100.00%</td>\n",
       "      <td>0</td>\n",
       "      <td>True</td>\n",
       "    </tr>\n",
       "    <tr>\n",
       "      <th>4</th>\n",
       "      <td>16 oz  Dry Age Ribeye A</td>\n",
       "      <td>765</td>\n",
       "      <td>0.993740</td>\n",
       "      <td>1.97211</td>\n",
       "      <td>1.293364</td>\n",
       "      <td>100.00%</td>\n",
       "      <td>0</td>\n",
       "      <td>True</td>\n",
       "    </tr>\n",
       "    <tr>\n",
       "      <th>5</th>\n",
       "      <td>16 oz  Prime Strip A</td>\n",
       "      <td>220</td>\n",
       "      <td>1.048440</td>\n",
       "      <td>2.17817</td>\n",
       "      <td>1.479292</td>\n",
       "      <td>100.00%</td>\n",
       "      <td>0</td>\n",
       "      <td>True</td>\n",
       "    </tr>\n",
       "    <tr>\n",
       "      <th>6</th>\n",
       "      <td>16 oz  Ribeye Tail A</td>\n",
       "      <td>1432</td>\n",
       "      <td>0.893239</td>\n",
       "      <td>1.78191</td>\n",
       "      <td>1.186122</td>\n",
       "      <td>100.00%</td>\n",
       "      <td>0</td>\n",
       "      <td>True</td>\n",
       "    </tr>\n",
       "    <tr>\n",
       "      <th>7</th>\n",
       "      <td>16 oz  Strip A</td>\n",
       "      <td>586</td>\n",
       "      <td>0.826419</td>\n",
       "      <td>1.47993</td>\n",
       "      <td>1.097839</td>\n",
       "      <td>100.00%</td>\n",
       "      <td>0</td>\n",
       "      <td>True</td>\n",
       "    </tr>\n",
       "    <tr>\n",
       "      <th>8</th>\n",
       "      <td>18 oz  Ribeye A</td>\n",
       "      <td>1401</td>\n",
       "      <td>0.747236</td>\n",
       "      <td>3.93643</td>\n",
       "      <td>1.071697</td>\n",
       "      <td>99.71%</td>\n",
       "      <td>4</td>\n",
       "      <td>True</td>\n",
       "    </tr>\n",
       "    <tr>\n",
       "      <th>9</th>\n",
       "      <td>20 oz  Prime Ribeye A</td>\n",
       "      <td>122</td>\n",
       "      <td>0.967064</td>\n",
       "      <td>1.95839</td>\n",
       "      <td>1.302482</td>\n",
       "      <td>100.00%</td>\n",
       "      <td>0</td>\n",
       "      <td>True</td>\n",
       "    </tr>\n",
       "    <tr>\n",
       "      <th>10</th>\n",
       "      <td>22 oz  Porterhouse A</td>\n",
       "      <td>734</td>\n",
       "      <td>0.716093</td>\n",
       "      <td>1.53459</td>\n",
       "      <td>1.034557</td>\n",
       "      <td>100.00%</td>\n",
       "      <td>0</td>\n",
       "      <td>True</td>\n",
       "    </tr>\n",
       "    <tr>\n",
       "      <th>11</th>\n",
       "      <td>3.5 oz Tender Bits A</td>\n",
       "      <td>1290</td>\n",
       "      <td>0.630940</td>\n",
       "      <td>2.48781</td>\n",
       "      <td>1.332970</td>\n",
       "      <td>100.00%</td>\n",
       "      <td>0</td>\n",
       "      <td>True</td>\n",
       "    </tr>\n",
       "    <tr>\n",
       "      <th>12</th>\n",
       "      <td>4 oz T Tenderloin Tail A</td>\n",
       "      <td>909</td>\n",
       "      <td>0.697441</td>\n",
       "      <td>1.65256</td>\n",
       "      <td>1.032980</td>\n",
       "      <td>100.00%</td>\n",
       "      <td>0</td>\n",
       "      <td>True</td>\n",
       "    </tr>\n",
       "    <tr>\n",
       "      <th>13</th>\n",
       "      <td>5 oz S Sirloin A</td>\n",
       "      <td>826</td>\n",
       "      <td>0.944742</td>\n",
       "      <td>2.01948</td>\n",
       "      <td>1.346565</td>\n",
       "      <td>95.88%</td>\n",
       "      <td>34</td>\n",
       "      <td>True</td>\n",
       "    </tr>\n",
       "    <tr>\n",
       "      <th>14</th>\n",
       "      <td>5 oz S Sirloin B</td>\n",
       "      <td>2137</td>\n",
       "      <td>0.952895</td>\n",
       "      <td>2.12393</td>\n",
       "      <td>1.303232</td>\n",
       "      <td>94.34%</td>\n",
       "      <td>121</td>\n",
       "      <td>False</td>\n",
       "    </tr>\n",
       "    <tr>\n",
       "      <th>15</th>\n",
       "      <td>6 oz S Sirloin A</td>\n",
       "      <td>1297</td>\n",
       "      <td>0.980229</td>\n",
       "      <td>1.98640</td>\n",
       "      <td>1.368302</td>\n",
       "      <td>97.92%</td>\n",
       "      <td>27</td>\n",
       "      <td>True</td>\n",
       "    </tr>\n",
       "    <tr>\n",
       "      <th>16</th>\n",
       "      <td>6 oz S Sirloin B</td>\n",
       "      <td>2137</td>\n",
       "      <td>0.976007</td>\n",
       "      <td>2.35997</td>\n",
       "      <td>1.348500</td>\n",
       "      <td>97.24%</td>\n",
       "      <td>59</td>\n",
       "      <td>True</td>\n",
       "    </tr>\n",
       "    <tr>\n",
       "      <th>17</th>\n",
       "      <td>6 oz T Tenderloin A</td>\n",
       "      <td>2056</td>\n",
       "      <td>0.803807</td>\n",
       "      <td>2.93890</td>\n",
       "      <td>1.579162</td>\n",
       "      <td>99.03%</td>\n",
       "      <td>20</td>\n",
       "      <td>True</td>\n",
       "    </tr>\n",
       "    <tr>\n",
       "      <th>18</th>\n",
       "      <td>7 oz S Sirloin A</td>\n",
       "      <td>1375</td>\n",
       "      <td>0.956135</td>\n",
       "      <td>1.80927</td>\n",
       "      <td>1.347540</td>\n",
       "      <td>98.25%</td>\n",
       "      <td>24</td>\n",
       "      <td>True</td>\n",
       "    </tr>\n",
       "    <tr>\n",
       "      <th>19</th>\n",
       "      <td>7 oz S Sirloin B</td>\n",
       "      <td>1263</td>\n",
       "      <td>0.962221</td>\n",
       "      <td>1.86313</td>\n",
       "      <td>1.330329</td>\n",
       "      <td>96.99%</td>\n",
       "      <td>38</td>\n",
       "      <td>True</td>\n",
       "    </tr>\n",
       "    <tr>\n",
       "      <th>20</th>\n",
       "      <td>7 oz T Tenderloin A</td>\n",
       "      <td>1030</td>\n",
       "      <td>0.938533</td>\n",
       "      <td>3.00167</td>\n",
       "      <td>1.736495</td>\n",
       "      <td>99.81%</td>\n",
       "      <td>2</td>\n",
       "      <td>True</td>\n",
       "    </tr>\n",
       "    <tr>\n",
       "      <th>21</th>\n",
       "      <td>8 oz P Pork Chop A</td>\n",
       "      <td>1044</td>\n",
       "      <td>0.716492</td>\n",
       "      <td>1.38714</td>\n",
       "      <td>0.942447</td>\n",
       "      <td>99.71%</td>\n",
       "      <td>3</td>\n",
       "      <td>True</td>\n",
       "    </tr>\n",
       "    <tr>\n",
       "      <th>22</th>\n",
       "      <td>8 oz S Sirloin A</td>\n",
       "      <td>1260</td>\n",
       "      <td>1.028720</td>\n",
       "      <td>1.96346</td>\n",
       "      <td>1.383279</td>\n",
       "      <td>97.94%</td>\n",
       "      <td>26</td>\n",
       "      <td>True</td>\n",
       "    </tr>\n",
       "    <tr>\n",
       "      <th>23</th>\n",
       "      <td>8 oz S Sirloin B</td>\n",
       "      <td>2088</td>\n",
       "      <td>1.027280</td>\n",
       "      <td>2.15740</td>\n",
       "      <td>1.374410</td>\n",
       "      <td>98.23%</td>\n",
       "      <td>37</td>\n",
       "      <td>True</td>\n",
       "    </tr>\n",
       "    <tr>\n",
       "      <th>24</th>\n",
       "      <td>8 oz T Tenderloin A</td>\n",
       "      <td>1908</td>\n",
       "      <td>0.987960</td>\n",
       "      <td>3.38117</td>\n",
       "      <td>1.900024</td>\n",
       "      <td>100.00%</td>\n",
       "      <td>0</td>\n",
       "      <td>True</td>\n",
       "    </tr>\n",
       "    <tr>\n",
       "      <th>25</th>\n",
       "      <td>9 oz S Sirloin A</td>\n",
       "      <td>1768</td>\n",
       "      <td>0.949115</td>\n",
       "      <td>2.02464</td>\n",
       "      <td>1.371919</td>\n",
       "      <td>97.91%</td>\n",
       "      <td>37</td>\n",
       "      <td>True</td>\n",
       "    </tr>\n",
       "    <tr>\n",
       "      <th>26</th>\n",
       "      <td>9 oz T Tenderloin A</td>\n",
       "      <td>925</td>\n",
       "      <td>1.196880</td>\n",
       "      <td>2.99910</td>\n",
       "      <td>1.878510</td>\n",
       "      <td>100.00%</td>\n",
       "      <td>0</td>\n",
       "      <td>True</td>\n",
       "    </tr>\n",
       "  </tbody>\n",
       "</table>\n",
       "</div>"
      ],
      "text/plain": [
       "                     Product  Count_Height  Min Height  Max Height  \\\n",
       "0           10 oz  Sirloin A           695    1.056760     1.83688   \n",
       "1           11 oz  Sirloin B           817    1.114460     1.88710   \n",
       "2           11 oz  Sirloin C          2062    1.050920     2.40982   \n",
       "3       13 oz  Ribeye Tail A          2181    0.701302     1.68081   \n",
       "4    16 oz  Dry Age Ribeye A           765    0.993740     1.97211   \n",
       "5       16 oz  Prime Strip A           220    1.048440     2.17817   \n",
       "6       16 oz  Ribeye Tail A          1432    0.893239     1.78191   \n",
       "7             16 oz  Strip A           586    0.826419     1.47993   \n",
       "8            18 oz  Ribeye A          1401    0.747236     3.93643   \n",
       "9      20 oz  Prime Ribeye A           122    0.967064     1.95839   \n",
       "10      22 oz  Porterhouse A           734    0.716093     1.53459   \n",
       "11      3.5 oz Tender Bits A          1290    0.630940     2.48781   \n",
       "12  4 oz T Tenderloin Tail A           909    0.697441     1.65256   \n",
       "13          5 oz S Sirloin A           826    0.944742     2.01948   \n",
       "14          5 oz S Sirloin B          2137    0.952895     2.12393   \n",
       "15          6 oz S Sirloin A          1297    0.980229     1.98640   \n",
       "16          6 oz S Sirloin B          2137    0.976007     2.35997   \n",
       "17       6 oz T Tenderloin A          2056    0.803807     2.93890   \n",
       "18          7 oz S Sirloin A          1375    0.956135     1.80927   \n",
       "19          7 oz S Sirloin B          1263    0.962221     1.86313   \n",
       "20       7 oz T Tenderloin A          1030    0.938533     3.00167   \n",
       "21        8 oz P Pork Chop A          1044    0.716492     1.38714   \n",
       "22          8 oz S Sirloin A          1260    1.028720     1.96346   \n",
       "23          8 oz S Sirloin B          2088    1.027280     2.15740   \n",
       "24       8 oz T Tenderloin A          1908    0.987960     3.38117   \n",
       "25          9 oz S Sirloin A          1768    0.949115     2.02464   \n",
       "26       9 oz T Tenderloin A           925    1.196880     2.99910   \n",
       "\n",
       "    Average Height Pct In Spec Height  Count Offspec Height  Compliant Height  \n",
       "0         1.378185             99.28%                     5              True  \n",
       "1         1.373452             99.51%                     4              True  \n",
       "2         1.422922             96.56%                    71              True  \n",
       "3         1.016365            100.00%                     0              True  \n",
       "4         1.293364            100.00%                     0              True  \n",
       "5         1.479292            100.00%                     0              True  \n",
       "6         1.186122            100.00%                     0              True  \n",
       "7         1.097839            100.00%                     0              True  \n",
       "8         1.071697             99.71%                     4              True  \n",
       "9         1.302482            100.00%                     0              True  \n",
       "10        1.034557            100.00%                     0              True  \n",
       "11        1.332970            100.00%                     0              True  \n",
       "12        1.032980            100.00%                     0              True  \n",
       "13        1.346565             95.88%                    34              True  \n",
       "14        1.303232             94.34%                   121             False  \n",
       "15        1.368302             97.92%                    27              True  \n",
       "16        1.348500             97.24%                    59              True  \n",
       "17        1.579162             99.03%                    20              True  \n",
       "18        1.347540             98.25%                    24              True  \n",
       "19        1.330329             96.99%                    38              True  \n",
       "20        1.736495             99.81%                     2              True  \n",
       "21        0.942447             99.71%                     3              True  \n",
       "22        1.383279             97.94%                    26              True  \n",
       "23        1.374410             98.23%                    37              True  \n",
       "24        1.900024            100.00%                     0              True  \n",
       "25        1.371919             97.91%                    37              True  \n",
       "26        1.878510            100.00%                     0              True  "
      ]
     },
     "execution_count": 3,
     "metadata": {},
     "output_type": "execute_result"
    }
   ],
   "source": [
    "# Specify the file paths\n",
    "file_path1 = '../data/cleaned/generic_butcher_cleaned.csv'\n",
    "file_path2 = '../data/cleaned/generic_butcher_spec_cleaned.csv'\n",
    "\n",
    "# Read the CSV files into DataFrames\n",
    "df = pd.read_csv(file_path1)\n",
    "df2 = pd.read_csv(file_path2)\n",
    "\n",
    "# Merge the two dataframes on product_name to get the specs in the main dataframe\n",
    "df = df.merge(df2[['product_name', 'height_min', 'height_max']], on='product_name', how='left')\n",
    "\n",
    "# Adjust decimal point that were obvious errors for measured_height if necessary\n",
    "# Uncomment the line below if there's a similar issue with height as with weight\n",
    "# df['measured_height'] = df['measured_height'].apply(lambda x: x * 0.01 if x > 50 else x)\n",
    "\n",
    "# Group by product_name and calculate relevant metrics for height\n",
    "grouped_height = df.groupby('product_name').agg(\n",
    "    Count_Height=('measured_height', 'size'),\n",
    "    Min_Height=('measured_height', 'min'),\n",
    "    Max_Height=('measured_height', 'max'),\n",
    "    Average_Height=('measured_height', 'mean')\n",
    ").reset_index()\n",
    "\n",
    "# Calculate additional height metrics\n",
    "grouped_height['Pct_In_Spec_Height'] = df.groupby('product_name').apply(\n",
    "    lambda x: (x['measured_height'].between(x['height_min'], x['height_max'])).mean() * 100\n",
    ").values\n",
    "\n",
    "grouped_height['Count_Offspec_Height'] = df.groupby('product_name').apply(\n",
    "    lambda x: (~x['measured_height'].between(x['height_min'], x['height_max'])).sum()\n",
    ").values\n",
    "\n",
    "grouped_height['Compliant_Height'] = grouped_height['Pct_In_Spec_Height'] > 95\n",
    "\n",
    "# Format the Pct_In_Spec_Height column\n",
    "grouped_height['Pct_In_Spec_Height'] = grouped_height['Pct_In_Spec_Height'].apply(lambda x: f\"{x:.2f}%\")\n",
    "\n",
    "# Rename columns for consistency\n",
    "grouped_height.rename(columns={\n",
    "    'product_name': 'Product',\n",
    "    'Min_Height': 'Min Height',\n",
    "    'Max_Height': 'Max Height',\n",
    "    'Average_Height': 'Average Height',\n",
    "    'Pct_In_Spec_Height': 'Pct In Spec Height',\n",
    "    'Count_Offspec_Height': 'Count Offspec Height',\n",
    "    'Compliant_Height': 'Compliant Height'\n",
    "}, inplace=True)\n",
    "\n",
    "# Display the final height table\n",
    "grouped_height"
   ]
  },
  {
   "cell_type": "markdown",
   "id": "bef00fc4-f390-468d-9859-4fcb0f576e07",
   "metadata": {},
   "source": [
    "### PRODUCT SPECIFIC -- WEIGHT"
   ]
  },
  {
   "cell_type": "code",
   "execution_count": 4,
   "id": "d9522ae6-1c84-44d4-b494-6dc15a28b74f",
   "metadata": {},
   "outputs": [
    {
     "data": {
      "text/html": [
       "<div>\n",
       "<style scoped>\n",
       "    .dataframe tbody tr th:only-of-type {\n",
       "        vertical-align: middle;\n",
       "    }\n",
       "\n",
       "    .dataframe tbody tr th {\n",
       "        vertical-align: top;\n",
       "    }\n",
       "\n",
       "    .dataframe thead th {\n",
       "        text-align: right;\n",
       "    }\n",
       "</style>\n",
       "<table border=\"1\" class=\"dataframe\">\n",
       "  <thead>\n",
       "    <tr style=\"text-align: right;\">\n",
       "      <th></th>\n",
       "      <th>0</th>\n",
       "    </tr>\n",
       "  </thead>\n",
       "  <tbody>\n",
       "    <tr>\n",
       "      <th>Product</th>\n",
       "      <td>8 oz T Tenderloin A</td>\n",
       "    </tr>\n",
       "    <tr>\n",
       "      <th>Count</th>\n",
       "      <td>1908</td>\n",
       "    </tr>\n",
       "    <tr>\n",
       "      <th>Min Weight</th>\n",
       "      <td>7.16</td>\n",
       "    </tr>\n",
       "    <tr>\n",
       "      <th>Max Weight</th>\n",
       "      <td>11.1</td>\n",
       "    </tr>\n",
       "    <tr>\n",
       "      <th>Average Weight</th>\n",
       "      <td>8.035451</td>\n",
       "    </tr>\n",
       "    <tr>\n",
       "      <th>Pct In Spec</th>\n",
       "      <td>98.69%</td>\n",
       "    </tr>\n",
       "    <tr>\n",
       "      <th>Count Offspec</th>\n",
       "      <td>25</td>\n",
       "    </tr>\n",
       "    <tr>\n",
       "      <th>Compliant</th>\n",
       "      <td>True</td>\n",
       "    </tr>\n",
       "  </tbody>\n",
       "</table>\n",
       "</div>"
      ],
      "text/plain": [
       "                                  0\n",
       "Product         8 oz T Tenderloin A\n",
       "Count                          1908\n",
       "Min Weight                     7.16\n",
       "Max Weight                     11.1\n",
       "Average Weight             8.035451\n",
       "Pct In Spec                  98.69%\n",
       "Count Offspec                    25\n",
       "Compliant                      True"
      ]
     },
     "execution_count": 4,
     "metadata": {},
     "output_type": "execute_result"
    }
   ],
   "source": [
    "#WEIGHT-- SUBPLOT TABLE\n",
    "#TEST product: \"8 oz T Tenderloin A\"\n",
    "#SPECIFY product_name = \"8 oz T Tenderloin A\"\n",
    "product_name = \"8 oz T Tenderloin A\"\n",
    "\n",
    "# Specify the file path\n",
    "file_path = '../data/cleaned/generic_butcher_cleaned.csv'\n",
    "\n",
    "# Read the CSV file into a DataFrame\n",
    "df = pd.read_csv(file_path)\n",
    "\n",
    "file_path2 = '../data/cleaned/generic_butcher_spec_cleaned.csv'\n",
    "\n",
    "# Read the CSV file into a DataFrame\n",
    "df2 = pd.read_csv(file_path2)\n",
    "\n",
    "# Copy data to preserve original dataset\n",
    "product_data = df.loc[df[\"product_name\"] == product_name]\n",
    "product = product_data.copy()\n",
    "\n",
    "# Adjust decimal point that were obvious errors\n",
    "product['measured_weight'] = product['measured_weight'].apply(lambda x: x * 0.01 if x > 50 else x)\n",
    "\n",
    "#Find relevant subplot data\n",
    "weight_min_spec = df2.loc[df2['product_name'] == product_name, 'weight_min'].iloc[0]\n",
    "weight_max_spec = df2.loc[df2['product_name'] == product_name, 'weight_max'].iloc[0]\n",
    "weight_avg = np.mean(product['measured_weight'])\n",
    "count_wt = len(product['measured_weight'])\n",
    "min_wt = np.min(product['measured_weight'])\n",
    "max_wt = np.max(product['measured_weight'])\n",
    "in_spec_wt = product['measured_weight'].apply(lambda x: weight_min_spec <= x <= weight_max_spec)\n",
    "percent_in_spec_wt = (np.sum(in_spec_wt)/np.sum(count_wt))*100\n",
    "out_spec_val_wt = product.loc[~in_spec_wt, 'measured_weight'].values\n",
    "count_oos_wt = len(out_spec_val_wt)\n",
    "compliance = percent_in_spec_wt > 95.00\n",
    "\n",
    "\n",
    "# Create dataframe for subplot weight information\n",
    "subplot_weight = pd.DataFrame({\n",
    "    'Product': [product_name],\n",
    "    'Count': [count_wt],\n",
    "    'Min Weight': [min_wt],\n",
    "    'Max Weight': [max_wt],\n",
    "    'Average Weight': [weight_avg],\n",
    "    'Pct In Spec': f\"{percent_in_spec_wt:.2f}%\",\n",
    "    'Count Offspec': [count_oos_wt],\n",
    "    'Compliant': [compliance]\n",
    "})\n",
    "\n",
    "subplot_weight.T\n"
   ]
  },
  {
   "cell_type": "code",
   "execution_count": 5,
   "id": "e208dcf3",
   "metadata": {},
   "outputs": [],
   "source": [
    "### PRODUCT SPECIFIC -- HEIGHT"
   ]
  },
  {
   "cell_type": "code",
   "execution_count": 6,
   "id": "c7e7034a-d7e6-4dfb-95df-83510c35e978",
   "metadata": {},
   "outputs": [
    {
     "data": {
      "text/html": [
       "<div>\n",
       "<style scoped>\n",
       "    .dataframe tbody tr th:only-of-type {\n",
       "        vertical-align: middle;\n",
       "    }\n",
       "\n",
       "    .dataframe tbody tr th {\n",
       "        vertical-align: top;\n",
       "    }\n",
       "\n",
       "    .dataframe thead th {\n",
       "        text-align: right;\n",
       "    }\n",
       "</style>\n",
       "<table border=\"1\" class=\"dataframe\">\n",
       "  <thead>\n",
       "    <tr style=\"text-align: right;\">\n",
       "      <th></th>\n",
       "      <th>0</th>\n",
       "    </tr>\n",
       "  </thead>\n",
       "  <tbody>\n",
       "    <tr>\n",
       "      <th>Product</th>\n",
       "      <td>8 oz T Tenderloin A</td>\n",
       "    </tr>\n",
       "    <tr>\n",
       "      <th>Count</th>\n",
       "      <td>1908</td>\n",
       "    </tr>\n",
       "    <tr>\n",
       "      <th>Min Height</th>\n",
       "      <td>0.98796</td>\n",
       "    </tr>\n",
       "    <tr>\n",
       "      <th>Max Height</th>\n",
       "      <td>3.38117</td>\n",
       "    </tr>\n",
       "    <tr>\n",
       "      <th>Average Height</th>\n",
       "      <td>1.900024</td>\n",
       "    </tr>\n",
       "    <tr>\n",
       "      <th>Pct In Spec</th>\n",
       "      <td>100.00%</td>\n",
       "    </tr>\n",
       "    <tr>\n",
       "      <th>Count Offspec</th>\n",
       "      <td>0</td>\n",
       "    </tr>\n",
       "    <tr>\n",
       "      <th>Compliant</th>\n",
       "      <td>True</td>\n",
       "    </tr>\n",
       "  </tbody>\n",
       "</table>\n",
       "</div>"
      ],
      "text/plain": [
       "                                  0\n",
       "Product         8 oz T Tenderloin A\n",
       "Count                          1908\n",
       "Min Height                  0.98796\n",
       "Max Height                  3.38117\n",
       "Average Height             1.900024\n",
       "Pct In Spec                 100.00%\n",
       "Count Offspec                     0\n",
       "Compliant                      True"
      ]
     },
     "execution_count": 6,
     "metadata": {},
     "output_type": "execute_result"
    }
   ],
   "source": [
    "# Specify the product name\n",
    "product_name = \"8 oz T Tenderloin A\"\n",
    "\n",
    "# Specify the file paths\n",
    "file_path = '../data/cleaned/generic_butcher_cleaned.csv'\n",
    "file_path2 = '../data/cleaned/generic_butcher_spec_cleaned.csv'\n",
    "\n",
    "# Read the CSV files into DataFrames\n",
    "df = pd.read_csv(file_path)\n",
    "df2 = pd.read_csv(file_path2)\n",
    "\n",
    "# Copy data to preserve original dataset\n",
    "product_data = df.loc[df[\"product_name\"] == product_name]\n",
    "product = product_data.copy()\n",
    "\n",
    "# Adjust decimal point that were obvious errors for height\n",
    "product['measured_height'] = product['measured_height'].apply(lambda x: x * 0.01 if x > 50 else x)\n",
    "\n",
    "# Find relevant subplot data for height\n",
    "height_min_spec = df2.loc[df2['product_name'] == product_name, 'height_min'].iloc[0]\n",
    "height_max_spec = df2.loc[df2['product_name'] == product_name, 'height_max'].iloc[0]\n",
    "height_avg = np.mean(product['measured_height'])\n",
    "count_ht = len(product['measured_height'])\n",
    "min_ht = np.min(product['measured_height'])\n",
    "max_ht = np.max(product['measured_height'])\n",
    "in_spec_ht = product['measured_height'].apply(lambda x: height_min_spec <= x <= height_max_spec)\n",
    "percent_in_spec_ht = (np.sum(in_spec_ht) / count_ht) * 100\n",
    "out_spec_val_ht = product.loc[~in_spec_ht, 'measured_height'].values\n",
    "count_oos_ht = len(out_spec_val_ht)\n",
    "compliance = percent_in_spec_ht > 95.00\n",
    "\n",
    "# Create dataframe for subplot height information\n",
    "subplot_height = pd.DataFrame({\n",
    "    'Product': [product_name],\n",
    "    'Count': [count_ht],\n",
    "    'Min Height': [min_ht],\n",
    "    'Max Height': [max_ht],\n",
    "    'Average Height': [height_avg],\n",
    "    'Pct In Spec': [f\"{percent_in_spec_ht:.2f}%\"],\n",
    "    'Count Offspec': [count_oos_ht],\n",
    "    'Compliant': [compliance]\n",
    "})\n",
    "\n",
    "# Display the transposed dataframe\n",
    "subplot_height.T"
   ]
  },
  {
   "cell_type": "code",
   "execution_count": null,
   "id": "36c85e4a-6428-4478-a4c9-7e0addc1e679",
   "metadata": {},
   "outputs": [],
   "source": []
  },
  {
   "cell_type": "code",
   "execution_count": null,
   "id": "7444358c-23a6-4858-9e5e-d54e976c27a5",
   "metadata": {},
   "outputs": [],
   "source": []
  },
  {
   "cell_type": "code",
   "execution_count": 7,
   "id": "056f9596",
   "metadata": {},
   "outputs": [
    {
     "data": {
      "application/vnd.plotly.v1+json": {
       "config": {
        "plotlyServerURL": "https://plot.ly"
       },
       "data": [
        {
         "alignmentgroup": "True",
         "bingroup": "x",
         "hovertemplate": "measured_weight=%{x}<br>count=%{y}<extra></extra>",
         "legendgroup": "",
         "marker": {
          "color": "#636efa",
          "pattern": {
           "shape": ""
          }
         },
         "name": "",
         "nbinsx": 20,
         "offsetgroup": "",
         "orientation": "v",
         "showlegend": false,
         "type": "histogram",
         "x": [
          19.36,
          20,
          21.12,
          21.18,
          21.2,
          21.12,
          20.64,
          21.36,
          20.3,
          20,
          19.63,
          20.84,
          21.46,
          21.2,
          21,
          20.9,
          20.92,
          20.56,
          20.12,
          19.94,
          20.9,
          20.08,
          21,
          20.7,
          21.8,
          20,
          21.09,
          21,
          21.05,
          21.07,
          20.6,
          21.08,
          21.16,
          21.3,
          20.9,
          20.32,
          21.25,
          19.6,
          21.16,
          21.08,
          21.2,
          21.05,
          21.42,
          20,
          20.94,
          21,
          20.42,
          21.09,
          21.08,
          21.04,
          21.38,
          19.64,
          21.28,
          21.02,
          20.94,
          21.28,
          20.64,
          21.3,
          21.3,
          20.82,
          21,
          21.1,
          21.06,
          20.12,
          21.06,
          20.7,
          21.04,
          20.2,
          21.3,
          20.08,
          19.74,
          20.7,
          20.6,
          21.09,
          21.22,
          20.9,
          21.34,
          21.44,
          20.18,
          19.3,
          20.48,
          20.6,
          21,
          20.98,
          21.09,
          20,
          20.8,
          20.2,
          21.8,
          19.26,
          19.5,
          21.08,
          21.02,
          21.06,
          19.96,
          20.26,
          21.42,
          21.32,
          20.96,
          21.08,
          21.4,
          21.3,
          21.06,
          21.24,
          21.09,
          20.94,
          20.06,
          20.84,
          21.06,
          20.8,
          19.08,
          21.3,
          20.09,
          21.1,
          19.24,
          21.07,
          21.09,
          21.25,
          21,
          21.08,
          21.42,
          20.16
         ],
         "xaxis": "x",
         "yaxis": "y"
        }
       ],
       "layout": {
        "annotations": [
         {
          "showarrow": false,
          "text": "20.77",
          "x": 20.774918032786886,
          "xanchor": "right",
          "xref": "x",
          "y": 1,
          "yanchor": "top",
          "yref": "y domain"
         },
         {
          "showarrow": false,
          "text": "18.95",
          "x": 18.95,
          "xanchor": "right",
          "xref": "x",
          "y": 1,
          "yanchor": "top",
          "yref": "y domain"
         },
         {
          "showarrow": false,
          "text": "21.10",
          "x": 21.1,
          "xanchor": "right",
          "xref": "x",
          "y": 1,
          "yanchor": "top",
          "yref": "y domain"
         }
        ],
        "barmode": "relative",
        "height": 500,
        "legend": {
         "tracegroupgap": 0
        },
        "shapes": [
         {
          "line": {
           "color": "green",
           "width": 3
          },
          "type": "line",
          "x0": 20.774918032786886,
          "x1": 20.774918032786886,
          "xref": "x",
          "y0": 0,
          "y1": 1,
          "yref": "y domain"
         },
         {
          "line": {
           "color": "red",
           "dash": "dash",
           "width": 2
          },
          "type": "line",
          "x0": 18.95,
          "x1": 18.95,
          "xref": "x",
          "y0": 0,
          "y1": 1,
          "yref": "y domain"
         },
         {
          "line": {
           "color": "red",
           "dash": "dash",
           "width": 2
          },
          "type": "line",
          "x0": 21.1,
          "x1": 21.1,
          "xref": "x",
          "y0": 0,
          "y1": 1,
          "yref": "y domain"
         }
        ],
        "showlegend": false,
        "template": {
         "data": {
          "bar": [
           {
            "error_x": {
             "color": "#2a3f5f"
            },
            "error_y": {
             "color": "#2a3f5f"
            },
            "marker": {
             "line": {
              "color": "#E5ECF6",
              "width": 0.5
             },
             "pattern": {
              "fillmode": "overlay",
              "size": 10,
              "solidity": 0.2
             }
            },
            "type": "bar"
           }
          ],
          "barpolar": [
           {
            "marker": {
             "line": {
              "color": "#E5ECF6",
              "width": 0.5
             },
             "pattern": {
              "fillmode": "overlay",
              "size": 10,
              "solidity": 0.2
             }
            },
            "type": "barpolar"
           }
          ],
          "carpet": [
           {
            "aaxis": {
             "endlinecolor": "#2a3f5f",
             "gridcolor": "white",
             "linecolor": "white",
             "minorgridcolor": "white",
             "startlinecolor": "#2a3f5f"
            },
            "baxis": {
             "endlinecolor": "#2a3f5f",
             "gridcolor": "white",
             "linecolor": "white",
             "minorgridcolor": "white",
             "startlinecolor": "#2a3f5f"
            },
            "type": "carpet"
           }
          ],
          "choropleth": [
           {
            "colorbar": {
             "outlinewidth": 0,
             "ticks": ""
            },
            "type": "choropleth"
           }
          ],
          "contour": [
           {
            "colorbar": {
             "outlinewidth": 0,
             "ticks": ""
            },
            "colorscale": [
             [
              0,
              "#0d0887"
             ],
             [
              0.1111111111111111,
              "#46039f"
             ],
             [
              0.2222222222222222,
              "#7201a8"
             ],
             [
              0.3333333333333333,
              "#9c179e"
             ],
             [
              0.4444444444444444,
              "#bd3786"
             ],
             [
              0.5555555555555556,
              "#d8576b"
             ],
             [
              0.6666666666666666,
              "#ed7953"
             ],
             [
              0.7777777777777778,
              "#fb9f3a"
             ],
             [
              0.8888888888888888,
              "#fdca26"
             ],
             [
              1,
              "#f0f921"
             ]
            ],
            "type": "contour"
           }
          ],
          "contourcarpet": [
           {
            "colorbar": {
             "outlinewidth": 0,
             "ticks": ""
            },
            "type": "contourcarpet"
           }
          ],
          "heatmap": [
           {
            "colorbar": {
             "outlinewidth": 0,
             "ticks": ""
            },
            "colorscale": [
             [
              0,
              "#0d0887"
             ],
             [
              0.1111111111111111,
              "#46039f"
             ],
             [
              0.2222222222222222,
              "#7201a8"
             ],
             [
              0.3333333333333333,
              "#9c179e"
             ],
             [
              0.4444444444444444,
              "#bd3786"
             ],
             [
              0.5555555555555556,
              "#d8576b"
             ],
             [
              0.6666666666666666,
              "#ed7953"
             ],
             [
              0.7777777777777778,
              "#fb9f3a"
             ],
             [
              0.8888888888888888,
              "#fdca26"
             ],
             [
              1,
              "#f0f921"
             ]
            ],
            "type": "heatmap"
           }
          ],
          "heatmapgl": [
           {
            "colorbar": {
             "outlinewidth": 0,
             "ticks": ""
            },
            "colorscale": [
             [
              0,
              "#0d0887"
             ],
             [
              0.1111111111111111,
              "#46039f"
             ],
             [
              0.2222222222222222,
              "#7201a8"
             ],
             [
              0.3333333333333333,
              "#9c179e"
             ],
             [
              0.4444444444444444,
              "#bd3786"
             ],
             [
              0.5555555555555556,
              "#d8576b"
             ],
             [
              0.6666666666666666,
              "#ed7953"
             ],
             [
              0.7777777777777778,
              "#fb9f3a"
             ],
             [
              0.8888888888888888,
              "#fdca26"
             ],
             [
              1,
              "#f0f921"
             ]
            ],
            "type": "heatmapgl"
           }
          ],
          "histogram": [
           {
            "marker": {
             "pattern": {
              "fillmode": "overlay",
              "size": 10,
              "solidity": 0.2
             }
            },
            "type": "histogram"
           }
          ],
          "histogram2d": [
           {
            "colorbar": {
             "outlinewidth": 0,
             "ticks": ""
            },
            "colorscale": [
             [
              0,
              "#0d0887"
             ],
             [
              0.1111111111111111,
              "#46039f"
             ],
             [
              0.2222222222222222,
              "#7201a8"
             ],
             [
              0.3333333333333333,
              "#9c179e"
             ],
             [
              0.4444444444444444,
              "#bd3786"
             ],
             [
              0.5555555555555556,
              "#d8576b"
             ],
             [
              0.6666666666666666,
              "#ed7953"
             ],
             [
              0.7777777777777778,
              "#fb9f3a"
             ],
             [
              0.8888888888888888,
              "#fdca26"
             ],
             [
              1,
              "#f0f921"
             ]
            ],
            "type": "histogram2d"
           }
          ],
          "histogram2dcontour": [
           {
            "colorbar": {
             "outlinewidth": 0,
             "ticks": ""
            },
            "colorscale": [
             [
              0,
              "#0d0887"
             ],
             [
              0.1111111111111111,
              "#46039f"
             ],
             [
              0.2222222222222222,
              "#7201a8"
             ],
             [
              0.3333333333333333,
              "#9c179e"
             ],
             [
              0.4444444444444444,
              "#bd3786"
             ],
             [
              0.5555555555555556,
              "#d8576b"
             ],
             [
              0.6666666666666666,
              "#ed7953"
             ],
             [
              0.7777777777777778,
              "#fb9f3a"
             ],
             [
              0.8888888888888888,
              "#fdca26"
             ],
             [
              1,
              "#f0f921"
             ]
            ],
            "type": "histogram2dcontour"
           }
          ],
          "mesh3d": [
           {
            "colorbar": {
             "outlinewidth": 0,
             "ticks": ""
            },
            "type": "mesh3d"
           }
          ],
          "parcoords": [
           {
            "line": {
             "colorbar": {
              "outlinewidth": 0,
              "ticks": ""
             }
            },
            "type": "parcoords"
           }
          ],
          "pie": [
           {
            "automargin": true,
            "type": "pie"
           }
          ],
          "scatter": [
           {
            "fillpattern": {
             "fillmode": "overlay",
             "size": 10,
             "solidity": 0.2
            },
            "type": "scatter"
           }
          ],
          "scatter3d": [
           {
            "line": {
             "colorbar": {
              "outlinewidth": 0,
              "ticks": ""
             }
            },
            "marker": {
             "colorbar": {
              "outlinewidth": 0,
              "ticks": ""
             }
            },
            "type": "scatter3d"
           }
          ],
          "scattercarpet": [
           {
            "marker": {
             "colorbar": {
              "outlinewidth": 0,
              "ticks": ""
             }
            },
            "type": "scattercarpet"
           }
          ],
          "scattergeo": [
           {
            "marker": {
             "colorbar": {
              "outlinewidth": 0,
              "ticks": ""
             }
            },
            "type": "scattergeo"
           }
          ],
          "scattergl": [
           {
            "marker": {
             "colorbar": {
              "outlinewidth": 0,
              "ticks": ""
             }
            },
            "type": "scattergl"
           }
          ],
          "scattermapbox": [
           {
            "marker": {
             "colorbar": {
              "outlinewidth": 0,
              "ticks": ""
             }
            },
            "type": "scattermapbox"
           }
          ],
          "scatterpolar": [
           {
            "marker": {
             "colorbar": {
              "outlinewidth": 0,
              "ticks": ""
             }
            },
            "type": "scatterpolar"
           }
          ],
          "scatterpolargl": [
           {
            "marker": {
             "colorbar": {
              "outlinewidth": 0,
              "ticks": ""
             }
            },
            "type": "scatterpolargl"
           }
          ],
          "scatterternary": [
           {
            "marker": {
             "colorbar": {
              "outlinewidth": 0,
              "ticks": ""
             }
            },
            "type": "scatterternary"
           }
          ],
          "surface": [
           {
            "colorbar": {
             "outlinewidth": 0,
             "ticks": ""
            },
            "colorscale": [
             [
              0,
              "#0d0887"
             ],
             [
              0.1111111111111111,
              "#46039f"
             ],
             [
              0.2222222222222222,
              "#7201a8"
             ],
             [
              0.3333333333333333,
              "#9c179e"
             ],
             [
              0.4444444444444444,
              "#bd3786"
             ],
             [
              0.5555555555555556,
              "#d8576b"
             ],
             [
              0.6666666666666666,
              "#ed7953"
             ],
             [
              0.7777777777777778,
              "#fb9f3a"
             ],
             [
              0.8888888888888888,
              "#fdca26"
             ],
             [
              1,
              "#f0f921"
             ]
            ],
            "type": "surface"
           }
          ],
          "table": [
           {
            "cells": {
             "fill": {
              "color": "#EBF0F8"
             },
             "line": {
              "color": "white"
             }
            },
            "header": {
             "fill": {
              "color": "#C8D4E3"
             },
             "line": {
              "color": "white"
             }
            },
            "type": "table"
           }
          ]
         },
         "layout": {
          "annotationdefaults": {
           "arrowcolor": "#2a3f5f",
           "arrowhead": 0,
           "arrowwidth": 1
          },
          "autotypenumbers": "strict",
          "coloraxis": {
           "colorbar": {
            "outlinewidth": 0,
            "ticks": ""
           }
          },
          "colorscale": {
           "diverging": [
            [
             0,
             "#8e0152"
            ],
            [
             0.1,
             "#c51b7d"
            ],
            [
             0.2,
             "#de77ae"
            ],
            [
             0.3,
             "#f1b6da"
            ],
            [
             0.4,
             "#fde0ef"
            ],
            [
             0.5,
             "#f7f7f7"
            ],
            [
             0.6,
             "#e6f5d0"
            ],
            [
             0.7,
             "#b8e186"
            ],
            [
             0.8,
             "#7fbc41"
            ],
            [
             0.9,
             "#4d9221"
            ],
            [
             1,
             "#276419"
            ]
           ],
           "sequential": [
            [
             0,
             "#0d0887"
            ],
            [
             0.1111111111111111,
             "#46039f"
            ],
            [
             0.2222222222222222,
             "#7201a8"
            ],
            [
             0.3333333333333333,
             "#9c179e"
            ],
            [
             0.4444444444444444,
             "#bd3786"
            ],
            [
             0.5555555555555556,
             "#d8576b"
            ],
            [
             0.6666666666666666,
             "#ed7953"
            ],
            [
             0.7777777777777778,
             "#fb9f3a"
            ],
            [
             0.8888888888888888,
             "#fdca26"
            ],
            [
             1,
             "#f0f921"
            ]
           ],
           "sequentialminus": [
            [
             0,
             "#0d0887"
            ],
            [
             0.1111111111111111,
             "#46039f"
            ],
            [
             0.2222222222222222,
             "#7201a8"
            ],
            [
             0.3333333333333333,
             "#9c179e"
            ],
            [
             0.4444444444444444,
             "#bd3786"
            ],
            [
             0.5555555555555556,
             "#d8576b"
            ],
            [
             0.6666666666666666,
             "#ed7953"
            ],
            [
             0.7777777777777778,
             "#fb9f3a"
            ],
            [
             0.8888888888888888,
             "#fdca26"
            ],
            [
             1,
             "#f0f921"
            ]
           ]
          },
          "colorway": [
           "#636efa",
           "#EF553B",
           "#00cc96",
           "#ab63fa",
           "#FFA15A",
           "#19d3f3",
           "#FF6692",
           "#B6E880",
           "#FF97FF",
           "#FECB52"
          ],
          "font": {
           "color": "#2a3f5f"
          },
          "geo": {
           "bgcolor": "white",
           "lakecolor": "white",
           "landcolor": "#E5ECF6",
           "showlakes": true,
           "showland": true,
           "subunitcolor": "white"
          },
          "hoverlabel": {
           "align": "left"
          },
          "hovermode": "closest",
          "mapbox": {
           "style": "light"
          },
          "paper_bgcolor": "white",
          "plot_bgcolor": "#E5ECF6",
          "polar": {
           "angularaxis": {
            "gridcolor": "white",
            "linecolor": "white",
            "ticks": ""
           },
           "bgcolor": "#E5ECF6",
           "radialaxis": {
            "gridcolor": "white",
            "linecolor": "white",
            "ticks": ""
           }
          },
          "scene": {
           "xaxis": {
            "backgroundcolor": "#E5ECF6",
            "gridcolor": "white",
            "gridwidth": 2,
            "linecolor": "white",
            "showbackground": true,
            "ticks": "",
            "zerolinecolor": "white"
           },
           "yaxis": {
            "backgroundcolor": "#E5ECF6",
            "gridcolor": "white",
            "gridwidth": 2,
            "linecolor": "white",
            "showbackground": true,
            "ticks": "",
            "zerolinecolor": "white"
           },
           "zaxis": {
            "backgroundcolor": "#E5ECF6",
            "gridcolor": "white",
            "gridwidth": 2,
            "linecolor": "white",
            "showbackground": true,
            "ticks": "",
            "zerolinecolor": "white"
           }
          },
          "shapedefaults": {
           "line": {
            "color": "#2a3f5f"
           }
          },
          "ternary": {
           "aaxis": {
            "gridcolor": "white",
            "linecolor": "white",
            "ticks": ""
           },
           "baxis": {
            "gridcolor": "white",
            "linecolor": "white",
            "ticks": ""
           },
           "bgcolor": "#E5ECF6",
           "caxis": {
            "gridcolor": "white",
            "linecolor": "white",
            "ticks": ""
           }
          },
          "title": {
           "x": 0.05
          },
          "xaxis": {
           "automargin": true,
           "gridcolor": "white",
           "linecolor": "white",
           "ticks": "",
           "title": {
            "standoff": 15
           },
           "zerolinecolor": "white",
           "zerolinewidth": 2
          },
          "yaxis": {
           "automargin": true,
           "gridcolor": "white",
           "linecolor": "white",
           "ticks": "",
           "title": {
            "standoff": 15
           },
           "zerolinecolor": "white",
           "zerolinewidth": 2
          }
         }
        },
        "title": {
         "text": "Weight Distribution of 20 oz  Prime Ribeye A"
        },
        "width": 1000,
        "xaxis": {
         "anchor": "y",
         "domain": [
          0,
          1
         ],
         "title": {
          "text": "Weight (oz)"
         }
        },
        "yaxis": {
         "anchor": "x",
         "domain": [
          0,
          1
         ],
         "title": {
          "text": "Count"
         }
        }
       }
      }
     },
     "metadata": {},
     "output_type": "display_data"
    }
   ],
   "source": [
    "#WEIGHT\n",
    "#TEST product: \"8 oz T Tenderloin A\"\n",
    "#SPECIFY product_name = \"8 oz T Tenderloin A\"\n",
    "product_name = \"20 oz  Prime Ribeye A\"\n",
    "\n",
    "# Specify the file path\n",
    "file_path = '../data/cleaned/generic_butcher_cleaned.csv'\n",
    "\n",
    "# Read the CSV file into a DataFrame\n",
    "df = pd.read_csv(file_path)\n",
    "\n",
    "file_path2 = '../data/cleaned/generic_butcher_spec_cleaned.csv'\n",
    "\n",
    "# Read the CSV file into a DataFrame\n",
    "df2 = pd.read_csv(file_path2)\n",
    "\n",
    "# Copy data to preserve original dataset\n",
    "product_data = df.loc[df[\"product_name\"] == product_name]\n",
    "product = product_data.copy()\n",
    "\n",
    "# Adjust decimal point that were obvious errors\n",
    "product['measured_weight'] = product['measured_weight'].apply(lambda x: x * 0.01 if x > 50 else x)\n",
    "\n",
    "# Determine bin min and max in a readable format\n",
    "min_wt = np.min(product['measured_weight'])\n",
    "max_wt = np.max(product['measured_weight'])\n",
    "binmin_wt = np.floor(min_wt)-1\n",
    "binmax_wt = np.ceil(max_wt)+1\n",
    "\n",
    "# Determine spec goal posts\n",
    "weight_min_spec = df2.loc[df2['product_name'] == product_name, 'weight_min'].iloc[0]\n",
    "weight_max_spec = df2.loc[df2['product_name'] == product_name, 'weight_max'].iloc[0]\n",
    "weight_avg = np.mean(product['measured_weight'])\n",
    "\n",
    "# Created bins based on the quarter ounce\n",
    "num_bins_wt = int((binmax_wt - binmin_wt) * 1/.25)\n",
    "\n",
    "# Pulls measured weight data for the x value of the histogram\n",
    "product_weights = product['measured_weight']\n",
    "\n",
    "# Create the histogram using Plotly Express\n",
    "fig = px.histogram(product, x='measured_weight', nbins=num_bins_wt, title=f\"Weight Distribution of {product_name}\")\n",
    "\n",
    "# Add vertical lines for average, min spec, and max spec using add_vline\n",
    "fig.add_vline(x=weight_avg, line=dict(color=\"green\", width=3), annotation_text=f\"{weight_avg:.2f}\", annotation_position=\"top left\")\n",
    "fig.add_vline(x=weight_min_spec, line=dict(color=\"red\", width=2, dash='dash'), annotation_text= f\"{weight_min_spec:.2f}\", annotation_position=\"top left\")\n",
    "fig.add_vline(x=weight_max_spec, line=dict(color=\"red\", width=2, dash='dash'), annotation_text=f\"{weight_max_spec:.2f}\", annotation_position=\"top left\")\n",
    "\n",
    "# Update xaxis and yaxis labels\n",
    "fig.update_layout(\n",
    "    width=1000,\n",
    "    height=500,\n",
    "    xaxis_title='Weight (oz)',\n",
    "    yaxis_title='Count',\n",
    "    showlegend=False\n",
    ")\n",
    "\n",
    "# Show the plot\n",
    "fig.show()\n"
   ]
  },
  {
   "cell_type": "code",
   "execution_count": 8,
   "id": "82497537",
   "metadata": {},
   "outputs": [
    {
     "data": {
      "application/vnd.plotly.v1+json": {
       "config": {
        "plotlyServerURL": "https://plot.ly"
       },
       "data": [
        {
         "alignmentgroup": "True",
         "bingroup": "x",
         "hovertemplate": "measured_height=%{x}<br>count=%{y}<extra></extra>",
         "legendgroup": "",
         "marker": {
          "color": "#636efa",
          "pattern": {
           "shape": ""
          }
         },
         "name": "",
         "nbinsx": 40,
         "offsetgroup": "",
         "orientation": "v",
         "showlegend": false,
         "type": "histogram",
         "x": [
          1.48599,
          1.0869,
          1.07905,
          1.35046,
          1.72608,
          1.43025,
          1.18863,
          1.31047,
          1.20732,
          1.35304,
          1.01858,
          1.39432,
          1.17912,
          1.38874,
          1.29252,
          1.32445,
          1.43647,
          1.20634,
          1.3833,
          1.06009,
          1.24098,
          1.23968,
          1.38772,
          1.21153,
          1.32845,
          1.2326,
          1.37793,
          1.21436,
          1.31257,
          1.20075,
          1.50685,
          1.33221,
          1.32142,
          1.41258,
          1.35271,
          1.3489,
          1.3651,
          1.32074,
          1.66349,
          1.29585,
          1.95839,
          1.33997,
          1.27525,
          1.21272,
          1.15204,
          1.21315,
          1.2159,
          1.28857,
          1.37733,
          1.76117,
          1.2514,
          1.36972,
          1.27204,
          1.33388,
          1.1005,
          1.35347,
          1.45019,
          1.39252,
          1.34741,
          1.4546,
          1.25049,
          1.41463,
          1.35058,
          1.25113,
          1.29976,
          1.33326,
          1.75825,
          1.38806,
          1.26098,
          1.22972,
          1.06417,
          1.24506,
          1.07157,
          1.2463,
          1.18305,
          1.34742,
          1.25402,
          1.11415,
          1.22903,
          1.35486,
          1.11206,
          1.02202,
          1.25296,
          1.25452,
          1.35635,
          1.36748,
          1.29139,
          1.19651,
          1.373,
          1.14849,
          1.45072,
          1.14311,
          1.28354,
          1.35356,
          1.12133,
          1.43883,
          1.19392,
          1.50424,
          1.0684,
          1.39842,
          1.34509,
          1.42028,
          1.49204,
          1.30312,
          1.31495,
          1.30986,
          1.27483,
          1.21025,
          1.35275,
          1.34459,
          0.967064,
          1.32168,
          1.22101,
          1.15742,
          1.38899,
          1.19623,
          1.16149,
          1.19484,
          1.43103,
          1.60385,
          1.24791,
          0.977471
         ],
         "xaxis": "x",
         "yaxis": "y"
        }
       ],
       "layout": {
        "annotations": [
         {
          "showarrow": false,
          "text": "1.30",
          "x": 1.302482336065574,
          "xanchor": "right",
          "xref": "x",
          "y": 1,
          "yanchor": "top",
          "yref": "y domain"
         },
         {
          "showarrow": false,
          "text": "0.95",
          "x": 0.95,
          "xanchor": "right",
          "xref": "x",
          "y": 1,
          "yanchor": "top",
          "yref": "y domain"
         },
         {
          "showarrow": false,
          "text": "2.00",
          "x": 2,
          "xanchor": "right",
          "xref": "x",
          "y": 1,
          "yanchor": "top",
          "yref": "y domain"
         }
        ],
        "barmode": "relative",
        "height": 500,
        "legend": {
         "tracegroupgap": 0
        },
        "shapes": [
         {
          "line": {
           "color": "green",
           "width": 3
          },
          "type": "line",
          "x0": 1.302482336065574,
          "x1": 1.302482336065574,
          "xref": "x",
          "y0": 0,
          "y1": 1,
          "yref": "y domain"
         },
         {
          "line": {
           "color": "red",
           "dash": "dash",
           "width": 2
          },
          "type": "line",
          "x0": 0.95,
          "x1": 0.95,
          "xref": "x",
          "y0": 0,
          "y1": 1,
          "yref": "y domain"
         },
         {
          "line": {
           "color": "red",
           "dash": "dash",
           "width": 2
          },
          "type": "line",
          "x0": 2,
          "x1": 2,
          "xref": "x",
          "y0": 0,
          "y1": 1,
          "yref": "y domain"
         }
        ],
        "showlegend": false,
        "template": {
         "data": {
          "bar": [
           {
            "error_x": {
             "color": "#2a3f5f"
            },
            "error_y": {
             "color": "#2a3f5f"
            },
            "marker": {
             "line": {
              "color": "#E5ECF6",
              "width": 0.5
             },
             "pattern": {
              "fillmode": "overlay",
              "size": 10,
              "solidity": 0.2
             }
            },
            "type": "bar"
           }
          ],
          "barpolar": [
           {
            "marker": {
             "line": {
              "color": "#E5ECF6",
              "width": 0.5
             },
             "pattern": {
              "fillmode": "overlay",
              "size": 10,
              "solidity": 0.2
             }
            },
            "type": "barpolar"
           }
          ],
          "carpet": [
           {
            "aaxis": {
             "endlinecolor": "#2a3f5f",
             "gridcolor": "white",
             "linecolor": "white",
             "minorgridcolor": "white",
             "startlinecolor": "#2a3f5f"
            },
            "baxis": {
             "endlinecolor": "#2a3f5f",
             "gridcolor": "white",
             "linecolor": "white",
             "minorgridcolor": "white",
             "startlinecolor": "#2a3f5f"
            },
            "type": "carpet"
           }
          ],
          "choropleth": [
           {
            "colorbar": {
             "outlinewidth": 0,
             "ticks": ""
            },
            "type": "choropleth"
           }
          ],
          "contour": [
           {
            "colorbar": {
             "outlinewidth": 0,
             "ticks": ""
            },
            "colorscale": [
             [
              0,
              "#0d0887"
             ],
             [
              0.1111111111111111,
              "#46039f"
             ],
             [
              0.2222222222222222,
              "#7201a8"
             ],
             [
              0.3333333333333333,
              "#9c179e"
             ],
             [
              0.4444444444444444,
              "#bd3786"
             ],
             [
              0.5555555555555556,
              "#d8576b"
             ],
             [
              0.6666666666666666,
              "#ed7953"
             ],
             [
              0.7777777777777778,
              "#fb9f3a"
             ],
             [
              0.8888888888888888,
              "#fdca26"
             ],
             [
              1,
              "#f0f921"
             ]
            ],
            "type": "contour"
           }
          ],
          "contourcarpet": [
           {
            "colorbar": {
             "outlinewidth": 0,
             "ticks": ""
            },
            "type": "contourcarpet"
           }
          ],
          "heatmap": [
           {
            "colorbar": {
             "outlinewidth": 0,
             "ticks": ""
            },
            "colorscale": [
             [
              0,
              "#0d0887"
             ],
             [
              0.1111111111111111,
              "#46039f"
             ],
             [
              0.2222222222222222,
              "#7201a8"
             ],
             [
              0.3333333333333333,
              "#9c179e"
             ],
             [
              0.4444444444444444,
              "#bd3786"
             ],
             [
              0.5555555555555556,
              "#d8576b"
             ],
             [
              0.6666666666666666,
              "#ed7953"
             ],
             [
              0.7777777777777778,
              "#fb9f3a"
             ],
             [
              0.8888888888888888,
              "#fdca26"
             ],
             [
              1,
              "#f0f921"
             ]
            ],
            "type": "heatmap"
           }
          ],
          "heatmapgl": [
           {
            "colorbar": {
             "outlinewidth": 0,
             "ticks": ""
            },
            "colorscale": [
             [
              0,
              "#0d0887"
             ],
             [
              0.1111111111111111,
              "#46039f"
             ],
             [
              0.2222222222222222,
              "#7201a8"
             ],
             [
              0.3333333333333333,
              "#9c179e"
             ],
             [
              0.4444444444444444,
              "#bd3786"
             ],
             [
              0.5555555555555556,
              "#d8576b"
             ],
             [
              0.6666666666666666,
              "#ed7953"
             ],
             [
              0.7777777777777778,
              "#fb9f3a"
             ],
             [
              0.8888888888888888,
              "#fdca26"
             ],
             [
              1,
              "#f0f921"
             ]
            ],
            "type": "heatmapgl"
           }
          ],
          "histogram": [
           {
            "marker": {
             "pattern": {
              "fillmode": "overlay",
              "size": 10,
              "solidity": 0.2
             }
            },
            "type": "histogram"
           }
          ],
          "histogram2d": [
           {
            "colorbar": {
             "outlinewidth": 0,
             "ticks": ""
            },
            "colorscale": [
             [
              0,
              "#0d0887"
             ],
             [
              0.1111111111111111,
              "#46039f"
             ],
             [
              0.2222222222222222,
              "#7201a8"
             ],
             [
              0.3333333333333333,
              "#9c179e"
             ],
             [
              0.4444444444444444,
              "#bd3786"
             ],
             [
              0.5555555555555556,
              "#d8576b"
             ],
             [
              0.6666666666666666,
              "#ed7953"
             ],
             [
              0.7777777777777778,
              "#fb9f3a"
             ],
             [
              0.8888888888888888,
              "#fdca26"
             ],
             [
              1,
              "#f0f921"
             ]
            ],
            "type": "histogram2d"
           }
          ],
          "histogram2dcontour": [
           {
            "colorbar": {
             "outlinewidth": 0,
             "ticks": ""
            },
            "colorscale": [
             [
              0,
              "#0d0887"
             ],
             [
              0.1111111111111111,
              "#46039f"
             ],
             [
              0.2222222222222222,
              "#7201a8"
             ],
             [
              0.3333333333333333,
              "#9c179e"
             ],
             [
              0.4444444444444444,
              "#bd3786"
             ],
             [
              0.5555555555555556,
              "#d8576b"
             ],
             [
              0.6666666666666666,
              "#ed7953"
             ],
             [
              0.7777777777777778,
              "#fb9f3a"
             ],
             [
              0.8888888888888888,
              "#fdca26"
             ],
             [
              1,
              "#f0f921"
             ]
            ],
            "type": "histogram2dcontour"
           }
          ],
          "mesh3d": [
           {
            "colorbar": {
             "outlinewidth": 0,
             "ticks": ""
            },
            "type": "mesh3d"
           }
          ],
          "parcoords": [
           {
            "line": {
             "colorbar": {
              "outlinewidth": 0,
              "ticks": ""
             }
            },
            "type": "parcoords"
           }
          ],
          "pie": [
           {
            "automargin": true,
            "type": "pie"
           }
          ],
          "scatter": [
           {
            "fillpattern": {
             "fillmode": "overlay",
             "size": 10,
             "solidity": 0.2
            },
            "type": "scatter"
           }
          ],
          "scatter3d": [
           {
            "line": {
             "colorbar": {
              "outlinewidth": 0,
              "ticks": ""
             }
            },
            "marker": {
             "colorbar": {
              "outlinewidth": 0,
              "ticks": ""
             }
            },
            "type": "scatter3d"
           }
          ],
          "scattercarpet": [
           {
            "marker": {
             "colorbar": {
              "outlinewidth": 0,
              "ticks": ""
             }
            },
            "type": "scattercarpet"
           }
          ],
          "scattergeo": [
           {
            "marker": {
             "colorbar": {
              "outlinewidth": 0,
              "ticks": ""
             }
            },
            "type": "scattergeo"
           }
          ],
          "scattergl": [
           {
            "marker": {
             "colorbar": {
              "outlinewidth": 0,
              "ticks": ""
             }
            },
            "type": "scattergl"
           }
          ],
          "scattermapbox": [
           {
            "marker": {
             "colorbar": {
              "outlinewidth": 0,
              "ticks": ""
             }
            },
            "type": "scattermapbox"
           }
          ],
          "scatterpolar": [
           {
            "marker": {
             "colorbar": {
              "outlinewidth": 0,
              "ticks": ""
             }
            },
            "type": "scatterpolar"
           }
          ],
          "scatterpolargl": [
           {
            "marker": {
             "colorbar": {
              "outlinewidth": 0,
              "ticks": ""
             }
            },
            "type": "scatterpolargl"
           }
          ],
          "scatterternary": [
           {
            "marker": {
             "colorbar": {
              "outlinewidth": 0,
              "ticks": ""
             }
            },
            "type": "scatterternary"
           }
          ],
          "surface": [
           {
            "colorbar": {
             "outlinewidth": 0,
             "ticks": ""
            },
            "colorscale": [
             [
              0,
              "#0d0887"
             ],
             [
              0.1111111111111111,
              "#46039f"
             ],
             [
              0.2222222222222222,
              "#7201a8"
             ],
             [
              0.3333333333333333,
              "#9c179e"
             ],
             [
              0.4444444444444444,
              "#bd3786"
             ],
             [
              0.5555555555555556,
              "#d8576b"
             ],
             [
              0.6666666666666666,
              "#ed7953"
             ],
             [
              0.7777777777777778,
              "#fb9f3a"
             ],
             [
              0.8888888888888888,
              "#fdca26"
             ],
             [
              1,
              "#f0f921"
             ]
            ],
            "type": "surface"
           }
          ],
          "table": [
           {
            "cells": {
             "fill": {
              "color": "#EBF0F8"
             },
             "line": {
              "color": "white"
             }
            },
            "header": {
             "fill": {
              "color": "#C8D4E3"
             },
             "line": {
              "color": "white"
             }
            },
            "type": "table"
           }
          ]
         },
         "layout": {
          "annotationdefaults": {
           "arrowcolor": "#2a3f5f",
           "arrowhead": 0,
           "arrowwidth": 1
          },
          "autotypenumbers": "strict",
          "coloraxis": {
           "colorbar": {
            "outlinewidth": 0,
            "ticks": ""
           }
          },
          "colorscale": {
           "diverging": [
            [
             0,
             "#8e0152"
            ],
            [
             0.1,
             "#c51b7d"
            ],
            [
             0.2,
             "#de77ae"
            ],
            [
             0.3,
             "#f1b6da"
            ],
            [
             0.4,
             "#fde0ef"
            ],
            [
             0.5,
             "#f7f7f7"
            ],
            [
             0.6,
             "#e6f5d0"
            ],
            [
             0.7,
             "#b8e186"
            ],
            [
             0.8,
             "#7fbc41"
            ],
            [
             0.9,
             "#4d9221"
            ],
            [
             1,
             "#276419"
            ]
           ],
           "sequential": [
            [
             0,
             "#0d0887"
            ],
            [
             0.1111111111111111,
             "#46039f"
            ],
            [
             0.2222222222222222,
             "#7201a8"
            ],
            [
             0.3333333333333333,
             "#9c179e"
            ],
            [
             0.4444444444444444,
             "#bd3786"
            ],
            [
             0.5555555555555556,
             "#d8576b"
            ],
            [
             0.6666666666666666,
             "#ed7953"
            ],
            [
             0.7777777777777778,
             "#fb9f3a"
            ],
            [
             0.8888888888888888,
             "#fdca26"
            ],
            [
             1,
             "#f0f921"
            ]
           ],
           "sequentialminus": [
            [
             0,
             "#0d0887"
            ],
            [
             0.1111111111111111,
             "#46039f"
            ],
            [
             0.2222222222222222,
             "#7201a8"
            ],
            [
             0.3333333333333333,
             "#9c179e"
            ],
            [
             0.4444444444444444,
             "#bd3786"
            ],
            [
             0.5555555555555556,
             "#d8576b"
            ],
            [
             0.6666666666666666,
             "#ed7953"
            ],
            [
             0.7777777777777778,
             "#fb9f3a"
            ],
            [
             0.8888888888888888,
             "#fdca26"
            ],
            [
             1,
             "#f0f921"
            ]
           ]
          },
          "colorway": [
           "#636efa",
           "#EF553B",
           "#00cc96",
           "#ab63fa",
           "#FFA15A",
           "#19d3f3",
           "#FF6692",
           "#B6E880",
           "#FF97FF",
           "#FECB52"
          ],
          "font": {
           "color": "#2a3f5f"
          },
          "geo": {
           "bgcolor": "white",
           "lakecolor": "white",
           "landcolor": "#E5ECF6",
           "showlakes": true,
           "showland": true,
           "subunitcolor": "white"
          },
          "hoverlabel": {
           "align": "left"
          },
          "hovermode": "closest",
          "mapbox": {
           "style": "light"
          },
          "paper_bgcolor": "white",
          "plot_bgcolor": "#E5ECF6",
          "polar": {
           "angularaxis": {
            "gridcolor": "white",
            "linecolor": "white",
            "ticks": ""
           },
           "bgcolor": "#E5ECF6",
           "radialaxis": {
            "gridcolor": "white",
            "linecolor": "white",
            "ticks": ""
           }
          },
          "scene": {
           "xaxis": {
            "backgroundcolor": "#E5ECF6",
            "gridcolor": "white",
            "gridwidth": 2,
            "linecolor": "white",
            "showbackground": true,
            "ticks": "",
            "zerolinecolor": "white"
           },
           "yaxis": {
            "backgroundcolor": "#E5ECF6",
            "gridcolor": "white",
            "gridwidth": 2,
            "linecolor": "white",
            "showbackground": true,
            "ticks": "",
            "zerolinecolor": "white"
           },
           "zaxis": {
            "backgroundcolor": "#E5ECF6",
            "gridcolor": "white",
            "gridwidth": 2,
            "linecolor": "white",
            "showbackground": true,
            "ticks": "",
            "zerolinecolor": "white"
           }
          },
          "shapedefaults": {
           "line": {
            "color": "#2a3f5f"
           }
          },
          "ternary": {
           "aaxis": {
            "gridcolor": "white",
            "linecolor": "white",
            "ticks": ""
           },
           "baxis": {
            "gridcolor": "white",
            "linecolor": "white",
            "ticks": ""
           },
           "bgcolor": "#E5ECF6",
           "caxis": {
            "gridcolor": "white",
            "linecolor": "white",
            "ticks": ""
           }
          },
          "title": {
           "x": 0.05
          },
          "xaxis": {
           "automargin": true,
           "gridcolor": "white",
           "linecolor": "white",
           "ticks": "",
           "title": {
            "standoff": 15
           },
           "zerolinecolor": "white",
           "zerolinewidth": 2
          },
          "yaxis": {
           "automargin": true,
           "gridcolor": "white",
           "linecolor": "white",
           "ticks": "",
           "title": {
            "standoff": 15
           },
           "zerolinecolor": "white",
           "zerolinewidth": 2
          }
         }
        },
        "title": {
         "text": "Thickness Distribution of 20 oz  Prime Ribeye A"
        },
        "width": 1000,
        "xaxis": {
         "anchor": "y",
         "domain": [
          0,
          1
         ],
         "title": {
          "text": "Height (in)"
         }
        },
        "yaxis": {
         "anchor": "x",
         "domain": [
          0,
          1
         ],
         "title": {
          "text": "Count"
         }
        }
       }
      }
     },
     "metadata": {},
     "output_type": "display_data"
    }
   ],
   "source": [
    "#THICKNESS (NOTE-- min thick needs to be removed at cleaning stage)\n",
    "#TEST product: \"8 oz T Tenderloin A\"\n",
    "# Specify the product name\n",
    "# product_name = \"8 oz T Tenderloin A\"\n",
    "product_name = \"20 oz  Prime Ribeye A\"\n",
    "# Specify the file path\n",
    "file_path = '../data/cleaned/generic_butcher_cleaned.csv'\n",
    "\n",
    "# Read the CSV file into a DataFrame\n",
    "df = pd.read_csv(file_path)\n",
    "\n",
    "file_path2 = '../data/cleaned/generic_butcher_spec_cleaned.csv'\n",
    "\n",
    "# Read the CSV file into a DataFrame\n",
    "df2 = pd.read_csv(file_path2)\n",
    "\n",
    "# Copy data to preserve original dataset\n",
    "product_data = df.loc[df[\"product_name\"] == product_name]\n",
    "product = product_data.copy()\n",
    "\n",
    "# Determine bin min and max in a readable format\n",
    "min_ht = np.min(product['measured_height'])\n",
    "max_ht = np.max(product['measured_height'])\n",
    "binmin_ht = np.floor(min_ht)-1\n",
    "binmax_ht = np.ceil(max_ht)+1\n",
    "\n",
    "# Determine spec goal posts\n",
    "height_min_spec = df2.loc[df2['product_name'] == product_name, 'height_min'].iloc[0]\n",
    "height_max_spec = df2.loc[df2['product_name'] == product_name, 'height_max'].iloc[0]\n",
    "\n",
    "# Calculate average height\n",
    "height_avg = np.mean(product['measured_height'])\n",
    "\n",
    "# Created bins based on the 0.1 inch increments\n",
    "num_bins_ht = int((binmax_ht - binmin_ht) * 1/.1)\n",
    "\n",
    "# Pulls measured height data for the x value of the histogram\n",
    "product_heights = product['measured_height']\n",
    "\n",
    "# Create the histogram using Plotly Express\n",
    "fig = px.histogram(product, x='measured_height', nbins=num_bins_ht, title=f\"Thickness Distribution of {product_name}\")\n",
    "\n",
    "# Add vertical lines for average, min spec, and max spec using add_vline\n",
    "fig.add_vline(x=height_avg, line=dict(color=\"green\", width=3), annotation_text=f\"{height_avg:.2f}\", annotation_position=\"top left\")\n",
    "fig.add_vline(x=height_min_spec, line=dict(color=\"red\", width=2, dash='dash'), annotation_text=f\"{height_min_spec:.2f}\", annotation_position=\"top left\")\n",
    "fig.add_vline(x=height_max_spec, line=dict(color=\"red\", width=2, dash='dash'), annotation_text=f\"{height_max_spec:.2f}\", annotation_position=\"top left\")\n",
    "\n",
    "# Update xaxis and yaxis labels\n",
    "fig.update_layout(\n",
    "    width=1000,\n",
    "    height=500,\n",
    "    xaxis_title='Height (in)',\n",
    "    yaxis_title='Count',\n",
    "    showlegend=False\n",
    ")\n",
    "\n",
    "# Show the plot\n",
    "fig.show()"
   ]
  },
  {
   "cell_type": "code",
   "execution_count": null,
   "id": "5c5007a0",
   "metadata": {},
   "outputs": [],
   "source": []
  }
 ],
 "metadata": {
  "kernelspec": {
   "display_name": "Python 3 (ipykernel)",
   "language": "python",
   "name": "python3"
  },
  "language_info": {
   "codemirror_mode": {
    "name": "ipython",
    "version": 3
   },
   "file_extension": ".py",
   "mimetype": "text/x-python",
   "name": "python",
   "nbconvert_exporter": "python",
   "pygments_lexer": "ipython3",
   "version": "3.11.7"
  }
 },
 "nbformat": 4,
 "nbformat_minor": 5
}
