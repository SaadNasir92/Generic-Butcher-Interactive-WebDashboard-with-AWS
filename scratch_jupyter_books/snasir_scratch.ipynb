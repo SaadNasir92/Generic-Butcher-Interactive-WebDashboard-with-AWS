{
 "cells": [
  {
   "cell_type": "code",
   "execution_count": 2,
   "metadata": {},
   "outputs": [],
   "source": [
    "import pandas as pd \n"
   ]
  },
  {
   "cell_type": "code",
   "execution_count": 3,
   "metadata": {},
   "outputs": [],
   "source": [
    "df_spec = pd.read_csv('../data/cleaned/generic_butcher_spec_cleaned.csv')\n",
    "df = pd.read_csv('../data/cleaned/generic_butcher_cleaned.csv')"
   ]
  },
  {
   "cell_type": "code",
   "execution_count": 32,
   "metadata": {},
   "outputs": [
    {
     "data": {
      "text/plain": [
       "28"
      ]
     },
     "execution_count": 32,
     "metadata": {},
     "output_type": "execute_result"
    }
   ],
   "source": [
    "df.loc[df['measured_height'] < .05].count().values[0]"
   ]
  },
  {
   "cell_type": "code",
   "execution_count": 37,
   "metadata": {},
   "outputs": [
    {
     "data": {
      "text/plain": [
       "34356"
      ]
     },
     "execution_count": 37,
     "metadata": {},
     "output_type": "execute_result"
    }
   ],
   "source": [
    "df.shape[0]"
   ]
  },
  {
   "cell_type": "code",
   "execution_count": 33,
   "metadata": {},
   "outputs": [
    {
     "data": {
      "text/plain": [
       "34328"
      ]
     },
     "execution_count": 33,
     "metadata": {},
     "output_type": "execute_result"
    }
   ],
   "source": [
    "df.shape[0] - df.loc[df['measured_height'] < .05].count().values[0]"
   ]
  },
  {
   "cell_type": "code",
   "execution_count": 38,
   "metadata": {},
   "outputs": [
    {
     "data": {
      "text/plain": [
       "34356"
      ]
     },
     "execution_count": 38,
     "metadata": {},
     "output_type": "execute_result"
    }
   ],
   "source": [
    "34328 + 28 "
   ]
  },
  {
   "cell_type": "code",
   "execution_count": 4,
   "metadata": {},
   "outputs": [
    {
     "data": {
      "text/plain": [
       "0"
      ]
     },
     "execution_count": 4,
     "metadata": {},
     "output_type": "execute_result"
    }
   ],
   "source": [
    "df.loc[df['measured_height'] < .05].count().values[0]"
   ]
  },
  {
   "cell_type": "code",
   "execution_count": 5,
   "metadata": {},
   "outputs": [
    {
     "data": {
      "text/plain": [
       "34328"
      ]
     },
     "execution_count": 5,
     "metadata": {},
     "output_type": "execute_result"
    }
   ],
   "source": [
    "df.shape[0]"
   ]
  },
  {
   "cell_type": "code",
   "execution_count": null,
   "metadata": {},
   "outputs": [],
   "source": []
  },
  {
   "cell_type": "code",
   "execution_count": null,
   "metadata": {},
   "outputs": [],
   "source": []
  },
  {
   "cell_type": "code",
   "execution_count": null,
   "metadata": {},
   "outputs": [],
   "source": []
  },
  {
   "cell_type": "code",
   "execution_count": null,
   "metadata": {},
   "outputs": [],
   "source": []
  },
  {
   "cell_type": "code",
   "execution_count": null,
   "metadata": {},
   "outputs": [],
   "source": []
  },
  {
   "cell_type": "code",
   "execution_count": null,
   "metadata": {},
   "outputs": [],
   "source": []
  },
  {
   "cell_type": "code",
   "execution_count": null,
   "metadata": {},
   "outputs": [],
   "source": []
  },
  {
   "cell_type": "code",
   "execution_count": null,
   "metadata": {},
   "outputs": [],
   "source": []
  },
  {
   "cell_type": "code",
   "execution_count": null,
   "metadata": {},
   "outputs": [],
   "source": []
  },
  {
   "cell_type": "code",
   "execution_count": null,
   "metadata": {},
   "outputs": [],
   "source": []
  },
  {
   "cell_type": "code",
   "execution_count": null,
   "metadata": {},
   "outputs": [],
   "source": []
  },
  {
   "cell_type": "code",
   "execution_count": null,
   "metadata": {},
   "outputs": [],
   "source": []
  },
  {
   "cell_type": "code",
   "execution_count": null,
   "metadata": {},
   "outputs": [],
   "source": []
  },
  {
   "cell_type": "code",
   "execution_count": null,
   "metadata": {},
   "outputs": [],
   "source": []
  },
  {
   "cell_type": "code",
   "execution_count": null,
   "metadata": {},
   "outputs": [],
   "source": []
  },
  {
   "cell_type": "code",
   "execution_count": null,
   "metadata": {},
   "outputs": [],
   "source": []
  },
  {
   "cell_type": "code",
   "execution_count": null,
   "metadata": {},
   "outputs": [],
   "source": []
  },
  {
   "cell_type": "code",
   "execution_count": null,
   "metadata": {},
   "outputs": [],
   "source": []
  },
  {
   "cell_type": "code",
   "execution_count": null,
   "metadata": {},
   "outputs": [],
   "source": []
  },
  {
   "cell_type": "code",
   "execution_count": null,
   "metadata": {},
   "outputs": [],
   "source": []
  },
  {
   "cell_type": "code",
   "execution_count": null,
   "metadata": {},
   "outputs": [],
   "source": []
  },
  {
   "cell_type": "code",
   "execution_count": null,
   "metadata": {},
   "outputs": [],
   "source": []
  },
  {
   "cell_type": "code",
   "execution_count": null,
   "metadata": {},
   "outputs": [],
   "source": []
  },
  {
   "cell_type": "code",
   "execution_count": null,
   "metadata": {},
   "outputs": [],
   "source": []
  },
  {
   "cell_type": "code",
   "execution_count": null,
   "metadata": {},
   "outputs": [],
   "source": []
  },
  {
   "cell_type": "code",
   "execution_count": 5,
   "metadata": {},
   "outputs": [
    {
     "data": {
      "text/plain": [
       "array(['10 oz  Sirloin A', '11 oz  Sirloin B', '11 oz  Sirloin C',\n",
       "       '13 oz  Ribeye Tail A', '16 oz  Strip A',\n",
       "       '16 oz  Dry Age Ribeye A', '16 oz  Prime Strip A',\n",
       "       '16 oz  Ribeye Tail A', '18 oz  Ribeye A', '20 oz  Prime Ribeye A',\n",
       "       '22 oz  Porterhouse A', '3.5 oz Tender Bits A',\n",
       "       '4 oz T Tenderloin Tail A', '5 oz S Sirloin A', '5 oz S Sirloin B',\n",
       "       '6 oz S Sirloin A', '6 oz S Sirloin B', '6 oz T Tenderloin A',\n",
       "       '7 oz S Sirloin A', '7 oz S Sirloin B', '7 oz T Tenderloin A',\n",
       "       '8 oz P Pork Chop A', '8 oz S Sirloin A', '8 oz S Sirloin B',\n",
       "       '8 oz T Tenderloin A', '9 oz S Sirloin A', '9 oz T Tenderloin A'],\n",
       "      dtype=object)"
      ]
     },
     "execution_count": 5,
     "metadata": {},
     "output_type": "execute_result"
    }
   ],
   "source": [
    "df_spec['product'].values"
   ]
  },
  {
   "cell_type": "code",
   "execution_count": 8,
   "metadata": {},
   "outputs": [
    {
     "data": {
      "text/plain": [
       "(36160, 4)"
      ]
     },
     "execution_count": 8,
     "metadata": {},
     "output_type": "execute_result"
    }
   ],
   "source": [
    "df.shape"
   ]
  },
  {
   "cell_type": "code",
   "execution_count": 11,
   "metadata": {},
   "outputs": [],
   "source": [
    "df1 = df.merge(df_spec, how='left', on='product')"
   ]
  },
  {
   "cell_type": "code",
   "execution_count": 14,
   "metadata": {},
   "outputs": [
    {
     "data": {
      "text/html": [
       "<div>\n",
       "<style scoped>\n",
       "    .dataframe tbody tr th:only-of-type {\n",
       "        vertical-align: middle;\n",
       "    }\n",
       "\n",
       "    .dataframe tbody tr th {\n",
       "        vertical-align: top;\n",
       "    }\n",
       "\n",
       "    .dataframe thead th {\n",
       "        text-align: right;\n",
       "    }\n",
       "</style>\n",
       "<table border=\"1\" class=\"dataframe\">\n",
       "  <thead>\n",
       "    <tr style=\"text-align: right;\">\n",
       "      <th></th>\n",
       "      <th>product</th>\n",
       "      <th>date_time</th>\n",
       "      <th>external_measurement_weight</th>\n",
       "      <th>height_avg</th>\n",
       "      <th>weight_min_</th>\n",
       "      <th>weight_max</th>\n",
       "      <th>thick_min_</th>\n",
       "      <th>thick_max</th>\n",
       "    </tr>\n",
       "  </thead>\n",
       "  <tbody>\n",
       "    <tr>\n",
       "      <th>0</th>\n",
       "      <td>13 oz  Ribeye Tail A</td>\n",
       "      <td>2024-06-03 07:16:28</td>\n",
       "      <td>16.76</td>\n",
       "      <td>1.62952</td>\n",
       "      <td>11.95</td>\n",
       "      <td>14.04</td>\n",
       "      <td>0.5</td>\n",
       "      <td>3.00</td>\n",
       "    </tr>\n",
       "    <tr>\n",
       "      <th>1</th>\n",
       "      <td>13 oz  Ribeye Tail A</td>\n",
       "      <td>2024-06-03 07:16:47</td>\n",
       "      <td>16.12</td>\n",
       "      <td>1.02086</td>\n",
       "      <td>11.95</td>\n",
       "      <td>14.04</td>\n",
       "      <td>0.5</td>\n",
       "      <td>3.00</td>\n",
       "    </tr>\n",
       "    <tr>\n",
       "      <th>2</th>\n",
       "      <td>16 oz  Ribeye Tail A</td>\n",
       "      <td>2024-06-03 07:17:36</td>\n",
       "      <td>16.34</td>\n",
       "      <td>1.03975</td>\n",
       "      <td>14.95</td>\n",
       "      <td>17.04</td>\n",
       "      <td>0.5</td>\n",
       "      <td>3.00</td>\n",
       "    </tr>\n",
       "    <tr>\n",
       "      <th>3</th>\n",
       "      <td>16 oz  Ribeye Tail A</td>\n",
       "      <td>2024-06-03 07:17:53</td>\n",
       "      <td>16.16</td>\n",
       "      <td>1.05378</td>\n",
       "      <td>14.95</td>\n",
       "      <td>17.04</td>\n",
       "      <td>0.5</td>\n",
       "      <td>3.00</td>\n",
       "    </tr>\n",
       "    <tr>\n",
       "      <th>4</th>\n",
       "      <td>16 oz  Ribeye Tail A</td>\n",
       "      <td>2024-06-03 07:18:08</td>\n",
       "      <td>16.12</td>\n",
       "      <td>1.03522</td>\n",
       "      <td>14.95</td>\n",
       "      <td>17.04</td>\n",
       "      <td>0.5</td>\n",
       "      <td>3.00</td>\n",
       "    </tr>\n",
       "    <tr>\n",
       "      <th>...</th>\n",
       "      <td>...</td>\n",
       "      <td>...</td>\n",
       "      <td>...</td>\n",
       "      <td>...</td>\n",
       "      <td>...</td>\n",
       "      <td>...</td>\n",
       "      <td>...</td>\n",
       "      <td>...</td>\n",
       "    </tr>\n",
       "    <tr>\n",
       "      <th>36155</th>\n",
       "      <td>7 oz S Sirloin A</td>\n",
       "      <td>2024-06-28 22:58:13</td>\n",
       "      <td>6.82</td>\n",
       "      <td>1.25516</td>\n",
       "      <td>6.24</td>\n",
       "      <td>7.24</td>\n",
       "      <td>1.1</td>\n",
       "      <td>1.75</td>\n",
       "    </tr>\n",
       "    <tr>\n",
       "      <th>36156</th>\n",
       "      <td>7 oz S Sirloin A</td>\n",
       "      <td>2024-06-28 22:58:23</td>\n",
       "      <td>6.86</td>\n",
       "      <td>1.29131</td>\n",
       "      <td>6.24</td>\n",
       "      <td>7.24</td>\n",
       "      <td>1.1</td>\n",
       "      <td>1.75</td>\n",
       "    </tr>\n",
       "    <tr>\n",
       "      <th>36157</th>\n",
       "      <td>7 oz S Sirloin A</td>\n",
       "      <td>2024-06-28 22:58:36</td>\n",
       "      <td>6.94</td>\n",
       "      <td>1.36985</td>\n",
       "      <td>6.24</td>\n",
       "      <td>7.24</td>\n",
       "      <td>1.1</td>\n",
       "      <td>1.75</td>\n",
       "    </tr>\n",
       "    <tr>\n",
       "      <th>36158</th>\n",
       "      <td>7 oz S Sirloin A</td>\n",
       "      <td>2024-06-28 22:59:01</td>\n",
       "      <td>6.80</td>\n",
       "      <td>1.32573</td>\n",
       "      <td>6.24</td>\n",
       "      <td>7.24</td>\n",
       "      <td>1.1</td>\n",
       "      <td>1.75</td>\n",
       "    </tr>\n",
       "    <tr>\n",
       "      <th>36159</th>\n",
       "      <td>7 oz S Sirloin A</td>\n",
       "      <td>2024-06-28 22:59:09</td>\n",
       "      <td>6.80</td>\n",
       "      <td>1.25799</td>\n",
       "      <td>6.24</td>\n",
       "      <td>7.24</td>\n",
       "      <td>1.1</td>\n",
       "      <td>1.75</td>\n",
       "    </tr>\n",
       "  </tbody>\n",
       "</table>\n",
       "<p>36160 rows × 8 columns</p>\n",
       "</div>"
      ],
      "text/plain": [
       "                    product            date_time  external_measurement_weight  \\\n",
       "0      13 oz  Ribeye Tail A  2024-06-03 07:16:28                        16.76   \n",
       "1      13 oz  Ribeye Tail A  2024-06-03 07:16:47                        16.12   \n",
       "2      16 oz  Ribeye Tail A  2024-06-03 07:17:36                        16.34   \n",
       "3      16 oz  Ribeye Tail A  2024-06-03 07:17:53                        16.16   \n",
       "4      16 oz  Ribeye Tail A  2024-06-03 07:18:08                        16.12   \n",
       "...                     ...                  ...                          ...   \n",
       "36155      7 oz S Sirloin A  2024-06-28 22:58:13                         6.82   \n",
       "36156      7 oz S Sirloin A  2024-06-28 22:58:23                         6.86   \n",
       "36157      7 oz S Sirloin A  2024-06-28 22:58:36                         6.94   \n",
       "36158      7 oz S Sirloin A  2024-06-28 22:59:01                         6.80   \n",
       "36159      7 oz S Sirloin A  2024-06-28 22:59:09                         6.80   \n",
       "\n",
       "       height_avg  weight_min_  weight_max  thick_min_  thick_max  \n",
       "0         1.62952        11.95       14.04         0.5       3.00  \n",
       "1         1.02086        11.95       14.04         0.5       3.00  \n",
       "2         1.03975        14.95       17.04         0.5       3.00  \n",
       "3         1.05378        14.95       17.04         0.5       3.00  \n",
       "4         1.03522        14.95       17.04         0.5       3.00  \n",
       "...           ...          ...         ...         ...        ...  \n",
       "36155     1.25516         6.24        7.24         1.1       1.75  \n",
       "36156     1.29131         6.24        7.24         1.1       1.75  \n",
       "36157     1.36985         6.24        7.24         1.1       1.75  \n",
       "36158     1.32573         6.24        7.24         1.1       1.75  \n",
       "36159     1.25799         6.24        7.24         1.1       1.75  \n",
       "\n",
       "[36160 rows x 8 columns]"
      ]
     },
     "execution_count": 14,
     "metadata": {},
     "output_type": "execute_result"
    }
   ],
   "source": [
    "df1"
   ]
  },
  {
   "cell_type": "code",
   "execution_count": 9,
   "metadata": {},
   "outputs": [
    {
     "data": {
      "text/html": [
       "<div>\n",
       "<style scoped>\n",
       "    .dataframe tbody tr th:only-of-type {\n",
       "        vertical-align: middle;\n",
       "    }\n",
       "\n",
       "    .dataframe tbody tr th {\n",
       "        vertical-align: top;\n",
       "    }\n",
       "\n",
       "    .dataframe thead th {\n",
       "        text-align: right;\n",
       "    }\n",
       "</style>\n",
       "<table border=\"1\" class=\"dataframe\">\n",
       "  <thead>\n",
       "    <tr style=\"text-align: right;\">\n",
       "      <th></th>\n",
       "      <th>product</th>\n",
       "      <th>date_time</th>\n",
       "      <th>external_measurement_weight</th>\n",
       "      <th>height_avg</th>\n",
       "    </tr>\n",
       "  </thead>\n",
       "  <tbody>\n",
       "    <tr>\n",
       "      <th>0</th>\n",
       "      <td>13 oz  Ribeye Tail A</td>\n",
       "      <td>2024-06-03 07:16:28</td>\n",
       "      <td>16.76</td>\n",
       "      <td>1.62952</td>\n",
       "    </tr>\n",
       "    <tr>\n",
       "      <th>1</th>\n",
       "      <td>13 oz  Ribeye Tail A</td>\n",
       "      <td>2024-06-03 07:16:47</td>\n",
       "      <td>16.12</td>\n",
       "      <td>1.02086</td>\n",
       "    </tr>\n",
       "    <tr>\n",
       "      <th>2</th>\n",
       "      <td>16 oz  Ribeye Tail A</td>\n",
       "      <td>2024-06-03 07:17:36</td>\n",
       "      <td>16.34</td>\n",
       "      <td>1.03975</td>\n",
       "    </tr>\n",
       "    <tr>\n",
       "      <th>3</th>\n",
       "      <td>16 oz  Ribeye Tail A</td>\n",
       "      <td>2024-06-03 07:17:53</td>\n",
       "      <td>16.16</td>\n",
       "      <td>1.05378</td>\n",
       "    </tr>\n",
       "    <tr>\n",
       "      <th>4</th>\n",
       "      <td>16 oz  Ribeye Tail A</td>\n",
       "      <td>2024-06-03 07:18:08</td>\n",
       "      <td>16.12</td>\n",
       "      <td>1.03522</td>\n",
       "    </tr>\n",
       "  </tbody>\n",
       "</table>\n",
       "</div>"
      ],
      "text/plain": [
       "                product            date_time  external_measurement_weight  \\\n",
       "0  13 oz  Ribeye Tail A  2024-06-03 07:16:28                        16.76   \n",
       "1  13 oz  Ribeye Tail A  2024-06-03 07:16:47                        16.12   \n",
       "2  16 oz  Ribeye Tail A  2024-06-03 07:17:36                        16.34   \n",
       "3  16 oz  Ribeye Tail A  2024-06-03 07:17:53                        16.16   \n",
       "4  16 oz  Ribeye Tail A  2024-06-03 07:18:08                        16.12   \n",
       "\n",
       "   height_avg  \n",
       "0     1.62952  \n",
       "1     1.02086  \n",
       "2     1.03975  \n",
       "3     1.05378  \n",
       "4     1.03522  "
      ]
     },
     "execution_count": 9,
     "metadata": {},
     "output_type": "execute_result"
    }
   ],
   "source": [
    "df.head()"
   ]
  },
  {
   "cell_type": "code",
   "execution_count": 10,
   "metadata": {},
   "outputs": [
    {
     "data": {
      "text/html": [
       "<div>\n",
       "<style scoped>\n",
       "    .dataframe tbody tr th:only-of-type {\n",
       "        vertical-align: middle;\n",
       "    }\n",
       "\n",
       "    .dataframe tbody tr th {\n",
       "        vertical-align: top;\n",
       "    }\n",
       "\n",
       "    .dataframe thead th {\n",
       "        text-align: right;\n",
       "    }\n",
       "</style>\n",
       "<table border=\"1\" class=\"dataframe\">\n",
       "  <thead>\n",
       "    <tr style=\"text-align: right;\">\n",
       "      <th></th>\n",
       "      <th>product</th>\n",
       "      <th>weight_min_</th>\n",
       "      <th>weight_max</th>\n",
       "      <th>thick_min_</th>\n",
       "      <th>thick_max</th>\n",
       "    </tr>\n",
       "  </thead>\n",
       "  <tbody>\n",
       "    <tr>\n",
       "      <th>0</th>\n",
       "      <td>10 oz  Sirloin A</td>\n",
       "      <td>9.12</td>\n",
       "      <td>10.12</td>\n",
       "      <td>1.1</td>\n",
       "      <td>1.75</td>\n",
       "    </tr>\n",
       "    <tr>\n",
       "      <th>1</th>\n",
       "      <td>11 oz  Sirloin B</td>\n",
       "      <td>10.08</td>\n",
       "      <td>11.08</td>\n",
       "      <td>1.1</td>\n",
       "      <td>1.75</td>\n",
       "    </tr>\n",
       "    <tr>\n",
       "      <th>2</th>\n",
       "      <td>11 oz  Sirloin C</td>\n",
       "      <td>10.45</td>\n",
       "      <td>11.54</td>\n",
       "      <td>1.1</td>\n",
       "      <td>1.75</td>\n",
       "    </tr>\n",
       "    <tr>\n",
       "      <th>3</th>\n",
       "      <td>13 oz  Ribeye Tail A</td>\n",
       "      <td>11.95</td>\n",
       "      <td>14.04</td>\n",
       "      <td>0.5</td>\n",
       "      <td>3.00</td>\n",
       "    </tr>\n",
       "    <tr>\n",
       "      <th>4</th>\n",
       "      <td>16 oz  Strip A</td>\n",
       "      <td>14.45</td>\n",
       "      <td>17.54</td>\n",
       "      <td>0.5</td>\n",
       "      <td>3.00</td>\n",
       "    </tr>\n",
       "  </tbody>\n",
       "</table>\n",
       "</div>"
      ],
      "text/plain": [
       "                product  weight_min_  weight_max  thick_min_  thick_max\n",
       "0      10 oz  Sirloin A         9.12       10.12         1.1       1.75\n",
       "1      11 oz  Sirloin B        10.08       11.08         1.1       1.75\n",
       "2      11 oz  Sirloin C        10.45       11.54         1.1       1.75\n",
       "3  13 oz  Ribeye Tail A        11.95       14.04         0.5       3.00\n",
       "4        16 oz  Strip A        14.45       17.54         0.5       3.00"
      ]
     },
     "execution_count": 10,
     "metadata": {},
     "output_type": "execute_result"
    }
   ],
   "source": [
    "df_spec.head()"
   ]
  },
  {
   "cell_type": "code",
   "execution_count": 21,
   "metadata": {},
   "outputs": [
    {
     "data": {
      "text/html": [
       "<div>\n",
       "<style scoped>\n",
       "    .dataframe tbody tr th:only-of-type {\n",
       "        vertical-align: middle;\n",
       "    }\n",
       "\n",
       "    .dataframe tbody tr th {\n",
       "        vertical-align: top;\n",
       "    }\n",
       "\n",
       "    .dataframe thead th {\n",
       "        text-align: right;\n",
       "    }\n",
       "</style>\n",
       "<table border=\"1\" class=\"dataframe\">\n",
       "  <thead>\n",
       "    <tr style=\"text-align: right;\">\n",
       "      <th></th>\n",
       "      <th>product</th>\n",
       "      <th>date_time</th>\n",
       "      <th>external_measurement_weight</th>\n",
       "      <th>height_avg</th>\n",
       "    </tr>\n",
       "  </thead>\n",
       "  <tbody>\n",
       "    <tr>\n",
       "      <th>20749</th>\n",
       "      <td>11 oz  Sirloin C</td>\n",
       "      <td>2024-06-18 18:15:11</td>\n",
       "      <td>11.22</td>\n",
       "      <td>1.37966</td>\n",
       "    </tr>\n",
       "    <tr>\n",
       "      <th>20750</th>\n",
       "      <td>11 oz  Sirloin C</td>\n",
       "      <td>2024-06-18 18:15:11</td>\n",
       "      <td>11.22</td>\n",
       "      <td>1.45684</td>\n",
       "    </tr>\n",
       "  </tbody>\n",
       "</table>\n",
       "</div>"
      ],
      "text/plain": [
       "                product            date_time  external_measurement_weight  \\\n",
       "20749  11 oz  Sirloin C  2024-06-18 18:15:11                        11.22   \n",
       "20750  11 oz  Sirloin C  2024-06-18 18:15:11                        11.22   \n",
       "\n",
       "       height_avg  \n",
       "20749     1.37966  \n",
       "20750     1.45684  "
      ]
     },
     "execution_count": 21,
     "metadata": {},
     "output_type": "execute_result"
    }
   ],
   "source": [
    "df[df['date_time'] == '2024-06-18 18:15:11']"
   ]
  },
  {
   "cell_type": "code",
   "execution_count": 28,
   "metadata": {},
   "outputs": [],
   "source": [
    "test = list(df['date_time'].value_counts().values)"
   ]
  },
  {
   "cell_type": "code",
   "execution_count": 3,
   "metadata": {},
   "outputs": [],
   "source": [
    "test_df = pd.read_csv('resources/generic_butcher_cleaned.csv')"
   ]
  },
  {
   "cell_type": "code",
   "execution_count": 5,
   "metadata": {},
   "outputs": [
    {
     "data": {
      "text/plain": [
       "product_name\n",
       "13 oz  Ribeye Tail A        2181\n",
       "6 oz S Sirloin B            2137\n",
       "5 oz S Sirloin B            2137\n",
       "8 oz S Sirloin B            2088\n",
       "11 oz  Sirloin C            2062\n",
       "6 oz T Tenderloin A         2059\n",
       "8 oz T Tenderloin A         1909\n",
       "9 oz S Sirloin A            1787\n",
       "16 oz  Ribeye Tail A        1437\n",
       "18 oz  Ribeye A             1401\n",
       "7 oz S Sirloin A            1375\n",
       "6 oz S Sirloin A            1297\n",
       "3.5 oz Tender Bits A        1290\n",
       "7 oz S Sirloin B            1263\n",
       "8 oz S Sirloin A            1260\n",
       "8 oz P Pork Chop A          1044\n",
       "7 oz T Tenderloin A         1030\n",
       "9 oz T Tenderloin A          925\n",
       "4 oz T Tenderloin Tail A     909\n",
       "5 oz S Sirloin A             826\n",
       "11 oz  Sirloin B             817\n",
       "16 oz  Dry Age Ribeye A      765\n",
       "22 oz  Porterhouse A         734\n",
       "10 oz  Sirloin A             695\n",
       "16 oz  Strip A               586\n",
       "16 oz  Prime Strip A         220\n",
       "20 oz  Prime Ribeye A        122\n",
       "Name: count, dtype: int64"
      ]
     },
     "execution_count": 5,
     "metadata": {},
     "output_type": "execute_result"
    }
   ],
   "source": [
    "test_df['product_name'].value_counts()"
   ]
  },
  {
   "cell_type": "code",
   "execution_count": 8,
   "metadata": {},
   "outputs": [
    {
     "name": "stdout",
     "output_type": "stream",
     "text": [
      "it doesnt work\n"
     ]
    }
   ],
   "source": [
    "with open('../outputs/log.txt') as file:\n",
    "    result =  file.readlines()\n",
    "\n",
    "result.replace\n",
    "# if 'ffff\\n' in result:\n",
    "#     print('it doesnt work')"
   ]
  },
  {
   "cell_type": "code",
   "execution_count": 3,
   "metadata": {},
   "outputs": [],
   "source": [
    "df1 = pd.read_csv('../data/cleaned/generic_butcher_cleaned.csv')\n",
    "df2 = pd.read_csv('../data/cleaned/generic_butcher_spec_cleaned.csv')"
   ]
  },
  {
   "cell_type": "code",
   "execution_count": 8,
   "metadata": {},
   "outputs": [
    {
     "data": {
      "text/html": [
       "<div>\n",
       "<style scoped>\n",
       "    .dataframe tbody tr th:only-of-type {\n",
       "        vertical-align: middle;\n",
       "    }\n",
       "\n",
       "    .dataframe tbody tr th {\n",
       "        vertical-align: top;\n",
       "    }\n",
       "\n",
       "    .dataframe thead th {\n",
       "        text-align: right;\n",
       "    }\n",
       "</style>\n",
       "<table border=\"1\" class=\"dataframe\">\n",
       "  <thead>\n",
       "    <tr style=\"text-align: right;\">\n",
       "      <th></th>\n",
       "      <th>product_name</th>\n",
       "      <th>date_time</th>\n",
       "      <th>measured_weight</th>\n",
       "      <th>measured_height</th>\n",
       "    </tr>\n",
       "  </thead>\n",
       "  <tbody>\n",
       "    <tr>\n",
       "      <th>0</th>\n",
       "      <td>13 oz  Ribeye Tail A</td>\n",
       "      <td>2024-06-03 07:16:28</td>\n",
       "      <td>16.76</td>\n",
       "      <td>1.62952</td>\n",
       "    </tr>\n",
       "    <tr>\n",
       "      <th>1</th>\n",
       "      <td>13 oz  Ribeye Tail A</td>\n",
       "      <td>2024-06-03 07:16:47</td>\n",
       "      <td>16.12</td>\n",
       "      <td>1.02086</td>\n",
       "    </tr>\n",
       "    <tr>\n",
       "      <th>2</th>\n",
       "      <td>16 oz  Ribeye Tail A</td>\n",
       "      <td>2024-06-03 07:17:36</td>\n",
       "      <td>16.34</td>\n",
       "      <td>1.03975</td>\n",
       "    </tr>\n",
       "    <tr>\n",
       "      <th>3</th>\n",
       "      <td>16 oz  Ribeye Tail A</td>\n",
       "      <td>2024-06-03 07:17:53</td>\n",
       "      <td>16.16</td>\n",
       "      <td>1.05378</td>\n",
       "    </tr>\n",
       "    <tr>\n",
       "      <th>4</th>\n",
       "      <td>16 oz  Ribeye Tail A</td>\n",
       "      <td>2024-06-03 07:18:08</td>\n",
       "      <td>16.12</td>\n",
       "      <td>1.03522</td>\n",
       "    </tr>\n",
       "    <tr>\n",
       "      <th>...</th>\n",
       "      <td>...</td>\n",
       "      <td>...</td>\n",
       "      <td>...</td>\n",
       "      <td>...</td>\n",
       "    </tr>\n",
       "    <tr>\n",
       "      <th>34351</th>\n",
       "      <td>7 oz S Sirloin A</td>\n",
       "      <td>2024-06-28 22:58:13</td>\n",
       "      <td>6.82</td>\n",
       "      <td>1.25516</td>\n",
       "    </tr>\n",
       "    <tr>\n",
       "      <th>34352</th>\n",
       "      <td>7 oz S Sirloin A</td>\n",
       "      <td>2024-06-28 22:58:23</td>\n",
       "      <td>6.86</td>\n",
       "      <td>1.29131</td>\n",
       "    </tr>\n",
       "    <tr>\n",
       "      <th>34353</th>\n",
       "      <td>7 oz S Sirloin A</td>\n",
       "      <td>2024-06-28 22:58:36</td>\n",
       "      <td>6.94</td>\n",
       "      <td>1.36985</td>\n",
       "    </tr>\n",
       "    <tr>\n",
       "      <th>34354</th>\n",
       "      <td>7 oz S Sirloin A</td>\n",
       "      <td>2024-06-28 22:59:01</td>\n",
       "      <td>6.80</td>\n",
       "      <td>1.32573</td>\n",
       "    </tr>\n",
       "    <tr>\n",
       "      <th>34355</th>\n",
       "      <td>7 oz S Sirloin A</td>\n",
       "      <td>2024-06-28 22:59:09</td>\n",
       "      <td>6.80</td>\n",
       "      <td>1.25799</td>\n",
       "    </tr>\n",
       "  </tbody>\n",
       "</table>\n",
       "<p>34356 rows × 4 columns</p>\n",
       "</div>"
      ],
      "text/plain": [
       "               product_name            date_time  measured_weight  \\\n",
       "0      13 oz  Ribeye Tail A  2024-06-03 07:16:28            16.76   \n",
       "1      13 oz  Ribeye Tail A  2024-06-03 07:16:47            16.12   \n",
       "2      16 oz  Ribeye Tail A  2024-06-03 07:17:36            16.34   \n",
       "3      16 oz  Ribeye Tail A  2024-06-03 07:17:53            16.16   \n",
       "4      16 oz  Ribeye Tail A  2024-06-03 07:18:08            16.12   \n",
       "...                     ...                  ...              ...   \n",
       "34351      7 oz S Sirloin A  2024-06-28 22:58:13             6.82   \n",
       "34352      7 oz S Sirloin A  2024-06-28 22:58:23             6.86   \n",
       "34353      7 oz S Sirloin A  2024-06-28 22:58:36             6.94   \n",
       "34354      7 oz S Sirloin A  2024-06-28 22:59:01             6.80   \n",
       "34355      7 oz S Sirloin A  2024-06-28 22:59:09             6.80   \n",
       "\n",
       "       measured_height  \n",
       "0              1.62952  \n",
       "1              1.02086  \n",
       "2              1.03975  \n",
       "3              1.05378  \n",
       "4              1.03522  \n",
       "...                ...  \n",
       "34351          1.25516  \n",
       "34352          1.29131  \n",
       "34353          1.36985  \n",
       "34354          1.32573  \n",
       "34355          1.25799  \n",
       "\n",
       "[34356 rows x 4 columns]"
      ]
     },
     "execution_count": 8,
     "metadata": {},
     "output_type": "execute_result"
    }
   ],
   "source": [
    "df1"
   ]
  },
  {
   "cell_type": "code",
   "execution_count": 6,
   "metadata": {},
   "outputs": [
    {
     "data": {
      "text/plain": [
       "(27, 5)"
      ]
     },
     "execution_count": 6,
     "metadata": {},
     "output_type": "execute_result"
    }
   ],
   "source": [
    "df2.shape"
   ]
  },
  {
   "cell_type": "code",
   "execution_count": 7,
   "metadata": {},
   "outputs": [
    {
     "data": {
      "text/html": [
       "<div>\n",
       "<style scoped>\n",
       "    .dataframe tbody tr th:only-of-type {\n",
       "        vertical-align: middle;\n",
       "    }\n",
       "\n",
       "    .dataframe tbody tr th {\n",
       "        vertical-align: top;\n",
       "    }\n",
       "\n",
       "    .dataframe thead th {\n",
       "        text-align: right;\n",
       "    }\n",
       "</style>\n",
       "<table border=\"1\" class=\"dataframe\">\n",
       "  <thead>\n",
       "    <tr style=\"text-align: right;\">\n",
       "      <th></th>\n",
       "      <th>product_name</th>\n",
       "      <th>weight_min</th>\n",
       "      <th>weight_max</th>\n",
       "      <th>thick_min</th>\n",
       "      <th>thick_max</th>\n",
       "    </tr>\n",
       "  </thead>\n",
       "  <tbody>\n",
       "    <tr>\n",
       "      <th>0</th>\n",
       "      <td>10 oz  Sirloin A</td>\n",
       "      <td>9.12</td>\n",
       "      <td>10.12</td>\n",
       "      <td>1.10</td>\n",
       "      <td>1.75</td>\n",
       "    </tr>\n",
       "    <tr>\n",
       "      <th>1</th>\n",
       "      <td>11 oz  Sirloin B</td>\n",
       "      <td>10.08</td>\n",
       "      <td>11.08</td>\n",
       "      <td>1.10</td>\n",
       "      <td>1.75</td>\n",
       "    </tr>\n",
       "    <tr>\n",
       "      <th>2</th>\n",
       "      <td>11 oz  Sirloin C</td>\n",
       "      <td>10.45</td>\n",
       "      <td>11.54</td>\n",
       "      <td>1.10</td>\n",
       "      <td>1.75</td>\n",
       "    </tr>\n",
       "    <tr>\n",
       "      <th>3</th>\n",
       "      <td>13 oz  Ribeye Tail A</td>\n",
       "      <td>11.95</td>\n",
       "      <td>14.04</td>\n",
       "      <td>0.50</td>\n",
       "      <td>3.00</td>\n",
       "    </tr>\n",
       "    <tr>\n",
       "      <th>4</th>\n",
       "      <td>16 oz  Strip A</td>\n",
       "      <td>14.45</td>\n",
       "      <td>17.54</td>\n",
       "      <td>0.50</td>\n",
       "      <td>3.00</td>\n",
       "    </tr>\n",
       "    <tr>\n",
       "      <th>5</th>\n",
       "      <td>16 oz  Dry Age Ribeye A</td>\n",
       "      <td>14.95</td>\n",
       "      <td>17.04</td>\n",
       "      <td>0.95</td>\n",
       "      <td>3.00</td>\n",
       "    </tr>\n",
       "    <tr>\n",
       "      <th>6</th>\n",
       "      <td>16 oz  Prime Strip A</td>\n",
       "      <td>14.95</td>\n",
       "      <td>17.04</td>\n",
       "      <td>0.95</td>\n",
       "      <td>3.00</td>\n",
       "    </tr>\n",
       "    <tr>\n",
       "      <th>7</th>\n",
       "      <td>16 oz  Ribeye Tail A</td>\n",
       "      <td>14.95</td>\n",
       "      <td>17.04</td>\n",
       "      <td>0.50</td>\n",
       "      <td>3.00</td>\n",
       "    </tr>\n",
       "    <tr>\n",
       "      <th>8</th>\n",
       "      <td>18 oz  Ribeye A</td>\n",
       "      <td>15.95</td>\n",
       "      <td>20.04</td>\n",
       "      <td>0.75</td>\n",
       "      <td>1.75</td>\n",
       "    </tr>\n",
       "    <tr>\n",
       "      <th>9</th>\n",
       "      <td>20 oz  Prime Ribeye A</td>\n",
       "      <td>18.95</td>\n",
       "      <td>21.10</td>\n",
       "      <td>0.95</td>\n",
       "      <td>2.00</td>\n",
       "    </tr>\n",
       "    <tr>\n",
       "      <th>10</th>\n",
       "      <td>22 oz  Porterhouse A</td>\n",
       "      <td>19.95</td>\n",
       "      <td>24.04</td>\n",
       "      <td>0.50</td>\n",
       "      <td>3.00</td>\n",
       "    </tr>\n",
       "    <tr>\n",
       "      <th>11</th>\n",
       "      <td>3.5 oz Tender Bits A</td>\n",
       "      <td>3.00</td>\n",
       "      <td>4.00</td>\n",
       "      <td>0.40</td>\n",
       "      <td>3.00</td>\n",
       "    </tr>\n",
       "    <tr>\n",
       "      <th>12</th>\n",
       "      <td>4 oz T Tenderloin Tail A</td>\n",
       "      <td>3.50</td>\n",
       "      <td>4.50</td>\n",
       "      <td>0.40</td>\n",
       "      <td>3.00</td>\n",
       "    </tr>\n",
       "    <tr>\n",
       "      <th>13</th>\n",
       "      <td>5 oz S Sirloin A</td>\n",
       "      <td>4.31</td>\n",
       "      <td>5.31</td>\n",
       "      <td>1.10</td>\n",
       "      <td>1.75</td>\n",
       "    </tr>\n",
       "    <tr>\n",
       "      <th>14</th>\n",
       "      <td>5 oz S Sirloin B</td>\n",
       "      <td>4.45</td>\n",
       "      <td>5.54</td>\n",
       "      <td>1.10</td>\n",
       "      <td>1.75</td>\n",
       "    </tr>\n",
       "    <tr>\n",
       "      <th>15</th>\n",
       "      <td>6 oz S Sirloin A</td>\n",
       "      <td>5.27</td>\n",
       "      <td>6.27</td>\n",
       "      <td>1.10</td>\n",
       "      <td>1.75</td>\n",
       "    </tr>\n",
       "    <tr>\n",
       "      <th>16</th>\n",
       "      <td>6 oz S Sirloin B</td>\n",
       "      <td>5.45</td>\n",
       "      <td>6.54</td>\n",
       "      <td>1.10</td>\n",
       "      <td>1.75</td>\n",
       "    </tr>\n",
       "    <tr>\n",
       "      <th>17</th>\n",
       "      <td>6 oz T Tenderloin A</td>\n",
       "      <td>5.65</td>\n",
       "      <td>6.59</td>\n",
       "      <td>0.95</td>\n",
       "      <td>3.04</td>\n",
       "    </tr>\n",
       "    <tr>\n",
       "      <th>18</th>\n",
       "      <td>7 oz S Sirloin A</td>\n",
       "      <td>6.24</td>\n",
       "      <td>7.24</td>\n",
       "      <td>1.10</td>\n",
       "      <td>1.75</td>\n",
       "    </tr>\n",
       "    <tr>\n",
       "      <th>19</th>\n",
       "      <td>7 oz S Sirloin B</td>\n",
       "      <td>6.45</td>\n",
       "      <td>7.54</td>\n",
       "      <td>1.10</td>\n",
       "      <td>1.75</td>\n",
       "    </tr>\n",
       "    <tr>\n",
       "      <th>20</th>\n",
       "      <td>7 oz T Tenderloin A</td>\n",
       "      <td>6.45</td>\n",
       "      <td>7.54</td>\n",
       "      <td>0.95</td>\n",
       "      <td>3.04</td>\n",
       "    </tr>\n",
       "    <tr>\n",
       "      <th>21</th>\n",
       "      <td>8 oz P Pork Chop A</td>\n",
       "      <td>7.75</td>\n",
       "      <td>9.75</td>\n",
       "      <td>0.75</td>\n",
       "      <td>1.50</td>\n",
       "    </tr>\n",
       "    <tr>\n",
       "      <th>22</th>\n",
       "      <td>8 oz S Sirloin A</td>\n",
       "      <td>7.20</td>\n",
       "      <td>8.20</td>\n",
       "      <td>1.10</td>\n",
       "      <td>1.75</td>\n",
       "    </tr>\n",
       "    <tr>\n",
       "      <th>23</th>\n",
       "      <td>8 oz S Sirloin B</td>\n",
       "      <td>7.45</td>\n",
       "      <td>8.54</td>\n",
       "      <td>1.10</td>\n",
       "      <td>1.75</td>\n",
       "    </tr>\n",
       "    <tr>\n",
       "      <th>24</th>\n",
       "      <td>8 oz T Tenderloin A</td>\n",
       "      <td>7.45</td>\n",
       "      <td>8.54</td>\n",
       "      <td>0.95</td>\n",
       "      <td>3.54</td>\n",
       "    </tr>\n",
       "    <tr>\n",
       "      <th>25</th>\n",
       "      <td>9 oz S Sirloin A</td>\n",
       "      <td>8.45</td>\n",
       "      <td>9.54</td>\n",
       "      <td>1.10</td>\n",
       "      <td>1.75</td>\n",
       "    </tr>\n",
       "    <tr>\n",
       "      <th>26</th>\n",
       "      <td>9 oz T Tenderloin A</td>\n",
       "      <td>8.45</td>\n",
       "      <td>9.54</td>\n",
       "      <td>0.95</td>\n",
       "      <td>3.54</td>\n",
       "    </tr>\n",
       "  </tbody>\n",
       "</table>\n",
       "</div>"
      ],
      "text/plain": [
       "                product_name  weight_min  weight_max  thick_min  thick_max\n",
       "0           10 oz  Sirloin A        9.12       10.12       1.10       1.75\n",
       "1           11 oz  Sirloin B       10.08       11.08       1.10       1.75\n",
       "2           11 oz  Sirloin C       10.45       11.54       1.10       1.75\n",
       "3       13 oz  Ribeye Tail A       11.95       14.04       0.50       3.00\n",
       "4             16 oz  Strip A       14.45       17.54       0.50       3.00\n",
       "5    16 oz  Dry Age Ribeye A       14.95       17.04       0.95       3.00\n",
       "6       16 oz  Prime Strip A       14.95       17.04       0.95       3.00\n",
       "7       16 oz  Ribeye Tail A       14.95       17.04       0.50       3.00\n",
       "8            18 oz  Ribeye A       15.95       20.04       0.75       1.75\n",
       "9      20 oz  Prime Ribeye A       18.95       21.10       0.95       2.00\n",
       "10      22 oz  Porterhouse A       19.95       24.04       0.50       3.00\n",
       "11      3.5 oz Tender Bits A        3.00        4.00       0.40       3.00\n",
       "12  4 oz T Tenderloin Tail A        3.50        4.50       0.40       3.00\n",
       "13          5 oz S Sirloin A        4.31        5.31       1.10       1.75\n",
       "14          5 oz S Sirloin B        4.45        5.54       1.10       1.75\n",
       "15          6 oz S Sirloin A        5.27        6.27       1.10       1.75\n",
       "16          6 oz S Sirloin B        5.45        6.54       1.10       1.75\n",
       "17       6 oz T Tenderloin A        5.65        6.59       0.95       3.04\n",
       "18          7 oz S Sirloin A        6.24        7.24       1.10       1.75\n",
       "19          7 oz S Sirloin B        6.45        7.54       1.10       1.75\n",
       "20       7 oz T Tenderloin A        6.45        7.54       0.95       3.04\n",
       "21        8 oz P Pork Chop A        7.75        9.75       0.75       1.50\n",
       "22          8 oz S Sirloin A        7.20        8.20       1.10       1.75\n",
       "23          8 oz S Sirloin B        7.45        8.54       1.10       1.75\n",
       "24       8 oz T Tenderloin A        7.45        8.54       0.95       3.54\n",
       "25          9 oz S Sirloin A        8.45        9.54       1.10       1.75\n",
       "26       9 oz T Tenderloin A        8.45        9.54       0.95       3.54"
      ]
     },
     "execution_count": 7,
     "metadata": {},
     "output_type": "execute_result"
    }
   ],
   "source": [
    "df2"
   ]
  },
  {
   "cell_type": "code",
   "execution_count": null,
   "metadata": {},
   "outputs": [],
   "source": []
  },
  {
   "cell_type": "code",
   "execution_count": 10,
   "metadata": {},
   "outputs": [],
   "source": [
    "def make_id_column(dataframe, primary_key: str):\n",
    "    dataframe[primary_key] = dataframe.index + 1\n",
    "    dataframe = rearrange_cols(dataframe, primary_key)\n",
    "    return dataframe\n",
    "\n",
    "def rearrange_cols(dataframe, primary_key: str):\n",
    "    new_order = [primary_key] + [col for col in dataframe.columns if col != primary_key]\n",
    "    dataframe = dataframe[new_order]\n",
    "    return dataframe\n",
    "\n",
    "def merge_dataframes(left_df, right_df, join_key: str):\n",
    "    left_df = left_df.merge(right_df, how='left', on = join_key)\n",
    "    return left_df"
   ]
  },
  {
   "cell_type": "code",
   "execution_count": null,
   "metadata": {},
   "outputs": [],
   "source": []
  },
  {
   "cell_type": "code",
   "execution_count": null,
   "metadata": {},
   "outputs": [],
   "source": []
  },
  {
   "cell_type": "code",
   "execution_count": null,
   "metadata": {},
   "outputs": [],
   "source": []
  },
  {
   "cell_type": "code",
   "execution_count": 19,
   "metadata": {},
   "outputs": [],
   "source": [
    "df1 = make_id_column(df1, 'metric_id' )"
   ]
  },
  {
   "cell_type": "code",
   "execution_count": 20,
   "metadata": {},
   "outputs": [],
   "source": [
    "df2 = make_id_column(df2, 'product_id')"
   ]
  },
  {
   "cell_type": "code",
   "execution_count": 28,
   "metadata": {},
   "outputs": [],
   "source": [
    "df1 = df1.merge(df2, on='product_name')"
   ]
  },
  {
   "cell_type": "code",
   "execution_count": 30,
   "metadata": {},
   "outputs": [],
   "source": [
    "df1 = df1[['metric_id', 'product_id', 'product_name', 'date_time', 'measured_weight', 'measured_height']]"
   ]
  },
  {
   "cell_type": "code",
   "execution_count": 39,
   "metadata": {},
   "outputs": [
    {
     "data": {
      "text/plain": [
       "array([ 4,  8, 21, 18, 25, 17, 15, 20, 24,  3, 26,  9,  7,  6, 16, 19, 23,\n",
       "       14,  2,  1, 11, 27,  5, 12, 13, 22, 10], dtype=int64)"
      ]
     },
     "execution_count": 39,
     "metadata": {},
     "output_type": "execute_result"
    }
   ],
   "source": [
    "df1.product_id.unique()"
   ]
  },
  {
   "cell_type": "code",
   "execution_count": null,
   "metadata": {},
   "outputs": [],
   "source": [
    "df1"
   ]
  }
 ],
 "metadata": {
  "kernelspec": {
   "display_name": "base",
   "language": "python",
   "name": "python3"
  },
  "language_info": {
   "codemirror_mode": {
    "name": "ipython",
    "version": 3
   },
   "file_extension": ".py",
   "mimetype": "text/x-python",
   "name": "python",
   "nbconvert_exporter": "python",
   "pygments_lexer": "ipython3",
   "version": "3.11.7"
  }
 },
 "nbformat": 4,
 "nbformat_minor": 2
}
